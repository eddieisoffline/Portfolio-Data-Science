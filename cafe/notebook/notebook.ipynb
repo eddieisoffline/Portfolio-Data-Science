{
  "cells": [
    {
      "cell_type": "markdown",
      "source": [
        "#English"
      ],
      "metadata": {
        "id": "rxFxZKHuZyCy"
      }
    },
    {
      "cell_type": "markdown",
      "metadata": {
        "id": "o_buk9ZOZHO9"
      },
      "source": [
        "## 1. Introduction\n",
        "\n"
      ]
    },
    {
      "cell_type": "markdown",
      "source": [
        "In this project, an Exploratory Data Analysis (EDA) and a time series-based sales prediction model were performed using a dataset available at this [link](https://www.kaggle.com/datasets/ahmedabbas757/coffee-sales) from Kaggle.\n",
        "\n",
        "The primary objective of this project is to understand historical sales patterns and develop a machine learning model capable of anticipating future behavior to provide valuable insights for decision-making.\n",
        "\n",
        "The workflow included the following key stages:\n",
        "\n",
        "1. **Data Extraction from Kaggle using an API**:\n",
        "    The Kagglehub API was used to extract the data correctly and ensure it remains updated if there are changes to the data source.\n",
        "\n",
        "2. **Exploratory Data Analysis (EDA)**:\n",
        "    Python and libraries such as pandas, matplotlib, and seaborn were utilized to clean and analyze the dataset, identify trends, seasonality, and key variables affecting sales, as well as to quickly visualize the data.\n",
        "\n",
        "3. **Predictive Modeling with Machine Learning**:\n",
        "    The Prophet forecasting model developed by Facebook was implemented to predict future sales, taking into account trends and seasonal events.\n",
        "\n",
        "4. **Visualization in Power BI**:\n",
        "    The data and results obtained were integrated into an interactive Power BI dashboard, enabling the communication of insights in a visual and intuitive manner.\n",
        "\n",
        "This project aims to demonstrate technical skills in data analysis, predictive modeling, and the creation of dynamic visualizations, as well as the ability to work with modern data science tools and business analytics. This approach is essential for extracting value from data and supporting evidence-based decision-making."
      ],
      "metadata": {
        "id": "InZ-XarAZU5W"
      }
    },
    {
      "cell_type": "markdown",
      "source": [
        "## 2. Project Development\n",
        "\n",
        "This section will detail step by step the process followed to develop the sales analysis and prediction, from setting up the environment and preparing the data to implementing the model and the final visualization."
      ],
      "metadata": {
        "id": "VFs2bn9l5EmM"
      }
    },
    {
      "cell_type": "markdown",
      "source": [
        "### Importing Libraries\n",
        "\n",
        "The first step was to import the necessary libraries to carry out the analysis and modeling. Standard Python tools widely recognized in the data science community were used, along with data visualization tools, the Kagglehub library for data extraction, and Prophet for model development."
      ],
      "metadata": {
        "id": "v2U_uxdo5Z-d"
      }
    },
    {
      "cell_type": "code",
      "source": [
        "# Libraries for data manipulation, handling, and analysis\n",
        "import pandas as pd\n",
        "import numpy as np\n",
        "\n",
        "# Library for data extraction from Kaggle\n",
        "import kagglehub\n",
        "import os\n",
        "\n",
        "# Libraries for visualization\n",
        "import matplotlib.pyplot as plt\n",
        "import seaborn as sns\n",
        "\n",
        "# Libraries for the time series model\n",
        "from prophet import Prophet\n",
        "from prophet.diagnostics import performance_metrics\n",
        "\n",
        "# Handling warnings\n",
        "import warnings\n",
        "warnings.filterwarnings(\"ignore\")\n",
        "\n",
        "# Configuring the style of visualizations\n",
        "plt.style.use('seaborn-v0_8-dark')"
      ],
      "metadata": {
        "id": "e4V9Nusg5m07"
      },
      "execution_count": 1,
      "outputs": []
    },
    {
      "cell_type": "markdown",
      "source": [
        "### Data Extraction\n",
        "\n",
        "To ensure the analysis is based on up-to-date information, the Kagglehub library was used to download the data directly from Kaggle. This approach enables a dynamic and flexible workflow, as the information can be easily synchronized if updates to the dataset occur."
      ],
      "metadata": {
        "id": "n7R7TW0W7TLK"
      }
    },
    {
      "cell_type": "code",
      "source": [
        "# The dataset is downloaded from Kaggle\n",
        "path = kagglehub.dataset_download(\"ahmedabbas757/coffee-sales\")\n",
        "\n",
        "# Name of the downloaded file\n",
        "file_name = \"Coffee Shop Sales.xlsx\"\n",
        "\n",
        "# The full file path is constructed\n",
        "file_path = os.path.join(path, file_name)\n",
        "\n",
        "# The file is loaded into a pandas DataFrame\n",
        "coffee_sales = pd.read_excel(file_path)"
      ],
      "metadata": {
        "colab": {
          "base_uri": "https://localhost:8080/"
        },
        "id": "ytvrD6ZV7ahK",
        "outputId": "810adab8-8092-4d24-a9c5-de1ff8fdc9d3"
      },
      "execution_count": 2,
      "outputs": [
        {
          "output_type": "stream",
          "name": "stdout",
          "text": [
            "Warning: Looks like you're using an outdated `kagglehub` version (installed: 0.3.6), please consider upgrading to the latest version (0.3.7).\n",
            "Downloading from https://www.kaggle.com/api/v1/datasets/download/ahmedabbas757/coffee-sales?dataset_version_number=1...\n"
          ]
        },
        {
          "output_type": "stream",
          "name": "stderr",
          "text": [
            "100%|██████████| 8.23M/8.23M [00:00<00:00, 63.3MB/s]"
          ]
        },
        {
          "output_type": "stream",
          "name": "stdout",
          "text": [
            "Extracting files...\n"
          ]
        },
        {
          "output_type": "stream",
          "name": "stderr",
          "text": [
            "\n"
          ]
        }
      ]
    },
    {
      "cell_type": "markdown",
      "source": [
        "### Exploratory Data Analysis (EDA)"
      ],
      "metadata": {
        "id": "Az9dgvhQ7syO"
      }
    },
    {
      "cell_type": "markdown",
      "source": [
        "Once the data is loaded into a DataFrame, it is essential to perform an initial exploration to understand its structure and data quality. Using the info() method, we get an overview of the data, showing key information about its structure."
      ],
      "metadata": {
        "id": "u2-nHsVD-4Zh"
      }
    },
    {
      "cell_type": "code",
      "source": [
        "coffee_sales.info()"
      ],
      "metadata": {
        "id": "tVfgvycz-7ks",
        "outputId": "9b17d4a7-9581-4169-8cb4-ec71cee52435",
        "colab": {
          "base_uri": "https://localhost:8080/"
        }
      },
      "execution_count": 3,
      "outputs": [
        {
          "output_type": "stream",
          "name": "stdout",
          "text": [
            "<class 'pandas.core.frame.DataFrame'>\n",
            "RangeIndex: 149116 entries, 0 to 149115\n",
            "Data columns (total 11 columns):\n",
            " #   Column            Non-Null Count   Dtype         \n",
            "---  ------            --------------   -----         \n",
            " 0   transaction_id    149116 non-null  int64         \n",
            " 1   transaction_date  149116 non-null  datetime64[ns]\n",
            " 2   transaction_time  149116 non-null  object        \n",
            " 3   transaction_qty   149116 non-null  int64         \n",
            " 4   store_id          149116 non-null  int64         \n",
            " 5   store_location    149116 non-null  object        \n",
            " 6   product_id        149116 non-null  int64         \n",
            " 7   unit_price        149116 non-null  float64       \n",
            " 8   product_category  149116 non-null  object        \n",
            " 9   product_type      149116 non-null  object        \n",
            " 10  product_detail    149116 non-null  object        \n",
            "dtypes: datetime64[ns](1), float64(1), int64(4), object(5)\n",
            "memory usage: 12.5+ MB\n"
          ]
        }
      ]
    },
    {
      "cell_type": "markdown",
      "source": [
        "We can see that the data is organized by a transaction identifier, accompanied by important details such as the transaction date, quantity sold, store location, and product features, such as unit price, category, and type. Additionally, there are a total of 149,116 rows, and most importantly, none of them contain missing data. An additional point to note is that the date and time of the transaction are separated into different columns."
      ],
      "metadata": {
        "id": "drV5MBZq-_Zz"
      }
    },
    {
      "cell_type": "markdown",
      "source": [
        "### Transforming the Date and Time Columns\n",
        "\n",
        "Since the transaction date and time are in separate columns (`transaction_date` and `transaction_time`), the goal of this step is to combine them into a single column with a timestamp format (date and time) to facilitate temporal analysis."
      ],
      "metadata": {
        "id": "zl7bcQez_EMl"
      }
    },
    {
      "cell_type": "code",
      "source": [
        "# The 'transaction_date' and 'transaction_time' columns are concatenated into a single column called 'transaction_timestamp'\n",
        "# First, both columns are converted to string (str) type and joined with a space in between\n",
        "coffee_sales[\"transaction_timestamp\"] = coffee_sales[\"transaction_date\"].astype(str) + ' ' + coffee_sales[\"transaction_time\"].astype(str)\n",
        "\n",
        "# The new 'transaction_timestamp' column is converted to datetime type for easier temporal analysis\n",
        "coffee_sales[\"transaction_timestamp\"] = pd.to_datetime(coffee_sales[\"transaction_timestamp\"])\n",
        "\n",
        "# The original 'transaction_date' and 'transaction_time' columns are dropped\n",
        "coffee_sales.drop([\"transaction_date\", \"transaction_time\"], axis=1, inplace=True)"
      ],
      "metadata": {
        "id": "A53MJXB2_G90"
      },
      "execution_count": 4,
      "outputs": []
    },
    {
      "cell_type": "markdown",
      "source": [
        "To verify that the new column is correct, we can check the data by displaying the first few rows and ensuring that the transaction_timestamp column contains the expected datetime format."
      ],
      "metadata": {
        "id": "UsS3LKAq_L6t"
      }
    },
    {
      "cell_type": "code",
      "source": [
        "coffee_sales[\"transaction_timestamp\"].head()"
      ],
      "metadata": {
        "id": "jNwQu22-_Vny",
        "outputId": "270bc934-3ec3-4d2a-ae7b-357f9f614735",
        "colab": {
          "base_uri": "https://localhost:8080/",
          "height": 241
        }
      },
      "execution_count": 5,
      "outputs": [
        {
          "output_type": "execute_result",
          "data": {
            "text/plain": [
              "0   2023-01-01 07:06:11\n",
              "1   2023-01-01 07:08:56\n",
              "2   2023-01-01 07:14:04\n",
              "3   2023-01-01 07:20:24\n",
              "4   2023-01-01 07:22:41\n",
              "Name: transaction_timestamp, dtype: datetime64[ns]"
            ],
            "text/html": [
              "<div>\n",
              "<style scoped>\n",
              "    .dataframe tbody tr th:only-of-type {\n",
              "        vertical-align: middle;\n",
              "    }\n",
              "\n",
              "    .dataframe tbody tr th {\n",
              "        vertical-align: top;\n",
              "    }\n",
              "\n",
              "    .dataframe thead th {\n",
              "        text-align: right;\n",
              "    }\n",
              "</style>\n",
              "<table border=\"1\" class=\"dataframe\">\n",
              "  <thead>\n",
              "    <tr style=\"text-align: right;\">\n",
              "      <th></th>\n",
              "      <th>transaction_timestamp</th>\n",
              "    </tr>\n",
              "  </thead>\n",
              "  <tbody>\n",
              "    <tr>\n",
              "      <th>0</th>\n",
              "      <td>2023-01-01 07:06:11</td>\n",
              "    </tr>\n",
              "    <tr>\n",
              "      <th>1</th>\n",
              "      <td>2023-01-01 07:08:56</td>\n",
              "    </tr>\n",
              "    <tr>\n",
              "      <th>2</th>\n",
              "      <td>2023-01-01 07:14:04</td>\n",
              "    </tr>\n",
              "    <tr>\n",
              "      <th>3</th>\n",
              "      <td>2023-01-01 07:20:24</td>\n",
              "    </tr>\n",
              "    <tr>\n",
              "      <th>4</th>\n",
              "      <td>2023-01-01 07:22:41</td>\n",
              "    </tr>\n",
              "  </tbody>\n",
              "</table>\n",
              "</div><br><label><b>dtype:</b> datetime64[ns]</label>"
            ]
          },
          "metadata": {},
          "execution_count": 5
        }
      ]
    },
    {
      "cell_type": "markdown",
      "source": [
        "### Verification of Duplicate Transactions\n",
        "\n",
        "To ensure that each transaction is unique, we compare the total number of records in the dataset with the number of unique identifiers in the `transaction_id` column. If both values are equal, it means there are no duplicate transactions; otherwise, there are duplicate records in the data."
      ],
      "metadata": {
        "id": "MD4qjPaTio6K"
      }
    },
    {
      "cell_type": "code",
      "source": [
        "# Remove duplicate values in the 'transaction_id' column and count the number of unique identifiers\n",
        "unique_transactions = coffee_sales[\"transaction_id\"].drop_duplicates().shape[0]\n",
        "\n",
        "# Count the total number of rows in the original DataFrame\n",
        "total_transactions = coffee_sales.shape[0]\n",
        "\n",
        "# Compare if the number of unique identifiers is equal to the total number of rows in the DataFrame\n",
        "# If True, each transaction has a unique identifier, meaning there are no duplicates\n",
        "# If False, some transactions share the same 'transaction_id', indicating duplicates\n",
        "unique_transactions == total_transactions"
      ],
      "metadata": {
        "id": "AEpJYpkLiuHS",
        "colab": {
          "base_uri": "https://localhost:8080/"
        },
        "outputId": "50d17ff4-480a-4bea-e45f-a30430818526"
      },
      "execution_count": 6,
      "outputs": [
        {
          "output_type": "execute_result",
          "data": {
            "text/plain": [
              "True"
            ]
          },
          "metadata": {},
          "execution_count": 6
        }
      ]
    },
    {
      "cell_type": "markdown",
      "source": [
        "### Detailed Verification of Store Locations\n",
        "\n",
        "To analyze the distribution of transactions per store, the following code counts the frequency of each unique combination of `store_location` and `store_id`. This helps identify how many transactions were recorded at each store and detect potential inconsistencies in the data, such as stores with multiple identifiers or duplicate locations."
      ],
      "metadata": {
        "id": "G4F9h_mdr0HT"
      }
    },
    {
      "cell_type": "code",
      "source": [
        "# Count the frequency of unique combinations of 'store_location' and 'store_id'\n",
        "coffee_sales[[\"store_location\", \"store_id\"]].value_counts()"
      ],
      "metadata": {
        "id": "9OuBB294r8Qc",
        "colab": {
          "base_uri": "https://localhost:8080/",
          "height": 209
        },
        "outputId": "986e7782-3e2a-4b17-ffd0-e3db5c52ace7"
      },
      "execution_count": 7,
      "outputs": [
        {
          "output_type": "execute_result",
          "data": {
            "text/plain": [
              "store_location   store_id\n",
              "Hell's Kitchen   8           50735\n",
              "Astoria          3           50599\n",
              "Lower Manhattan  5           47782\n",
              "Name: count, dtype: int64"
            ],
            "text/html": [
              "<div>\n",
              "<style scoped>\n",
              "    .dataframe tbody tr th:only-of-type {\n",
              "        vertical-align: middle;\n",
              "    }\n",
              "\n",
              "    .dataframe tbody tr th {\n",
              "        vertical-align: top;\n",
              "    }\n",
              "\n",
              "    .dataframe thead th {\n",
              "        text-align: right;\n",
              "    }\n",
              "</style>\n",
              "<table border=\"1\" class=\"dataframe\">\n",
              "  <thead>\n",
              "    <tr style=\"text-align: right;\">\n",
              "      <th></th>\n",
              "      <th></th>\n",
              "      <th>count</th>\n",
              "    </tr>\n",
              "    <tr>\n",
              "      <th>store_location</th>\n",
              "      <th>store_id</th>\n",
              "      <th></th>\n",
              "    </tr>\n",
              "  </thead>\n",
              "  <tbody>\n",
              "    <tr>\n",
              "      <th>Hell's Kitchen</th>\n",
              "      <th>8</th>\n",
              "      <td>50735</td>\n",
              "    </tr>\n",
              "    <tr>\n",
              "      <th>Astoria</th>\n",
              "      <th>3</th>\n",
              "      <td>50599</td>\n",
              "    </tr>\n",
              "    <tr>\n",
              "      <th>Lower Manhattan</th>\n",
              "      <th>5</th>\n",
              "      <td>47782</td>\n",
              "    </tr>\n",
              "  </tbody>\n",
              "</table>\n",
              "</div><br><label><b>dtype:</b> int64</label>"
            ]
          },
          "metadata": {},
          "execution_count": 7
        }
      ]
    },
    {
      "cell_type": "markdown",
      "source": [
        "The result displays the number of transactions recorded for each `store_location` and `store_id` combination. For example, the store in *Hell’s Kitchen* with ID **8** had **50,735** transactions, while the one in *Astoria* with ID **3** recorded **50,599** sales. Similarly, the store in *Lower Manhattan* with ID **5** accumulated **47,782** transactions."
      ],
      "metadata": {
        "id": "PXhZz8FfsJa6"
      }
    },
    {
      "cell_type": "markdown",
      "source": [
        "### Normalization of Values in Product Details\n",
        "\n",
        "To ensure data consistency in the `product_detail` column, we need to check for inconsistencies such as variations in uppercase and lowercase letters, extra spaces between words, or leading and trailing spaces.\n",
        "\n",
        "To achieve this, we will compare the number of unique values in the dataset before and after normalizing the text by removing extra spaces and converting all text to lowercase."
      ],
      "metadata": {
        "id": "cNrn8CjmBJEf"
      }
    },
    {
      "cell_type": "code",
      "source": [
        "# Print the number of unique values before validation\n",
        "print(f\"Number of unique values before validation: {coffee_sales['product_detail'].value_counts().shape[0]}\")\n",
        "\n",
        "# Print the number of unique values after applying validation (normalizing spaces, converting to lowercase, and stripping)\n",
        "print(\"Number of unique values after validation: \",\n",
        "      coffee_sales['product_detail'].str.replace(r'\\s+', ' ', regex=True).str.lower().str.strip().value_counts().shape[0])\n"
      ],
      "metadata": {
        "colab": {
          "base_uri": "https://localhost:8080/"
        },
        "id": "xRzqc9yPBR3o",
        "outputId": "97793528-4093-4968-86be-2748a1c94fc5"
      },
      "execution_count": 8,
      "outputs": [
        {
          "output_type": "stream",
          "name": "stdout",
          "text": [
            "Number of unique values before validation: 80\n",
            "Number of unique values after validation:  80\n"
          ]
        }
      ]
    },
    {
      "cell_type": "markdown",
      "source": [
        "Since the number of unique values remained the same before and after normalization, we can conclude that these data do not require corrections."
      ],
      "metadata": {
        "id": "_jrFsh_tBX9d"
      }
    },
    {
      "cell_type": "markdown",
      "source": [
        "### Checking for Outliers in Unit Prices\n",
        "\n",
        "To check for outliers in the unit prices, we can generate a box plot, which visually represents the distribution of the values. This plot will help us identify any extreme values that may exist outside the interquartile range (IQR)."
      ],
      "metadata": {
        "id": "c2jXoDfrO48Z"
      }
    },
    {
      "cell_type": "code",
      "source": [
        "# Generate the box plot for the 'unit_price' column\n",
        "sns.boxplot(coffee_sales[\"unit_price\"], fill=False)\n",
        "plt.title(\"Distribution of Unit Prices\")\n",
        "plt.ylabel(\"Count\")\n",
        "plt.xlabel(\"Unit Price\")\n",
        "# Call show() to display the plot\n",
        "plt.show()\n"
      ],
      "metadata": {
        "id": "zPlEzBroPS5Y",
        "outputId": "5e7f1ccb-1a43-4e6f-9401-c7e9d10c3ee5",
        "colab": {
          "base_uri": "https://localhost:8080/",
          "height": 451
        }
      },
      "execution_count": 9,
      "outputs": [
        {
          "output_type": "display_data",
          "data": {
            "text/plain": [
              "<Figure size 640x480 with 1 Axes>"
            ],
            "image/png": "[encoded data removed]"
          },
          "metadata": {}
        }
      ]
    },
    {
      "cell_type": "markdown",
      "source": [
        "To investigate the prices exceeding $25, we can filter the corresponding records and check which products have these extreme prices."
      ],
      "metadata": {
        "id": "8YrmKfYnPkrs"
      }
    },
    {
      "cell_type": "code",
      "source": [
        "# Filter products with a unit price greater than or equal to 25 dollars and group by quantity\n",
        "coffee_sales[coffee_sales[\"unit_price\"] >= 25][\"product_type\"].value_counts()"
      ],
      "metadata": {
        "id": "BD59VOb1PqqA",
        "colab": {
          "base_uri": "https://localhost:8080/",
          "height": 209
        },
        "outputId": "a24e9087-5a8c-41ac-bc28-53e57563a3a6"
      },
      "execution_count": 10,
      "outputs": [
        {
          "output_type": "execute_result",
          "data": {
            "text/plain": [
              "product_type\n",
              "Clothing         216\n",
              "Premium Beans    190\n",
              "Organic Beans     17\n",
              "Name: count, dtype: int64"
            ],
            "text/html": [
              "<div>\n",
              "<style scoped>\n",
              "    .dataframe tbody tr th:only-of-type {\n",
              "        vertical-align: middle;\n",
              "    }\n",
              "\n",
              "    .dataframe tbody tr th {\n",
              "        vertical-align: top;\n",
              "    }\n",
              "\n",
              "    .dataframe thead th {\n",
              "        text-align: right;\n",
              "    }\n",
              "</style>\n",
              "<table border=\"1\" class=\"dataframe\">\n",
              "  <thead>\n",
              "    <tr style=\"text-align: right;\">\n",
              "      <th></th>\n",
              "      <th>count</th>\n",
              "    </tr>\n",
              "    <tr>\n",
              "      <th>product_type</th>\n",
              "      <th></th>\n",
              "    </tr>\n",
              "  </thead>\n",
              "  <tbody>\n",
              "    <tr>\n",
              "      <th>Clothing</th>\n",
              "      <td>216</td>\n",
              "    </tr>\n",
              "    <tr>\n",
              "      <th>Premium Beans</th>\n",
              "      <td>190</td>\n",
              "    </tr>\n",
              "    <tr>\n",
              "      <th>Organic Beans</th>\n",
              "      <td>17</td>\n",
              "    </tr>\n",
              "  </tbody>\n",
              "</table>\n",
              "</div><br><label><b>dtype:</b> int64</label>"
            ]
          },
          "metadata": {},
          "execution_count": 10
        }
      ]
    },
    {
      "cell_type": "code",
      "source": [
        "# Filter products with a unit price greater than or equal to 25 and with product type \"Clothing\"\n",
        "# Then, get the unique values in the 'product_detail' column\n",
        "coffee_sales[(coffee_sales[\"unit_price\"] >= 25) & (coffee_sales[\"product_type\"] == \"Clothing\")][\"product_detail\"].unique()"
      ],
      "metadata": {
        "id": "KPzj4G1yQAHa",
        "colab": {
          "base_uri": "https://localhost:8080/"
        },
        "outputId": "b0ecc9df-1c8d-47e3-97f0-2e06bba81de1"
      },
      "execution_count": 11,
      "outputs": [
        {
          "output_type": "execute_result",
          "data": {
            "text/plain": [
              "array(['I Need My Bean! T-shirt'], dtype=object)"
            ]
          },
          "metadata": {},
          "execution_count": 11
        }
      ]
    },
    {
      "cell_type": "markdown",
      "source": [
        "It's clear that the high-priced products are premium and organic coffee bean bags, as well as clothing items with the store's branding.\n",
        "\n",
        "For the next step, let's investigate the minimum prices in the store."
      ],
      "metadata": {
        "id": "d2cuEK2mQKZl"
      }
    },
    {
      "cell_type": "code",
      "source": [
        "# Get the minimum value of the unit price in the \"unit_price\" column\n",
        "coffee_sales[\"unit_price\"].min()"
      ],
      "metadata": {
        "id": "QBy-MM-fQY3t",
        "colab": {
          "base_uri": "https://localhost:8080/"
        },
        "outputId": "0fc07541-912b-4c74-e113-89321b42f0bc"
      },
      "execution_count": 12,
      "outputs": [
        {
          "output_type": "execute_result",
          "data": {
            "text/plain": [
              "0.8"
            ]
          },
          "metadata": {},
          "execution_count": 12
        }
      ]
    },
    {
      "cell_type": "markdown",
      "source": [
        "\n",
        "To find out which category and product type corresponds to the minimum price of $0.80, you can filter the dataset based on the minimum price."
      ],
      "metadata": {
        "id": "kXilPXkpQBeN"
      }
    },
    {
      "cell_type": "code",
      "source": [
        "# Filter products with a unit price of exactly 0.8 and count the number of products in each category\n",
        "coffee_sales[coffee_sales[\"unit_price\"] == 0.8][\"product_category\"].value_counts()\n"
      ],
      "metadata": {
        "id": "4EeX0Dl8QmR3",
        "colab": {
          "base_uri": "https://localhost:8080/",
          "height": 147
        },
        "outputId": "3c29ae27-fccb-4b7e-a968-aafd7e1a7a51"
      },
      "execution_count": 13,
      "outputs": [
        {
          "output_type": "execute_result",
          "data": {
            "text/plain": [
              "product_category\n",
              "Flavours    6790\n",
              "Name: count, dtype: int64"
            ],
            "text/html": [
              "<div>\n",
              "<style scoped>\n",
              "    .dataframe tbody tr th:only-of-type {\n",
              "        vertical-align: middle;\n",
              "    }\n",
              "\n",
              "    .dataframe tbody tr th {\n",
              "        vertical-align: top;\n",
              "    }\n",
              "\n",
              "    .dataframe thead th {\n",
              "        text-align: right;\n",
              "    }\n",
              "</style>\n",
              "<table border=\"1\" class=\"dataframe\">\n",
              "  <thead>\n",
              "    <tr style=\"text-align: right;\">\n",
              "      <th></th>\n",
              "      <th>count</th>\n",
              "    </tr>\n",
              "    <tr>\n",
              "      <th>product_category</th>\n",
              "      <th></th>\n",
              "    </tr>\n",
              "  </thead>\n",
              "  <tbody>\n",
              "    <tr>\n",
              "      <th>Flavours</th>\n",
              "      <td>6790</td>\n",
              "    </tr>\n",
              "  </tbody>\n",
              "</table>\n",
              "</div><br><label><b>dtype:</b> int64</label>"
            ]
          },
          "metadata": {},
          "execution_count": 13
        }
      ]
    },
    {
      "cell_type": "code",
      "source": [
        "# Filter products with a unit price of 0.8 and product category \"Flavours\", then count by product type\n",
        "coffee_sales[\n",
        "    (coffee_sales[\"unit_price\"] == 0.8)\n",
        "    &\n",
        "    (coffee_sales[\"product_category\"] == \"Flavours\")\n",
        "][\"product_type\"].value_counts()"
      ],
      "metadata": {
        "id": "TFhA4N0dQ-Sh",
        "colab": {
          "base_uri": "https://localhost:8080/",
          "height": 178
        },
        "outputId": "79a48317-11fb-4092-c04a-b23c4c59a1db"
      },
      "execution_count": 14,
      "outputs": [
        {
          "output_type": "execute_result",
          "data": {
            "text/plain": [
              "product_type\n",
              "Regular syrup       4979\n",
              "Sugar free syrup    1811\n",
              "Name: count, dtype: int64"
            ],
            "text/html": [
              "<div>\n",
              "<style scoped>\n",
              "    .dataframe tbody tr th:only-of-type {\n",
              "        vertical-align: middle;\n",
              "    }\n",
              "\n",
              "    .dataframe tbody tr th {\n",
              "        vertical-align: top;\n",
              "    }\n",
              "\n",
              "    .dataframe thead th {\n",
              "        text-align: right;\n",
              "    }\n",
              "</style>\n",
              "<table border=\"1\" class=\"dataframe\">\n",
              "  <thead>\n",
              "    <tr style=\"text-align: right;\">\n",
              "      <th></th>\n",
              "      <th>count</th>\n",
              "    </tr>\n",
              "    <tr>\n",
              "      <th>product_type</th>\n",
              "      <th></th>\n",
              "    </tr>\n",
              "  </thead>\n",
              "  <tbody>\n",
              "    <tr>\n",
              "      <th>Regular syrup</th>\n",
              "      <td>4979</td>\n",
              "    </tr>\n",
              "    <tr>\n",
              "      <th>Sugar free syrup</th>\n",
              "      <td>1811</td>\n",
              "    </tr>\n",
              "  </tbody>\n",
              "</table>\n",
              "</div><br><label><b>dtype:</b> int64</label>"
            ]
          },
          "metadata": {},
          "execution_count": 14
        }
      ]
    },
    {
      "cell_type": "markdown",
      "source": [
        "As we can see, syrups are the products with the minimum price in the store, costing $0.80. This suggests that the syrups in the \"Flavours\" category are the least expensive items in the dataset."
      ],
      "metadata": {
        "id": "sttndsODRGFd"
      }
    },
    {
      "cell_type": "markdown",
      "source": [
        "### Visual Analysis of the Dataset"
      ],
      "metadata": {
        "id": "ZXp24y9sSXNz"
      }
    },
    {
      "cell_type": "markdown",
      "source": [
        "#### Categories"
      ],
      "metadata": {
        "id": "fM40wNrsS-jU"
      }
    },
    {
      "cell_type": "code",
      "source": [
        "# Count the number of products in each category and reset the index to structure it as a DataFrame\n",
        "product_category_count = coffee_sales[\"product_category\"].value_counts().reset_index()\n",
        "\n",
        "# Create a bar chart with Seaborn\n",
        "ax = sns.barplot(\n",
        "    x=product_category_count[\"product_category\"],  # Product category on the X-axis\n",
        "    y=product_category_count[\"count\"],  # Frequency on the Y-axis\n",
        "    hue=product_category_count[\"product_category\"],  # Color by category\n",
        ")\n",
        "\n",
        "# Add numerical labels above each bar for better value visualization\n",
        "for i, value in enumerate(product_category_count[\"count\"]):\n",
        "    ax.text(i, value + 0.5, str(value), ha=\"center\", fontsize=10, fontweight=\"bold\")\n",
        "\n",
        "# Add title and labels to the axes\n",
        "plt.title(\"Distribution of Product Categories\")\n",
        "plt.xlabel(\"Product Category\")\n",
        "plt.ylabel(\"Frequency\")\n",
        "\n",
        "# Rotate X-axis labels for better visibility\n",
        "plt.xticks(rotation=45)\n",
        "\n",
        "# Show the chart\n",
        "plt.show()\n"
      ],
      "metadata": {
        "colab": {
          "base_uri": "https://localhost:8080/",
          "height": 552
        },
        "id": "9RHfq6ZSSZyA",
        "outputId": "9fab6ad5-bf9c-4c9d-c0d2-0c79580ba097"
      },
      "execution_count": 15,
      "outputs": [
        {
          "output_type": "display_data",
          "data": {
            "text/plain": [
              "<Figure size 640x480 with 1 Axes>"
            ],
            "image/png": "[encoded data removed]"
          },
          "metadata": {}
        }
      ]
    },
    {
      "cell_type": "markdown",
      "source": [
        "In order to interpret the distribution and corresponding percentages, a function will be declared to calculate the percentages of the total accumulated sales.\n"
      ],
      "metadata": {
        "id": "3Y8Wja1ucJwP"
      }
    },
    {
      "cell_type": "code",
      "source": [
        "def percentage_category(category, df, column, total):\n",
        "    \"\"\"\n",
        "    Calculates the percentage of a specific category within a Pandas DataFrame.\n",
        "\n",
        "    Args:\n",
        "        category: The value to search for in the specified column.\n",
        "        df: The Pandas DataFrame to search within.\n",
        "        column: The name of the column to search in.\n",
        "        total: The total value to calculate the percentage against.\n",
        "\n",
        "    Returns:\n",
        "        The percentage of the category rounded to 2 decimal places, or an error\n",
        "        message if the DataFrame is invalid or unprocessed.\n",
        "    \"\"\"\n",
        "    try:\n",
        "        value = df[df[column] == category][\"count\"].values[0]\n",
        "        return round((value / total) * 100, 2)\n",
        "    except:\n",
        "        return \"invalid or unprocessed dataframe\""
      ],
      "metadata": {
        "id": "3aQYNOmcrR37"
      },
      "execution_count": 16,
      "outputs": []
    },
    {
      "cell_type": "code",
      "source": [
        "# Define a list with the product categories to analyze\n",
        "product_category = [\n",
        "    \"Bakery\",              # Baked goods\n",
        "    \"Packaged Chocolate\",  # Packaged chocolates\n",
        "    \"Coffee\",              # Coffee\n",
        "    \"Tea\",                 # Tea\n",
        "    \"Branded\"              # Branded products\n",
        "]\n",
        "\n",
        "# Calculate the total number of products in all categories by summing the frequencies\n",
        "total_categories = product_category_count.sum().values[1]"
      ],
      "metadata": {
        "id": "a7qN7p7dsZ38"
      },
      "execution_count": 17,
      "outputs": []
    },
    {
      "cell_type": "code",
      "source": [
        "# Iterate over each product category in the product_category list\n",
        "for cat in product_category:\n",
        "    # Calculate the sales percentage of the current category and display the result\n",
        "    print(f\"{cat}: {percentage_category(cat, product_category_count, 'product_category', total_categories)} % of total sales\")"
      ],
      "metadata": {
        "colab": {
          "base_uri": "https://localhost:8080/"
        },
        "id": "tLcNblyRso9W",
        "outputId": "60f22e50-b5b8-4d5e-fc49-f2505fe7db17"
      },
      "execution_count": 18,
      "outputs": [
        {
          "output_type": "stream",
          "name": "stdout",
          "text": [
            "Bakery: 15.29 % of total sales\n",
            "Packaged Chocolate: 0.33 % of total sales\n",
            "Coffee: 39.17 % of total sales\n",
            "Tea: 30.48 % of total sales\n",
            "Branded: 0.5 % of total sales\n"
          ]
        }
      ]
    },
    {
      "cell_type": "markdown",
      "source": [
        "This graph shows us the distribution of cafeteria sales by product category. We can see that the products in the Coffee and Tea categories dominate total sales, which indicates that these products are the customers' favorites. Coffee makes up almost two-fifths of total sales, with a specific figure of 39.17% of total sales, and tea has 30.48% of corresponding sales. Baked goods are in third place, representing 15.29% of total sales, which, despite being a secondary category, represents an important part of the revenue.\n",
        "\n",
        "Among the products with the lowest sales, we can see that packaged chocolates represent just 0.33% of total sales, followed by products with the store logo at 0.5% of accumulated sales.\n"
      ],
      "metadata": {
        "id": "udrcT6G4sZND"
      }
    },
    {
      "cell_type": "markdown",
      "source": [
        "#### Types"
      ],
      "metadata": {
        "id": "X_DKxSyzcKRF"
      }
    },
    {
      "cell_type": "code",
      "source": [
        "# Calculate the total number of unique product types in the dataset\n",
        "len(coffee_sales[\"product_type\"].unique())"
      ],
      "metadata": {
        "id": "PTSQUyI3y5AK"
      },
      "execution_count": null,
      "outputs": []
    },
    {
      "cell_type": "code",
      "source": [
        "# Count the number of products in each Type and reset the index to structure it as a DataFrame\n",
        "product_type_count_top5 = coffee_sales[\"product_type\"].value_counts().reset_index().head()\n",
        "\n",
        "# Create a bar chart with Seaborn\n",
        "ax = sns.barplot(\n",
        "    x=product_type_count_top5[\"product_type\"],  # Product type on the X-axis\n",
        "    y=product_type_count_top5[\"count\"],  # Frequency on the Y-axis\n",
        "    hue=product_type_count_top5[\"product_type\"],  # Color by Type\n",
        ")\n",
        "\n",
        "# Add numerical labels above each bar for better value visualization\n",
        "for i, value in enumerate(product_type_count_top5[\"count\"]):\n",
        "    ax.text(i, value + 0.5, str(value), ha=\"center\", fontsize=10, fontweight=\"bold\")\n",
        "\n",
        "# Add title and labels to the axes\n",
        "plt.title(\"Distribution of the 5 most sold product types\")\n",
        "plt.xlabel(\"Product Type\")\n",
        "plt.ylabel(\"Frequency\")\n",
        "\n",
        "# Rotate X-axis labels for better visibility\n",
        "plt.xticks(rotation=45)\n",
        "\n",
        "# Show the chart\n",
        "plt.show()\n"
      ],
      "metadata": {
        "colab": {
          "base_uri": "https://localhost:8080/",
          "height": 564
        },
        "id": "169uf2w4ca2N",
        "outputId": "679ff8e1-2e87-4f51-f050-4b09c035c8f6"
      },
      "execution_count": 19,
      "outputs": [
        {
          "output_type": "display_data",
          "data": {
            "text/plain": [
              "<Figure size 640x480 with 1 Axes>"
            ],
            "image/png": "[encoded data removed]"
          },
          "metadata": {}
        }
      ]
    },
    {
      "cell_type": "markdown",
      "source": [],
      "metadata": {
        "id": "LKuTLQPhccU7"
      }
    },
    {
      "cell_type": "markdown",
      "source": [
        "#Español"
      ],
      "metadata": {
        "id": "rbC-jQC_Z2TC"
      }
    },
    {
      "cell_type": "markdown",
      "source": [
        "##1. Introducción"
      ],
      "metadata": {
        "id": "XGnvQNwkZ4BH"
      }
    },
    {
      "cell_type": "markdown",
      "source": [
        "\n",
        "En este proyecto, se realizó un análisis exploratorio de datos (EDA) y un modelo de predicción de ventas basado en series temporales usando un conjunto de datos disponible en este [enlace](https://www.kaggle.com/datasets/ahmedabbas757/coffee-sales) de Kaggle.\n",
        "\n",
        "El Objetivo principal de este proyecto es comprender los patrones históricos de ventas y poder desarrollar un modelo de aprendizaje automático que pueda anticipar el comportamiento futuro para poder proporcionar información valiosa para para la toma de decisiones.\n",
        "\n",
        "El flujo de trabajo incluyó las siguientes etapas principales:\n",
        "\n",
        "\n",
        "1.   **Extracción de los datos de Kaggle usando una Api**:\n",
        "    Se uso la API Kagglehub para poder extraer los datos de manera correcta y poder mantenerlos actualizados si existe un cambio en el origen de los datos.\n",
        "2.   **Análisis Exploratorio de Datos (EDA)**:\n",
        "    Se utilizó Python y bibliotecas como pandas, matplotlib y seaborn para limpiar y analizar el conjunto de datos, identificando tendencias, estacionalidad y variables clave que afectan las ventas, así como para visualizar los datos de manera rápida.\n",
        "3. **Modelado Predictivo de aprendizaje automatico**:\n",
        "    Se implementó el modelo de pronóstico Prophet desarrollado por Facebook para predecir ventas futuras, considerando aspectos como tendencias y eventos estacionales.\n",
        "4. **Visualización en Power BI**:\n",
        "    Los datos y resultados obtenidos se integraron en un tablero interactivo en Power BI, facilitando la comunicación de insights de manera visual e intuitiva.\n",
        "\n",
        "El proyecto busca demostrar habilidades técnicas en análisis de datos, modelado predictivo y creación de visualizaciones dinámicas, así como la capacidad de trabajar con herramientas modernas de ciencia de datos y análisis empresarial. Este enfoque es crucial para extraer valor de los datos y apoyar la toma de decisiones basadas en evidencia.\n",
        "\n"
      ],
      "metadata": {
        "id": "Kd6uuHJWVk0K"
      }
    },
    {
      "cell_type": "markdown",
      "source": [
        "## 2. Desarrollo del proyecto\n",
        "\n",
        "En esta sección, se detallará paso a paso el proceso seguido para desarrollar el análisis y la predicción de las ventas, desde la configuración del entorno y la preparación de los datos, hasta la implementación del modelo y la visualización final."
      ],
      "metadata": {
        "id": "cAK-sMMCZOHn"
      }
    },
    {
      "cell_type": "markdown",
      "source": [
        "### Importación de las librerías\n",
        "\n",
        "El primer paso fue importar las librerías necesarias para llevar a cabo el análisis y modelado. Se utilizaron herramientas estándar de Python que son ampliamente reconocidas en la comunidad de ciencia de datos, así como herramientas de visualización de datos, la libería de Kagglehub para la extracción de los datos y Prophet, para el desarrollo del modelo."
      ],
      "metadata": {
        "id": "6SAOSoxKZVlX"
      }
    },
    {
      "cell_type": "code",
      "execution_count": 20,
      "metadata": {
        "id": "mJogtqsNZHO-"
      },
      "outputs": [],
      "source": [
        "# Librerías para la manipulación, manejo  y análisis de datos\n",
        "import pandas as pd\n",
        "import numpy as np\n",
        "\n",
        "# Librería para extracción de datos desde Kaggle\n",
        "import kagglehub\n",
        "import os\n",
        "\n",
        "# Librerías para visualización\n",
        "import matplotlib.pyplot as plt\n",
        "import seaborn as sns\n",
        "\n",
        "# Librerías para el modelo basado en series temporales\n",
        "from prophet import Prophet\n",
        "from prophet.diagnostics import performance_metrics\n",
        "\n",
        "# Manejo de advertencias\n",
        "import warnings\n",
        "warnings.filterwarnings(\"ignore\")\n",
        "\n",
        "# Configuración del estilo de las visualizaciones\n",
        "plt.style.use('seaborn-v0_8-dark')\n"
      ]
    },
    {
      "cell_type": "markdown",
      "source": [
        "### Extracción de los Datos\n",
        "\n",
        "Para garantizar que el análisis se base en información al día, se utilizó la librería kagglehub para descargar los datos directamente desde Kaggle, esto permite tener un enfoque en un flujo de trabajo dinámico y flexible, ya que la información se puede sincronizar fácilmente en caso de existir actualizaciones en el conjunto de datos."
      ],
      "metadata": {
        "id": "l3g2966n50RR"
      }
    },
    {
      "cell_type": "code",
      "execution_count": 21,
      "metadata": {
        "id": "2cjzfPvWZHPA",
        "colab": {
          "base_uri": "https://localhost:8080/"
        },
        "outputId": "89452dc0-f762-43a4-fceb-3d83a1e90d26"
      },
      "outputs": [
        {
          "output_type": "stream",
          "name": "stdout",
          "text": [
            "Warning: Looks like you're using an outdated `kagglehub` version (installed: 0.3.6), please consider upgrading to the latest version (0.3.7).\n"
          ]
        }
      ],
      "source": [
        "# Se descarga el conjunto de datos desde Kaggle\n",
        "path = kagglehub.dataset_download(\"ahmedabbas757/coffee-sales\")\n",
        "\n",
        "# Nombre del archivo descargado\n",
        "file_name = \"Coffee Shop Sales.xlsx\"\n",
        "\n",
        "# Se construye la ruta completa del archivo\n",
        "file_path = os.path.join(path, file_name)\n",
        "\n",
        "# Se carga el archivo a un DataFrame de pandas.\n",
        "coffee_sales = pd.read_excel(file_path)"
      ]
    },
    {
      "cell_type": "markdown",
      "source": [
        "### Análisis Exploratorio de Datos (EDA)"
      ],
      "metadata": {
        "id": "uMCNkIeK7hiH"
      }
    },
    {
      "cell_type": "markdown",
      "source": [
        "Una vez cargados los datos en un DataFrame, es fundamental realizar una exploración inicial para comprender su estructura y calidad de los datos usando el método info(), este nos proporciona una vista general de los datos para ver información clave sobre la estructura de los datos."
      ],
      "metadata": {
        "id": "jGQirmMm8dCc"
      }
    },
    {
      "cell_type": "code",
      "source": [
        "coffee_sales.info()"
      ],
      "metadata": {
        "colab": {
          "base_uri": "https://localhost:8080/"
        },
        "id": "xvlh06l2ZeBs",
        "outputId": "2c4cb894-bc9a-497f-b869-0d18573b59c7"
      },
      "execution_count": 22,
      "outputs": [
        {
          "output_type": "stream",
          "name": "stdout",
          "text": [
            "<class 'pandas.core.frame.DataFrame'>\n",
            "RangeIndex: 149116 entries, 0 to 149115\n",
            "Data columns (total 11 columns):\n",
            " #   Column            Non-Null Count   Dtype         \n",
            "---  ------            --------------   -----         \n",
            " 0   transaction_id    149116 non-null  int64         \n",
            " 1   transaction_date  149116 non-null  datetime64[ns]\n",
            " 2   transaction_time  149116 non-null  object        \n",
            " 3   transaction_qty   149116 non-null  int64         \n",
            " 4   store_id          149116 non-null  int64         \n",
            " 5   store_location    149116 non-null  object        \n",
            " 6   product_id        149116 non-null  int64         \n",
            " 7   unit_price        149116 non-null  float64       \n",
            " 8   product_category  149116 non-null  object        \n",
            " 9   product_type      149116 non-null  object        \n",
            " 10  product_detail    149116 non-null  object        \n",
            "dtypes: datetime64[ns](1), float64(1), int64(4), object(5)\n",
            "memory usage: 12.5+ MB\n"
          ]
        }
      ]
    },
    {
      "cell_type": "markdown",
      "source": [
        "Podemos ver que los datos están organizados por un identificador de transacción, el cual está acompañado de información importante como la fecha de la transacción, la cantidad vendida, la ubicación de la tienda y características del producto, como su precio unitario, categoría y tipo.\n",
        "Además de estos detalles, se cuenta con un total de 149,116 filas, y lo más relevante es que ninguna de ellas contiene datos nulos. Un aspecto adicional a destacar es que la fecha y la hora de la transacción están separadas en columnas distintas.\n",
        "\n"
      ],
      "metadata": {
        "id": "QvHNDEzp8xFT"
      }
    },
    {
      "cell_type": "markdown",
      "source": [
        "### Transformación de las columnas de fecha y hora\n",
        "\n",
        "Dado que la fecha y la hora de la transacción se encuentran separadas en columnas distintas (`transaction_date` y `transaction_time`), el objetivo de este paso es combinarlas en una sola columna con un formato de timestamp (fecha y hora) para facilitar el análisis temporal."
      ],
      "metadata": {
        "id": "NP5CREAJ-BI4"
      }
    },
    {
      "cell_type": "code",
      "source": [
        "# Se concadenan las columnas 'transaction_date' y 'transaction_time' en una sola columna llamada 'transaction_timestamp'\n",
        "# Primero, se convierte ambas columnas a tipo cadena (str) y se unen con un espacio en medio\n",
        "coffee_sales[\"transaction_timestamp\"] = coffee_sales[\"transaction_date\"].astype(str) + ' ' + coffee_sales[\"transaction_time\"].astype(str)\n",
        "\n",
        "# Se convierte la columna nueva 'transaction_timestamp' a tipo datetime para facilitar el análisis temporal\n",
        "coffee_sales[\"transaction_timestamp\"] = pd.to_datetime(coffee_sales[\"transaction_timestamp\"])\n",
        "\n",
        "# Se eliminan las columnas originales 'transaction_date' y 'transaction_time'\n",
        "coffee_sales.drop([\"transaction_date\", \"transaction_time\"], axis=1, inplace=True)"
      ],
      "metadata": {
        "id": "x8U7gI7xZmjm"
      },
      "execution_count": 23,
      "outputs": []
    },
    {
      "cell_type": "markdown",
      "source": [
        "Para verificar que la nueva columna es correcta, podemos comprobar los datos mostrando las primeras filas y asegurándonos de que la columna transaction_timestamp contiene el formato datetime esperado.\n"
      ],
      "metadata": {
        "id": "cM3yhkk7-ps_"
      }
    },
    {
      "cell_type": "code",
      "source": [
        "coffee_sales[\"transaction_timestamp\"].head()"
      ],
      "metadata": {
        "id": "ACszNvc6GVFG",
        "outputId": "57bdbc78-5ed6-48b8-b475-3a5df902cb2b",
        "colab": {
          "base_uri": "https://localhost:8080/",
          "height": 241
        }
      },
      "execution_count": 24,
      "outputs": [
        {
          "output_type": "execute_result",
          "data": {
            "text/plain": [
              "0   2023-01-01 07:06:11\n",
              "1   2023-01-01 07:08:56\n",
              "2   2023-01-01 07:14:04\n",
              "3   2023-01-01 07:20:24\n",
              "4   2023-01-01 07:22:41\n",
              "Name: transaction_timestamp, dtype: datetime64[ns]"
            ],
            "text/html": [
              "<div>\n",
              "<style scoped>\n",
              "    .dataframe tbody tr th:only-of-type {\n",
              "        vertical-align: middle;\n",
              "    }\n",
              "\n",
              "    .dataframe tbody tr th {\n",
              "        vertical-align: top;\n",
              "    }\n",
              "\n",
              "    .dataframe thead th {\n",
              "        text-align: right;\n",
              "    }\n",
              "</style>\n",
              "<table border=\"1\" class=\"dataframe\">\n",
              "  <thead>\n",
              "    <tr style=\"text-align: right;\">\n",
              "      <th></th>\n",
              "      <th>transaction_timestamp</th>\n",
              "    </tr>\n",
              "  </thead>\n",
              "  <tbody>\n",
              "    <tr>\n",
              "      <th>0</th>\n",
              "      <td>2023-01-01 07:06:11</td>\n",
              "    </tr>\n",
              "    <tr>\n",
              "      <th>1</th>\n",
              "      <td>2023-01-01 07:08:56</td>\n",
              "    </tr>\n",
              "    <tr>\n",
              "      <th>2</th>\n",
              "      <td>2023-01-01 07:14:04</td>\n",
              "    </tr>\n",
              "    <tr>\n",
              "      <th>3</th>\n",
              "      <td>2023-01-01 07:20:24</td>\n",
              "    </tr>\n",
              "    <tr>\n",
              "      <th>4</th>\n",
              "      <td>2023-01-01 07:22:41</td>\n",
              "    </tr>\n",
              "  </tbody>\n",
              "</table>\n",
              "</div><br><label><b>dtype:</b> datetime64[ns]</label>"
            ]
          },
          "metadata": {},
          "execution_count": 24
        }
      ]
    },
    {
      "cell_type": "markdown",
      "source": [
        "### Verificación de duplicados en las transacciones\n",
        "\n",
        "Para asegurarnos de que cada transacción es única, se compara el número de registros originales del conjunto de datos con el número de identificadores únicos en la columna `transaction_id`. Si ambos valores son iguales, significa que no hay transacciones duplicadas; de lo contrario, existen registros repetidos en los datos.\n",
        "\n"
      ],
      "metadata": {
        "id": "owEzTHSYfuA9"
      }
    },
    {
      "cell_type": "code",
      "source": [
        "# Eliminar valores duplicados en la columna 'transaction_id' y contar cuántos identificadores únicos existen\n",
        "unique_transactions = coffee_sales[\"transaction_id\"].drop_duplicates().shape[0]\n",
        "\n",
        "# Contar el número total de filas en el DataFrame original\n",
        "total_transactions = coffee_sales.shape[0]\n",
        "\n",
        "# Comparar si el número de identificadores únicos es igual al número total de filas en el DataFrame\n",
        "# Si es True, significa que cada transacción tiene un identificador único y no hay duplicados\n",
        "# Si es False, significa que existen transacciones con el mismo 'transaction_id' más de una vez\n",
        "unique_transactions == total_transactions"
      ],
      "metadata": {
        "id": "-jRF7-6lIIz5",
        "outputId": "3d62f951-156b-4bc0-dc30-8e815afeb36f",
        "colab": {
          "base_uri": "https://localhost:8080/"
        }
      },
      "execution_count": 25,
      "outputs": [
        {
          "output_type": "execute_result",
          "data": {
            "text/plain": [
              "True"
            ]
          },
          "metadata": {},
          "execution_count": 25
        }
      ]
    },
    {
      "cell_type": "markdown",
      "source": [
        "### Verificación de las ubicaciones de las tiendas\n",
        "\n",
        "Para analizar la distribución de las transacciones por tienda, el siguiente código cuenta la frecuencia de ocurrencia de cada combinación única de `store_location` y `store_id`. Esto permite identificar cuántas transacciones se realizaron en cada tienda y detectar posibles inconsistencias en los datos, como tiendas con múltiples identificadores o ubicaciones duplicadas."
      ],
      "metadata": {
        "id": "EHK5CkOHi7FJ"
      }
    },
    {
      "cell_type": "code",
      "source": [
        "# Contar la frecuencia de combinaciones únicas de 'store_location' y 'store_id'\n",
        "coffee_sales[[\"store_location\", \"store_id\"]].value_counts()\n"
      ],
      "metadata": {
        "id": "tH8LEcm3Jwie",
        "outputId": "72f7f408-d43f-4ee7-b716-c4bad6024186",
        "colab": {
          "base_uri": "https://localhost:8080/",
          "height": 209
        }
      },
      "execution_count": 26,
      "outputs": [
        {
          "output_type": "execute_result",
          "data": {
            "text/plain": [
              "store_location   store_id\n",
              "Hell's Kitchen   8           50735\n",
              "Astoria          3           50599\n",
              "Lower Manhattan  5           47782\n",
              "Name: count, dtype: int64"
            ],
            "text/html": [
              "<div>\n",
              "<style scoped>\n",
              "    .dataframe tbody tr th:only-of-type {\n",
              "        vertical-align: middle;\n",
              "    }\n",
              "\n",
              "    .dataframe tbody tr th {\n",
              "        vertical-align: top;\n",
              "    }\n",
              "\n",
              "    .dataframe thead th {\n",
              "        text-align: right;\n",
              "    }\n",
              "</style>\n",
              "<table border=\"1\" class=\"dataframe\">\n",
              "  <thead>\n",
              "    <tr style=\"text-align: right;\">\n",
              "      <th></th>\n",
              "      <th></th>\n",
              "      <th>count</th>\n",
              "    </tr>\n",
              "    <tr>\n",
              "      <th>store_location</th>\n",
              "      <th>store_id</th>\n",
              "      <th></th>\n",
              "    </tr>\n",
              "  </thead>\n",
              "  <tbody>\n",
              "    <tr>\n",
              "      <th>Hell's Kitchen</th>\n",
              "      <th>8</th>\n",
              "      <td>50735</td>\n",
              "    </tr>\n",
              "    <tr>\n",
              "      <th>Astoria</th>\n",
              "      <th>3</th>\n",
              "      <td>50599</td>\n",
              "    </tr>\n",
              "    <tr>\n",
              "      <th>Lower Manhattan</th>\n",
              "      <th>5</th>\n",
              "      <td>47782</td>\n",
              "    </tr>\n",
              "  </tbody>\n",
              "</table>\n",
              "</div><br><label><b>dtype:</b> int64</label>"
            ]
          },
          "metadata": {},
          "execution_count": 26
        }
      ]
    },
    {
      "cell_type": "markdown",
      "source": [
        "El resultado muestra el número de transacciones registradas en cada combinación de `store_location` y `store_id`. Por ejemplo, la tienda en *Hell’s Kitchen* con el ID **8** tuvo **50,735** transacciones, mientras que la ubicada en *Astoria* con el ID **3** registró **50,599** ventas. De manera similar, la tienda en *Lower Manhattan* con el ID **5** acumuló **47,782** transacciones."
      ],
      "metadata": {
        "id": "SaQjCkGuqs4R"
      }
    },
    {
      "cell_type": "markdown",
      "source": [
        "### Normalización de valores en los detalles de los productos\n",
        "\n",
        "Para verificar que el conjunto de datos no tenga incosistencias en la columna `product_detail`, como pueden ser las variaciones en las mayúsculas o minúsculas, espacios adicionales en medio de las oraciones, al principio o final de estas.\n",
        "\n",
        "Para lograr esto, se va a comparar el tamaño del dataset filtrado por valores únicos antes y después de una normalización de los datos eliminando los espacios extras, asi como convirtiendo el texto a minúsculas."
      ],
      "metadata": {
        "id": "3oQLYds388bz"
      }
    },
    {
      "cell_type": "code",
      "source": [
        "# Imprimir el número de valores únicos antes de la validación\n",
        "print(f\"Numero de valores antes de la validación: {coffee_sales['product_detail'].value_counts().shape[0]}\")\n",
        "\n",
        "# Imprimir el número de valores únicos después de aplicar la validación (normalización de espacios, minúsculas y strip)\n",
        "print(\"Numero de valores después de la validación: \",\n",
        "      coffee_sales['product_detail'].str.replace(r'\\s+', ' ', regex=True).str.lower().str.strip().value_counts().shape[0])\n",
        "\n"
      ],
      "metadata": {
        "id": "ChtPH2goL8qS",
        "outputId": "26a19324-0db5-4ab6-f2db-0676cc8513cb",
        "colab": {
          "base_uri": "https://localhost:8080/"
        }
      },
      "execution_count": 27,
      "outputs": [
        {
          "output_type": "stream",
          "name": "stdout",
          "text": [
            "Numero de valores antes de la validación: 80\n",
            "Numero de valores después de la validación:  80\n"
          ]
        }
      ]
    },
    {
      "cell_type": "markdown",
      "source": [
        "Como la cantidad de valores únicos se mantuvo igual antes y después de la normalización, podemos concluir que estos datos no requieren correcciones.\n",
        "\n"
      ],
      "metadata": {
        "id": "MgXPgN9U-3Lv"
      }
    },
    {
      "cell_type": "markdown",
      "source": [
        "### Revisar si no hay valores extremos en los precios unitarios\n",
        "\n",
        "Para poder revisar si hay valores extremos en los precios unitarios, se ejecutara un codigo que nos permita generar un gráfico de caja para poder ver visualmente la distribución de los valores. Este gráfico nos ayudará a identificar los valores extremos que puedan existir fuera del rango intercuartílico (IQR)."
      ],
      "metadata": {
        "id": "zn10SgkpFFk5"
      }
    },
    {
      "cell_type": "code",
      "source": [
        "#Se genera el gráfico con la columna unit_price\n",
        "sns.boxplot(coffee_sales[\"unit_price\"], fill=False)\n",
        "plt.title(\"Distribución de los precios unitarios\")\n",
        "plt.xlabel(\"Precio unitario\")\n",
        "plt.ylabel(\"Frecuencia\")\n",
        "#se llama show() para mostrar el gráfico\n",
        "plt.show()"
      ],
      "metadata": {
        "id": "KHGlEDk7MJPf",
        "colab": {
          "base_uri": "https://localhost:8080/",
          "height": 451
        },
        "outputId": "bba8a33c-c0d9-4855-c944-8e6f840f9108"
      },
      "execution_count": 28,
      "outputs": [
        {
          "output_type": "display_data",
          "data": {
            "text/plain": [
              "<Figure size 640x480 with 1 Axes>"
            ],
            "image/png": "[encoded data removed]"
          },
          "metadata": {}
        }
      ]
    },
    {
      "cell_type": "markdown",
      "source": [
        "Podemos ver en el gráfico precios que sobrepasan los $25 doláres, para investigarlo vamos a ejecutar el siguente código."
      ],
      "metadata": {
        "id": "Sa9lmSPdGmEC"
      }
    },
    {
      "cell_type": "code",
      "source": [
        "# Filtrar los productos cuyo precio unitario es mayor o igual a 25 doláres y agrupar por cantidad.\n",
        "coffee_sales[coffee_sales[\"unit_price\"]>=25][\"product_type\"].value_counts()"
      ],
      "metadata": {
        "colab": {
          "base_uri": "https://localhost:8080/",
          "height": 209
        },
        "id": "mtVkBQZoG1Et",
        "outputId": "9886f239-3462-4a1c-b33d-a6550e08f041"
      },
      "execution_count": 29,
      "outputs": [
        {
          "output_type": "execute_result",
          "data": {
            "text/plain": [
              "product_type\n",
              "Clothing         216\n",
              "Premium Beans    190\n",
              "Organic Beans     17\n",
              "Name: count, dtype: int64"
            ],
            "text/html": [
              "<div>\n",
              "<style scoped>\n",
              "    .dataframe tbody tr th:only-of-type {\n",
              "        vertical-align: middle;\n",
              "    }\n",
              "\n",
              "    .dataframe tbody tr th {\n",
              "        vertical-align: top;\n",
              "    }\n",
              "\n",
              "    .dataframe thead th {\n",
              "        text-align: right;\n",
              "    }\n",
              "</style>\n",
              "<table border=\"1\" class=\"dataframe\">\n",
              "  <thead>\n",
              "    <tr style=\"text-align: right;\">\n",
              "      <th></th>\n",
              "      <th>count</th>\n",
              "    </tr>\n",
              "    <tr>\n",
              "      <th>product_type</th>\n",
              "      <th></th>\n",
              "    </tr>\n",
              "  </thead>\n",
              "  <tbody>\n",
              "    <tr>\n",
              "      <th>Clothing</th>\n",
              "      <td>216</td>\n",
              "    </tr>\n",
              "    <tr>\n",
              "      <th>Premium Beans</th>\n",
              "      <td>190</td>\n",
              "    </tr>\n",
              "    <tr>\n",
              "      <th>Organic Beans</th>\n",
              "      <td>17</td>\n",
              "    </tr>\n",
              "  </tbody>\n",
              "</table>\n",
              "</div><br><label><b>dtype:</b> int64</label>"
            ]
          },
          "metadata": {},
          "execution_count": 29
        }
      ]
    },
    {
      "cell_type": "code",
      "source": [
        "# Filtrar los productos cuyo precio unitario es mayor o igual a 25 y cuyo tipo de producto es \"Clothing\"\n",
        "# Y  obtener los valores únicos\n",
        "coffee_sales[(coffee_sales[\"unit_price\"]>=25)&(coffee_sales[\"product_type\"]== \"Clothing\")][\"product_detail\"].unique()"
      ],
      "metadata": {
        "colab": {
          "base_uri": "https://localhost:8080/"
        },
        "id": "fpZ84plKHuc7",
        "outputId": "765f0b49-0ce2-42a2-fa8b-04b681b36d09"
      },
      "execution_count": 30,
      "outputs": [
        {
          "output_type": "execute_result",
          "data": {
            "text/plain": [
              "array(['I Need My Bean! T-shirt'], dtype=object)"
            ]
          },
          "metadata": {},
          "execution_count": 30
        }
      ]
    },
    {
      "cell_type": "markdown",
      "source": [
        "Podemos ver que estos productos con precios altos son bolsas de granos de café premium y orgánicos, así como piezas de ropa con el branding de la tienda.\n",
        "\n",
        "Para el siguiente paso se van a investigar los precios mínimos de la tienda."
      ],
      "metadata": {
        "id": "IMrYYZYJG_Bd"
      }
    },
    {
      "cell_type": "code",
      "source": [
        "# Obtener el valor mínimo del precio unitario en la columna \"unit_price\"\n",
        "coffee_sales[\"unit_price\"].min()"
      ],
      "metadata": {
        "colab": {
          "base_uri": "https://localhost:8080/"
        },
        "id": "jaHO-JmjL_p-",
        "outputId": "1b346a26-80cd-40bc-83fa-977fe0493c40"
      },
      "execution_count": 31,
      "outputs": [
        {
          "output_type": "execute_result",
          "data": {
            "text/plain": [
              "0.8"
            ]
          },
          "metadata": {},
          "execution_count": 31
        }
      ]
    },
    {
      "cell_type": "markdown",
      "source": [
        "Podemos ver un precio mínimo de $0.8 doláres, para ver a que categoría y tipo de producto, se va a ejecutar el siguiente código."
      ],
      "metadata": {
        "id": "6-PMO5E5MGiD"
      }
    },
    {
      "cell_type": "code",
      "source": [
        "# Se van a filtrar los productos cuyo precio unitario es exactamente 0.8\n",
        "# y se van a contar la cantidad de productos en cada categoría.\n",
        "coffee_sales[coffee_sales[\"unit_price\"]==0.8][\"product_category\"].value_counts()"
      ],
      "metadata": {
        "colab": {
          "base_uri": "https://localhost:8080/",
          "height": 147
        },
        "id": "tveJWjJpMCCF",
        "outputId": "09aef62d-067f-4cff-cf01-8d94252a7b2e"
      },
      "execution_count": 32,
      "outputs": [
        {
          "output_type": "execute_result",
          "data": {
            "text/plain": [
              "product_category\n",
              "Flavours    6790\n",
              "Name: count, dtype: int64"
            ],
            "text/html": [
              "<div>\n",
              "<style scoped>\n",
              "    .dataframe tbody tr th:only-of-type {\n",
              "        vertical-align: middle;\n",
              "    }\n",
              "\n",
              "    .dataframe tbody tr th {\n",
              "        vertical-align: top;\n",
              "    }\n",
              "\n",
              "    .dataframe thead th {\n",
              "        text-align: right;\n",
              "    }\n",
              "</style>\n",
              "<table border=\"1\" class=\"dataframe\">\n",
              "  <thead>\n",
              "    <tr style=\"text-align: right;\">\n",
              "      <th></th>\n",
              "      <th>count</th>\n",
              "    </tr>\n",
              "    <tr>\n",
              "      <th>product_category</th>\n",
              "      <th></th>\n",
              "    </tr>\n",
              "  </thead>\n",
              "  <tbody>\n",
              "    <tr>\n",
              "      <th>Flavours</th>\n",
              "      <td>6790</td>\n",
              "    </tr>\n",
              "  </tbody>\n",
              "</table>\n",
              "</div><br><label><b>dtype:</b> int64</label>"
            ]
          },
          "metadata": {},
          "execution_count": 32
        }
      ]
    },
    {
      "cell_type": "code",
      "source": [
        "# Filtrar los productos cuyo precio unitario es 0.8 y cuya categoría de producto es \"Flavours\" y contar por categoria\n",
        "coffee_sales[\n",
        "    (coffee_sales[\"unit_price\"]==0.8)\n",
        "    &\n",
        "    (coffee_sales[\"product_category\"]== \"Flavours\")\n",
        "    ][\"product_type\"].value_counts()"
      ],
      "metadata": {
        "id": "W3L0Xn0zMsUb",
        "outputId": "09157162-232a-4d35-e40e-2ac343372738",
        "colab": {
          "base_uri": "https://localhost:8080/",
          "height": 178
        }
      },
      "execution_count": 33,
      "outputs": [
        {
          "output_type": "execute_result",
          "data": {
            "text/plain": [
              "product_type\n",
              "Regular syrup       4979\n",
              "Sugar free syrup    1811\n",
              "Name: count, dtype: int64"
            ],
            "text/html": [
              "<div>\n",
              "<style scoped>\n",
              "    .dataframe tbody tr th:only-of-type {\n",
              "        vertical-align: middle;\n",
              "    }\n",
              "\n",
              "    .dataframe tbody tr th {\n",
              "        vertical-align: top;\n",
              "    }\n",
              "\n",
              "    .dataframe thead th {\n",
              "        text-align: right;\n",
              "    }\n",
              "</style>\n",
              "<table border=\"1\" class=\"dataframe\">\n",
              "  <thead>\n",
              "    <tr style=\"text-align: right;\">\n",
              "      <th></th>\n",
              "      <th>count</th>\n",
              "    </tr>\n",
              "    <tr>\n",
              "      <th>product_type</th>\n",
              "      <th></th>\n",
              "    </tr>\n",
              "  </thead>\n",
              "  <tbody>\n",
              "    <tr>\n",
              "      <th>Regular syrup</th>\n",
              "      <td>4979</td>\n",
              "    </tr>\n",
              "    <tr>\n",
              "      <th>Sugar free syrup</th>\n",
              "      <td>1811</td>\n",
              "    </tr>\n",
              "  </tbody>\n",
              "</table>\n",
              "</div><br><label><b>dtype:</b> int64</label>"
            ]
          },
          "metadata": {},
          "execution_count": 33
        }
      ]
    },
    {
      "cell_type": "markdown",
      "source": [
        "Como podemos ver, los jarabes son los productos con el precio mínimo en la tienda con un costo de $0.8 doláres."
      ],
      "metadata": {
        "id": "dGiQ-ve4Nksz"
      }
    },
    {
      "cell_type": "markdown",
      "source": [
        "### Exploración visual del conjunto de datos"
      ],
      "metadata": {
        "id": "6tYjdeDLVP_8"
      }
    },
    {
      "cell_type": "markdown",
      "source": [
        "#### Categorías"
      ],
      "metadata": {
        "id": "txH-cKnIVV7F"
      }
    },
    {
      "cell_type": "code",
      "source": [
        "# Contar la cantidad de productos en cada categoría y reiniciar el índice para estructurarlo en un DataFrame\n",
        "product_category_count = coffee_sales[\"product_category\"].value_counts().reset_index()\n",
        "\n",
        "# Crear un gráfico de barras con Seaborn\n",
        "ax = sns.barplot(\n",
        "    x=product_category_count[\"product_category\"],  # Categoría de producto en el eje X\n",
        "    y=product_category_count[\"count\"],  # Frecuencia en el eje Y\n",
        "    hue=product_category_count[\"product_category\"],  # Colorear por categoría\n",
        ")\n",
        "\n",
        "# Agregar etiquetas numéricas encima de cada barra para visualizar mejor los valores\n",
        "for i, value in enumerate(product_category_count[\"count\"]):\n",
        "    ax.text(i, value + 0.5, str(value), ha=\"center\", fontsize=10, fontweight=\"bold\")\n",
        "\n",
        "# Agregar título y etiquetas a los ejes\n",
        "plt.title(\"Distribución de las categorías de productos\")\n",
        "plt.xlabel(\"Categoría de producto\")\n",
        "plt.ylabel(\"Frecuencia\")\n",
        "\n",
        "# Rotar las etiquetas del eje X para mejor visibilidad\n",
        "plt.xticks(rotation=45)\n",
        "\n",
        "# Mostrar el gráfico\n",
        "plt.show()"
      ],
      "metadata": {
        "id": "DKbtrb8tRlA0",
        "outputId": "2934ed90-ba8f-4fab-ca92-fd3c694f1590",
        "colab": {
          "base_uri": "https://localhost:8080/",
          "height": 552
        }
      },
      "execution_count": 34,
      "outputs": [
        {
          "output_type": "display_data",
          "data": {
            "text/plain": [
              "<Figure size 640x480 with 1 Axes>"
            ],
            "image/png": "[encoded data removed]"
          },
          "metadata": {}
        }
      ]
    },
    {
      "cell_type": "markdown",
      "source": [
        "Para poder interpretrar la distribución y los porcentajes correspondientes, se declará una función que nos permita calcular los porcentajes del total de las ventas acomuladas."
      ],
      "metadata": {
        "id": "sAeEJFaYnPqc"
      }
    },
    {
      "cell_type": "code",
      "source": [
        "def percentage_category(category, df, column, total):\n",
        "    \"\"\"\n",
        "    Calcula el porcentaje de una categoría específica dentro de un DataFrame de Pandas.\n",
        "\n",
        "    Args:\n",
        "        category: El valor a buscar en la columna especificada.\n",
        "        df: El DataFrame de Pandas en el que se buscará.\n",
        "        column: El nombre de la columna en la que se buscará.\n",
        "        total: El valor total contra el que se calculará el porcentaje.\n",
        "\n",
        "    Returns:\n",
        "        El porcentaje de la categoría redondeado a 2 decimales, o un mensaje de error\n",
        "        si el DataFrame no es válido o no ha sido procesado.\n",
        "    \"\"\"\n",
        "    try:\n",
        "        value = df[df[column] == category][\"count\"].values[0]\n",
        "        return round((value / total) * 100, 2)\n",
        "    except:\n",
        "        return \"dataframe no válido o no procesado\""
      ],
      "metadata": {
        "id": "Du-katk4kpqg"
      },
      "execution_count": 35,
      "outputs": []
    },
    {
      "cell_type": "code",
      "source": [
        "# Definir una lista con las categorías de productos a analizar\n",
        "product_category = [\n",
        "    \"Bakery\",              # Productos horneados\n",
        "    \"Packaged Chocolate\",  # Chocolates empaquetados\n",
        "    \"Coffee\",              # Café\n",
        "    \"Tea\",                 # Té\n",
        "    \"Branded\"              # Productos de marca\n",
        "]\n",
        "\n",
        "# Calcular el total de productos en todas las categorías sumando las frecuencias\n",
        "total_categories = product_category_count.sum().values[1]"
      ],
      "metadata": {
        "id": "mu1TSTRnlhBk"
      },
      "execution_count": 36,
      "outputs": []
    },
    {
      "cell_type": "code",
      "source": [
        "# Iterar sobre cada categoría de producto en la lista product_category\n",
        "for cat in product_category:\n",
        "    # Calcular el porcentaje de ventas de la categoría actual y mostrar el resultado\n",
        "    print(f\"{cat}: {percentage_category(cat, product_category_count, 'product_category', total_categories)} % del total de las ventas\")\n"
      ],
      "metadata": {
        "colab": {
          "base_uri": "https://localhost:8080/"
        },
        "id": "qxQIi2xtld_2",
        "outputId": "1030d4a6-78a7-42fc-f01f-8bd7a057424e"
      },
      "execution_count": 37,
      "outputs": [
        {
          "output_type": "stream",
          "name": "stdout",
          "text": [
            "Bakery: 15.29 % del total de las ventas\n",
            "Packaged Chocolate: 0.33 % del total de las ventas\n",
            "Coffee: 39.17 % del total de las ventas\n",
            "Tea: 30.48 % del total de las ventas\n",
            "Branded: 0.5 % del total de las ventas\n"
          ]
        }
      ]
    },
    {
      "cell_type": "markdown",
      "source": [
        "Este gráfico nos muestra la distribución de las ventas de la cafetería por categoría de producto, podemos ver que los productos de las categorías *Coffee y Tea* dominan en las ventas totales, lo cuál nos indica que estos productos son los productos favoritos de los clientes, siendo el café casi dos quintas partes del total de las ventas, teniendo un dato especifico del 39.17% de las ventas totales, y el té tiene un 30.48% de las ventas correspondientes. Los productos horneados se encuentran en tercer lugar, siendo un 15.29% de las ventas totales, lo cuál a pesar de ser una categoría secundaria, representan una parte importante de los ingresos.\n",
        "\n",
        "\n",
        "En los productos con menos ventas, podemos ver que los chocolates enpaquetados represetan apenas un 0.33% del total de las ventas, seguidos de los productos con el logo de la tienda con el 0.5% de las ventas acomuladas."
      ],
      "metadata": {
        "id": "-_M2M5rMcPuS"
      }
    },
    {
      "cell_type": "markdown",
      "source": [
        "#### Tipos"
      ],
      "metadata": {
        "id": "MVqsZKWJcDWz"
      }
    },
    {
      "cell_type": "code",
      "source": [
        "# Calcular el número total de tipos de productos únicos en el conjunto de datos\n",
        "len(coffee_sales[\"product_type\"].unique())"
      ],
      "metadata": {
        "colab": {
          "base_uri": "https://localhost:8080/"
        },
        "id": "YQxMDp6Zwp1R",
        "outputId": "a89f0238-9e52-4825-e7f1-be8a4bfae360"
      },
      "execution_count": 47,
      "outputs": [
        {
          "output_type": "execute_result",
          "data": {
            "text/plain": [
              "29"
            ]
          },
          "metadata": {},
          "execution_count": 47
        }
      ]
    },
    {
      "cell_type": "code",
      "source": [
        "# Contar la cantidad de productos en cada Tipo y reiniciar el índice para estructurarlo en un DataFrame\n",
        "product_type_count_top5 = coffee_sales[\"product_type\"].value_counts().reset_index().head()\n",
        "\n",
        "# Crear un gráfico de barras con Seaborn\n",
        "ax = sns.barplot(\n",
        "    x=product_type_count_top5[\"product_type\"],  # Tipo de producto en el eje X\n",
        "    y=product_type_count_top5[\"count\"],  # Frecuencia en el eje Y\n",
        "    hue=product_type_count_top5[\"product_type\"],  # Colorear por Tipo\n",
        ")\n",
        "\n",
        "# Agregar etiquetas numéricas encima de cada barra para visualizar mejor los valores\n",
        "for i, value in enumerate(product_type_count_top5[\"count\"]):\n",
        "    ax.text(i, value + 0.5, str(value), ha=\"center\", fontsize=10, fontweight=\"bold\")\n",
        "\n",
        "# Agregar título y etiquetas a los ejes\n",
        "plt.title(\"Distribución de los 5 tipos de productos más vendidos\")\n",
        "plt.xlabel(\"Tipo de producto\")\n",
        "plt.ylabel(\"Frecuencia\")\n",
        "\n",
        "# Rotar las etiquetas del eje X para mejor visibilidad\n",
        "plt.xticks(rotation=45)\n",
        "\n",
        "# Mostrar el gráfico\n",
        "plt.show()"
      ],
      "metadata": {
        "colab": {
          "base_uri": "https://localhost:8080/",
          "height": 564
        },
        "id": "Wy4KZxucVT1e",
        "outputId": "67e9cc85-2e2f-4a7c-d183-61249edfdcc0"
      },
      "execution_count": 39,
      "outputs": [
        {
          "output_type": "display_data",
          "data": {
            "text/plain": [
              "<Figure size 640x480 with 1 Axes>"
            ],
            "image/png": "[encoded data removed]"
          },
          "metadata": {}
        }
      ]
    },
    {
      "cell_type": "code",
      "source": [
        "# Contar la cantidad de productos en cada Tipo y reiniciar el índice para estructurarlo en un DataFrame\n",
        "product_type_count_bottom5 = coffee_sales[\"product_type\"].value_counts().reset_index().tail()\n",
        "\n",
        "# Crear un gráfico de barras con Seaborn\n",
        "ax = sns.barplot(\n",
        "    x=product_type_count_bottom5[\"product_type\"],  # Tipo de producto en el eje X\n",
        "    y=product_type_count_bottom5[\"count\"],  # Frecuencia en el eje Y\n",
        "    hue=product_type_count_bottom5[\"product_type\"],  # Colorear por Tipo\n",
        ")\n",
        "\n",
        "# Agregar etiquetas numéricas encima de cada barra para visualizar mejor los valores\n",
        "for i, value in enumerate(product_type_count_bottom5[\"count\"]):\n",
        "    ax.text(i, value + 0.5, str(value), ha=\"center\", fontsize=10, fontweight=\"bold\")\n",
        "\n",
        "# Agregar título y etiquetas a los ejes\n",
        "plt.title(\"Distribución de los 5 tipos de productos menos vendidos\")\n",
        "plt.xlabel(\"Tipo de producto\")\n",
        "plt.ylabel(\"Frecuencia\")\n",
        "\n",
        "# Rotar las etiquetas del eje X para mejor visibilidad\n",
        "plt.xticks(rotation=45)\n",
        "\n",
        "# Mostrar el gráfico\n",
        "plt.show()"
      ],
      "metadata": {
        "colab": {
          "base_uri": "https://localhost:8080/",
          "height": 547
        },
        "id": "g5PWQa0Qe5qq",
        "outputId": "5f00627b-7343-4e78-90cf-6952ccd8292d"
      },
      "execution_count": 40,
      "outputs": [
        {
          "output_type": "display_data",
          "data": {
            "text/plain": [
              "<Figure size 640x480 with 1 Axes>"
            ],
            "image/png": "[encoded data removed]"
          },
          "metadata": {}
        }
      ]
    },
    {
      "cell_type": "markdown",
      "source": [],
      "metadata": {
        "id": "zIxU80mof0pk"
      }
    },
    {
      "cell_type": "code",
      "source": [
        "coffee_sales.info()"
      ],
      "metadata": {
        "colab": {
          "base_uri": "https://localhost:8080/"
        },
        "id": "YFSeNrAoPqc0",
        "outputId": "172d865e-a459-4fe6-9650-50244eee771f"
      },
      "execution_count": 41,
      "outputs": [
        {
          "output_type": "stream",
          "name": "stdout",
          "text": [
            "<class 'pandas.core.frame.DataFrame'>\n",
            "RangeIndex: 149116 entries, 0 to 149115\n",
            "Data columns (total 10 columns):\n",
            " #   Column                 Non-Null Count   Dtype         \n",
            "---  ------                 --------------   -----         \n",
            " 0   transaction_id         149116 non-null  int64         \n",
            " 1   transaction_qty        149116 non-null  int64         \n",
            " 2   store_id               149116 non-null  int64         \n",
            " 3   store_location         149116 non-null  object        \n",
            " 4   product_id             149116 non-null  int64         \n",
            " 5   unit_price             149116 non-null  float64       \n",
            " 6   product_category       149116 non-null  object        \n",
            " 7   product_type           149116 non-null  object        \n",
            " 8   product_detail         149116 non-null  object        \n",
            " 9   transaction_timestamp  149116 non-null  datetime64[ns]\n",
            "dtypes: datetime64[ns](1), float64(1), int64(4), object(4)\n",
            "memory usage: 11.4+ MB\n"
          ]
        }
      ]
    },
    {
      "cell_type": "code",
      "source": [
        "coffee_sales[\"transaction_id\"] = coffee_sales[\"transaction_id\"].astype(\"category\")\n",
        "coffee_sales[\"store_id\"] = coffee_sales[\"store_id\"].astype(\"category\")\n",
        "coffee_sales[\"store_location\"] = coffee_sales[\"store_location\"].astype(\"category\")\n",
        "coffee_sales[\"product_id\"] = coffee_sales[\"product_id\"].astype(\"category\")\n",
        "coffee_sales[\"product_category\"] = coffee_sales[\"product_category\"].astype(\"category\")\n",
        "coffee_sales[\"product_type\"] = coffee_sales[\"product_type\"].astype(\"category\")\n",
        "coffee_sales[\"product_detail\"] = coffee_sales[\"product_detail\"].astype(\"category\")\n",
        "coffee_sales[\"transaction_qty\"] = coffee_sales[\"transaction_qty\"].astype(\"int16\")\n",
        "coffee_sales[\"unit_price\"] = coffee_sales[\"unit_price\"].astype(\"float32\")\n",
        "coffee_sales['transaction_timestamp'] = coffee_sales['transaction_timestamp'].astype('datetime64[s]')"
      ],
      "metadata": {
        "id": "sdP7wA4pP5oA"
      },
      "execution_count": 42,
      "outputs": []
    },
    {
      "cell_type": "code",
      "source": [
        "coffee_sales.info()"
      ],
      "metadata": {
        "id": "7ojQi9NrUPCo",
        "colab": {
          "base_uri": "https://localhost:8080/"
        },
        "outputId": "48f05c7c-96b0-4034-9ce0-b6fd8e04919d"
      },
      "execution_count": 43,
      "outputs": [
        {
          "output_type": "stream",
          "name": "stdout",
          "text": [
            "<class 'pandas.core.frame.DataFrame'>\n",
            "RangeIndex: 149116 entries, 0 to 149115\n",
            "Data columns (total 10 columns):\n",
            " #   Column                 Non-Null Count   Dtype        \n",
            "---  ------                 --------------   -----        \n",
            " 0   transaction_id         149116 non-null  category     \n",
            " 1   transaction_qty        149116 non-null  int16        \n",
            " 2   store_id               149116 non-null  category     \n",
            " 3   store_location         149116 non-null  category     \n",
            " 4   product_id             149116 non-null  category     \n",
            " 5   unit_price             149116 non-null  float32      \n",
            " 6   product_category       149116 non-null  category     \n",
            " 7   product_type           149116 non-null  category     \n",
            " 8   product_detail         149116 non-null  category     \n",
            " 9   transaction_timestamp  149116 non-null  datetime64[s]\n",
            "dtypes: category(7), datetime64[s](1), float32(1), int16(1)\n",
            "memory usage: 8.6 MB\n"
          ]
        }
      ]
    }
  ],
  "metadata": {
    "kernelspec": {
      "display_name": "base",
      "language": "python",
      "name": "python3"
    },
    "language_info": {
      "codemirror_mode": {
        "name": "ipython",
        "version": 3
      },
      "file_extension": ".py",
      "mimetype": "text/x-python",
      "name": "python",
      "nbconvert_exporter": "python",
      "pygments_lexer": "ipython3",
      "version": "3.12.4"
    },
    "colab": {
      "provenance": [],
      "toc_visible": true
    }
  },
  "nbformat": 4,
  "nbformat_minor": 0
}