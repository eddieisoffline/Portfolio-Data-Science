{
  "cells": [
    {
      "cell_type": "markdown",
      "source": [
        "#English"
      ],
      "metadata": {
        "id": "rxFxZKHuZyCy"
      }
    },
    {
      "cell_type": "markdown",
      "metadata": {
        "id": "o_buk9ZOZHO9"
      },
      "source": [
        "## 1. Introduction\n",
        "\n"
      ]
    },
    {
      "cell_type": "markdown",
      "source": [
        "In this project, an Exploratory Data Analysis (EDA) and a time series-based sales prediction model were performed using a dataset available at this [link](https://www.kaggle.com/datasets/ahmedabbas757/coffee-sales) from Kaggle.\n",
        "\n",
        "The primary objective of this project is to understand historical sales patterns and develop a machine learning model capable of anticipating future behavior to provide valuable insights for decision-making.\n",
        "\n",
        "The workflow included the following key stages:\n",
        "\n",
        "1. **Data Extraction from Kaggle using an API**:\n",
        "    The Kagglehub API was used to extract the data correctly and ensure it remains updated if there are changes to the data source.\n",
        "\n",
        "2. **Exploratory Data Analysis (EDA)**:\n",
        "    Python and libraries such as pandas, matplotlib, and seaborn were utilized to clean and analyze the dataset, identify trends, seasonality, and key variables affecting sales, as well as to quickly visualize the data.\n",
        "\n",
        "3. **Predictive Modeling with Machine Learning**:\n",
        "    The Prophet forecasting model developed by Facebook was implemented to predict future sales, taking into account trends and seasonal events.\n",
        "\n",
        "4. **Visualization in Power BI**:\n",
        "    The data and results obtained were integrated into an interactive Power BI dashboard, enabling the communication of insights in a visual and intuitive manner.\n",
        "\n",
        "This project aims to demonstrate technical skills in data analysis, predictive modeling, and the creation of dynamic visualizations, as well as the ability to work with modern data science tools and business analytics. This approach is essential for extracting value from data and supporting evidence-based decision-making."
      ],
      "metadata": {
        "id": "InZ-XarAZU5W"
      }
    },
    {
      "cell_type": "markdown",
      "source": [
        "\n",
        "\n",
        "---\n",
        "\n"
      ],
      "metadata": {
        "id": "qPKXHbye7D9q"
      }
    },
    {
      "cell_type": "markdown",
      "source": [
        "## 2. Project Development\n",
        "\n",
        "This section will detail step by step the process followed to develop the sales analysis and prediction, from setting up the environment and preparing the data to implementing the model and the final visualization."
      ],
      "metadata": {
        "id": "VFs2bn9l5EmM"
      }
    },
    {
      "cell_type": "markdown",
      "source": [
        "### Importing Libraries\n",
        "\n",
        "The first step was to import the necessary libraries to carry out the analysis and modeling. Standard Python tools widely recognized in the data science community were used, along with data visualization tools, the Kagglehub library for data extraction, and Prophet for model development."
      ],
      "metadata": {
        "id": "v2U_uxdo5Z-d"
      }
    },
    {
      "cell_type": "code",
      "source": [
        "# Libraries for data manipulation, handling, and analysis\n",
        "import pandas as pd\n",
        "import numpy as np\n",
        "\n",
        "# Library for data extraction from Kaggle\n",
        "import kagglehub\n",
        "import os\n",
        "\n",
        "# Libraries for visualization\n",
        "import matplotlib.pyplot as plt\n",
        "import seaborn as sns\n",
        "\n",
        "# Libraries for the time series model\n",
        "from prophet import Prophet\n",
        "from prophet.diagnostics import performance_metrics\n",
        "\n",
        "# Handling warnings\n",
        "import warnings\n",
        "warnings.filterwarnings(\"ignore\")\n",
        "\n",
        "# Configuring the style of visualizations\n",
        "plt.style.use('seaborn-v0_8-dark')"
      ],
      "metadata": {
        "id": "e4V9Nusg5m07"
      },
      "execution_count": 1,
      "outputs": []
    },
    {
      "cell_type": "markdown",
      "source": [
        "### Data Extraction\n",
        "\n",
        "To ensure the analysis is based on up-to-date information, the Kagglehub library was used to download the data directly from Kaggle. This approach enables a dynamic and flexible workflow, as the information can be easily synchronized if updates to the dataset occur."
      ],
      "metadata": {
        "id": "n7R7TW0W7TLK"
      }
    },
    {
      "cell_type": "code",
      "source": [
        "# The dataset is downloaded from Kaggle\n",
        "path = kagglehub.dataset_download(\"ahmedabbas757/coffee-sales\")\n",
        "\n",
        "# Name of the downloaded file\n",
        "file_name = \"Coffee Shop Sales.xlsx\"\n",
        "\n",
        "# The full file path is constructed\n",
        "file_path = os.path.join(path, file_name)\n",
        "\n",
        "# The file is loaded into a pandas DataFrame\n",
        "coffee_sales = pd.read_excel(file_path)"
      ],
      "metadata": {
        "colab": {
          "base_uri": "https://localhost:8080/"
        },
        "id": "ytvrD6ZV7ahK",
        "outputId": "fb30f822-161b-4865-bc7e-379628a86422"
      },
      "execution_count": 2,
      "outputs": [
        {
          "output_type": "stream",
          "name": "stdout",
          "text": [
            "Warning: Looks like you're using an outdated `kagglehub` version (installed: 0.3.6), please consider upgrading to the latest version (0.3.7).\n",
            "Downloading from https://www.kaggle.com/api/v1/datasets/download/ahmedabbas757/coffee-sales?dataset_version_number=1...\n"
          ]
        },
        {
          "output_type": "stream",
          "name": "stderr",
          "text": [
            "100%|██████████| 8.23M/8.23M [00:00<00:00, 47.5MB/s]"
          ]
        },
        {
          "output_type": "stream",
          "name": "stdout",
          "text": [
            "Extracting files...\n"
          ]
        },
        {
          "output_type": "stream",
          "name": "stderr",
          "text": [
            "\n"
          ]
        }
      ]
    },
    {
      "cell_type": "markdown",
      "source": [
        "### Exploratory Data Analysis (EDA)"
      ],
      "metadata": {
        "id": "Az9dgvhQ7syO"
      }
    },
    {
      "cell_type": "markdown",
      "source": [
        "Once the data is loaded into a DataFrame, it is essential to perform an initial exploration to understand its structure and data quality. Using the info() method, we get an overview of the data, showing key information about its structure."
      ],
      "metadata": {
        "id": "u2-nHsVD-4Zh"
      }
    },
    {
      "cell_type": "code",
      "source": [
        "coffee_sales.info()"
      ],
      "metadata": {
        "id": "tVfgvycz-7ks",
        "outputId": "99c25f1e-1072-496f-b906-eef881a7f7cf",
        "colab": {
          "base_uri": "https://localhost:8080/"
        }
      },
      "execution_count": 3,
      "outputs": [
        {
          "output_type": "stream",
          "name": "stdout",
          "text": [
            "<class 'pandas.core.frame.DataFrame'>\n",
            "RangeIndex: 149116 entries, 0 to 149115\n",
            "Data columns (total 11 columns):\n",
            " #   Column            Non-Null Count   Dtype         \n",
            "---  ------            --------------   -----         \n",
            " 0   transaction_id    149116 non-null  int64         \n",
            " 1   transaction_date  149116 non-null  datetime64[ns]\n",
            " 2   transaction_time  149116 non-null  object        \n",
            " 3   transaction_qty   149116 non-null  int64         \n",
            " 4   store_id          149116 non-null  int64         \n",
            " 5   store_location    149116 non-null  object        \n",
            " 6   product_id        149116 non-null  int64         \n",
            " 7   unit_price        149116 non-null  float64       \n",
            " 8   product_category  149116 non-null  object        \n",
            " 9   product_type      149116 non-null  object        \n",
            " 10  product_detail    149116 non-null  object        \n",
            "dtypes: datetime64[ns](1), float64(1), int64(4), object(5)\n",
            "memory usage: 12.5+ MB\n"
          ]
        }
      ]
    },
    {
      "cell_type": "markdown",
      "source": [
        "We can see that the data is organized by a transaction identifier, accompanied by important details such as the transaction date, quantity sold, store location, and product features, such as unit price, category, and type. Additionally, there are a total of 149,116 rows, and most importantly, none of them contain missing data. An additional point to note is that the date and time of the transaction are separated into different columns."
      ],
      "metadata": {
        "id": "drV5MBZq-_Zz"
      }
    },
    {
      "cell_type": "markdown",
      "source": [
        "### Transforming the Date and Time Columns\n",
        "\n",
        "Since the transaction date and time are in separate columns (`transaction_date` and `transaction_time`), the goal of this step is to combine them into a single column with a timestamp format (date and time) to facilitate temporal analysis."
      ],
      "metadata": {
        "id": "zl7bcQez_EMl"
      }
    },
    {
      "cell_type": "code",
      "source": [
        "# The 'transaction_date' and 'transaction_time' columns are concatenated into a single column called 'transaction_timestamp'\n",
        "# First, both columns are converted to string (str) type and joined with a space in between\n",
        "coffee_sales[\"transaction_timestamp\"] = coffee_sales[\"transaction_date\"].astype(str) + ' ' + coffee_sales[\"transaction_time\"].astype(str)\n",
        "\n",
        "# The new 'transaction_timestamp' column is converted to datetime type for easier temporal analysis\n",
        "coffee_sales[\"transaction_timestamp\"] = pd.to_datetime(coffee_sales[\"transaction_timestamp\"])\n",
        "\n",
        "# The original 'transaction_date' and 'transaction_time' columns are dropped\n",
        "coffee_sales.drop([\"transaction_date\", \"transaction_time\"], axis=1, inplace=True)"
      ],
      "metadata": {
        "id": "A53MJXB2_G90"
      },
      "execution_count": 4,
      "outputs": []
    },
    {
      "cell_type": "markdown",
      "source": [
        "To verify that the new column is correct, we can check the data by displaying the first few rows and ensuring that the transaction_timestamp column contains the expected datetime format."
      ],
      "metadata": {
        "id": "UsS3LKAq_L6t"
      }
    },
    {
      "cell_type": "code",
      "source": [
        "coffee_sales[\"transaction_timestamp\"].head()"
      ],
      "metadata": {
        "id": "jNwQu22-_Vny",
        "outputId": "24bf06bd-51e2-4b1d-eeee-72a0695c4679",
        "colab": {
          "base_uri": "https://localhost:8080/",
          "height": 241
        }
      },
      "execution_count": 5,
      "outputs": [
        {
          "output_type": "execute_result",
          "data": {
            "text/plain": [
              "0   2023-01-01 07:06:11\n",
              "1   2023-01-01 07:08:56\n",
              "2   2023-01-01 07:14:04\n",
              "3   2023-01-01 07:20:24\n",
              "4   2023-01-01 07:22:41\n",
              "Name: transaction_timestamp, dtype: datetime64[ns]"
            ],
            "text/html": [
              "<div>\n",
              "<style scoped>\n",
              "    .dataframe tbody tr th:only-of-type {\n",
              "        vertical-align: middle;\n",
              "    }\n",
              "\n",
              "    .dataframe tbody tr th {\n",
              "        vertical-align: top;\n",
              "    }\n",
              "\n",
              "    .dataframe thead th {\n",
              "        text-align: right;\n",
              "    }\n",
              "</style>\n",
              "<table border=\"1\" class=\"dataframe\">\n",
              "  <thead>\n",
              "    <tr style=\"text-align: right;\">\n",
              "      <th></th>\n",
              "      <th>transaction_timestamp</th>\n",
              "    </tr>\n",
              "  </thead>\n",
              "  <tbody>\n",
              "    <tr>\n",
              "      <th>0</th>\n",
              "      <td>2023-01-01 07:06:11</td>\n",
              "    </tr>\n",
              "    <tr>\n",
              "      <th>1</th>\n",
              "      <td>2023-01-01 07:08:56</td>\n",
              "    </tr>\n",
              "    <tr>\n",
              "      <th>2</th>\n",
              "      <td>2023-01-01 07:14:04</td>\n",
              "    </tr>\n",
              "    <tr>\n",
              "      <th>3</th>\n",
              "      <td>2023-01-01 07:20:24</td>\n",
              "    </tr>\n",
              "    <tr>\n",
              "      <th>4</th>\n",
              "      <td>2023-01-01 07:22:41</td>\n",
              "    </tr>\n",
              "  </tbody>\n",
              "</table>\n",
              "</div><br><label><b>dtype:</b> datetime64[ns]</label>"
            ]
          },
          "metadata": {},
          "execution_count": 5
        }
      ]
    },
    {
      "cell_type": "markdown",
      "source": [
        "### Verification of Duplicate Transactions\n",
        "\n",
        "To ensure that each transaction is unique, we compare the total number of records in the dataset with the number of unique identifiers in the `transaction_id` column. If both values are equal, it means there are no duplicate transactions; otherwise, there are duplicate records in the data."
      ],
      "metadata": {
        "id": "MD4qjPaTio6K"
      }
    },
    {
      "cell_type": "code",
      "source": [
        "# Remove duplicate values in the 'transaction_id' column and count the number of unique identifiers\n",
        "unique_transactions = coffee_sales[\"transaction_id\"].drop_duplicates().shape[0]\n",
        "\n",
        "# Count the total number of rows in the original DataFrame\n",
        "total_transactions = coffee_sales.shape[0]\n",
        "\n",
        "# Compare if the number of unique identifiers is equal to the total number of rows in the DataFrame\n",
        "# If True, each transaction has a unique identifier, meaning there are no duplicates\n",
        "# If False, some transactions share the same 'transaction_id', indicating duplicates\n",
        "unique_transactions == total_transactions"
      ],
      "metadata": {
        "id": "AEpJYpkLiuHS",
        "colab": {
          "base_uri": "https://localhost:8080/"
        },
        "outputId": "7b54bb9a-bf66-4249-92ce-d355de122139"
      },
      "execution_count": 6,
      "outputs": [
        {
          "output_type": "execute_result",
          "data": {
            "text/plain": [
              "True"
            ]
          },
          "metadata": {},
          "execution_count": 6
        }
      ]
    },
    {
      "cell_type": "markdown",
      "source": [
        "### Detailed Verification of Store Locations\n",
        "\n",
        "To analyze the distribution of transactions per store, the following code counts the frequency of each unique combination of `store_location` and `store_id`. This helps identify how many transactions were recorded at each store and detect potential inconsistencies in the data, such as stores with multiple identifiers or duplicate locations."
      ],
      "metadata": {
        "id": "G4F9h_mdr0HT"
      }
    },
    {
      "cell_type": "code",
      "source": [
        "# Count the frequency of unique combinations of 'store_location' and 'store_id'\n",
        "coffee_sales[[\"store_location\", \"store_id\"]].value_counts()"
      ],
      "metadata": {
        "id": "9OuBB294r8Qc",
        "colab": {
          "base_uri": "https://localhost:8080/",
          "height": 209
        },
        "outputId": "dad8f589-831f-43b9-e3a4-f9b588395e48"
      },
      "execution_count": 7,
      "outputs": [
        {
          "output_type": "execute_result",
          "data": {
            "text/plain": [
              "store_location   store_id\n",
              "Hell's Kitchen   8           50735\n",
              "Astoria          3           50599\n",
              "Lower Manhattan  5           47782\n",
              "Name: count, dtype: int64"
            ],
            "text/html": [
              "<div>\n",
              "<style scoped>\n",
              "    .dataframe tbody tr th:only-of-type {\n",
              "        vertical-align: middle;\n",
              "    }\n",
              "\n",
              "    .dataframe tbody tr th {\n",
              "        vertical-align: top;\n",
              "    }\n",
              "\n",
              "    .dataframe thead th {\n",
              "        text-align: right;\n",
              "    }\n",
              "</style>\n",
              "<table border=\"1\" class=\"dataframe\">\n",
              "  <thead>\n",
              "    <tr style=\"text-align: right;\">\n",
              "      <th></th>\n",
              "      <th></th>\n",
              "      <th>count</th>\n",
              "    </tr>\n",
              "    <tr>\n",
              "      <th>store_location</th>\n",
              "      <th>store_id</th>\n",
              "      <th></th>\n",
              "    </tr>\n",
              "  </thead>\n",
              "  <tbody>\n",
              "    <tr>\n",
              "      <th>Hell's Kitchen</th>\n",
              "      <th>8</th>\n",
              "      <td>50735</td>\n",
              "    </tr>\n",
              "    <tr>\n",
              "      <th>Astoria</th>\n",
              "      <th>3</th>\n",
              "      <td>50599</td>\n",
              "    </tr>\n",
              "    <tr>\n",
              "      <th>Lower Manhattan</th>\n",
              "      <th>5</th>\n",
              "      <td>47782</td>\n",
              "    </tr>\n",
              "  </tbody>\n",
              "</table>\n",
              "</div><br><label><b>dtype:</b> int64</label>"
            ]
          },
          "metadata": {},
          "execution_count": 7
        }
      ]
    },
    {
      "cell_type": "markdown",
      "source": [
        "The result displays the number of transactions recorded for each `store_location` and `store_id` combination. For example, the store in *Hell’s Kitchen* with ID **8** had **50,735** transactions, while the one in *Astoria* with ID **3** recorded **50,599** sales. Similarly, the store in *Lower Manhattan* with ID **5** accumulated **47,782** transactions."
      ],
      "metadata": {
        "id": "PXhZz8FfsJa6"
      }
    },
    {
      "cell_type": "markdown",
      "source": [
        "### Normalization of Values in Product Details\n",
        "\n",
        "To ensure data consistency in the `product_detail` column, we need to check for inconsistencies such as variations in uppercase and lowercase letters, extra spaces between words, or leading and trailing spaces.\n",
        "\n",
        "To achieve this, we will compare the number of unique values in the dataset before and after normalizing the text by removing extra spaces and converting all text to lowercase."
      ],
      "metadata": {
        "id": "cNrn8CjmBJEf"
      }
    },
    {
      "cell_type": "code",
      "source": [
        "# Print the number of unique values before validation\n",
        "print(f\"Number of unique values before validation: {coffee_sales['product_detail'].value_counts().shape[0]}\")\n",
        "\n",
        "# Print the number of unique values after applying validation (normalizing spaces, converting to lowercase, and stripping)\n",
        "print(\"Number of unique values after validation: \",\n",
        "      coffee_sales['product_detail'].str.replace(r'\\s+', ' ', regex=True).str.lower().str.strip().value_counts().shape[0])\n"
      ],
      "metadata": {
        "colab": {
          "base_uri": "https://localhost:8080/"
        },
        "id": "xRzqc9yPBR3o",
        "outputId": "a4c9382f-95ea-40c4-e9ee-7ac4f1cdfbd9"
      },
      "execution_count": 8,
      "outputs": [
        {
          "output_type": "stream",
          "name": "stdout",
          "text": [
            "Number of unique values before validation: 80\n",
            "Number of unique values after validation:  80\n"
          ]
        }
      ]
    },
    {
      "cell_type": "markdown",
      "source": [
        "Since the number of unique values remained the same before and after normalization, we can conclude that these data do not require corrections."
      ],
      "metadata": {
        "id": "_jrFsh_tBX9d"
      }
    },
    {
      "cell_type": "markdown",
      "source": [
        "### Checking for Outliers in Unit Prices\n",
        "\n",
        "To check for outliers in the unit prices, we can generate a box plot, which visually represents the distribution of the values. This plot will help us identify any extreme values that may exist outside the interquartile range (IQR)."
      ],
      "metadata": {
        "id": "c2jXoDfrO48Z"
      }
    },
    {
      "cell_type": "code",
      "source": [
        "# Generate the box plot for the 'unit_price' column\n",
        "sns.boxplot(coffee_sales[\"unit_price\"], fill=False)\n",
        "plt.title(\"Distribution of Unit Prices\")\n",
        "plt.ylabel(\"Count\")\n",
        "plt.xlabel(\"Unit Price\")\n",
        "# Call show() to display the plot\n",
        "plt.show()\n"
      ],
      "metadata": {
        "id": "zPlEzBroPS5Y",
        "outputId": "709569cb-5ed1-4be5-e819-f5db1d3d4f93",
        "colab": {
          "base_uri": "https://localhost:8080/",
          "height": 451
        }
      },
      "execution_count": 9,
      "outputs": [
        {
          "output_type": "display_data",
          "data": {
            "text/plain": [
              "<Figure size 640x480 with 1 Axes>"
            ],
            "image/png": "[encoded data removed]"
          },
          "metadata": {}
        }
      ]
    },
    {
      "cell_type": "markdown",
      "source": [
        "To investigate the prices exceeding $25, we can filter the corresponding records and check which products have these extreme prices."
      ],
      "metadata": {
        "id": "8YrmKfYnPkrs"
      }
    },
    {
      "cell_type": "code",
      "source": [
        "# Filter products with a unit price greater than or equal to 25 dollars and group by quantity\n",
        "coffee_sales[coffee_sales[\"unit_price\"] >= 25][\"product_type\"].value_counts()"
      ],
      "metadata": {
        "id": "BD59VOb1PqqA",
        "colab": {
          "base_uri": "https://localhost:8080/",
          "height": 209
        },
        "outputId": "d201791a-5ab3-4819-872f-031900b80a68"
      },
      "execution_count": 10,
      "outputs": [
        {
          "output_type": "execute_result",
          "data": {
            "text/plain": [
              "product_type\n",
              "Clothing         216\n",
              "Premium Beans    190\n",
              "Organic Beans     17\n",
              "Name: count, dtype: int64"
            ],
            "text/html": [
              "<div>\n",
              "<style scoped>\n",
              "    .dataframe tbody tr th:only-of-type {\n",
              "        vertical-align: middle;\n",
              "    }\n",
              "\n",
              "    .dataframe tbody tr th {\n",
              "        vertical-align: top;\n",
              "    }\n",
              "\n",
              "    .dataframe thead th {\n",
              "        text-align: right;\n",
              "    }\n",
              "</style>\n",
              "<table border=\"1\" class=\"dataframe\">\n",
              "  <thead>\n",
              "    <tr style=\"text-align: right;\">\n",
              "      <th></th>\n",
              "      <th>count</th>\n",
              "    </tr>\n",
              "    <tr>\n",
              "      <th>product_type</th>\n",
              "      <th></th>\n",
              "    </tr>\n",
              "  </thead>\n",
              "  <tbody>\n",
              "    <tr>\n",
              "      <th>Clothing</th>\n",
              "      <td>216</td>\n",
              "    </tr>\n",
              "    <tr>\n",
              "      <th>Premium Beans</th>\n",
              "      <td>190</td>\n",
              "    </tr>\n",
              "    <tr>\n",
              "      <th>Organic Beans</th>\n",
              "      <td>17</td>\n",
              "    </tr>\n",
              "  </tbody>\n",
              "</table>\n",
              "</div><br><label><b>dtype:</b> int64</label>"
            ]
          },
          "metadata": {},
          "execution_count": 10
        }
      ]
    },
    {
      "cell_type": "code",
      "source": [
        "# Filter products with a unit price greater than or equal to 25 and with product type \"Clothing\"\n",
        "# Then, get the unique values in the 'product_detail' column\n",
        "coffee_sales[(coffee_sales[\"unit_price\"] >= 25) & (coffee_sales[\"product_type\"] == \"Clothing\")][\"product_detail\"].unique()"
      ],
      "metadata": {
        "id": "KPzj4G1yQAHa",
        "colab": {
          "base_uri": "https://localhost:8080/"
        },
        "outputId": "72a04100-a4f5-4f64-b240-83079cef31b3"
      },
      "execution_count": 11,
      "outputs": [
        {
          "output_type": "execute_result",
          "data": {
            "text/plain": [
              "array(['I Need My Bean! T-shirt'], dtype=object)"
            ]
          },
          "metadata": {},
          "execution_count": 11
        }
      ]
    },
    {
      "cell_type": "markdown",
      "source": [
        "It's clear that the high-priced products are premium and organic coffee bean bags, as well as clothing items with the store's branding.\n",
        "\n",
        "For the next step, let's investigate the minimum prices in the store."
      ],
      "metadata": {
        "id": "d2cuEK2mQKZl"
      }
    },
    {
      "cell_type": "code",
      "source": [
        "# Get the minimum value of the unit price in the \"unit_price\" column\n",
        "coffee_sales[\"unit_price\"].min()"
      ],
      "metadata": {
        "id": "QBy-MM-fQY3t",
        "colab": {
          "base_uri": "https://localhost:8080/"
        },
        "outputId": "f96d9332-7e53-49c1-e75a-7791eb2a83e2"
      },
      "execution_count": 12,
      "outputs": [
        {
          "output_type": "execute_result",
          "data": {
            "text/plain": [
              "0.8"
            ]
          },
          "metadata": {},
          "execution_count": 12
        }
      ]
    },
    {
      "cell_type": "markdown",
      "source": [
        "\n",
        "To find out which category and product type corresponds to the minimum price of $0.80, you can filter the dataset based on the minimum price."
      ],
      "metadata": {
        "id": "kXilPXkpQBeN"
      }
    },
    {
      "cell_type": "code",
      "source": [
        "# Filter products with a unit price of exactly 0.8 and count the number of products in each category\n",
        "coffee_sales[coffee_sales[\"unit_price\"] == 0.8][\"product_category\"].value_counts()\n"
      ],
      "metadata": {
        "id": "4EeX0Dl8QmR3",
        "colab": {
          "base_uri": "https://localhost:8080/",
          "height": 147
        },
        "outputId": "1f4511ff-75f3-4884-d9da-61b81334e71d"
      },
      "execution_count": 13,
      "outputs": [
        {
          "output_type": "execute_result",
          "data": {
            "text/plain": [
              "product_category\n",
              "Flavours    6790\n",
              "Name: count, dtype: int64"
            ],
            "text/html": [
              "<div>\n",
              "<style scoped>\n",
              "    .dataframe tbody tr th:only-of-type {\n",
              "        vertical-align: middle;\n",
              "    }\n",
              "\n",
              "    .dataframe tbody tr th {\n",
              "        vertical-align: top;\n",
              "    }\n",
              "\n",
              "    .dataframe thead th {\n",
              "        text-align: right;\n",
              "    }\n",
              "</style>\n",
              "<table border=\"1\" class=\"dataframe\">\n",
              "  <thead>\n",
              "    <tr style=\"text-align: right;\">\n",
              "      <th></th>\n",
              "      <th>count</th>\n",
              "    </tr>\n",
              "    <tr>\n",
              "      <th>product_category</th>\n",
              "      <th></th>\n",
              "    </tr>\n",
              "  </thead>\n",
              "  <tbody>\n",
              "    <tr>\n",
              "      <th>Flavours</th>\n",
              "      <td>6790</td>\n",
              "    </tr>\n",
              "  </tbody>\n",
              "</table>\n",
              "</div><br><label><b>dtype:</b> int64</label>"
            ]
          },
          "metadata": {},
          "execution_count": 13
        }
      ]
    },
    {
      "cell_type": "code",
      "source": [
        "# Filter products with a unit price of 0.8 and product category \"Flavours\", then count by product type\n",
        "coffee_sales[\n",
        "    (coffee_sales[\"unit_price\"] == 0.8)\n",
        "    &\n",
        "    (coffee_sales[\"product_category\"] == \"Flavours\")\n",
        "][\"product_type\"].value_counts()"
      ],
      "metadata": {
        "id": "TFhA4N0dQ-Sh",
        "colab": {
          "base_uri": "https://localhost:8080/",
          "height": 178
        },
        "outputId": "06cf3259-59ae-4de3-ad5b-47c73865cb7c"
      },
      "execution_count": 14,
      "outputs": [
        {
          "output_type": "execute_result",
          "data": {
            "text/plain": [
              "product_type\n",
              "Regular syrup       4979\n",
              "Sugar free syrup    1811\n",
              "Name: count, dtype: int64"
            ],
            "text/html": [
              "<div>\n",
              "<style scoped>\n",
              "    .dataframe tbody tr th:only-of-type {\n",
              "        vertical-align: middle;\n",
              "    }\n",
              "\n",
              "    .dataframe tbody tr th {\n",
              "        vertical-align: top;\n",
              "    }\n",
              "\n",
              "    .dataframe thead th {\n",
              "        text-align: right;\n",
              "    }\n",
              "</style>\n",
              "<table border=\"1\" class=\"dataframe\">\n",
              "  <thead>\n",
              "    <tr style=\"text-align: right;\">\n",
              "      <th></th>\n",
              "      <th>count</th>\n",
              "    </tr>\n",
              "    <tr>\n",
              "      <th>product_type</th>\n",
              "      <th></th>\n",
              "    </tr>\n",
              "  </thead>\n",
              "  <tbody>\n",
              "    <tr>\n",
              "      <th>Regular syrup</th>\n",
              "      <td>4979</td>\n",
              "    </tr>\n",
              "    <tr>\n",
              "      <th>Sugar free syrup</th>\n",
              "      <td>1811</td>\n",
              "    </tr>\n",
              "  </tbody>\n",
              "</table>\n",
              "</div><br><label><b>dtype:</b> int64</label>"
            ]
          },
          "metadata": {},
          "execution_count": 14
        }
      ]
    },
    {
      "cell_type": "markdown",
      "source": [
        "As we can see, syrups are the products with the minimum price in the store, costing $0.80. This suggests that the syrups in the \"Flavours\" category are the least expensive items in the dataset."
      ],
      "metadata": {
        "id": "sttndsODRGFd"
      }
    },
    {
      "cell_type": "markdown",
      "source": [
        "### Visual Analysis of the Dataset"
      ],
      "metadata": {
        "id": "ZXp24y9sSXNz"
      }
    },
    {
      "cell_type": "markdown",
      "source": [
        "#### Categories"
      ],
      "metadata": {
        "id": "fM40wNrsS-jU"
      }
    },
    {
      "cell_type": "code",
      "source": [
        "# Count the number of products in each category and reset the index to structure it as a DataFrame\n",
        "product_category_count = coffee_sales[\"product_category\"].value_counts().reset_index()\n",
        "\n",
        "# Create a bar chart with Seaborn\n",
        "ax = sns.barplot(\n",
        "    x=product_category_count[\"product_category\"],  # Product category on the X-axis\n",
        "    y=product_category_count[\"count\"],  # Frequency on the Y-axis\n",
        "    hue=product_category_count[\"product_category\"],  # Color by category\n",
        ")\n",
        "\n",
        "# Add numerical labels above each bar for better value visualization\n",
        "for i, value in enumerate(product_category_count[\"count\"]):\n",
        "    ax.text(i, value + 0.5, str(value), ha=\"center\", fontsize=10, fontweight=\"bold\")\n",
        "\n",
        "# Add title and labels to the axes\n",
        "plt.title(\"Distribution of Product Categories\")\n",
        "plt.xlabel(\"Product Category\")\n",
        "plt.ylabel(\"Frequency\")\n",
        "\n",
        "# Rotate X-axis labels for better visibility\n",
        "plt.xticks(rotation=45)\n",
        "\n",
        "# Show the chart\n",
        "plt.show()\n"
      ],
      "metadata": {
        "colab": {
          "base_uri": "https://localhost:8080/",
          "height": 552
        },
        "id": "9RHfq6ZSSZyA",
        "outputId": "fbef0a7e-e648-4004-c87b-60fc33bcc386"
      },
      "execution_count": 15,
      "outputs": [
        {
          "output_type": "display_data",
          "data": {
            "text/plain": [
              "<Figure size 640x480 with 1 Axes>"
            ],
            "image/png": "[encoded data removed]"
          },
          "metadata": {}
        }
      ]
    },
    {
      "cell_type": "markdown",
      "source": [
        "In order to interpret the distribution and corresponding percentages, a function will be declared to calculate the percentages of the total accumulated sales.\n"
      ],
      "metadata": {
        "id": "3Y8Wja1ucJwP"
      }
    },
    {
      "cell_type": "code",
      "source": [
        "def percentage_category(category, df, column, total):\n",
        "    \"\"\"\n",
        "    Calculates the percentage of a specific category within a Pandas DataFrame.\n",
        "\n",
        "    Args:\n",
        "        category: The value to search for in the specified column.\n",
        "        df: The Pandas DataFrame to search within.\n",
        "        column: The name of the column to search in.\n",
        "        total: The total value to calculate the percentage against.\n",
        "\n",
        "    Returns:\n",
        "        The percentage of the category rounded to 2 decimal places, or an error\n",
        "        message if the DataFrame is invalid or unprocessed.\n",
        "    \"\"\"\n",
        "    try:\n",
        "        value = df[df[column] == category][\"count\"].values[0]\n",
        "        return round((value / total) * 100, 2)\n",
        "    except:\n",
        "        return \"invalid or unprocessed dataframe\""
      ],
      "metadata": {
        "id": "3aQYNOmcrR37"
      },
      "execution_count": 16,
      "outputs": []
    },
    {
      "cell_type": "code",
      "source": [
        "# Define a list with the product categories to analyze\n",
        "product_category = [\n",
        "    \"Bakery\",              # Baked goods\n",
        "    \"Packaged Chocolate\",  # Packaged chocolates\n",
        "    \"Coffee\",              # Coffee\n",
        "    \"Tea\",                 # Tea\n",
        "    \"Branded\"              # Branded products\n",
        "]\n",
        "\n",
        "# Calculate the total number of products in all categories by summing the frequencies\n",
        "total_categories = product_category_count.sum().values[1]"
      ],
      "metadata": {
        "id": "a7qN7p7dsZ38"
      },
      "execution_count": 17,
      "outputs": []
    },
    {
      "cell_type": "code",
      "source": [
        "# Iterate over each product category in the product_category list\n",
        "for cat in product_category:\n",
        "    # Calculate the sales percentage of the current category and display the result\n",
        "    print(f\"{cat}: {percentage_category(cat, product_category_count, 'product_category', total_categories)} % of total sales\")"
      ],
      "metadata": {
        "colab": {
          "base_uri": "https://localhost:8080/"
        },
        "id": "tLcNblyRso9W",
        "outputId": "5192ce40-6897-40a8-d12c-fcd9301303be"
      },
      "execution_count": 18,
      "outputs": [
        {
          "output_type": "stream",
          "name": "stdout",
          "text": [
            "Bakery: 15.29 % of total sales\n",
            "Packaged Chocolate: 0.33 % of total sales\n",
            "Coffee: 39.17 % of total sales\n",
            "Tea: 30.48 % of total sales\n",
            "Branded: 0.5 % of total sales\n"
          ]
        }
      ]
    },
    {
      "cell_type": "markdown",
      "source": [
        "This plot shows us the distribution of cafeteria sales by product category. We can see that the products in the Coffee and Tea categories dominate total sales, which indicates that these products are the customers' favorites. Coffee makes up almost two-fifths of total sales, with a specific figure of 39.17% of total sales, and tea has 30.48% of corresponding sales. Baked goods are in third place, representing 15.29% of total sales, which, despite being a secondary category, represents an important part of the revenue.\n",
        "\n",
        "Among the products with the lowest sales, we can see that packaged chocolates represent just 0.33% of total sales, followed by products with the store logo at 0.5% of accumulated sales.\n"
      ],
      "metadata": {
        "id": "udrcT6G4sZND"
      }
    },
    {
      "cell_type": "markdown",
      "source": [
        "#### Types"
      ],
      "metadata": {
        "id": "X_DKxSyzcKRF"
      }
    },
    {
      "cell_type": "markdown",
      "source": [
        "To analyze the product type, it will first be necessary to check the size of the set of unique product types."
      ],
      "metadata": {
        "id": "kS16RJR90VSP"
      }
    },
    {
      "cell_type": "code",
      "source": [
        "# Calculate the total number of unique product types in the dataset\n",
        "len(coffee_sales[\"product_type\"].unique())"
      ],
      "metadata": {
        "colab": {
          "base_uri": "https://localhost:8080/"
        },
        "id": "PTSQUyI3y5AK",
        "outputId": "592bfb21-f7c4-49ce-9efe-7ba37168f4c8"
      },
      "execution_count": 19,
      "outputs": [
        {
          "output_type": "execute_result",
          "data": {
            "text/plain": [
              "29"
            ]
          },
          "metadata": {},
          "execution_count": 19
        }
      ]
    },
    {
      "cell_type": "markdown",
      "source": [
        "Considering the size of the data set, the store's products will be explored by plotting the 5 best-selling and the 5 least-selling products."
      ],
      "metadata": {
        "id": "tTvNg7s917J2"
      }
    },
    {
      "cell_type": "code",
      "source": [
        "# Count the number of products in each Type and reset the index to structure it as a DataFrame\n",
        "product_type_count_top5 = coffee_sales[\"product_type\"].value_counts().reset_index().head()\n",
        "\n",
        "# Create a bar chart with Seaborn\n",
        "ax = sns.barplot(\n",
        "    x=product_type_count_top5[\"product_type\"],  # Product type on the X-axis\n",
        "    y=product_type_count_top5[\"count\"],  # Frequency on the Y-axis\n",
        "    hue=product_type_count_top5[\"product_type\"],  # Color by Type\n",
        ")\n",
        "\n",
        "# Add numerical labels above each bar for better value visualization\n",
        "for i, value in enumerate(product_type_count_top5[\"count\"]):\n",
        "    ax.text(i, value + 0.5, str(value), ha=\"center\", fontsize=10, fontweight=\"bold\")\n",
        "\n",
        "# Add title and labels to the axes\n",
        "plt.title(\"Distribution of the 5 most sold product types\")\n",
        "plt.xlabel(\"Product Type\")\n",
        "plt.ylabel(\"Frequency\")\n",
        "\n",
        "# Rotate X-axis labels for better visibility\n",
        "plt.xticks(rotation=45)\n",
        "\n",
        "# Show the chart\n",
        "plt.show()\n"
      ],
      "metadata": {
        "colab": {
          "base_uri": "https://localhost:8080/",
          "height": 564
        },
        "id": "169uf2w4ca2N",
        "outputId": "2f7979d1-b0a4-4ad8-a493-55f102978221"
      },
      "execution_count": 20,
      "outputs": [
        {
          "output_type": "display_data",
          "data": {
            "text/plain": [
              "<Figure size 640x480 with 1 Axes>"
            ],
            "image/png": "[encoded data removed]"
          },
          "metadata": {}
        }
      ]
    },
    {
      "cell_type": "markdown",
      "source": [
        "This plot confirms the best-selling categories of coffee and tea, as within the 5 best-selling products in the cafeteria we can see that 2 of them correspond to coffee variants and 3 of them correspond to tea variants, respectively, and showing a preference for hot chocolate for a large part of the sales."
      ],
      "metadata": {
        "id": "LKuTLQPhccU7"
      }
    },
    {
      "cell_type": "code",
      "source": [
        "# Count the number of products in each type and reset the index to structure it in a DataFrame\n",
        "product_type_count_bottom5 = coffee_sales[\"product_type\"].value_counts().reset_index().tail()\n",
        "\n",
        "# Create a bar chart with Seaborn\n",
        "ax = sns.barplot(\n",
        "    x=product_type_count_bottom5[\"product_type\"],  # Product type on the X axis\n",
        "    y=product_type_count_bottom5[\"count\"],  # Frequency on the Y axis\n",
        "    hue=product_type_count_bottom5[\"product_type\"],  # Color by type\n",
        ")\n",
        "\n",
        "# Add numeric labels above each bar to better visualize the values\n",
        "for i, value in enumerate(product_type_count_bottom5[\"count\"]):\n",
        "    ax.text(i, value + 0.5, str(value), ha=\"center\", fontsize=10, fontweight=\"bold\")\n",
        "\n",
        "# Add title and labels to the axes\n",
        "plt.title(\"Distribution of the 5 least sold product types\")\n",
        "plt.xlabel(\"Product type\")\n",
        "plt.ylabel(\"Frequency\")\n",
        "\n",
        "# Rotate the labels on the X axis for better visibility\n",
        "plt.xticks(rotation=45)\n",
        "\n",
        "# Show the chart\n",
        "plt.show()"
      ],
      "metadata": {
        "colab": {
          "base_uri": "https://localhost:8080/",
          "height": 547
        },
        "id": "ysQps86M5Uoh",
        "outputId": "e6dafaf2-fddc-4483-f1c3-ae4b94aca644"
      },
      "execution_count": 21,
      "outputs": [
        {
          "output_type": "display_data",
          "data": {
            "text/plain": [
              "<Figure size 640x480 with 1 Axes>"
            ],
            "image/png": "[encoded data removed]"
          },
          "metadata": {}
        }
      ]
    },
    {
      "cell_type": "markdown",
      "source": [
        "This plot shows the distribution of the 5 least-selling products in the store. Noticing that two types of beans (\"House Blend Beans\" and \"Green Beans\"), as well as green tea, make up a different category from the least-selling ones, we could analyze if their low demand is due to a niche strategy, high prices, or simply a lower customer preference.\n",
        "\n",
        "With the presence of chocolate and the cafeteria's branded products, it opens the door to further analysis to identify the factors that cause these products to have low sales and, if possible, find an area for improvement."
      ],
      "metadata": {
        "id": "dbm4Plte7TGg"
      }
    },
    {
      "cell_type": "markdown",
      "source": [
        "\n",
        "\n",
        "---\n",
        "\n"
      ],
      "metadata": {
        "id": "iN_lqN1U7F9R"
      }
    },
    {
      "cell_type": "markdown",
      "source": [
        "#Español"
      ],
      "metadata": {
        "id": "rbC-jQC_Z2TC"
      }
    },
    {
      "cell_type": "markdown",
      "source": [
        "##1. Introducción"
      ],
      "metadata": {
        "id": "XGnvQNwkZ4BH"
      }
    },
    {
      "cell_type": "markdown",
      "source": [
        "\n",
        "En este proyecto, se realizó un análisis exploratorio de datos (EDA) y un modelo de predicción de ventas basado en series temporales usando un conjunto de datos disponible en este [enlace](https://www.kaggle.com/datasets/ahmedabbas757/coffee-sales) de Kaggle.\n",
        "\n",
        "El Objetivo principal de este proyecto es comprender los patrones históricos de ventas y poder desarrollar un modelo de aprendizaje automático que pueda anticipar el comportamiento futuro para poder proporcionar información valiosa para para la toma de decisiones.\n",
        "\n",
        "El flujo de trabajo incluyó las siguientes etapas principales:\n",
        "\n",
        "\n",
        "1.   **Extracción de los datos de Kaggle usando una Api**:\n",
        "    Se uso la API Kagglehub para poder extraer los datos de manera correcta y poder mantenerlos actualizados si existe un cambio en el origen de los datos.\n",
        "2.   **Análisis Exploratorio de Datos (EDA)**:\n",
        "    Se utilizó Python y bibliotecas como pandas, matplotlib y seaborn para limpiar y analizar el conjunto de datos, identificando tendencias, estacionalidad y variables clave que afectan las ventas, así como para visualizar los datos de manera rápida.\n",
        "3. **Modelado Predictivo de aprendizaje automatico**:\n",
        "    Se implementó el modelo de pronóstico Prophet desarrollado por Facebook para predecir ventas futuras, considerando aspectos como tendencias y eventos estacionales.\n",
        "4. **Visualización en Power BI**:\n",
        "    Los datos y resultados obtenidos se integraron en un tablero interactivo en Power BI, facilitando la comunicación de insights de manera visual e intuitiva.\n",
        "\n",
        "El proyecto busca demostrar habilidades técnicas en análisis de datos, modelado predictivo y creación de visualizaciones dinámicas, así como la capacidad de trabajar con herramientas modernas de ciencia de datos y análisis empresarial. Este enfoque es crucial para extraer valor de los datos y apoyar la toma de decisiones basadas en evidencia.\n",
        "\n"
      ],
      "metadata": {
        "id": "Kd6uuHJWVk0K"
      }
    },
    {
      "cell_type": "markdown",
      "source": [
        "\n",
        "\n",
        "---\n",
        "\n"
      ],
      "metadata": {
        "id": "lI679tHz7H8I"
      }
    },
    {
      "cell_type": "markdown",
      "source": [
        "## 2. Desarrollo del proyecto\n",
        "\n",
        "En esta sección, se detallará paso a paso el proceso seguido para desarrollar el análisis y la predicción de las ventas, desde la configuración del entorno y la preparación de los datos, hasta la implementación del modelo y la visualización final."
      ],
      "metadata": {
        "id": "cAK-sMMCZOHn"
      }
    },
    {
      "cell_type": "markdown",
      "source": [
        "### Importación de las librerías\n",
        "\n",
        "El primer paso fue importar las librerías necesarias para llevar a cabo el análisis y modelado. Se utilizaron herramientas estándar de Python que son ampliamente reconocidas en la comunidad de ciencia de datos, así como herramientas de visualización de datos, la libería de Kagglehub para la extracción de los datos y Prophet, para el desarrollo del modelo."
      ],
      "metadata": {
        "id": "6SAOSoxKZVlX"
      }
    },
    {
      "cell_type": "code",
      "execution_count": 22,
      "metadata": {
        "id": "mJogtqsNZHO-"
      },
      "outputs": [],
      "source": [
        "# Librerías para la manipulación, manejo  y análisis de datos\n",
        "import pandas as pd\n",
        "import numpy as np\n",
        "\n",
        "# Librería para extracción de datos desde Kaggle\n",
        "import kagglehub\n",
        "import os\n",
        "\n",
        "# Librerías para visualización\n",
        "import matplotlib.pyplot as plt\n",
        "import seaborn as sns\n",
        "\n",
        "# Librerías para el modelo basado en series temporales\n",
        "from prophet import Prophet\n",
        "from prophet.diagnostics import performance_metrics\n",
        "\n",
        "# Manejo de advertencias\n",
        "import warnings\n",
        "warnings.filterwarnings(\"ignore\")\n",
        "\n",
        "# Configuración del estilo de las visualizaciones\n",
        "plt.style.use('seaborn-v0_8-dark')\n"
      ]
    },
    {
      "cell_type": "markdown",
      "source": [
        "### Extracción de los Datos\n",
        "\n",
        "Para garantizar que el análisis se base en información al día, se utilizó la librería kagglehub para descargar los datos directamente desde Kaggle, esto permite tener un enfoque en un flujo de trabajo dinámico y flexible, ya que la información se puede sincronizar fácilmente en caso de existir actualizaciones en el conjunto de datos."
      ],
      "metadata": {
        "id": "l3g2966n50RR"
      }
    },
    {
      "cell_type": "code",
      "execution_count": 23,
      "metadata": {
        "id": "2cjzfPvWZHPA",
        "colab": {
          "base_uri": "https://localhost:8080/"
        },
        "outputId": "221fb97c-be93-44d0-b3c8-6e97b4c5807b"
      },
      "outputs": [
        {
          "output_type": "stream",
          "name": "stdout",
          "text": [
            "Warning: Looks like you're using an outdated `kagglehub` version (installed: 0.3.6), please consider upgrading to the latest version (0.3.7).\n"
          ]
        }
      ],
      "source": [
        "# Se descarga el conjunto de datos desde Kaggle\n",
        "path = kagglehub.dataset_download(\"ahmedabbas757/coffee-sales\")\n",
        "\n",
        "# Nombre del archivo descargado\n",
        "file_name = \"Coffee Shop Sales.xlsx\"\n",
        "\n",
        "# Se construye la ruta completa del archivo\n",
        "file_path = os.path.join(path, file_name)\n",
        "\n",
        "# Se carga el archivo a un DataFrame de pandas.\n",
        "coffee_sales = pd.read_excel(file_path)"
      ]
    },
    {
      "cell_type": "markdown",
      "source": [
        "### Análisis Exploratorio de Datos (EDA)"
      ],
      "metadata": {
        "id": "uMCNkIeK7hiH"
      }
    },
    {
      "cell_type": "markdown",
      "source": [
        "Una vez cargados los datos en un DataFrame, es fundamental realizar una exploración inicial para comprender su estructura y calidad de los datos usando el método info(), este nos proporciona una vista general de los datos para ver información clave sobre la estructura de los datos."
      ],
      "metadata": {
        "id": "jGQirmMm8dCc"
      }
    },
    {
      "cell_type": "code",
      "source": [
        "coffee_sales.info()"
      ],
      "metadata": {
        "colab": {
          "base_uri": "https://localhost:8080/"
        },
        "id": "xvlh06l2ZeBs",
        "outputId": "a1b709a9-9014-466d-e685-3d33d3902826"
      },
      "execution_count": 24,
      "outputs": [
        {
          "output_type": "stream",
          "name": "stdout",
          "text": [
            "<class 'pandas.core.frame.DataFrame'>\n",
            "RangeIndex: 149116 entries, 0 to 149115\n",
            "Data columns (total 11 columns):\n",
            " #   Column            Non-Null Count   Dtype         \n",
            "---  ------            --------------   -----         \n",
            " 0   transaction_id    149116 non-null  int64         \n",
            " 1   transaction_date  149116 non-null  datetime64[ns]\n",
            " 2   transaction_time  149116 non-null  object        \n",
            " 3   transaction_qty   149116 non-null  int64         \n",
            " 4   store_id          149116 non-null  int64         \n",
            " 5   store_location    149116 non-null  object        \n",
            " 6   product_id        149116 non-null  int64         \n",
            " 7   unit_price        149116 non-null  float64       \n",
            " 8   product_category  149116 non-null  object        \n",
            " 9   product_type      149116 non-null  object        \n",
            " 10  product_detail    149116 non-null  object        \n",
            "dtypes: datetime64[ns](1), float64(1), int64(4), object(5)\n",
            "memory usage: 12.5+ MB\n"
          ]
        }
      ]
    },
    {
      "cell_type": "markdown",
      "source": [
        "Podemos ver que los datos están organizados por un identificador de transacción, el cual está acompañado de información importante como la fecha de la transacción, la cantidad vendida, la ubicación de la tienda y características del producto, como su precio unitario, categoría y tipo.\n",
        "Además de estos detalles, se cuenta con un total de 149,116 filas, y lo más relevante es que ninguna de ellas contiene datos nulos. Un aspecto adicional a destacar es que la fecha y la hora de la transacción están separadas en columnas distintas.\n",
        "\n"
      ],
      "metadata": {
        "id": "QvHNDEzp8xFT"
      }
    },
    {
      "cell_type": "markdown",
      "source": [
        "### Transformación de las columnas de fecha y hora\n",
        "\n",
        "Dado que la fecha y la hora de la transacción se encuentran separadas en columnas distintas (`transaction_date` y `transaction_time`), el objetivo de este paso es combinarlas en una sola columna con un formato de timestamp (fecha y hora) para facilitar el análisis temporal."
      ],
      "metadata": {
        "id": "NP5CREAJ-BI4"
      }
    },
    {
      "cell_type": "code",
      "source": [
        "# Se concadenan las columnas 'transaction_date' y 'transaction_time' en una sola columna llamada 'transaction_timestamp'\n",
        "# Primero, se convierte ambas columnas a tipo cadena (str) y se unen con un espacio en medio\n",
        "coffee_sales[\"transaction_timestamp\"] = coffee_sales[\"transaction_date\"].astype(str) + ' ' + coffee_sales[\"transaction_time\"].astype(str)\n",
        "\n",
        "# Se convierte la columna nueva 'transaction_timestamp' a tipo datetime para facilitar el análisis temporal\n",
        "coffee_sales[\"transaction_timestamp\"] = pd.to_datetime(coffee_sales[\"transaction_timestamp\"])\n",
        "\n",
        "# Se eliminan las columnas originales 'transaction_date' y 'transaction_time'\n",
        "coffee_sales.drop([\"transaction_date\", \"transaction_time\"], axis=1, inplace=True)"
      ],
      "metadata": {
        "id": "x8U7gI7xZmjm"
      },
      "execution_count": 25,
      "outputs": []
    },
    {
      "cell_type": "markdown",
      "source": [
        "Para verificar que la nueva columna es correcta, podemos comprobar los datos mostrando las primeras filas y asegurándonos de que la columna transaction_timestamp contiene el formato datetime esperado.\n"
      ],
      "metadata": {
        "id": "cM3yhkk7-ps_"
      }
    },
    {
      "cell_type": "code",
      "source": [
        "coffee_sales[\"transaction_timestamp\"].head()"
      ],
      "metadata": {
        "id": "ACszNvc6GVFG",
        "outputId": "f9638b51-51d5-4736-9c20-f23e00019f89",
        "colab": {
          "base_uri": "https://localhost:8080/",
          "height": 241
        }
      },
      "execution_count": 26,
      "outputs": [
        {
          "output_type": "execute_result",
          "data": {
            "text/plain": [
              "0   2023-01-01 07:06:11\n",
              "1   2023-01-01 07:08:56\n",
              "2   2023-01-01 07:14:04\n",
              "3   2023-01-01 07:20:24\n",
              "4   2023-01-01 07:22:41\n",
              "Name: transaction_timestamp, dtype: datetime64[ns]"
            ],
            "text/html": [
              "<div>\n",
              "<style scoped>\n",
              "    .dataframe tbody tr th:only-of-type {\n",
              "        vertical-align: middle;\n",
              "    }\n",
              "\n",
              "    .dataframe tbody tr th {\n",
              "        vertical-align: top;\n",
              "    }\n",
              "\n",
              "    .dataframe thead th {\n",
              "        text-align: right;\n",
              "    }\n",
              "</style>\n",
              "<table border=\"1\" class=\"dataframe\">\n",
              "  <thead>\n",
              "    <tr style=\"text-align: right;\">\n",
              "      <th></th>\n",
              "      <th>transaction_timestamp</th>\n",
              "    </tr>\n",
              "  </thead>\n",
              "  <tbody>\n",
              "    <tr>\n",
              "      <th>0</th>\n",
              "      <td>2023-01-01 07:06:11</td>\n",
              "    </tr>\n",
              "    <tr>\n",
              "      <th>1</th>\n",
              "      <td>2023-01-01 07:08:56</td>\n",
              "    </tr>\n",
              "    <tr>\n",
              "      <th>2</th>\n",
              "      <td>2023-01-01 07:14:04</td>\n",
              "    </tr>\n",
              "    <tr>\n",
              "      <th>3</th>\n",
              "      <td>2023-01-01 07:20:24</td>\n",
              "    </tr>\n",
              "    <tr>\n",
              "      <th>4</th>\n",
              "      <td>2023-01-01 07:22:41</td>\n",
              "    </tr>\n",
              "  </tbody>\n",
              "</table>\n",
              "</div><br><label><b>dtype:</b> datetime64[ns]</label>"
            ]
          },
          "metadata": {},
          "execution_count": 26
        }
      ]
    },
    {
      "cell_type": "markdown",
      "source": [
        "### Verificación de duplicados en las transacciones\n",
        "\n",
        "Para asegurarnos de que cada transacción es única, se compara el número de registros originales del conjunto de datos con el número de identificadores únicos en la columna `transaction_id`. Si ambos valores son iguales, significa que no hay transacciones duplicadas; de lo contrario, existen registros repetidos en los datos.\n",
        "\n"
      ],
      "metadata": {
        "id": "owEzTHSYfuA9"
      }
    },
    {
      "cell_type": "code",
      "source": [
        "# Eliminar valores duplicados en la columna 'transaction_id' y contar cuántos identificadores únicos existen\n",
        "unique_transactions = coffee_sales[\"transaction_id\"].drop_duplicates().shape[0]\n",
        "\n",
        "# Contar el número total de filas en el DataFrame original\n",
        "total_transactions = coffee_sales.shape[0]\n",
        "\n",
        "# Comparar si el número de identificadores únicos es igual al número total de filas en el DataFrame\n",
        "# Si es True, significa que cada transacción tiene un identificador único y no hay duplicados\n",
        "# Si es False, significa que existen transacciones con el mismo 'transaction_id' más de una vez\n",
        "unique_transactions == total_transactions"
      ],
      "metadata": {
        "id": "-jRF7-6lIIz5",
        "outputId": "7b3ce56a-644d-4bd6-e5e9-abb687c20c84",
        "colab": {
          "base_uri": "https://localhost:8080/"
        }
      },
      "execution_count": 27,
      "outputs": [
        {
          "output_type": "execute_result",
          "data": {
            "text/plain": [
              "True"
            ]
          },
          "metadata": {},
          "execution_count": 27
        }
      ]
    },
    {
      "cell_type": "markdown",
      "source": [
        "### Verificación de las ubicaciones de las tiendas\n",
        "\n",
        "Para analizar la distribución de las transacciones por tienda, el siguiente código cuenta la frecuencia de ocurrencia de cada combinación única de `store_location` y `store_id`. Esto permite identificar cuántas transacciones se realizaron en cada tienda y detectar posibles inconsistencias en los datos, como tiendas con múltiples identificadores o ubicaciones duplicadas."
      ],
      "metadata": {
        "id": "EHK5CkOHi7FJ"
      }
    },
    {
      "cell_type": "code",
      "source": [
        "# Contar la frecuencia de combinaciones únicas de 'store_location' y 'store_id'\n",
        "coffee_sales[[\"store_location\", \"store_id\"]].value_counts()\n"
      ],
      "metadata": {
        "id": "tH8LEcm3Jwie",
        "outputId": "c89c1c71-2504-4807-82d9-57c139d34273",
        "colab": {
          "base_uri": "https://localhost:8080/",
          "height": 209
        }
      },
      "execution_count": 28,
      "outputs": [
        {
          "output_type": "execute_result",
          "data": {
            "text/plain": [
              "store_location   store_id\n",
              "Hell's Kitchen   8           50735\n",
              "Astoria          3           50599\n",
              "Lower Manhattan  5           47782\n",
              "Name: count, dtype: int64"
            ],
            "text/html": [
              "<div>\n",
              "<style scoped>\n",
              "    .dataframe tbody tr th:only-of-type {\n",
              "        vertical-align: middle;\n",
              "    }\n",
              "\n",
              "    .dataframe tbody tr th {\n",
              "        vertical-align: top;\n",
              "    }\n",
              "\n",
              "    .dataframe thead th {\n",
              "        text-align: right;\n",
              "    }\n",
              "</style>\n",
              "<table border=\"1\" class=\"dataframe\">\n",
              "  <thead>\n",
              "    <tr style=\"text-align: right;\">\n",
              "      <th></th>\n",
              "      <th></th>\n",
              "      <th>count</th>\n",
              "    </tr>\n",
              "    <tr>\n",
              "      <th>store_location</th>\n",
              "      <th>store_id</th>\n",
              "      <th></th>\n",
              "    </tr>\n",
              "  </thead>\n",
              "  <tbody>\n",
              "    <tr>\n",
              "      <th>Hell's Kitchen</th>\n",
              "      <th>8</th>\n",
              "      <td>50735</td>\n",
              "    </tr>\n",
              "    <tr>\n",
              "      <th>Astoria</th>\n",
              "      <th>3</th>\n",
              "      <td>50599</td>\n",
              "    </tr>\n",
              "    <tr>\n",
              "      <th>Lower Manhattan</th>\n",
              "      <th>5</th>\n",
              "      <td>47782</td>\n",
              "    </tr>\n",
              "  </tbody>\n",
              "</table>\n",
              "</div><br><label><b>dtype:</b> int64</label>"
            ]
          },
          "metadata": {},
          "execution_count": 28
        }
      ]
    },
    {
      "cell_type": "markdown",
      "source": [
        "El resultado muestra el número de transacciones registradas en cada combinación de `store_location` y `store_id`. Por ejemplo, la tienda en *Hell’s Kitchen* con el ID **8** tuvo **50,735** transacciones, mientras que la ubicada en *Astoria* con el ID **3** registró **50,599** ventas. De manera similar, la tienda en *Lower Manhattan* con el ID **5** acumuló **47,782** transacciones."
      ],
      "metadata": {
        "id": "SaQjCkGuqs4R"
      }
    },
    {
      "cell_type": "markdown",
      "source": [
        "### Normalización de valores en los detalles de los productos\n",
        "\n",
        "Para verificar que el conjunto de datos no tenga incosistencias en la columna `product_detail`, como pueden ser las variaciones en las mayúsculas o minúsculas, espacios adicionales en medio de las oraciones, al principio o final de estas.\n",
        "\n",
        "Para lograr esto, se va a comparar el tamaño del dataset filtrado por valores únicos antes y después de una normalización de los datos eliminando los espacios extras, asi como convirtiendo el texto a minúsculas."
      ],
      "metadata": {
        "id": "3oQLYds388bz"
      }
    },
    {
      "cell_type": "code",
      "source": [
        "# Imprimir el número de valores únicos antes de la validación\n",
        "print(f\"Numero de valores antes de la validación: {coffee_sales['product_detail'].value_counts().shape[0]}\")\n",
        "\n",
        "# Imprimir el número de valores únicos después de aplicar la validación (normalización de espacios, minúsculas y strip)\n",
        "print(\"Numero de valores después de la validación: \",\n",
        "      coffee_sales['product_detail'].str.replace(r'\\s+', ' ', regex=True).str.lower().str.strip().value_counts().shape[0])\n",
        "\n"
      ],
      "metadata": {
        "id": "ChtPH2goL8qS",
        "outputId": "ff782553-a95a-44bf-ae40-27694cf42ff5",
        "colab": {
          "base_uri": "https://localhost:8080/"
        }
      },
      "execution_count": 29,
      "outputs": [
        {
          "output_type": "stream",
          "name": "stdout",
          "text": [
            "Numero de valores antes de la validación: 80\n",
            "Numero de valores después de la validación:  80\n"
          ]
        }
      ]
    },
    {
      "cell_type": "markdown",
      "source": [
        "Como la cantidad de valores únicos se mantuvo igual antes y después de la normalización, podemos concluir que estos datos no requieren correcciones.\n",
        "\n"
      ],
      "metadata": {
        "id": "MgXPgN9U-3Lv"
      }
    },
    {
      "cell_type": "markdown",
      "source": [
        "### Revisar si no hay valores extremos en los precios unitarios\n",
        "\n",
        "Para poder revisar si hay valores extremos en los precios unitarios, se ejecutara un codigo que nos permita generar un gráfico de caja para poder ver visualmente la distribución de los valores. Este gráfico nos ayudará a identificar los valores extremos que puedan existir fuera del rango intercuartílico (IQR)."
      ],
      "metadata": {
        "id": "zn10SgkpFFk5"
      }
    },
    {
      "cell_type": "code",
      "source": [
        "#Se genera el gráfico con la columna unit_price\n",
        "sns.boxplot(coffee_sales[\"unit_price\"], fill=False)\n",
        "plt.title(\"Distribución de los precios unitarios\")\n",
        "plt.xlabel(\"Precio unitario\")\n",
        "plt.ylabel(\"Frecuencia\")\n",
        "#se llama show() para mostrar el gráfico\n",
        "plt.show()"
      ],
      "metadata": {
        "id": "KHGlEDk7MJPf",
        "colab": {
          "base_uri": "https://localhost:8080/",
          "height": 451
        },
        "outputId": "a1b8e654-ee32-48ca-e887-9a93686d07a2"
      },
      "execution_count": 30,
      "outputs": [
        {
          "output_type": "display_data",
          "data": {
            "text/plain": [
              "<Figure size 640x480 with 1 Axes>"
            ],
            "image/png": "[encoded data removed]"
          },
          "metadata": {}
        }
      ]
    },
    {
      "cell_type": "markdown",
      "source": [
        "Podemos ver en el gráfico precios que sobrepasan los $25 doláres, para investigarlo vamos a ejecutar el siguente código."
      ],
      "metadata": {
        "id": "Sa9lmSPdGmEC"
      }
    },
    {
      "cell_type": "code",
      "source": [
        "# Filtrar los productos cuyo precio unitario es mayor o igual a 25 doláres y agrupar por cantidad.\n",
        "coffee_sales[coffee_sales[\"unit_price\"]>=25][\"product_type\"].value_counts()"
      ],
      "metadata": {
        "colab": {
          "base_uri": "https://localhost:8080/",
          "height": 209
        },
        "id": "mtVkBQZoG1Et",
        "outputId": "90df75fd-55e4-45de-a9b7-75368da47afc"
      },
      "execution_count": 31,
      "outputs": [
        {
          "output_type": "execute_result",
          "data": {
            "text/plain": [
              "product_type\n",
              "Clothing         216\n",
              "Premium Beans    190\n",
              "Organic Beans     17\n",
              "Name: count, dtype: int64"
            ],
            "text/html": [
              "<div>\n",
              "<style scoped>\n",
              "    .dataframe tbody tr th:only-of-type {\n",
              "        vertical-align: middle;\n",
              "    }\n",
              "\n",
              "    .dataframe tbody tr th {\n",
              "        vertical-align: top;\n",
              "    }\n",
              "\n",
              "    .dataframe thead th {\n",
              "        text-align: right;\n",
              "    }\n",
              "</style>\n",
              "<table border=\"1\" class=\"dataframe\">\n",
              "  <thead>\n",
              "    <tr style=\"text-align: right;\">\n",
              "      <th></th>\n",
              "      <th>count</th>\n",
              "    </tr>\n",
              "    <tr>\n",
              "      <th>product_type</th>\n",
              "      <th></th>\n",
              "    </tr>\n",
              "  </thead>\n",
              "  <tbody>\n",
              "    <tr>\n",
              "      <th>Clothing</th>\n",
              "      <td>216</td>\n",
              "    </tr>\n",
              "    <tr>\n",
              "      <th>Premium Beans</th>\n",
              "      <td>190</td>\n",
              "    </tr>\n",
              "    <tr>\n",
              "      <th>Organic Beans</th>\n",
              "      <td>17</td>\n",
              "    </tr>\n",
              "  </tbody>\n",
              "</table>\n",
              "</div><br><label><b>dtype:</b> int64</label>"
            ]
          },
          "metadata": {},
          "execution_count": 31
        }
      ]
    },
    {
      "cell_type": "code",
      "source": [
        "# Filtrar los productos cuyo precio unitario es mayor o igual a 25 y cuyo tipo de producto es \"Clothing\"\n",
        "# Y  obtener los valores únicos\n",
        "coffee_sales[(coffee_sales[\"unit_price\"]>=25)&(coffee_sales[\"product_type\"]== \"Clothing\")][\"product_detail\"].unique()"
      ],
      "metadata": {
        "colab": {
          "base_uri": "https://localhost:8080/"
        },
        "id": "fpZ84plKHuc7",
        "outputId": "3dc063a3-430b-47f9-b615-3ebc33a46d64"
      },
      "execution_count": 32,
      "outputs": [
        {
          "output_type": "execute_result",
          "data": {
            "text/plain": [
              "array(['I Need My Bean! T-shirt'], dtype=object)"
            ]
          },
          "metadata": {},
          "execution_count": 32
        }
      ]
    },
    {
      "cell_type": "markdown",
      "source": [
        "Podemos ver que estos productos con precios altos son bolsas de granos de café premium y orgánicos, así como piezas de ropa con el branding de la tienda.\n",
        "\n",
        "Para el siguiente paso se van a investigar los precios mínimos de la tienda."
      ],
      "metadata": {
        "id": "IMrYYZYJG_Bd"
      }
    },
    {
      "cell_type": "code",
      "source": [
        "# Obtener el valor mínimo del precio unitario en la columna \"unit_price\"\n",
        "coffee_sales[\"unit_price\"].min()"
      ],
      "metadata": {
        "colab": {
          "base_uri": "https://localhost:8080/"
        },
        "id": "jaHO-JmjL_p-",
        "outputId": "1cbe5c1e-139a-4385-ba90-3dd8321086e4"
      },
      "execution_count": 33,
      "outputs": [
        {
          "output_type": "execute_result",
          "data": {
            "text/plain": [
              "0.8"
            ]
          },
          "metadata": {},
          "execution_count": 33
        }
      ]
    },
    {
      "cell_type": "markdown",
      "source": [
        "Podemos ver un precio mínimo de $0.8 doláres, para ver a que categoría y tipo de producto, se va a ejecutar el siguiente código."
      ],
      "metadata": {
        "id": "6-PMO5E5MGiD"
      }
    },
    {
      "cell_type": "code",
      "source": [
        "# Se van a filtrar los productos cuyo precio unitario es exactamente 0.8\n",
        "# y se van a contar la cantidad de productos en cada categoría.\n",
        "coffee_sales[coffee_sales[\"unit_price\"]==0.8][\"product_category\"].value_counts()"
      ],
      "metadata": {
        "colab": {
          "base_uri": "https://localhost:8080/",
          "height": 147
        },
        "id": "tveJWjJpMCCF",
        "outputId": "57c533bd-7212-4466-b3b0-8773d043cf7c"
      },
      "execution_count": 34,
      "outputs": [
        {
          "output_type": "execute_result",
          "data": {
            "text/plain": [
              "product_category\n",
              "Flavours    6790\n",
              "Name: count, dtype: int64"
            ],
            "text/html": [
              "<div>\n",
              "<style scoped>\n",
              "    .dataframe tbody tr th:only-of-type {\n",
              "        vertical-align: middle;\n",
              "    }\n",
              "\n",
              "    .dataframe tbody tr th {\n",
              "        vertical-align: top;\n",
              "    }\n",
              "\n",
              "    .dataframe thead th {\n",
              "        text-align: right;\n",
              "    }\n",
              "</style>\n",
              "<table border=\"1\" class=\"dataframe\">\n",
              "  <thead>\n",
              "    <tr style=\"text-align: right;\">\n",
              "      <th></th>\n",
              "      <th>count</th>\n",
              "    </tr>\n",
              "    <tr>\n",
              "      <th>product_category</th>\n",
              "      <th></th>\n",
              "    </tr>\n",
              "  </thead>\n",
              "  <tbody>\n",
              "    <tr>\n",
              "      <th>Flavours</th>\n",
              "      <td>6790</td>\n",
              "    </tr>\n",
              "  </tbody>\n",
              "</table>\n",
              "</div><br><label><b>dtype:</b> int64</label>"
            ]
          },
          "metadata": {},
          "execution_count": 34
        }
      ]
    },
    {
      "cell_type": "code",
      "source": [
        "# Filtrar los productos cuyo precio unitario es 0.8 y cuya categoría de producto es \"Flavours\" y contar por categoria\n",
        "coffee_sales[\n",
        "    (coffee_sales[\"unit_price\"]==0.8)\n",
        "    &\n",
        "    (coffee_sales[\"product_category\"]== \"Flavours\")\n",
        "    ][\"product_type\"].value_counts()"
      ],
      "metadata": {
        "id": "W3L0Xn0zMsUb",
        "outputId": "de219dda-f9a3-48a4-c9ca-e64b27c9b7ac",
        "colab": {
          "base_uri": "https://localhost:8080/",
          "height": 178
        }
      },
      "execution_count": 35,
      "outputs": [
        {
          "output_type": "execute_result",
          "data": {
            "text/plain": [
              "product_type\n",
              "Regular syrup       4979\n",
              "Sugar free syrup    1811\n",
              "Name: count, dtype: int64"
            ],
            "text/html": [
              "<div>\n",
              "<style scoped>\n",
              "    .dataframe tbody tr th:only-of-type {\n",
              "        vertical-align: middle;\n",
              "    }\n",
              "\n",
              "    .dataframe tbody tr th {\n",
              "        vertical-align: top;\n",
              "    }\n",
              "\n",
              "    .dataframe thead th {\n",
              "        text-align: right;\n",
              "    }\n",
              "</style>\n",
              "<table border=\"1\" class=\"dataframe\">\n",
              "  <thead>\n",
              "    <tr style=\"text-align: right;\">\n",
              "      <th></th>\n",
              "      <th>count</th>\n",
              "    </tr>\n",
              "    <tr>\n",
              "      <th>product_type</th>\n",
              "      <th></th>\n",
              "    </tr>\n",
              "  </thead>\n",
              "  <tbody>\n",
              "    <tr>\n",
              "      <th>Regular syrup</th>\n",
              "      <td>4979</td>\n",
              "    </tr>\n",
              "    <tr>\n",
              "      <th>Sugar free syrup</th>\n",
              "      <td>1811</td>\n",
              "    </tr>\n",
              "  </tbody>\n",
              "</table>\n",
              "</div><br><label><b>dtype:</b> int64</label>"
            ]
          },
          "metadata": {},
          "execution_count": 35
        }
      ]
    },
    {
      "cell_type": "markdown",
      "source": [
        "Como podemos ver, los jarabes son los productos con el precio mínimo en la tienda con un costo de $0.8 doláres."
      ],
      "metadata": {
        "id": "dGiQ-ve4Nksz"
      }
    },
    {
      "cell_type": "markdown",
      "source": [
        "### Exploración visual del conjunto de datos"
      ],
      "metadata": {
        "id": "6tYjdeDLVP_8"
      }
    },
    {
      "cell_type": "markdown",
      "source": [
        "#### Categorías"
      ],
      "metadata": {
        "id": "txH-cKnIVV7F"
      }
    },
    {
      "cell_type": "code",
      "source": [
        "# Contar la cantidad de productos en cada categoría y reiniciar el índice para estructurarlo en un DataFrame\n",
        "product_category_count = coffee_sales[\"product_category\"].value_counts().reset_index()\n",
        "\n",
        "# Crear un gráfico de barras con Seaborn\n",
        "ax = sns.barplot(\n",
        "    x=product_category_count[\"product_category\"],  # Categoría de producto en el eje X\n",
        "    y=product_category_count[\"count\"],  # Frecuencia en el eje Y\n",
        "    hue=product_category_count[\"product_category\"],  # Colorear por categoría\n",
        ")\n",
        "\n",
        "# Agregar etiquetas numéricas encima de cada barra para visualizar mejor los valores\n",
        "for i, value in enumerate(product_category_count[\"count\"]):\n",
        "    ax.text(i, value + 0.5, str(value), ha=\"center\", fontsize=10, fontweight=\"bold\")\n",
        "\n",
        "# Agregar título y etiquetas a los ejes\n",
        "plt.title(\"Distribución de las categorías de productos\")\n",
        "plt.xlabel(\"Categoría de producto\")\n",
        "plt.ylabel(\"Frecuencia\")\n",
        "\n",
        "# Rotar las etiquetas del eje X para mejor visibilidad\n",
        "plt.xticks(rotation=45)\n",
        "\n",
        "# Mostrar el gráfico\n",
        "plt.show()"
      ],
      "metadata": {
        "id": "DKbtrb8tRlA0",
        "outputId": "172837ec-a273-4732-b770-3938d6e4b69b",
        "colab": {
          "base_uri": "https://localhost:8080/",
          "height": 552
        }
      },
      "execution_count": 36,
      "outputs": [
        {
          "output_type": "display_data",
          "data": {
            "text/plain": [
              "<Figure size 640x480 with 1 Axes>"
            ],
            "image/png": "[encoded data removed]"
          },
          "metadata": {}
        }
      ]
    },
    {
      "cell_type": "markdown",
      "source": [
        "Para poder interpretrar la distribución y los porcentajes correspondientes, se declará una función que nos permita calcular los porcentajes del total de las ventas acomuladas."
      ],
      "metadata": {
        "id": "sAeEJFaYnPqc"
      }
    },
    {
      "cell_type": "code",
      "source": [
        "def percentage_category(category, df, column, total):\n",
        "    \"\"\"\n",
        "    Calcula el porcentaje de una categoría específica dentro de un DataFrame de Pandas.\n",
        "\n",
        "    Args:\n",
        "        category: El valor a buscar en la columna especificada.\n",
        "        df: El DataFrame de Pandas en el que se buscará.\n",
        "        column: El nombre de la columna en la que se buscará.\n",
        "        total: El valor total contra el que se calculará el porcentaje.\n",
        "\n",
        "    Returns:\n",
        "        El porcentaje de la categoría redondeado a 2 decimales, o un mensaje de error\n",
        "        si el DataFrame no es válido o no ha sido procesado.\n",
        "    \"\"\"\n",
        "    try:\n",
        "        value = df[df[column] == category][\"count\"].values[0]\n",
        "        return round((value / total) * 100, 2)\n",
        "    except:\n",
        "        return \"dataframe no válido o no procesado\""
      ],
      "metadata": {
        "id": "Du-katk4kpqg"
      },
      "execution_count": 37,
      "outputs": []
    },
    {
      "cell_type": "code",
      "source": [
        "# Definir una lista con las categorías de productos a analizar\n",
        "product_category = [\n",
        "    \"Bakery\",              # Productos horneados\n",
        "    \"Packaged Chocolate\",  # Chocolates empaquetados\n",
        "    \"Coffee\",              # Café\n",
        "    \"Tea\",                 # Té\n",
        "    \"Branded\"              # Productos de marca\n",
        "]\n",
        "\n",
        "# Calcular el total de productos en todas las categorías sumando las frecuencias\n",
        "total_categories = product_category_count.sum().values[1]"
      ],
      "metadata": {
        "id": "mu1TSTRnlhBk"
      },
      "execution_count": 38,
      "outputs": []
    },
    {
      "cell_type": "code",
      "source": [
        "# Iterar sobre cada categoría de producto en la lista product_category\n",
        "for cat in product_category:\n",
        "    # Calcular el porcentaje de ventas de la categoría actual y mostrar el resultado\n",
        "    print(f\"{cat}: {percentage_category(cat, product_category_count, 'product_category', total_categories)} % del total de las ventas\")\n"
      ],
      "metadata": {
        "colab": {
          "base_uri": "https://localhost:8080/"
        },
        "id": "qxQIi2xtld_2",
        "outputId": "964a1a18-70c3-4533-b62d-a7def00bd17f"
      },
      "execution_count": 39,
      "outputs": [
        {
          "output_type": "stream",
          "name": "stdout",
          "text": [
            "Bakery: 15.29 % del total de las ventas\n",
            "Packaged Chocolate: 0.33 % del total de las ventas\n",
            "Coffee: 39.17 % del total de las ventas\n",
            "Tea: 30.48 % del total de las ventas\n",
            "Branded: 0.5 % del total de las ventas\n"
          ]
        }
      ]
    },
    {
      "cell_type": "markdown",
      "source": [
        "Este gráfico nos muestra la distribución de las ventas de la cafetería por categoría de producto, podemos ver que los productos de las categorías *Coffee y Tea* dominan en las ventas totales, lo cuál nos indica que estos productos son los productos favoritos de los clientes, siendo el café casi dos quintas partes del total de las ventas, teniendo un dato especifico del 39.17% de las ventas totales, y el té tiene un 30.48% de las ventas correspondientes. Los productos horneados se encuentran en tercer lugar, siendo un 15.29% de las ventas totales, lo cuál a pesar de ser una categoría secundaria, representan una parte importante de los ingresos.\n",
        "\n",
        "\n",
        "En los productos con menos ventas, podemos ver que los chocolates enpaquetados represetan apenas un 0.33% del total de las ventas, seguidos de los productos con el logo de la tienda con el 0.5% de las ventas acomuladas."
      ],
      "metadata": {
        "id": "-_M2M5rMcPuS"
      }
    },
    {
      "cell_type": "markdown",
      "source": [
        "#### Tipos"
      ],
      "metadata": {
        "id": "MVqsZKWJcDWz"
      }
    },
    {
      "cell_type": "markdown",
      "source": [
        "Para analizar el tipo de producto, primero se va a tener que comprobar el tamaño del conjunto de tipos de productos únicos."
      ],
      "metadata": {
        "id": "d1z9GlFV0NLY"
      }
    },
    {
      "cell_type": "code",
      "source": [
        "# Calcular el número total de tipos de productos únicos en el conjunto de datos\n",
        "len(coffee_sales[\"product_type\"].unique())"
      ],
      "metadata": {
        "colab": {
          "base_uri": "https://localhost:8080/"
        },
        "id": "YQxMDp6Zwp1R",
        "outputId": "a8097579-4746-40e0-921b-cb8828b8f663"
      },
      "execution_count": 40,
      "outputs": [
        {
          "output_type": "execute_result",
          "data": {
            "text/plain": [
              "29"
            ]
          },
          "metadata": {},
          "execution_count": 40
        }
      ]
    },
    {
      "cell_type": "markdown",
      "source": [
        "Considerando el tamaño del conjunto de los datos, se explorá los productos de tienda graficando los 5 productos más vendidos y los 5 menos vendidos."
      ],
      "metadata": {
        "id": "kYZqCS2V0y53"
      }
    },
    {
      "cell_type": "code",
      "source": [
        "# Contar la cantidad de productos en cada Tipo y reiniciar el índice para estructurarlo en un DataFrame\n",
        "product_type_count_top5 = coffee_sales[\"product_type\"].value_counts().reset_index().head()\n",
        "\n",
        "# Crear un gráfico de barras con Seaborn\n",
        "ax = sns.barplot(\n",
        "    x=product_type_count_top5[\"product_type\"],  # Tipo de producto en el eje X\n",
        "    y=product_type_count_top5[\"count\"],  # Frecuencia en el eje Y\n",
        "    hue=product_type_count_top5[\"product_type\"],  # Colorear por Tipo\n",
        ")\n",
        "\n",
        "# Agregar etiquetas numéricas encima de cada barra para visualizar mejor los valores\n",
        "for i, value in enumerate(product_type_count_top5[\"count\"]):\n",
        "    ax.text(i, value + 0.5, str(value), ha=\"center\", fontsize=10, fontweight=\"bold\")\n",
        "\n",
        "# Agregar título y etiquetas a los ejes\n",
        "plt.title(\"Distribución de los 5 tipos de productos más vendidos\")\n",
        "plt.xlabel(\"Tipo de producto\")\n",
        "plt.ylabel(\"Frecuencia\")\n",
        "\n",
        "# Rotar las etiquetas del eje X para mejor visibilidad\n",
        "plt.xticks(rotation=45)\n",
        "\n",
        "# Mostrar el gráfico\n",
        "plt.show()"
      ],
      "metadata": {
        "colab": {
          "base_uri": "https://localhost:8080/",
          "height": 564
        },
        "id": "Wy4KZxucVT1e",
        "outputId": "01804e0d-5011-4a91-c350-287e31d694a0"
      },
      "execution_count": 41,
      "outputs": [
        {
          "output_type": "display_data",
          "data": {
            "text/plain": [
              "<Figure size 640x480 with 1 Axes>"
            ],
            "image/png": "[encoded data removed]"
          },
          "metadata": {}
        }
      ]
    },
    {
      "cell_type": "markdown",
      "source": [
        "Este gráfico reafirma las categorías más vendidas de café y té, pues dentro de los 5 productos más vendidos en la cafetería podemos ver que 2 de ellos corresponden a variantes de café y 3 de ellos corresponden a variantes de té, respectivamente, y mostrando una preferencia del chocolate caliente para una gran parte de las ventas."
      ],
      "metadata": {
        "id": "3NaIiEc936Xz"
      }
    },
    {
      "cell_type": "code",
      "source": [
        "# Contar la cantidad de productos en cada Tipo y reiniciar el índice para estructurarlo en un DataFrame\n",
        "product_type_count_bottom5 = coffee_sales[\"product_type\"].value_counts().reset_index().tail()\n",
        "\n",
        "# Crear un gráfico de barras con Seaborn\n",
        "ax = sns.barplot(\n",
        "    x=product_type_count_bottom5[\"product_type\"],  # Tipo de producto en el eje X\n",
        "    y=product_type_count_bottom5[\"count\"],  # Frecuencia en el eje Y\n",
        "    hue=product_type_count_bottom5[\"product_type\"],  # Colorear por Tipo\n",
        ")\n",
        "\n",
        "# Agregar etiquetas numéricas encima de cada barra para visualizar mejor los valores\n",
        "for i, value in enumerate(product_type_count_bottom5[\"count\"]):\n",
        "    ax.text(i, value + 0.5, str(value), ha=\"center\", fontsize=10, fontweight=\"bold\")\n",
        "\n",
        "# Agregar título y etiquetas a los ejes\n",
        "plt.title(\"Distribución de los 5 tipos de productos menos vendidos\")\n",
        "plt.xlabel(\"Tipo de producto\")\n",
        "plt.ylabel(\"Frecuencia\")\n",
        "\n",
        "# Rotar las etiquetas del eje X para mejor visibilidad\n",
        "plt.xticks(rotation=45)\n",
        "\n",
        "# Mostrar el gráfico\n",
        "plt.show()"
      ],
      "metadata": {
        "colab": {
          "base_uri": "https://localhost:8080/",
          "height": 547
        },
        "id": "g5PWQa0Qe5qq",
        "outputId": "af33f238-fb7f-466a-a574-87c07448a9af"
      },
      "execution_count": 42,
      "outputs": [
        {
          "output_type": "display_data",
          "data": {
            "text/plain": [
              "<Figure size 640x480 with 1 Axes>"
            ],
            "image/png": "[encoded data removed]"
          },
          "metadata": {}
        }
      ]
    },
    {
      "cell_type": "markdown",
      "source": [
        "En este gráfico podemos ver la distribución de los 5 productos menos vendidos en la tienda, al notar que dos tipos de granos (\"House blend Beans y \"Green Beans\"), así como el té verde, conforman una categoría diferente a las menos vendidas, podríamos analizar si su baja demanda se debe a una estrategia de nicho, precios elevados o simplemente a una menor preferencia de los clientes.\n",
        "\n",
        "Con la presencia del chocolate y de los productos de marca de la cafetería, da pie a un posterior analisis para identificar los factores que hacen que estos productos tengan unas ventas bajas y si es posible, encontrar un área de mejora.\n"
      ],
      "metadata": {
        "id": "zIxU80mof0pk"
      }
    },
    {
      "cell_type": "code",
      "source": [
        "coffee_sales[coffee_sales['product_type'].isin(product_type_count_bottom5.iloc[:,0].to_list())][[\"product_type\", \"transaction_qty\"]].sort_values(by=\"transaction_qty\",ascending = False)"
      ],
      "metadata": {
        "id": "Eq5u8rnU-OEF",
        "outputId": "1579cf5d-9f52-42c3-bf78-8ac00703b227",
        "colab": {
          "base_uri": "https://localhost:8080/",
          "height": 423
        }
      },
      "execution_count": 43,
      "outputs": [
        {
          "output_type": "execute_result",
          "data": {
            "text/plain": [
              "             product_type  transaction_qty\n",
              "3519          Green beans                1\n",
              "99606   Organic Chocolate                1\n",
              "99720   Organic Chocolate                1\n",
              "99734         Green beans                1\n",
              "99806            Clothing                1\n",
              "...                   ...              ...\n",
              "47261            Clothing                1\n",
              "47415           Green tea                1\n",
              "47450   Organic Chocolate                1\n",
              "47550           Green tea                1\n",
              "148796  Organic Chocolate                1\n",
              "\n",
              "[918 rows x 2 columns]"
            ],
            "text/html": [
              "\n",
              "  <div id=\"df-c274dca5-2377-4ff9-9837-a1703e62782d\" class=\"colab-df-container\">\n",
              "    <div>\n",
              "<style scoped>\n",
              "    .dataframe tbody tr th:only-of-type {\n",
              "        vertical-align: middle;\n",
              "    }\n",
              "\n",
              "    .dataframe tbody tr th {\n",
              "        vertical-align: top;\n",
              "    }\n",
              "\n",
              "    .dataframe thead th {\n",
              "        text-align: right;\n",
              "    }\n",
              "</style>\n",
              "<table border=\"1\" class=\"dataframe\">\n",
              "  <thead>\n",
              "    <tr style=\"text-align: right;\">\n",
              "      <th></th>\n",
              "      <th>product_type</th>\n",
              "      <th>transaction_qty</th>\n",
              "    </tr>\n",
              "  </thead>\n",
              "  <tbody>\n",
              "    <tr>\n",
              "      <th>3519</th>\n",
              "      <td>Green beans</td>\n",
              "      <td>1</td>\n",
              "    </tr>\n",
              "    <tr>\n",
              "      <th>99606</th>\n",
              "      <td>Organic Chocolate</td>\n",
              "      <td>1</td>\n",
              "    </tr>\n",
              "    <tr>\n",
              "      <th>99720</th>\n",
              "      <td>Organic Chocolate</td>\n",
              "      <td>1</td>\n",
              "    </tr>\n",
              "    <tr>\n",
              "      <th>99734</th>\n",
              "      <td>Green beans</td>\n",
              "      <td>1</td>\n",
              "    </tr>\n",
              "    <tr>\n",
              "      <th>99806</th>\n",
              "      <td>Clothing</td>\n",
              "      <td>1</td>\n",
              "    </tr>\n",
              "    <tr>\n",
              "      <th>...</th>\n",
              "      <td>...</td>\n",
              "      <td>...</td>\n",
              "    </tr>\n",
              "    <tr>\n",
              "      <th>47261</th>\n",
              "      <td>Clothing</td>\n",
              "      <td>1</td>\n",
              "    </tr>\n",
              "    <tr>\n",
              "      <th>47415</th>\n",
              "      <td>Green tea</td>\n",
              "      <td>1</td>\n",
              "    </tr>\n",
              "    <tr>\n",
              "      <th>47450</th>\n",
              "      <td>Organic Chocolate</td>\n",
              "      <td>1</td>\n",
              "    </tr>\n",
              "    <tr>\n",
              "      <th>47550</th>\n",
              "      <td>Green tea</td>\n",
              "      <td>1</td>\n",
              "    </tr>\n",
              "    <tr>\n",
              "      <th>148796</th>\n",
              "      <td>Organic Chocolate</td>\n",
              "      <td>1</td>\n",
              "    </tr>\n",
              "  </tbody>\n",
              "</table>\n",
              "<p>918 rows × 2 columns</p>\n",
              "</div>\n",
              "    <div class=\"colab-df-buttons\">\n",
              "\n",
              "  <div class=\"colab-df-container\">\n",
              "    <button class=\"colab-df-convert\" onclick=\"convertToInteractive('df-c274dca5-2377-4ff9-9837-a1703e62782d')\"\n",
              "            title=\"Convert this dataframe to an interactive table.\"\n",
              "            style=\"display:none;\">\n",
              "\n",
              "  <svg xmlns=\"http://www.w3.org/2000/svg\" height=\"24px\" viewBox=\"0 -960 960 960\">\n",
              "    <path d=\"M120-120v-720h720v720H120Zm60-500h600v-160H180v160Zm220 220h160v-160H400v160Zm0 220h160v-160H400v160ZM180-400h160v-160H180v160Zm440 0h160v-160H620v160ZM180-180h160v-160H180v160Zm440 0h160v-160H620v160Z\"/>\n",
              "  </svg>\n",
              "    </button>\n",
              "\n",
              "  <style>\n",
              "    .colab-df-container {\n",
              "      display:flex;\n",
              "      gap: 12px;\n",
              "    }\n",
              "\n",
              "    .colab-df-convert {\n",
              "      background-color: #E8F0FE;\n",
              "      border: none;\n",
              "      border-radius: 50%;\n",
              "      cursor: pointer;\n",
              "      display: none;\n",
              "      fill: #1967D2;\n",
              "      height: 32px;\n",
              "      padding: 0 0 0 0;\n",
              "      width: 32px;\n",
              "    }\n",
              "\n",
              "    .colab-df-convert:hover {\n",
              "      background-color: #E2EBFA;\n",
              "      box-shadow: 0px 1px 2px rgba(60, 64, 67, 0.3), 0px 1px 3px 1px rgba(60, 64, 67, 0.15);\n",
              "      fill: #174EA6;\n",
              "    }\n",
              "\n",
              "    .colab-df-buttons div {\n",
              "      margin-bottom: 4px;\n",
              "    }\n",
              "\n",
              "    [theme=dark] .colab-df-convert {\n",
              "      background-color: #3B4455;\n",
              "      fill: #D2E3FC;\n",
              "    }\n",
              "\n",
              "    [theme=dark] .colab-df-convert:hover {\n",
              "      background-color: #434B5C;\n",
              "      box-shadow: 0px 1px 3px 1px rgba(0, 0, 0, 0.15);\n",
              "      filter: drop-shadow(0px 1px 2px rgba(0, 0, 0, 0.3));\n",
              "      fill: #FFFFFF;\n",
              "    }\n",
              "  </style>\n",
              "\n",
              "    <script>\n",
              "      const buttonEl =\n",
              "        document.querySelector('#df-c274dca5-2377-4ff9-9837-a1703e62782d button.colab-df-convert');\n",
              "      buttonEl.style.display =\n",
              "        google.colab.kernel.accessAllowed ? 'block' : 'none';\n",
              "\n",
              "      async function convertToInteractive(key) {\n",
              "        const element = document.querySelector('#df-c274dca5-2377-4ff9-9837-a1703e62782d');\n",
              "        const dataTable =\n",
              "          await google.colab.kernel.invokeFunction('convertToInteractive',\n",
              "                                                    [key], {});\n",
              "        if (!dataTable) return;\n",
              "\n",
              "        const docLinkHtml = 'Like what you see? Visit the ' +\n",
              "          '<a target=\"_blank\" href=https://colab.research.google.com/notebooks/data_table.ipynb>data table notebook</a>'\n",
              "          + ' to learn more about interactive tables.';\n",
              "        element.innerHTML = '';\n",
              "        dataTable['output_type'] = 'display_data';\n",
              "        await google.colab.output.renderOutput(dataTable, element);\n",
              "        const docLink = document.createElement('div');\n",
              "        docLink.innerHTML = docLinkHtml;\n",
              "        element.appendChild(docLink);\n",
              "      }\n",
              "    </script>\n",
              "  </div>\n",
              "\n",
              "\n",
              "<div id=\"df-4b1d471f-c4fe-4e57-89e9-3724ecc56f6a\">\n",
              "  <button class=\"colab-df-quickchart\" onclick=\"quickchart('df-4b1d471f-c4fe-4e57-89e9-3724ecc56f6a')\"\n",
              "            title=\"Suggest charts\"\n",
              "            style=\"display:none;\">\n",
              "\n",
              "<svg xmlns=\"http://www.w3.org/2000/svg\" height=\"24px\"viewBox=\"0 0 24 24\"\n",
              "     width=\"24px\">\n",
              "    <g>\n",
              "        <path d=\"M19 3H5c-1.1 0-2 .9-2 2v14c0 1.1.9 2 2 2h14c1.1 0 2-.9 2-2V5c0-1.1-.9-2-2-2zM9 17H7v-7h2v7zm4 0h-2V7h2v10zm4 0h-2v-4h2v4z\"/>\n",
              "    </g>\n",
              "</svg>\n",
              "  </button>\n",
              "\n",
              "<style>\n",
              "  .colab-df-quickchart {\n",
              "      --bg-color: #E8F0FE;\n",
              "      --fill-color: #1967D2;\n",
              "      --hover-bg-color: #E2EBFA;\n",
              "      --hover-fill-color: #174EA6;\n",
              "      --disabled-fill-color: #AAA;\n",
              "      --disabled-bg-color: #DDD;\n",
              "  }\n",
              "\n",
              "  [theme=dark] .colab-df-quickchart {\n",
              "      --bg-color: #3B4455;\n",
              "      --fill-color: #D2E3FC;\n",
              "      --hover-bg-color: #434B5C;\n",
              "      --hover-fill-color: #FFFFFF;\n",
              "      --disabled-bg-color: #3B4455;\n",
              "      --disabled-fill-color: #666;\n",
              "  }\n",
              "\n",
              "  .colab-df-quickchart {\n",
              "    background-color: var(--bg-color);\n",
              "    border: none;\n",
              "    border-radius: 50%;\n",
              "    cursor: pointer;\n",
              "    display: none;\n",
              "    fill: var(--fill-color);\n",
              "    height: 32px;\n",
              "    padding: 0;\n",
              "    width: 32px;\n",
              "  }\n",
              "\n",
              "  .colab-df-quickchart:hover {\n",
              "    background-color: var(--hover-bg-color);\n",
              "    box-shadow: 0 1px 2px rgba(60, 64, 67, 0.3), 0 1px 3px 1px rgba(60, 64, 67, 0.15);\n",
              "    fill: var(--button-hover-fill-color);\n",
              "  }\n",
              "\n",
              "  .colab-df-quickchart-complete:disabled,\n",
              "  .colab-df-quickchart-complete:disabled:hover {\n",
              "    background-color: var(--disabled-bg-color);\n",
              "    fill: var(--disabled-fill-color);\n",
              "    box-shadow: none;\n",
              "  }\n",
              "\n",
              "  .colab-df-spinner {\n",
              "    border: 2px solid var(--fill-color);\n",
              "    border-color: transparent;\n",
              "    border-bottom-color: var(--fill-color);\n",
              "    animation:\n",
              "      spin 1s steps(1) infinite;\n",
              "  }\n",
              "\n",
              "  @keyframes spin {\n",
              "    0% {\n",
              "      border-color: transparent;\n",
              "      border-bottom-color: var(--fill-color);\n",
              "      border-left-color: var(--fill-color);\n",
              "    }\n",
              "    20% {\n",
              "      border-color: transparent;\n",
              "      border-left-color: var(--fill-color);\n",
              "      border-top-color: var(--fill-color);\n",
              "    }\n",
              "    30% {\n",
              "      border-color: transparent;\n",
              "      border-left-color: var(--fill-color);\n",
              "      border-top-color: var(--fill-color);\n",
              "      border-right-color: var(--fill-color);\n",
              "    }\n",
              "    40% {\n",
              "      border-color: transparent;\n",
              "      border-right-color: var(--fill-color);\n",
              "      border-top-color: var(--fill-color);\n",
              "    }\n",
              "    60% {\n",
              "      border-color: transparent;\n",
              "      border-right-color: var(--fill-color);\n",
              "    }\n",
              "    80% {\n",
              "      border-color: transparent;\n",
              "      border-right-color: var(--fill-color);\n",
              "      border-bottom-color: var(--fill-color);\n",
              "    }\n",
              "    90% {\n",
              "      border-color: transparent;\n",
              "      border-bottom-color: var(--fill-color);\n",
              "    }\n",
              "  }\n",
              "</style>\n",
              "\n",
              "  <script>\n",
              "    async function quickchart(key) {\n",
              "      const quickchartButtonEl =\n",
              "        document.querySelector('#' + key + ' button');\n",
              "      quickchartButtonEl.disabled = true;  // To prevent multiple clicks.\n",
              "      quickchartButtonEl.classList.add('colab-df-spinner');\n",
              "      try {\n",
              "        const charts = await google.colab.kernel.invokeFunction(\n",
              "            'suggestCharts', [key], {});\n",
              "      } catch (error) {\n",
              "        console.error('Error during call to suggestCharts:', error);\n",
              "      }\n",
              "      quickchartButtonEl.classList.remove('colab-df-spinner');\n",
              "      quickchartButtonEl.classList.add('colab-df-quickchart-complete');\n",
              "    }\n",
              "    (() => {\n",
              "      let quickchartButtonEl =\n",
              "        document.querySelector('#df-4b1d471f-c4fe-4e57-89e9-3724ecc56f6a button');\n",
              "      quickchartButtonEl.style.display =\n",
              "        google.colab.kernel.accessAllowed ? 'block' : 'none';\n",
              "    })();\n",
              "  </script>\n",
              "</div>\n",
              "\n",
              "    </div>\n",
              "  </div>\n"
            ],
            "application/vnd.google.colaboratory.intrinsic+json": {
              "type": "dataframe",
              "summary": "{\n  \"name\": \"coffee_sales[coffee_sales['product_type']\",\n  \"rows\": 918,\n  \"fields\": [\n    {\n      \"column\": \"product_type\",\n      \"properties\": {\n        \"dtype\": \"category\",\n        \"num_unique_values\": 5,\n        \"samples\": [\n          \"Organic Chocolate\",\n          \"House blend Beans\",\n          \"Clothing\"\n        ],\n        \"semantic_type\": \"\",\n        \"description\": \"\"\n      }\n    },\n    {\n      \"column\": \"transaction_qty\",\n      \"properties\": {\n        \"dtype\": \"number\",\n        \"std\": 0,\n        \"min\": 1,\n        \"max\": 1,\n        \"num_unique_values\": 1,\n        \"samples\": [\n          1\n        ],\n        \"semantic_type\": \"\",\n        \"description\": \"\"\n      }\n    }\n  ]\n}"
            }
          },
          "metadata": {},
          "execution_count": 43
        }
      ]
    },
    {
      "cell_type": "code",
      "source": [
        "bottom_products = coffee_sales[coffee_sales['product_type'].isin(product_type_count_bottom5['product_type'])]\n",
        "columnas = ['transaction_timestamp', 'product_type', 'store_location']\n",
        "bottom_sales_per_month_by_location = (\n",
        "    bottom_products[columnas]\n",
        "    .assign(month=lambda x: x['transaction_timestamp'].dt.strftime('%m %Y'))\n",
        "    .groupby(['store_location', 'month'])\n",
        "    .size()\n",
        "    .reset_index(name='count')\n",
        ")"
      ],
      "metadata": {
        "id": "U2rtp43fzL9c"
      },
      "execution_count": 76,
      "outputs": []
    },
    {
      "cell_type": "code",
      "source": [
        "sns.lineplot(\n",
        "    x = bottom_sales_per_month_by_location[\"month\"],\n",
        "    y = bottom_sales_per_month_by_location[\"count\"],\n",
        "    hue=  bottom_sales_per_month_by_location[\"store_location\"]\n",
        ")\n",
        "plt.show()\n"
      ],
      "metadata": {
        "colab": {
          "base_uri": "https://localhost:8080/",
          "height": 445
        },
        "id": "-A6Gv9FMtZdb",
        "outputId": "20705eed-7908-4269-94b4-17e3e04a8978"
      },
      "execution_count": 77,
      "outputs": [
        {
          "output_type": "display_data",
          "data": {
            "text/plain": [
              "<Figure size 640x480 with 1 Axes>"
            ],
            "image/png": "[encoded data removed]"
          },
          "metadata": {}
        }
      ]
    },
    {
      "cell_type": "code",
      "source": [
        "\n",
        "columnas = ['transaction_timestamp', 'product_category', 'store_location']\n",
        "x = (\n",
        "    coffee_sales[columnas]\n",
        "    .assign(month=coffee_sales['transaction_timestamp'].dt.strftime('%m %Y'))  # Usamos .dt para acceder a las propiedades de fecha\n",
        "    .groupby(['store_location', 'month'])\n",
        "    .size()\n",
        "    .reset_index(name='count')\n",
        ")"
      ],
      "metadata": {
        "id": "WlBsONRlqxsl"
      },
      "execution_count": 78,
      "outputs": []
    },
    {
      "cell_type": "code",
      "source": [
        "sns.lineplot(\n",
        "    x = x[\"month\"],\n",
        "    y = x[\"count\"],\n",
        "    hue=  x[\"store_location\"])"
      ],
      "metadata": {
        "id": "C2EUbg-DrLRY",
        "outputId": "feef51db-8a7e-4bc9-9a19-1afb88297706",
        "colab": {
          "base_uri": "https://localhost:8080/",
          "height": 462
        }
      },
      "execution_count": 79,
      "outputs": [
        {
          "output_type": "execute_result",
          "data": {
            "text/plain": [
              "<Axes: xlabel='month', ylabel='count'>"
            ]
          },
          "metadata": {},
          "execution_count": 79
        },
        {
          "output_type": "display_data",
          "data": {
            "text/plain": [
              "<Figure size 640x480 with 1 Axes>"
            ],
            "image/png": "[encoded data removed]"
          },
          "metadata": {}
        }
      ]
    },
    {
      "cell_type": "code",
      "source": [
        "coffee_sales.info()"
      ],
      "metadata": {
        "colab": {
          "base_uri": "https://localhost:8080/"
        },
        "id": "YFSeNrAoPqc0",
        "outputId": "31abaccd-a254-43ff-aef3-d0a218799c1a"
      },
      "execution_count": 46,
      "outputs": [
        {
          "output_type": "stream",
          "name": "stdout",
          "text": [
            "<class 'pandas.core.frame.DataFrame'>\n",
            "RangeIndex: 149116 entries, 0 to 149115\n",
            "Data columns (total 10 columns):\n",
            " #   Column                 Non-Null Count   Dtype         \n",
            "---  ------                 --------------   -----         \n",
            " 0   transaction_id         149116 non-null  int64         \n",
            " 1   transaction_qty        149116 non-null  int64         \n",
            " 2   store_id               149116 non-null  int64         \n",
            " 3   store_location         149116 non-null  object        \n",
            " 4   product_id             149116 non-null  int64         \n",
            " 5   unit_price             149116 non-null  float64       \n",
            " 6   product_category       149116 non-null  object        \n",
            " 7   product_type           149116 non-null  object        \n",
            " 8   product_detail         149116 non-null  object        \n",
            " 9   transaction_timestamp  149116 non-null  datetime64[ns]\n",
            "dtypes: datetime64[ns](1), float64(1), int64(4), object(4)\n",
            "memory usage: 11.4+ MB\n"
          ]
        }
      ]
    },
    {
      "cell_type": "code",
      "source": [
        "coffee_sales[\"transaction_id\"] = coffee_sales[\"transaction_id\"].astype(\"category\")\n",
        "coffee_sales[\"store_id\"] = coffee_sales[\"store_id\"].astype(\"category\")\n",
        "coffee_sales[\"store_location\"] = coffee_sales[\"store_location\"].astype(\"category\")\n",
        "coffee_sales[\"product_id\"] = coffee_sales[\"product_id\"].astype(\"category\")\n",
        "coffee_sales[\"product_category\"] = coffee_sales[\"product_category\"].astype(\"category\")\n",
        "coffee_sales[\"product_type\"] = coffee_sales[\"product_type\"].astype(\"category\")\n",
        "coffee_sales[\"product_detail\"] = coffee_sales[\"product_detail\"].astype(\"category\")\n",
        "coffee_sales[\"transaction_qty\"] = coffee_sales[\"transaction_qty\"].astype(\"int16\")\n",
        "coffee_sales[\"unit_price\"] = coffee_sales[\"unit_price\"].astype(\"float32\")\n",
        "coffee_sales['transaction_timestamp'] = coffee_sales['transaction_timestamp'].astype('datetime64[s]')"
      ],
      "metadata": {
        "id": "sdP7wA4pP5oA"
      },
      "execution_count": 47,
      "outputs": []
    },
    {
      "cell_type": "code",
      "source": [
        "coffee_sales.info()"
      ],
      "metadata": {
        "id": "7ojQi9NrUPCo",
        "colab": {
          "base_uri": "https://localhost:8080/"
        },
        "outputId": "87c40249-69ab-44e2-f7ee-42b0b20a8a29"
      },
      "execution_count": 48,
      "outputs": [
        {
          "output_type": "stream",
          "name": "stdout",
          "text": [
            "<class 'pandas.core.frame.DataFrame'>\n",
            "RangeIndex: 149116 entries, 0 to 149115\n",
            "Data columns (total 10 columns):\n",
            " #   Column                 Non-Null Count   Dtype        \n",
            "---  ------                 --------------   -----        \n",
            " 0   transaction_id         149116 non-null  category     \n",
            " 1   transaction_qty        149116 non-null  int16        \n",
            " 2   store_id               149116 non-null  category     \n",
            " 3   store_location         149116 non-null  category     \n",
            " 4   product_id             149116 non-null  category     \n",
            " 5   unit_price             149116 non-null  float32      \n",
            " 6   product_category       149116 non-null  category     \n",
            " 7   product_type           149116 non-null  category     \n",
            " 8   product_detail         149116 non-null  category     \n",
            " 9   transaction_timestamp  149116 non-null  datetime64[s]\n",
            "dtypes: category(7), datetime64[s](1), float32(1), int16(1)\n",
            "memory usage: 8.6 MB\n"
          ]
        }
      ]
    }
  ],
  "metadata": {
    "kernelspec": {
      "display_name": "base",
      "language": "python",
      "name": "python3"
    },
    "language_info": {
      "codemirror_mode": {
        "name": "ipython",
        "version": 3
      },
      "file_extension": ".py",
      "mimetype": "text/x-python",
      "name": "python",
      "nbconvert_exporter": "python",
      "pygments_lexer": "ipython3",
      "version": "3.12.4"
    },
    "colab": {
      "provenance": [],
      "toc_visible": true
    }
  },
  "nbformat": 4,
  "nbformat_minor": 0
}