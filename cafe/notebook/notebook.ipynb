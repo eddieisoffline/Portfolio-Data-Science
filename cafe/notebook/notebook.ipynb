{
  "cells": [
    {
      "cell_type": "markdown",
      "source": [
        "#English"
      ],
      "metadata": {
        "id": "rxFxZKHuZyCy"
      }
    },
    {
      "cell_type": "markdown",
      "metadata": {
        "id": "o_buk9ZOZHO9"
      },
      "source": [
        "## 1. Introduction\n",
        "\n"
      ]
    },
    {
      "cell_type": "markdown",
      "source": [
        "In this project, an Exploratory Data Analysis (EDA) and a time series-based sales prediction model were performed using a dataset available at this [link](https://www.kaggle.com/datasets/ahmedabbas757/coffee-sales) from Kaggle.\n",
        "\n",
        "The primary objective of this project is to understand historical sales patterns and develop a machine learning model capable of anticipating future behavior to provide valuable insights for decision-making.\n",
        "\n",
        "The workflow included the following key stages:\n",
        "\n",
        "1. **Data Extraction from Kaggle using an API**:\n",
        "    The Kagglehub API was used to extract the data correctly and ensure it remains updated if there are changes to the data source.\n",
        "\n",
        "2. **Exploratory Data Analysis (EDA)**:\n",
        "    Python and libraries such as pandas, matplotlib, and seaborn were utilized to clean and analyze the dataset, identify trends, seasonality, and key variables affecting sales, as well as to quickly visualize the data.\n",
        "\n",
        "3. **Predictive Modeling with Machine Learning**:\n",
        "    The Prophet forecasting model developed by Facebook was implemented to predict future sales, taking into account trends and seasonal events.\n",
        "\n",
        "4. **Visualization in Power BI**:\n",
        "    The data and results obtained were integrated into an interactive Power BI dashboard, enabling the communication of insights in a visual and intuitive manner.\n",
        "\n",
        "This project aims to demonstrate technical skills in data analysis, predictive modeling, and the creation of dynamic visualizations, as well as the ability to work with modern data science tools and business analytics. This approach is essential for extracting value from data and supporting evidence-based decision-making."
      ],
      "metadata": {
        "id": "InZ-XarAZU5W"
      }
    },
    {
      "cell_type": "markdown",
      "source": [
        "## Project Development\n",
        "\n",
        "This section will detail step by step the process followed to develop the sales analysis and prediction, from setting up the environment and preparing the data to implementing the model and the final visualization."
      ],
      "metadata": {
        "id": "VFs2bn9l5EmM"
      }
    },
    {
      "cell_type": "markdown",
      "source": [
        "### Importing Libraries\n",
        "\n",
        "The first step was to import the necessary libraries to carry out the analysis and modeling. Standard Python tools widely recognized in the data science community were used, along with data visualization tools, the Kagglehub library for data extraction, and Prophet for model development."
      ],
      "metadata": {
        "id": "v2U_uxdo5Z-d"
      }
    },
    {
      "cell_type": "code",
      "source": [
        "# Libraries for data manipulation, handling, and analysis\n",
        "import pandas as pd\n",
        "import numpy as np\n",
        "\n",
        "# Library for data extraction from Kaggle\n",
        "import kagglehub\n",
        "import os\n",
        "\n",
        "# Libraries for visualization\n",
        "import matplotlib.pyplot as plt\n",
        "import seaborn as sns\n",
        "\n",
        "# Libraries for the time series model\n",
        "from prophet import Prophet\n",
        "from prophet.diagnostics import performance_metrics\n",
        "\n",
        "# Handling warnings\n",
        "import warnings\n",
        "warnings.filterwarnings(\"ignore\")\n",
        "\n",
        "# Configuring the style of visualizations\n",
        "plt.style.use('seaborn-v0_8-dark')"
      ],
      "metadata": {
        "id": "e4V9Nusg5m07"
      },
      "execution_count": 51,
      "outputs": []
    },
    {
      "cell_type": "markdown",
      "source": [
        "### Data Extraction\n",
        "\n",
        "To ensure the analysis is based on up-to-date information, the Kagglehub library was used to download the data directly from Kaggle. This approach enables a dynamic and flexible workflow, as the information can be easily synchronized if updates to the dataset occur."
      ],
      "metadata": {
        "id": "n7R7TW0W7TLK"
      }
    },
    {
      "cell_type": "code",
      "source": [
        "# The dataset is downloaded from Kaggle\n",
        "path = kagglehub.dataset_download(\"ahmedabbas757/coffee-sales\")\n",
        "\n",
        "# Name of the downloaded file\n",
        "file_name = \"Coffee Shop Sales.xlsx\"\n",
        "\n",
        "# The full file path is constructed\n",
        "file_path = os.path.join(path, file_name)\n",
        "\n",
        "# The file is loaded into a pandas DataFrame\n",
        "coffee_sales = pd.read_excel(file_path)"
      ],
      "metadata": {
        "colab": {
          "base_uri": "https://localhost:8080/"
        },
        "id": "ytvrD6ZV7ahK",
        "outputId": "eade18dc-45ae-4eee-e576-ff70d9218e67"
      },
      "execution_count": 52,
      "outputs": [
        {
          "output_type": "stream",
          "name": "stdout",
          "text": [
            "Warning: Looks like you're using an outdated `kagglehub` version (installed: 0.3.6), please consider upgrading to the latest version (0.3.7).\n"
          ]
        }
      ]
    },
    {
      "cell_type": "markdown",
      "source": [
        "### Exploratory Data Analysis (EDA)"
      ],
      "metadata": {
        "id": "Az9dgvhQ7syO"
      }
    },
    {
      "cell_type": "markdown",
      "source": [
        "Once the data is loaded into a DataFrame, it is essential to perform an initial exploration to understand its structure and data quality. Using the info() method, we get an overview of the data, showing key information about its structure."
      ],
      "metadata": {
        "id": "u2-nHsVD-4Zh"
      }
    },
    {
      "cell_type": "code",
      "source": [
        "coffee_sales.info()"
      ],
      "metadata": {
        "id": "tVfgvycz-7ks",
        "outputId": "59109f4c-5742-4272-e1b5-bb2b382f7063",
        "colab": {
          "base_uri": "https://localhost:8080/"
        }
      },
      "execution_count": 53,
      "outputs": [
        {
          "output_type": "stream",
          "name": "stdout",
          "text": [
            "<class 'pandas.core.frame.DataFrame'>\n",
            "RangeIndex: 149116 entries, 0 to 149115\n",
            "Data columns (total 11 columns):\n",
            " #   Column            Non-Null Count   Dtype         \n",
            "---  ------            --------------   -----         \n",
            " 0   transaction_id    149116 non-null  int64         \n",
            " 1   transaction_date  149116 non-null  datetime64[ns]\n",
            " 2   transaction_time  149116 non-null  object        \n",
            " 3   transaction_qty   149116 non-null  int64         \n",
            " 4   store_id          149116 non-null  int64         \n",
            " 5   store_location    149116 non-null  object        \n",
            " 6   product_id        149116 non-null  int64         \n",
            " 7   unit_price        149116 non-null  float64       \n",
            " 8   product_category  149116 non-null  object        \n",
            " 9   product_type      149116 non-null  object        \n",
            " 10  product_detail    149116 non-null  object        \n",
            "dtypes: datetime64[ns](1), float64(1), int64(4), object(5)\n",
            "memory usage: 12.5+ MB\n"
          ]
        }
      ]
    },
    {
      "cell_type": "markdown",
      "source": [
        "We can see that the data is organized by a transaction identifier, accompanied by important details such as the transaction date, quantity sold, store location, and product features, such as unit price, category, and type. Additionally, there are a total of 149,116 rows, and most importantly, none of them contain missing data. An additional point to note is that the date and time of the transaction are separated into different columns."
      ],
      "metadata": {
        "id": "drV5MBZq-_Zz"
      }
    },
    {
      "cell_type": "markdown",
      "source": [
        "### Transforming the Date and Time Columns\n",
        "\n",
        "Since the transaction date and time are in separate columns (`transaction_date` and `transaction_time`), the goal of this step is to combine them into a single column with a timestamp format (date and time) to facilitate temporal analysis."
      ],
      "metadata": {
        "id": "zl7bcQez_EMl"
      }
    },
    {
      "cell_type": "code",
      "source": [
        "# The 'transaction_date' and 'transaction_time' columns are concatenated into a single column called 'transaction_timestamp'\n",
        "# First, both columns are converted to string (str) type and joined with a space in between\n",
        "coffee_sales[\"transaction_timestamp\"] = coffee_sales[\"transaction_date\"].astype(str) + ' ' + coffee_sales[\"transaction_time\"].astype(str)\n",
        "\n",
        "# The new 'transaction_timestamp' column is converted to datetime type for easier temporal analysis\n",
        "coffee_sales[\"transaction_timestamp\"] = pd.to_datetime(coffee_sales[\"transaction_timestamp\"])\n",
        "\n",
        "# The original 'transaction_date' and 'transaction_time' columns are dropped\n",
        "coffee_sales.drop([\"transaction_date\", \"transaction_time\"], axis=1, inplace=True)"
      ],
      "metadata": {
        "id": "A53MJXB2_G90"
      },
      "execution_count": 54,
      "outputs": []
    },
    {
      "cell_type": "markdown",
      "source": [
        "To verify that the new column is correct, we can check the data by displaying the first few rows and ensuring that the transaction_timestamp column contains the expected datetime format."
      ],
      "metadata": {
        "id": "UsS3LKAq_L6t"
      }
    },
    {
      "cell_type": "code",
      "source": [
        "coffee_sales[\"transaction_timestamp\"].head()"
      ],
      "metadata": {
        "id": "jNwQu22-_Vny",
        "outputId": "d3ca0597-5622-41c2-df20-5f463f371aaf",
        "colab": {
          "base_uri": "https://localhost:8080/",
          "height": 241
        }
      },
      "execution_count": 55,
      "outputs": [
        {
          "output_type": "execute_result",
          "data": {
            "text/plain": [
              "0   2023-01-01 07:06:11\n",
              "1   2023-01-01 07:08:56\n",
              "2   2023-01-01 07:14:04\n",
              "3   2023-01-01 07:20:24\n",
              "4   2023-01-01 07:22:41\n",
              "Name: transaction_timestamp, dtype: datetime64[ns]"
            ],
            "text/html": [
              "<div>\n",
              "<style scoped>\n",
              "    .dataframe tbody tr th:only-of-type {\n",
              "        vertical-align: middle;\n",
              "    }\n",
              "\n",
              "    .dataframe tbody tr th {\n",
              "        vertical-align: top;\n",
              "    }\n",
              "\n",
              "    .dataframe thead th {\n",
              "        text-align: right;\n",
              "    }\n",
              "</style>\n",
              "<table border=\"1\" class=\"dataframe\">\n",
              "  <thead>\n",
              "    <tr style=\"text-align: right;\">\n",
              "      <th></th>\n",
              "      <th>transaction_timestamp</th>\n",
              "    </tr>\n",
              "  </thead>\n",
              "  <tbody>\n",
              "    <tr>\n",
              "      <th>0</th>\n",
              "      <td>2023-01-01 07:06:11</td>\n",
              "    </tr>\n",
              "    <tr>\n",
              "      <th>1</th>\n",
              "      <td>2023-01-01 07:08:56</td>\n",
              "    </tr>\n",
              "    <tr>\n",
              "      <th>2</th>\n",
              "      <td>2023-01-01 07:14:04</td>\n",
              "    </tr>\n",
              "    <tr>\n",
              "      <th>3</th>\n",
              "      <td>2023-01-01 07:20:24</td>\n",
              "    </tr>\n",
              "    <tr>\n",
              "      <th>4</th>\n",
              "      <td>2023-01-01 07:22:41</td>\n",
              "    </tr>\n",
              "  </tbody>\n",
              "</table>\n",
              "</div><br><label><b>dtype:</b> datetime64[ns]</label>"
            ]
          },
          "metadata": {},
          "execution_count": 55
        }
      ]
    },
    {
      "cell_type": "markdown",
      "source": [
        "### Verification of Duplicate Transactions\n",
        "\n",
        "To ensure that each transaction is unique, we compare the total number of records in the dataset with the number of unique identifiers in the `transaction_id` column. If both values are equal, it means there are no duplicate transactions; otherwise, there are duplicate records in the data."
      ],
      "metadata": {
        "id": "MD4qjPaTio6K"
      }
    },
    {
      "cell_type": "code",
      "source": [
        "# Remove duplicate values in the 'transaction_id' column and count the number of unique identifiers\n",
        "unique_transactions = coffee_sales[\"transaction_id\"].drop_duplicates().shape[0]\n",
        "\n",
        "# Count the total number of rows in the original DataFrame\n",
        "total_transactions = coffee_sales.shape[0]\n",
        "\n",
        "# Compare if the number of unique identifiers is equal to the total number of rows in the DataFrame\n",
        "# If True, each transaction has a unique identifier, meaning there are no duplicates\n",
        "# If False, some transactions share the same 'transaction_id', indicating duplicates\n",
        "unique_transactions == total_transactions"
      ],
      "metadata": {
        "id": "AEpJYpkLiuHS",
        "colab": {
          "base_uri": "https://localhost:8080/"
        },
        "outputId": "b9f58037-555f-4873-ef37-6d784e379713"
      },
      "execution_count": 56,
      "outputs": [
        {
          "output_type": "execute_result",
          "data": {
            "text/plain": [
              "True"
            ]
          },
          "metadata": {},
          "execution_count": 56
        }
      ]
    },
    {
      "cell_type": "markdown",
      "source": [
        "### Detailed Verification of Store Locations\n",
        "\n",
        "To analyze the distribution of transactions per store, the following code counts the frequency of each unique combination of `store_location` and `store_id`. This helps identify how many transactions were recorded at each store and detect potential inconsistencies in the data, such as stores with multiple identifiers or duplicate locations."
      ],
      "metadata": {
        "id": "G4F9h_mdr0HT"
      }
    },
    {
      "cell_type": "code",
      "source": [
        "# Count the frequency of unique combinations of 'store_location' and 'store_id'\n",
        "coffee_sales[[\"store_location\", \"store_id\"]].value_counts()"
      ],
      "metadata": {
        "id": "9OuBB294r8Qc",
        "colab": {
          "base_uri": "https://localhost:8080/",
          "height": 209
        },
        "outputId": "651813a4-f994-49de-fe40-e288a7d0e482"
      },
      "execution_count": 57,
      "outputs": [
        {
          "output_type": "execute_result",
          "data": {
            "text/plain": [
              "store_location   store_id\n",
              "Hell's Kitchen   8           50735\n",
              "Astoria          3           50599\n",
              "Lower Manhattan  5           47782\n",
              "Name: count, dtype: int64"
            ],
            "text/html": [
              "<div>\n",
              "<style scoped>\n",
              "    .dataframe tbody tr th:only-of-type {\n",
              "        vertical-align: middle;\n",
              "    }\n",
              "\n",
              "    .dataframe tbody tr th {\n",
              "        vertical-align: top;\n",
              "    }\n",
              "\n",
              "    .dataframe thead th {\n",
              "        text-align: right;\n",
              "    }\n",
              "</style>\n",
              "<table border=\"1\" class=\"dataframe\">\n",
              "  <thead>\n",
              "    <tr style=\"text-align: right;\">\n",
              "      <th></th>\n",
              "      <th></th>\n",
              "      <th>count</th>\n",
              "    </tr>\n",
              "    <tr>\n",
              "      <th>store_location</th>\n",
              "      <th>store_id</th>\n",
              "      <th></th>\n",
              "    </tr>\n",
              "  </thead>\n",
              "  <tbody>\n",
              "    <tr>\n",
              "      <th>Hell's Kitchen</th>\n",
              "      <th>8</th>\n",
              "      <td>50735</td>\n",
              "    </tr>\n",
              "    <tr>\n",
              "      <th>Astoria</th>\n",
              "      <th>3</th>\n",
              "      <td>50599</td>\n",
              "    </tr>\n",
              "    <tr>\n",
              "      <th>Lower Manhattan</th>\n",
              "      <th>5</th>\n",
              "      <td>47782</td>\n",
              "    </tr>\n",
              "  </tbody>\n",
              "</table>\n",
              "</div><br><label><b>dtype:</b> int64</label>"
            ]
          },
          "metadata": {},
          "execution_count": 57
        }
      ]
    },
    {
      "cell_type": "markdown",
      "source": [
        "The result displays the number of transactions recorded for each `store_location` and `store_id` combination. For example, the store in *Hell’s Kitchen* with ID **8** had **50,735** transactions, while the one in *Astoria* with ID **3** recorded **50,599** sales. Similarly, the store in *Lower Manhattan* with ID **5** accumulated **47,782** transactions."
      ],
      "metadata": {
        "id": "PXhZz8FfsJa6"
      }
    },
    {
      "cell_type": "markdown",
      "source": [
        "### Normalization of Values in Product Details\n",
        "\n",
        "To ensure data consistency in the `product_detail` column, we need to check for inconsistencies such as variations in uppercase and lowercase letters, extra spaces between words, or leading and trailing spaces.\n",
        "\n",
        "To achieve this, we will compare the number of unique values in the dataset before and after normalizing the text by removing extra spaces and converting all text to lowercase."
      ],
      "metadata": {
        "id": "cNrn8CjmBJEf"
      }
    },
    {
      "cell_type": "code",
      "source": [
        "# Print the number of unique values before validation\n",
        "print(f\"Number of unique values before validation: {coffee_sales['product_detail'].value_counts().shape[0]}\")\n",
        "\n",
        "# Print the number of unique values after applying validation (normalizing spaces, converting to lowercase, and stripping)\n",
        "print(\"Number of unique values after validation: \",\n",
        "      coffee_sales['product_detail'].str.replace(r'\\s+', ' ', regex=True).str.lower().str.strip().value_counts().shape[0])\n"
      ],
      "metadata": {
        "colab": {
          "base_uri": "https://localhost:8080/"
        },
        "id": "xRzqc9yPBR3o",
        "outputId": "d91f32c1-f0f0-48c5-c53d-c88ba918455d"
      },
      "execution_count": 58,
      "outputs": [
        {
          "output_type": "stream",
          "name": "stdout",
          "text": [
            "Number of unique values before validation: 80\n",
            "Number of unique values after validation:  80\n"
          ]
        }
      ]
    },
    {
      "cell_type": "markdown",
      "source": [
        "Since the number of unique values remained the same before and after normalization, we can conclude that these data do not require corrections."
      ],
      "metadata": {
        "id": "_jrFsh_tBX9d"
      }
    },
    {
      "cell_type": "markdown",
      "source": [
        "### Checking for Outliers in Unit Prices\n",
        "\n",
        "To check for outliers in the unit prices, we can generate a box plot, which visually represents the distribution of the values. This plot will help us identify any extreme values that may exist outside the interquartile range (IQR)."
      ],
      "metadata": {
        "id": "c2jXoDfrO48Z"
      }
    },
    {
      "cell_type": "code",
      "source": [
        "# Generate the box plot for the 'unit_price' column\n",
        "coffee_sales.boxplot(column=\"unit_price\")\n",
        "plt.title(\"Distribution of Unit Prices\")\n",
        "plt.ylabel(\"Unit Price\")\n",
        "# Call show() to display the plot\n",
        "plt.show()\n"
      ],
      "metadata": {
        "id": "zPlEzBroPS5Y",
        "outputId": "900dcb03-f897-4a6f-ed33-1047486f1d66",
        "colab": {
          "base_uri": "https://localhost:8080/",
          "height": 445
        }
      },
      "execution_count": 83,
      "outputs": [
        {
          "output_type": "display_data",
          "data": {
            "text/plain": [
              "<Figure size 640x480 with 1 Axes>"
            ],
            "image/png": "[encoded data removed]"
          },
          "metadata": {}
        }
      ]
    },
    {
      "cell_type": "markdown",
      "source": [
        "To investigate the prices exceeding $25, we can filter the corresponding records and check which products have these extreme prices."
      ],
      "metadata": {
        "id": "8YrmKfYnPkrs"
      }
    },
    {
      "cell_type": "code",
      "source": [
        "# Filter products with a unit price greater than or equal to 25 dollars and group by quantity\n",
        "coffee_sales[coffee_sales[\"unit_price\"] >= 25][\"product_type\"].value_counts()"
      ],
      "metadata": {
        "id": "BD59VOb1PqqA"
      },
      "execution_count": null,
      "outputs": []
    },
    {
      "cell_type": "code",
      "source": [
        "# Filter products with a unit price greater than or equal to 25 and with product type \"Clothing\"\n",
        "# Then, get the unique values in the 'product_detail' column\n",
        "coffee_sales[(coffee_sales[\"unit_price\"] >= 25) & (coffee_sales[\"product_type\"] == \"Clothing\")][\"product_detail\"].unique()"
      ],
      "metadata": {
        "id": "KPzj4G1yQAHa"
      },
      "execution_count": null,
      "outputs": []
    },
    {
      "cell_type": "markdown",
      "source": [
        "It's clear that the high-priced products are premium and organic coffee bean bags, as well as clothing items with the store's branding.\n",
        "\n",
        "For the next step, let's investigate the minimum prices in the store."
      ],
      "metadata": {
        "id": "d2cuEK2mQKZl"
      }
    },
    {
      "cell_type": "code",
      "source": [
        "# Get the minimum value of the unit price in the \"unit_price\" column\n",
        "coffee_sales[\"unit_price\"].min()"
      ],
      "metadata": {
        "id": "QBy-MM-fQY3t"
      },
      "execution_count": null,
      "outputs": []
    },
    {
      "cell_type": "markdown",
      "source": [
        "\n",
        "To find out which category and product type corresponds to the minimum price of $0.80, you can filter the dataset based on the minimum price."
      ],
      "metadata": {
        "id": "kXilPXkpQBeN"
      }
    },
    {
      "cell_type": "code",
      "source": [
        "# Filter products with a unit price of exactly 0.8 and count the number of products in each category\n",
        "coffee_sales[coffee_sales[\"unit_price\"] == 0.8][\"product_category\"].value_counts()\n"
      ],
      "metadata": {
        "id": "4EeX0Dl8QmR3"
      },
      "execution_count": null,
      "outputs": []
    },
    {
      "cell_type": "code",
      "source": [
        "# Filter products with a unit price of 0.8 and product category \"Flavours\", then count by product type\n",
        "coffee_sales[\n",
        "    (coffee_sales[\"unit_price\"] == 0.8)\n",
        "    &\n",
        "    (coffee_sales[\"product_category\"] == \"Flavours\")\n",
        "][\"product_type\"].value_counts()"
      ],
      "metadata": {
        "id": "TFhA4N0dQ-Sh"
      },
      "execution_count": null,
      "outputs": []
    },
    {
      "cell_type": "markdown",
      "source": [
        "As we can see, syrups are the products with the minimum price in the store, costing $0.80. This suggests that the syrups in the \"Flavours\" category are the least expensive items in the dataset."
      ],
      "metadata": {
        "id": "sttndsODRGFd"
      }
    },
    {
      "cell_type": "markdown",
      "source": [
        "#Español"
      ],
      "metadata": {
        "id": "rbC-jQC_Z2TC"
      }
    },
    {
      "cell_type": "markdown",
      "source": [
        "##1. Introducción"
      ],
      "metadata": {
        "id": "XGnvQNwkZ4BH"
      }
    },
    {
      "cell_type": "markdown",
      "source": [
        "\n",
        "En este proyecto, se realizó un análisis exploratorio de datos (EDA) y un modelo de predicción de ventas basado en series temporales usando un conjunto de datos disponible en este [enlace](https://www.kaggle.com/datasets/ahmedabbas757/coffee-sales) de Kaggle.\n",
        "\n",
        "El Objetivo principal de este proyecto es comprender los patrones históricos de ventas y poder desarrollar un modelo de aprendizaje automático que pueda anticipar el comportamiento futuro para poder proporcionar información valiosa para para la toma de decisiones.\n",
        "\n",
        "El flujo de trabajo incluyó las siguientes etapas principales:\n",
        "\n",
        "\n",
        "1.   **Extracción de los datos de Kaggle usando una Api**:\n",
        "    Se uso la API Kagglehub para poder extraer los datos de manera correcta y poder mantenerlos actualizados si existe un cambio en el origen de los datos.\n",
        "2.   **Análisis Exploratorio de Datos (EDA)**:\n",
        "    Se utilizó Python y bibliotecas como pandas, matplotlib y seaborn para limpiar y analizar el conjunto de datos, identificando tendencias, estacionalidad y variables clave que afectan las ventas, así como para visualizar los datos de manera rápida.\n",
        "3. **Modelado Predictivo de aprendizaje automatico**:\n",
        "    Se implementó el modelo de pronóstico Prophet desarrollado por Facebook para predecir ventas futuras, considerando aspectos como tendencias y eventos estacionales.\n",
        "4. **Visualización en Power BI**:\n",
        "    Los datos y resultados obtenidos se integraron en un tablero interactivo en Power BI, facilitando la comunicación de insights de manera visual e intuitiva.\n",
        "\n",
        "El proyecto busca demostrar habilidades técnicas en análisis de datos, modelado predictivo y creación de visualizaciones dinámicas, así como la capacidad de trabajar con herramientas modernas de ciencia de datos y análisis empresarial. Este enfoque es crucial para extraer valor de los datos y apoyar la toma de decisiones basadas en evidencia.\n",
        "\n"
      ],
      "metadata": {
        "id": "Kd6uuHJWVk0K"
      }
    },
    {
      "cell_type": "markdown",
      "source": [
        "## Desarrollo del proyecto\n",
        "\n",
        "En esta sección, se detallará paso a paso el proceso seguido para desarrollar el análisis y la predicción de las ventas, desde la configuración del entorno y la preparación de los datos, hasta la implementación del modelo y la visualización final."
      ],
      "metadata": {
        "id": "cAK-sMMCZOHn"
      }
    },
    {
      "cell_type": "markdown",
      "source": [
        "### Importación de las librerías\n",
        "\n",
        "El primer paso fue importar las librerías necesarias para llevar a cabo el análisis y modelado. Se utilizaron herramientas estándar de Python que son ampliamente reconocidas en la comunidad de ciencia de datos, así como herramientas de visualización de datos, la libería de Kagglehub para la extracción de los datos y Prophet, para el desarrollo del modelo."
      ],
      "metadata": {
        "id": "6SAOSoxKZVlX"
      }
    },
    {
      "cell_type": "code",
      "execution_count": 59,
      "metadata": {
        "id": "mJogtqsNZHO-"
      },
      "outputs": [],
      "source": [
        "# Librerías para la manipulación, manejo  y análisis de datos\n",
        "import pandas as pd\n",
        "import numpy as np\n",
        "\n",
        "# Librería para extracción de datos desde Kaggle\n",
        "import kagglehub\n",
        "import os\n",
        "\n",
        "# Librerías para visualización\n",
        "import matplotlib.pyplot as plt\n",
        "import seaborn as sns\n",
        "\n",
        "# Librerías para el modelo basado en series temporales\n",
        "from prophet import Prophet\n",
        "from prophet.diagnostics import performance_metrics\n",
        "\n",
        "# Manejo de advertencias\n",
        "import warnings\n",
        "warnings.filterwarnings(\"ignore\")\n",
        "\n",
        "# Configuración del estilo de las visualizaciones\n",
        "plt.style.use('seaborn-v0_8-dark')\n"
      ]
    },
    {
      "cell_type": "markdown",
      "source": [
        "### Extracción de los Datos\n",
        "\n",
        "Para garantizar que el análisis se base en información al día, se utilizó la librería kagglehub para descargar los datos directamente desde Kaggle, esto permite tener un enfoque en un flujo de trabajo dinámico y flexible, ya que la información se puede sincronizar fácilmente en caso de existir actualizaciones en el conjunto de datos."
      ],
      "metadata": {
        "id": "l3g2966n50RR"
      }
    },
    {
      "cell_type": "code",
      "execution_count": 60,
      "metadata": {
        "id": "2cjzfPvWZHPA",
        "colab": {
          "base_uri": "https://localhost:8080/"
        },
        "outputId": "46541715-516f-4e23-c487-219265fc660c"
      },
      "outputs": [
        {
          "output_type": "stream",
          "name": "stdout",
          "text": [
            "Warning: Looks like you're using an outdated `kagglehub` version (installed: 0.3.6), please consider upgrading to the latest version (0.3.7).\n"
          ]
        }
      ],
      "source": [
        "# Se descarga el conjunto de datos desde Kaggle\n",
        "path = kagglehub.dataset_download(\"ahmedabbas757/coffee-sales\")\n",
        "\n",
        "# Nombre del archivo descargado\n",
        "file_name = \"Coffee Shop Sales.xlsx\"\n",
        "\n",
        "# Se construye la ruta completa del archivo\n",
        "file_path = os.path.join(path, file_name)\n",
        "\n",
        "# Se carga el archivo a un DataFrame de pandas.\n",
        "coffee_sales = pd.read_excel(file_path)"
      ]
    },
    {
      "cell_type": "markdown",
      "source": [
        "### Análisis Exploratorio de Datos (EDA)"
      ],
      "metadata": {
        "id": "uMCNkIeK7hiH"
      }
    },
    {
      "cell_type": "markdown",
      "source": [
        "Una vez cargados los datos en un DataFrame, es fundamental realizar una exploración inicial para comprender su estructura y calidad de los datos usando el método info(), este nos proporciona una vista general de los datos para ver información clave sobre la estructura de los datos."
      ],
      "metadata": {
        "id": "jGQirmMm8dCc"
      }
    },
    {
      "cell_type": "code",
      "source": [
        "coffee_sales.info()"
      ],
      "metadata": {
        "colab": {
          "base_uri": "https://localhost:8080/"
        },
        "id": "xvlh06l2ZeBs",
        "outputId": "b2b3ad59-08ea-4402-ff16-958002c7b89a"
      },
      "execution_count": 61,
      "outputs": [
        {
          "output_type": "stream",
          "name": "stdout",
          "text": [
            "<class 'pandas.core.frame.DataFrame'>\n",
            "RangeIndex: 149116 entries, 0 to 149115\n",
            "Data columns (total 11 columns):\n",
            " #   Column            Non-Null Count   Dtype         \n",
            "---  ------            --------------   -----         \n",
            " 0   transaction_id    149116 non-null  int64         \n",
            " 1   transaction_date  149116 non-null  datetime64[ns]\n",
            " 2   transaction_time  149116 non-null  object        \n",
            " 3   transaction_qty   149116 non-null  int64         \n",
            " 4   store_id          149116 non-null  int64         \n",
            " 5   store_location    149116 non-null  object        \n",
            " 6   product_id        149116 non-null  int64         \n",
            " 7   unit_price        149116 non-null  float64       \n",
            " 8   product_category  149116 non-null  object        \n",
            " 9   product_type      149116 non-null  object        \n",
            " 10  product_detail    149116 non-null  object        \n",
            "dtypes: datetime64[ns](1), float64(1), int64(4), object(5)\n",
            "memory usage: 12.5+ MB\n"
          ]
        }
      ]
    },
    {
      "cell_type": "markdown",
      "source": [
        "Podemos ver que los datos están organizados por un identificador de transacción, el cual está acompañado de información importante como la fecha de la transacción, la cantidad vendida, la ubicación de la tienda y características del producto, como su precio unitario, categoría y tipo.\n",
        "Además de estos detalles, se cuenta con un total de 149,116 filas, y lo más relevante es que ninguna de ellas contiene datos nulos. Un aspecto adicional a destacar es que la fecha y la hora de la transacción están separadas en columnas distintas.\n",
        "\n"
      ],
      "metadata": {
        "id": "QvHNDEzp8xFT"
      }
    },
    {
      "cell_type": "markdown",
      "source": [
        "### Transformación de las columnas de fecha y hora\n",
        "\n",
        "Dado que la fecha y la hora de la transacción se encuentran separadas en columnas distintas (`transaction_date` y `transaction_time`), el objetivo de este paso es combinarlas en una sola columna con un formato de timestamp (fecha y hora) para facilitar el análisis temporal."
      ],
      "metadata": {
        "id": "NP5CREAJ-BI4"
      }
    },
    {
      "cell_type": "code",
      "source": [
        "# Se concadenan las columnas 'transaction_date' y 'transaction_time' en una sola columna llamada 'transaction_timestamp'\n",
        "# Primero, se convierte ambas columnas a tipo cadena (str) y se unen con un espacio en medio\n",
        "coffee_sales[\"transaction_timestamp\"] = coffee_sales[\"transaction_date\"].astype(str) + ' ' + coffee_sales[\"transaction_time\"].astype(str)\n",
        "\n",
        "# Se convierte la columna nueva 'transaction_timestamp' a tipo datetime para facilitar el análisis temporal\n",
        "coffee_sales[\"transaction_timestamp\"] = pd.to_datetime(coffee_sales[\"transaction_timestamp\"])\n",
        "\n",
        "# Se eliminan las columnas originales 'transaction_date' y 'transaction_time'\n",
        "coffee_sales.drop([\"transaction_date\", \"transaction_time\"], axis=1, inplace=True)"
      ],
      "metadata": {
        "id": "x8U7gI7xZmjm"
      },
      "execution_count": 62,
      "outputs": []
    },
    {
      "cell_type": "markdown",
      "source": [
        "Para verificar que la nueva columna es correcta, podemos comprobar los datos mostrando las primeras filas y asegurándonos de que la columna transaction_timestamp contiene el formato datetime esperado.\n"
      ],
      "metadata": {
        "id": "cM3yhkk7-ps_"
      }
    },
    {
      "cell_type": "code",
      "source": [
        "coffee_sales[\"transaction_timestamp\"].head()"
      ],
      "metadata": {
        "id": "ACszNvc6GVFG",
        "outputId": "aca15375-560f-427b-8287-dabdb94c8003",
        "colab": {
          "base_uri": "https://localhost:8080/",
          "height": 241
        }
      },
      "execution_count": 63,
      "outputs": [
        {
          "output_type": "execute_result",
          "data": {
            "text/plain": [
              "0   2023-01-01 07:06:11\n",
              "1   2023-01-01 07:08:56\n",
              "2   2023-01-01 07:14:04\n",
              "3   2023-01-01 07:20:24\n",
              "4   2023-01-01 07:22:41\n",
              "Name: transaction_timestamp, dtype: datetime64[ns]"
            ],
            "text/html": [
              "<div>\n",
              "<style scoped>\n",
              "    .dataframe tbody tr th:only-of-type {\n",
              "        vertical-align: middle;\n",
              "    }\n",
              "\n",
              "    .dataframe tbody tr th {\n",
              "        vertical-align: top;\n",
              "    }\n",
              "\n",
              "    .dataframe thead th {\n",
              "        text-align: right;\n",
              "    }\n",
              "</style>\n",
              "<table border=\"1\" class=\"dataframe\">\n",
              "  <thead>\n",
              "    <tr style=\"text-align: right;\">\n",
              "      <th></th>\n",
              "      <th>transaction_timestamp</th>\n",
              "    </tr>\n",
              "  </thead>\n",
              "  <tbody>\n",
              "    <tr>\n",
              "      <th>0</th>\n",
              "      <td>2023-01-01 07:06:11</td>\n",
              "    </tr>\n",
              "    <tr>\n",
              "      <th>1</th>\n",
              "      <td>2023-01-01 07:08:56</td>\n",
              "    </tr>\n",
              "    <tr>\n",
              "      <th>2</th>\n",
              "      <td>2023-01-01 07:14:04</td>\n",
              "    </tr>\n",
              "    <tr>\n",
              "      <th>3</th>\n",
              "      <td>2023-01-01 07:20:24</td>\n",
              "    </tr>\n",
              "    <tr>\n",
              "      <th>4</th>\n",
              "      <td>2023-01-01 07:22:41</td>\n",
              "    </tr>\n",
              "  </tbody>\n",
              "</table>\n",
              "</div><br><label><b>dtype:</b> datetime64[ns]</label>"
            ]
          },
          "metadata": {},
          "execution_count": 63
        }
      ]
    },
    {
      "cell_type": "markdown",
      "source": [
        "### Verificación de duplicados en las transacciones\n",
        "\n",
        "Para asegurarnos de que cada transacción es única, se compara el número de registros originales del conjunto de datos con el número de identificadores únicos en la columna `transaction_id`. Si ambos valores son iguales, significa que no hay transacciones duplicadas; de lo contrario, existen registros repetidos en los datos.\n",
        "\n"
      ],
      "metadata": {
        "id": "owEzTHSYfuA9"
      }
    },
    {
      "cell_type": "code",
      "source": [
        "# Eliminar valores duplicados en la columna 'transaction_id' y contar cuántos identificadores únicos existen\n",
        "unique_transactions = coffee_sales[\"transaction_id\"].drop_duplicates().shape[0]\n",
        "\n",
        "# Contar el número total de filas en el DataFrame original\n",
        "total_transactions = coffee_sales.shape[0]\n",
        "\n",
        "# Comparar si el número de identificadores únicos es igual al número total de filas en el DataFrame\n",
        "# Si es True, significa que cada transacción tiene un identificador único y no hay duplicados\n",
        "# Si es False, significa que existen transacciones con el mismo 'transaction_id' más de una vez\n",
        "unique_transactions == total_transactions"
      ],
      "metadata": {
        "id": "-jRF7-6lIIz5",
        "outputId": "1444ccf1-5242-45b6-e25f-cd820c6ddb38",
        "colab": {
          "base_uri": "https://localhost:8080/"
        }
      },
      "execution_count": 64,
      "outputs": [
        {
          "output_type": "execute_result",
          "data": {
            "text/plain": [
              "True"
            ]
          },
          "metadata": {},
          "execution_count": 64
        }
      ]
    },
    {
      "cell_type": "markdown",
      "source": [
        "### Verificación de las ubicaciones de las tiendas\n",
        "\n",
        "Para analizar la distribución de las transacciones por tienda, el siguiente código cuenta la frecuencia de ocurrencia de cada combinación única de `store_location` y `store_id`. Esto permite identificar cuántas transacciones se realizaron en cada tienda y detectar posibles inconsistencias en los datos, como tiendas con múltiples identificadores o ubicaciones duplicadas."
      ],
      "metadata": {
        "id": "EHK5CkOHi7FJ"
      }
    },
    {
      "cell_type": "code",
      "source": [
        "# Contar la frecuencia de combinaciones únicas de 'store_location' y 'store_id'\n",
        "coffee_sales[[\"store_location\", \"store_id\"]].value_counts()\n"
      ],
      "metadata": {
        "id": "tH8LEcm3Jwie",
        "outputId": "4df6502b-3e7d-4271-981f-3f5849697dde",
        "colab": {
          "base_uri": "https://localhost:8080/",
          "height": 209
        }
      },
      "execution_count": 65,
      "outputs": [
        {
          "output_type": "execute_result",
          "data": {
            "text/plain": [
              "store_location   store_id\n",
              "Hell's Kitchen   8           50735\n",
              "Astoria          3           50599\n",
              "Lower Manhattan  5           47782\n",
              "Name: count, dtype: int64"
            ],
            "text/html": [
              "<div>\n",
              "<style scoped>\n",
              "    .dataframe tbody tr th:only-of-type {\n",
              "        vertical-align: middle;\n",
              "    }\n",
              "\n",
              "    .dataframe tbody tr th {\n",
              "        vertical-align: top;\n",
              "    }\n",
              "\n",
              "    .dataframe thead th {\n",
              "        text-align: right;\n",
              "    }\n",
              "</style>\n",
              "<table border=\"1\" class=\"dataframe\">\n",
              "  <thead>\n",
              "    <tr style=\"text-align: right;\">\n",
              "      <th></th>\n",
              "      <th></th>\n",
              "      <th>count</th>\n",
              "    </tr>\n",
              "    <tr>\n",
              "      <th>store_location</th>\n",
              "      <th>store_id</th>\n",
              "      <th></th>\n",
              "    </tr>\n",
              "  </thead>\n",
              "  <tbody>\n",
              "    <tr>\n",
              "      <th>Hell's Kitchen</th>\n",
              "      <th>8</th>\n",
              "      <td>50735</td>\n",
              "    </tr>\n",
              "    <tr>\n",
              "      <th>Astoria</th>\n",
              "      <th>3</th>\n",
              "      <td>50599</td>\n",
              "    </tr>\n",
              "    <tr>\n",
              "      <th>Lower Manhattan</th>\n",
              "      <th>5</th>\n",
              "      <td>47782</td>\n",
              "    </tr>\n",
              "  </tbody>\n",
              "</table>\n",
              "</div><br><label><b>dtype:</b> int64</label>"
            ]
          },
          "metadata": {},
          "execution_count": 65
        }
      ]
    },
    {
      "cell_type": "markdown",
      "source": [
        "El resultado muestra el número de transacciones registradas en cada combinación de `store_location` y `store_id`. Por ejemplo, la tienda en *Hell’s Kitchen* con el ID **8** tuvo **50,735** transacciones, mientras que la ubicada en *Astoria* con el ID **3** registró **50,599** ventas. De manera similar, la tienda en *Lower Manhattan* con el ID **5** acumuló **47,782** transacciones."
      ],
      "metadata": {
        "id": "SaQjCkGuqs4R"
      }
    },
    {
      "cell_type": "markdown",
      "source": [
        "### Normalización de valores en los detalles de los productos\n",
        "\n",
        "Para verificar que el conjunto de datos no tenga incosistencias en la columna `product_detail`, como pueden ser las variaciones en las mayúsculas o minúsculas, espacios adicionales en medio de las oraciones, al principio o final de estas.\n",
        "\n",
        "Para lograr esto, se va a comparar el tamaño del dataset filtrado por valores únicos antes y después de una normalización de los datos eliminando los espacios extras, asi como convirtiendo el texto a minúsculas."
      ],
      "metadata": {
        "id": "3oQLYds388bz"
      }
    },
    {
      "cell_type": "code",
      "source": [
        "# Imprimir el número de valores únicos antes de la validación\n",
        "print(f\"Numero de valores antes de la validación: {coffee_sales['product_detail'].value_counts().shape[0]}\")\n",
        "\n",
        "# Imprimir el número de valores únicos después de aplicar la validación (normalización de espacios, minúsculas y strip)\n",
        "print(\"Numero de valores después de la validación: \",\n",
        "      coffee_sales['product_detail'].str.replace(r'\\s+', ' ', regex=True).str.lower().str.strip().value_counts().shape[0])\n",
        "\n"
      ],
      "metadata": {
        "id": "ChtPH2goL8qS",
        "outputId": "c5e165a2-de1a-492d-d565-3eeb2f21fd96",
        "colab": {
          "base_uri": "https://localhost:8080/"
        }
      },
      "execution_count": 66,
      "outputs": [
        {
          "output_type": "stream",
          "name": "stdout",
          "text": [
            "Numero de valores antes de la validación: 80\n",
            "Numero de valores después de la validación:  80\n"
          ]
        }
      ]
    },
    {
      "cell_type": "markdown",
      "source": [
        "Como la cantidad de valores únicos se mantuvo igual antes y después de la normalización, podemos concluir que estos datos no requieren correcciones.\n",
        "\n"
      ],
      "metadata": {
        "id": "MgXPgN9U-3Lv"
      }
    },
    {
      "cell_type": "markdown",
      "source": [
        "### Revisar si no hay valores extremos en los precios unitarios\n",
        "\n",
        "Para poder revisar si hay valores extremos en los precios unitarios, se ejecutara un codigo que nos permita generar un gráfico de caja para poder ver visualmente la distribución de los valores. Este gráfico nos ayudará a identificar los valores extremos que puedan existir fuera del rango intercuartílico (IQR)."
      ],
      "metadata": {
        "id": "zn10SgkpFFk5"
      }
    },
    {
      "cell_type": "code",
      "source": [
        "#Se genera el gráfico con la columna unit_price\n",
        "coffee_sales.boxplot(column=\"unit_price\")\n",
        "plt.title(\"Distribución de los precios unitarios\")\n",
        "plt.ylabel(\"Precio unitario\")\n",
        "#se llama show() para mostrar el gráfico\n",
        "plt.show()"
      ],
      "metadata": {
        "id": "KHGlEDk7MJPf",
        "colab": {
          "base_uri": "https://localhost:8080/",
          "height": 465
        },
        "outputId": "19f2b927-8535-4dd9-df07-ccf6dfc1e601"
      },
      "execution_count": 82,
      "outputs": [
        {
          "output_type": "display_data",
          "data": {
            "text/plain": [
              "<Figure size 640x480 with 1 Axes>"
            ],
            "image/png": "[encoded data removed]"
          },
          "metadata": {}
        }
      ]
    },
    {
      "cell_type": "markdown",
      "source": [
        "Podemos ver en el gráfico precios que sobrepasan los $25 doláres, para investigarlo vamos a ejecutar el siguente código."
      ],
      "metadata": {
        "id": "Sa9lmSPdGmEC"
      }
    },
    {
      "cell_type": "code",
      "source": [
        "# Filtrar los productos cuyo precio unitario es mayor o igual a 25 doláres y agrupar por cantidad.\n",
        "coffee_sales[coffee_sales[\"unit_price\"]>=25][\"product_type\"].value_counts()"
      ],
      "metadata": {
        "colab": {
          "base_uri": "https://localhost:8080/",
          "height": 209
        },
        "id": "mtVkBQZoG1Et",
        "outputId": "1fad2f8b-df4c-4280-a90c-3a0ff0acc33a"
      },
      "execution_count": 68,
      "outputs": [
        {
          "output_type": "execute_result",
          "data": {
            "text/plain": [
              "product_type\n",
              "Clothing         216\n",
              "Premium Beans    190\n",
              "Organic Beans     17\n",
              "Name: count, dtype: int64"
            ],
            "text/html": [
              "<div>\n",
              "<style scoped>\n",
              "    .dataframe tbody tr th:only-of-type {\n",
              "        vertical-align: middle;\n",
              "    }\n",
              "\n",
              "    .dataframe tbody tr th {\n",
              "        vertical-align: top;\n",
              "    }\n",
              "\n",
              "    .dataframe thead th {\n",
              "        text-align: right;\n",
              "    }\n",
              "</style>\n",
              "<table border=\"1\" class=\"dataframe\">\n",
              "  <thead>\n",
              "    <tr style=\"text-align: right;\">\n",
              "      <th></th>\n",
              "      <th>count</th>\n",
              "    </tr>\n",
              "    <tr>\n",
              "      <th>product_type</th>\n",
              "      <th></th>\n",
              "    </tr>\n",
              "  </thead>\n",
              "  <tbody>\n",
              "    <tr>\n",
              "      <th>Clothing</th>\n",
              "      <td>216</td>\n",
              "    </tr>\n",
              "    <tr>\n",
              "      <th>Premium Beans</th>\n",
              "      <td>190</td>\n",
              "    </tr>\n",
              "    <tr>\n",
              "      <th>Organic Beans</th>\n",
              "      <td>17</td>\n",
              "    </tr>\n",
              "  </tbody>\n",
              "</table>\n",
              "</div><br><label><b>dtype:</b> int64</label>"
            ]
          },
          "metadata": {},
          "execution_count": 68
        }
      ]
    },
    {
      "cell_type": "code",
      "source": [
        "# Filtrar los productos cuyo precio unitario es mayor o igual a 25 y cuyo tipo de producto es \"Clothing\"\n",
        "# Y  obtener los valores únicos\n",
        "coffee_sales[(coffee_sales[\"unit_price\"]>=25)&(coffee_sales[\"product_type\"]== \"Clothing\")][\"product_detail\"].unique()"
      ],
      "metadata": {
        "colab": {
          "base_uri": "https://localhost:8080/"
        },
        "id": "fpZ84plKHuc7",
        "outputId": "04a5a9a6-b141-4251-f56c-bab83263cb78"
      },
      "execution_count": 84,
      "outputs": [
        {
          "output_type": "execute_result",
          "data": {
            "text/plain": [
              "['I Need My Bean! T-shirt']\n",
              "Categories (80, object): ['Almond Croissant', 'Brazilian - Organic', 'Brazilian Lg', 'Brazilian Rg', ...,\n",
              "                          'Sustainably Grown Organic Rg', 'Traditional Blend Chai', 'Traditional Blend Chai Lg',\n",
              "                          'Traditional Blend Chai Rg']"
            ]
          },
          "metadata": {},
          "execution_count": 84
        }
      ]
    },
    {
      "cell_type": "markdown",
      "source": [
        "Podemos ver que estos productos con precios altos son bolsas de granos de café premium y orgánicos, así como piezas de ropa con el branding de la tienda.\n",
        "\n",
        "Para el siguiente paso se van a investigar los precios mínimos de la tienda."
      ],
      "metadata": {
        "id": "IMrYYZYJG_Bd"
      }
    },
    {
      "cell_type": "code",
      "source": [
        "# Obtener el valor mínimo del precio unitario en la columna \"unit_price\"\n",
        "coffee_sales[\"unit_price\"].min()"
      ],
      "metadata": {
        "colab": {
          "base_uri": "https://localhost:8080/"
        },
        "id": "jaHO-JmjL_p-",
        "outputId": "74a658e0-c52c-4d75-a1fb-e9f05cc3b598"
      },
      "execution_count": 70,
      "outputs": [
        {
          "output_type": "execute_result",
          "data": {
            "text/plain": [
              "0.8"
            ]
          },
          "metadata": {},
          "execution_count": 70
        }
      ]
    },
    {
      "cell_type": "markdown",
      "source": [
        "Podemos ver un precio mínimo de $0.8 doláres, para ver a que categoría y tipo de producto, se va a ejecutar el siguiente código."
      ],
      "metadata": {
        "id": "6-PMO5E5MGiD"
      }
    },
    {
      "cell_type": "code",
      "source": [
        "# Se van a filtrar los productos cuyo precio unitario es exactamente 0.8\n",
        "# y se van a contar la cantidad de productos en cada categoría.\n",
        "coffee_sales[coffee_sales[\"unit_price\"]==0.8][\"product_category\"].value_counts()"
      ],
      "metadata": {
        "colab": {
          "base_uri": "https://localhost:8080/",
          "height": 397
        },
        "id": "tveJWjJpMCCF",
        "outputId": "a3f10be3-12be-4239-986e-0cdcdbb3be26"
      },
      "execution_count": 80,
      "outputs": [
        {
          "output_type": "execute_result",
          "data": {
            "text/plain": [
              "product_category\n",
              "Flavours              6790\n",
              "Bakery                   0\n",
              "Branded                  0\n",
              "Coffee                   0\n",
              "Coffee beans             0\n",
              "Drinking Chocolate       0\n",
              "Loose Tea                0\n",
              "Packaged Chocolate       0\n",
              "Tea                      0\n",
              "Name: count, dtype: int64"
            ],
            "text/html": [
              "<div>\n",
              "<style scoped>\n",
              "    .dataframe tbody tr th:only-of-type {\n",
              "        vertical-align: middle;\n",
              "    }\n",
              "\n",
              "    .dataframe tbody tr th {\n",
              "        vertical-align: top;\n",
              "    }\n",
              "\n",
              "    .dataframe thead th {\n",
              "        text-align: right;\n",
              "    }\n",
              "</style>\n",
              "<table border=\"1\" class=\"dataframe\">\n",
              "  <thead>\n",
              "    <tr style=\"text-align: right;\">\n",
              "      <th></th>\n",
              "      <th>count</th>\n",
              "    </tr>\n",
              "    <tr>\n",
              "      <th>product_category</th>\n",
              "      <th></th>\n",
              "    </tr>\n",
              "  </thead>\n",
              "  <tbody>\n",
              "    <tr>\n",
              "      <th>Flavours</th>\n",
              "      <td>6790</td>\n",
              "    </tr>\n",
              "    <tr>\n",
              "      <th>Bakery</th>\n",
              "      <td>0</td>\n",
              "    </tr>\n",
              "    <tr>\n",
              "      <th>Branded</th>\n",
              "      <td>0</td>\n",
              "    </tr>\n",
              "    <tr>\n",
              "      <th>Coffee</th>\n",
              "      <td>0</td>\n",
              "    </tr>\n",
              "    <tr>\n",
              "      <th>Coffee beans</th>\n",
              "      <td>0</td>\n",
              "    </tr>\n",
              "    <tr>\n",
              "      <th>Drinking Chocolate</th>\n",
              "      <td>0</td>\n",
              "    </tr>\n",
              "    <tr>\n",
              "      <th>Loose Tea</th>\n",
              "      <td>0</td>\n",
              "    </tr>\n",
              "    <tr>\n",
              "      <th>Packaged Chocolate</th>\n",
              "      <td>0</td>\n",
              "    </tr>\n",
              "    <tr>\n",
              "      <th>Tea</th>\n",
              "      <td>0</td>\n",
              "    </tr>\n",
              "  </tbody>\n",
              "</table>\n",
              "</div><br><label><b>dtype:</b> int64</label>"
            ]
          },
          "metadata": {},
          "execution_count": 80
        }
      ]
    },
    {
      "cell_type": "code",
      "source": [
        "# Filtrar los productos cuyo precio unitario es 0.8 y cuya categoría de producto es \"Flavours\" y contar por categoria\n",
        "coffee_sales[\n",
        "    (coffee_sales[\"unit_price\"]==0.8)\n",
        "    &\n",
        "    (coffee_sales[\"product_category\"]== \"Flavours\")\n",
        "    ][\"product_type\"].value_counts()"
      ],
      "metadata": {
        "id": "W3L0Xn0zMsUb",
        "outputId": "4e567df3-8b42-4566-c035-1dc9c5a59138",
        "colab": {
          "base_uri": "https://localhost:8080/",
          "height": 1000
        }
      },
      "execution_count": 78,
      "outputs": [
        {
          "output_type": "execute_result",
          "data": {
            "text/plain": [
              "product_type\n",
              "Regular syrup            4979\n",
              "Sugar free syrup         1811\n",
              "Green tea                   0\n",
              "Scone                       0\n",
              "Premium brewed coffee       0\n",
              "Premium Beans               0\n",
              "Pastry                      0\n",
              "Organic brewed coffee       0\n",
              "Organic Chocolate           0\n",
              "Organic Beans               0\n",
              "Housewares                  0\n",
              "House blend Beans           0\n",
              "Hot chocolate               0\n",
              "Herbal tea                  0\n",
              "Barista Espresso            0\n",
              "Biscotti                    0\n",
              "Gourmet brewed coffee       0\n",
              "Gourmet Beans               0\n",
              "Espresso Beans              0\n",
              "Drip coffee                 0\n",
              "Drinking Chocolate          0\n",
              "Clothing                    0\n",
              "Chai tea                    0\n",
              "Brewed herbal tea           0\n",
              "Brewed Green tea            0\n",
              "Brewed Chai tea             0\n",
              "Brewed Black tea            0\n",
              "Black tea                   0\n",
              "Green beans                 0\n",
              "Name: count, dtype: int64"
            ],
            "text/html": [
              "<div>\n",
              "<style scoped>\n",
              "    .dataframe tbody tr th:only-of-type {\n",
              "        vertical-align: middle;\n",
              "    }\n",
              "\n",
              "    .dataframe tbody tr th {\n",
              "        vertical-align: top;\n",
              "    }\n",
              "\n",
              "    .dataframe thead th {\n",
              "        text-align: right;\n",
              "    }\n",
              "</style>\n",
              "<table border=\"1\" class=\"dataframe\">\n",
              "  <thead>\n",
              "    <tr style=\"text-align: right;\">\n",
              "      <th></th>\n",
              "      <th>count</th>\n",
              "    </tr>\n",
              "    <tr>\n",
              "      <th>product_type</th>\n",
              "      <th></th>\n",
              "    </tr>\n",
              "  </thead>\n",
              "  <tbody>\n",
              "    <tr>\n",
              "      <th>Regular syrup</th>\n",
              "      <td>4979</td>\n",
              "    </tr>\n",
              "    <tr>\n",
              "      <th>Sugar free syrup</th>\n",
              "      <td>1811</td>\n",
              "    </tr>\n",
              "    <tr>\n",
              "      <th>Green tea</th>\n",
              "      <td>0</td>\n",
              "    </tr>\n",
              "    <tr>\n",
              "      <th>Scone</th>\n",
              "      <td>0</td>\n",
              "    </tr>\n",
              "    <tr>\n",
              "      <th>Premium brewed coffee</th>\n",
              "      <td>0</td>\n",
              "    </tr>\n",
              "    <tr>\n",
              "      <th>Premium Beans</th>\n",
              "      <td>0</td>\n",
              "    </tr>\n",
              "    <tr>\n",
              "      <th>Pastry</th>\n",
              "      <td>0</td>\n",
              "    </tr>\n",
              "    <tr>\n",
              "      <th>Organic brewed coffee</th>\n",
              "      <td>0</td>\n",
              "    </tr>\n",
              "    <tr>\n",
              "      <th>Organic Chocolate</th>\n",
              "      <td>0</td>\n",
              "    </tr>\n",
              "    <tr>\n",
              "      <th>Organic Beans</th>\n",
              "      <td>0</td>\n",
              "    </tr>\n",
              "    <tr>\n",
              "      <th>Housewares</th>\n",
              "      <td>0</td>\n",
              "    </tr>\n",
              "    <tr>\n",
              "      <th>House blend Beans</th>\n",
              "      <td>0</td>\n",
              "    </tr>\n",
              "    <tr>\n",
              "      <th>Hot chocolate</th>\n",
              "      <td>0</td>\n",
              "    </tr>\n",
              "    <tr>\n",
              "      <th>Herbal tea</th>\n",
              "      <td>0</td>\n",
              "    </tr>\n",
              "    <tr>\n",
              "      <th>Barista Espresso</th>\n",
              "      <td>0</td>\n",
              "    </tr>\n",
              "    <tr>\n",
              "      <th>Biscotti</th>\n",
              "      <td>0</td>\n",
              "    </tr>\n",
              "    <tr>\n",
              "      <th>Gourmet brewed coffee</th>\n",
              "      <td>0</td>\n",
              "    </tr>\n",
              "    <tr>\n",
              "      <th>Gourmet Beans</th>\n",
              "      <td>0</td>\n",
              "    </tr>\n",
              "    <tr>\n",
              "      <th>Espresso Beans</th>\n",
              "      <td>0</td>\n",
              "    </tr>\n",
              "    <tr>\n",
              "      <th>Drip coffee</th>\n",
              "      <td>0</td>\n",
              "    </tr>\n",
              "    <tr>\n",
              "      <th>Drinking Chocolate</th>\n",
              "      <td>0</td>\n",
              "    </tr>\n",
              "    <tr>\n",
              "      <th>Clothing</th>\n",
              "      <td>0</td>\n",
              "    </tr>\n",
              "    <tr>\n",
              "      <th>Chai tea</th>\n",
              "      <td>0</td>\n",
              "    </tr>\n",
              "    <tr>\n",
              "      <th>Brewed herbal tea</th>\n",
              "      <td>0</td>\n",
              "    </tr>\n",
              "    <tr>\n",
              "      <th>Brewed Green tea</th>\n",
              "      <td>0</td>\n",
              "    </tr>\n",
              "    <tr>\n",
              "      <th>Brewed Chai tea</th>\n",
              "      <td>0</td>\n",
              "    </tr>\n",
              "    <tr>\n",
              "      <th>Brewed Black tea</th>\n",
              "      <td>0</td>\n",
              "    </tr>\n",
              "    <tr>\n",
              "      <th>Black tea</th>\n",
              "      <td>0</td>\n",
              "    </tr>\n",
              "    <tr>\n",
              "      <th>Green beans</th>\n",
              "      <td>0</td>\n",
              "    </tr>\n",
              "  </tbody>\n",
              "</table>\n",
              "</div><br><label><b>dtype:</b> int64</label>"
            ]
          },
          "metadata": {},
          "execution_count": 78
        }
      ]
    },
    {
      "cell_type": "markdown",
      "source": [
        "Como podemos ver, los jarabes son los productos con el precio mínimo en la tienda con un costo de $0.8 doláres."
      ],
      "metadata": {
        "id": "dGiQ-ve4Nksz"
      }
    },
    {
      "cell_type": "markdown",
      "source": [
        "### Exploración visual del conjunto de datos"
      ],
      "metadata": {
        "id": "6tYjdeDLVP_8"
      }
    },
    {
      "cell_type": "markdown",
      "source": [
        "#### Categorías"
      ],
      "metadata": {
        "id": "txH-cKnIVV7F"
      }
    },
    {
      "cell_type": "code",
      "source": [
        "category_colors = {\n",
        "    'Categoría 1': 'skyblue',\n",
        "    'Categoría 2': 'lightgreen',\n",
        "    'Categoría 3': 'salmon',\n",
        "    'Categoría 4': 'orange',\n",
        "    'Categoría 5': 'purple',\n",
        "    'Categoría 6': 'yellow',\n",
        "    'Categoría 7': 'pink',\n",
        "    'Categoría 8': 'lightcoral',\n",
        "    'Categoría 9': 'gold',\n",
        "}\n",
        "for cat, value in zip(coffee_sales[\"product_category\"].unique(), category_colors.values()):\n",
        "  colores[cat] = value\n",
        "# Crear una lista vacía para los colores\n",
        "color_list = []\n",
        "\n",
        "# Usar un ciclo for para asignar los colores a las categorías\n",
        "for category in coffee_sales[\"product_category\"].unique():\n",
        "    color = colores.get(category, 'gray')  # Usar 'gray' como color por defecto si no se encuentra\n",
        "    color_list.append(color)"
      ],
      "metadata": {
        "id": "y8kxup8LTCcM"
      },
      "execution_count": 117,
      "outputs": []
    },
    {
      "cell_type": "code",
      "source": [
        "coffee_sales[\"product_category\"].value_counts().plot(kind = \"bar\", color = color_list)\n",
        "plt.title(\"Distribución de las categorías de productos\")\n",
        "plt.xlabel(\"Categoría de producto\")\n",
        "plt.ylabel(\"Frecuencia\")\n",
        "plt.show()"
      ],
      "metadata": {
        "id": "DKbtrb8tRlA0",
        "outputId": "30400938-2a9d-42ee-a66a-34aed61a909d",
        "colab": {
          "base_uri": "https://localhost:8080/",
          "height": 579
        }
      },
      "execution_count": 118,
      "outputs": [
        {
          "output_type": "display_data",
          "data": {
            "text/plain": [
              "<Figure size 640x480 with 1 Axes>"
            ],
            "image/png": "[encoded data removed]"
          },
          "metadata": {}
        }
      ]
    },
    {
      "cell_type": "code",
      "source": [
        "coffee_sales[\"product_category\"].value_counts()"
      ],
      "metadata": {
        "colab": {
          "base_uri": "https://localhost:8080/",
          "height": 397
        },
        "id": "i4JJDOTFNqBX",
        "outputId": "422cfd64-e589-40e9-e030-b9783983aa54"
      },
      "execution_count": 72,
      "outputs": [
        {
          "output_type": "execute_result",
          "data": {
            "text/plain": [
              "product_category\n",
              "Coffee                58416\n",
              "Tea                   45449\n",
              "Bakery                22796\n",
              "Drinking Chocolate    11468\n",
              "Flavours               6790\n",
              "Coffee beans           1753\n",
              "Loose Tea              1210\n",
              "Branded                 747\n",
              "Packaged Chocolate      487\n",
              "Name: count, dtype: int64"
            ],
            "text/html": [
              "<div>\n",
              "<style scoped>\n",
              "    .dataframe tbody tr th:only-of-type {\n",
              "        vertical-align: middle;\n",
              "    }\n",
              "\n",
              "    .dataframe tbody tr th {\n",
              "        vertical-align: top;\n",
              "    }\n",
              "\n",
              "    .dataframe thead th {\n",
              "        text-align: right;\n",
              "    }\n",
              "</style>\n",
              "<table border=\"1\" class=\"dataframe\">\n",
              "  <thead>\n",
              "    <tr style=\"text-align: right;\">\n",
              "      <th></th>\n",
              "      <th>count</th>\n",
              "    </tr>\n",
              "    <tr>\n",
              "      <th>product_category</th>\n",
              "      <th></th>\n",
              "    </tr>\n",
              "  </thead>\n",
              "  <tbody>\n",
              "    <tr>\n",
              "      <th>Coffee</th>\n",
              "      <td>58416</td>\n",
              "    </tr>\n",
              "    <tr>\n",
              "      <th>Tea</th>\n",
              "      <td>45449</td>\n",
              "    </tr>\n",
              "    <tr>\n",
              "      <th>Bakery</th>\n",
              "      <td>22796</td>\n",
              "    </tr>\n",
              "    <tr>\n",
              "      <th>Drinking Chocolate</th>\n",
              "      <td>11468</td>\n",
              "    </tr>\n",
              "    <tr>\n",
              "      <th>Flavours</th>\n",
              "      <td>6790</td>\n",
              "    </tr>\n",
              "    <tr>\n",
              "      <th>Coffee beans</th>\n",
              "      <td>1753</td>\n",
              "    </tr>\n",
              "    <tr>\n",
              "      <th>Loose Tea</th>\n",
              "      <td>1210</td>\n",
              "    </tr>\n",
              "    <tr>\n",
              "      <th>Branded</th>\n",
              "      <td>747</td>\n",
              "    </tr>\n",
              "    <tr>\n",
              "      <th>Packaged Chocolate</th>\n",
              "      <td>487</td>\n",
              "    </tr>\n",
              "  </tbody>\n",
              "</table>\n",
              "</div><br><label><b>dtype:</b> int64</label>"
            ]
          },
          "metadata": {},
          "execution_count": 72
        }
      ]
    },
    {
      "cell_type": "code",
      "source": [
        "coffee_sales[\"product_type\"].value_counts()"
      ],
      "metadata": {
        "colab": {
          "base_uri": "https://localhost:8080/",
          "height": 1000
        },
        "id": "Rx7lI9BJNzmQ",
        "outputId": "b61bf9eb-0529-4fd1-855d-bea00913b281"
      },
      "execution_count": 73,
      "outputs": [
        {
          "output_type": "execute_result",
          "data": {
            "text/plain": [
              "product_type\n",
              "Brewed Chai tea          17183\n",
              "Gourmet brewed coffee    16912\n",
              "Barista Espresso         16403\n",
              "Hot chocolate            11468\n",
              "Brewed Black tea         11350\n",
              "Brewed herbal tea        11245\n",
              "Scone                    10173\n",
              "Organic brewed coffee     8489\n",
              "Drip coffee               8477\n",
              "Premium brewed coffee     8135\n",
              "Pastry                    6912\n",
              "Biscotti                  5711\n",
              "Brewed Green tea          5671\n",
              "Regular syrup             4979\n",
              "Sugar free syrup          1811\n",
              "Housewares                 526\n",
              "Chai tea                   443\n",
              "Organic Beans              415\n",
              "Gourmet Beans              366\n",
              "Premium Beans              336\n",
              "Espresso Beans             319\n",
              "Herbal tea                 305\n",
              "Black tea                  303\n",
              "Drinking Chocolate         266\n",
              "Organic Chocolate          221\n",
              "Clothing                   221\n",
              "House blend Beans          183\n",
              "Green tea                  159\n",
              "Green beans                134\n",
              "Name: count, dtype: int64"
            ],
            "text/html": [
              "<div>\n",
              "<style scoped>\n",
              "    .dataframe tbody tr th:only-of-type {\n",
              "        vertical-align: middle;\n",
              "    }\n",
              "\n",
              "    .dataframe tbody tr th {\n",
              "        vertical-align: top;\n",
              "    }\n",
              "\n",
              "    .dataframe thead th {\n",
              "        text-align: right;\n",
              "    }\n",
              "</style>\n",
              "<table border=\"1\" class=\"dataframe\">\n",
              "  <thead>\n",
              "    <tr style=\"text-align: right;\">\n",
              "      <th></th>\n",
              "      <th>count</th>\n",
              "    </tr>\n",
              "    <tr>\n",
              "      <th>product_type</th>\n",
              "      <th></th>\n",
              "    </tr>\n",
              "  </thead>\n",
              "  <tbody>\n",
              "    <tr>\n",
              "      <th>Brewed Chai tea</th>\n",
              "      <td>17183</td>\n",
              "    </tr>\n",
              "    <tr>\n",
              "      <th>Gourmet brewed coffee</th>\n",
              "      <td>16912</td>\n",
              "    </tr>\n",
              "    <tr>\n",
              "      <th>Barista Espresso</th>\n",
              "      <td>16403</td>\n",
              "    </tr>\n",
              "    <tr>\n",
              "      <th>Hot chocolate</th>\n",
              "      <td>11468</td>\n",
              "    </tr>\n",
              "    <tr>\n",
              "      <th>Brewed Black tea</th>\n",
              "      <td>11350</td>\n",
              "    </tr>\n",
              "    <tr>\n",
              "      <th>Brewed herbal tea</th>\n",
              "      <td>11245</td>\n",
              "    </tr>\n",
              "    <tr>\n",
              "      <th>Scone</th>\n",
              "      <td>10173</td>\n",
              "    </tr>\n",
              "    <tr>\n",
              "      <th>Organic brewed coffee</th>\n",
              "      <td>8489</td>\n",
              "    </tr>\n",
              "    <tr>\n",
              "      <th>Drip coffee</th>\n",
              "      <td>8477</td>\n",
              "    </tr>\n",
              "    <tr>\n",
              "      <th>Premium brewed coffee</th>\n",
              "      <td>8135</td>\n",
              "    </tr>\n",
              "    <tr>\n",
              "      <th>Pastry</th>\n",
              "      <td>6912</td>\n",
              "    </tr>\n",
              "    <tr>\n",
              "      <th>Biscotti</th>\n",
              "      <td>5711</td>\n",
              "    </tr>\n",
              "    <tr>\n",
              "      <th>Brewed Green tea</th>\n",
              "      <td>5671</td>\n",
              "    </tr>\n",
              "    <tr>\n",
              "      <th>Regular syrup</th>\n",
              "      <td>4979</td>\n",
              "    </tr>\n",
              "    <tr>\n",
              "      <th>Sugar free syrup</th>\n",
              "      <td>1811</td>\n",
              "    </tr>\n",
              "    <tr>\n",
              "      <th>Housewares</th>\n",
              "      <td>526</td>\n",
              "    </tr>\n",
              "    <tr>\n",
              "      <th>Chai tea</th>\n",
              "      <td>443</td>\n",
              "    </tr>\n",
              "    <tr>\n",
              "      <th>Organic Beans</th>\n",
              "      <td>415</td>\n",
              "    </tr>\n",
              "    <tr>\n",
              "      <th>Gourmet Beans</th>\n",
              "      <td>366</td>\n",
              "    </tr>\n",
              "    <tr>\n",
              "      <th>Premium Beans</th>\n",
              "      <td>336</td>\n",
              "    </tr>\n",
              "    <tr>\n",
              "      <th>Espresso Beans</th>\n",
              "      <td>319</td>\n",
              "    </tr>\n",
              "    <tr>\n",
              "      <th>Herbal tea</th>\n",
              "      <td>305</td>\n",
              "    </tr>\n",
              "    <tr>\n",
              "      <th>Black tea</th>\n",
              "      <td>303</td>\n",
              "    </tr>\n",
              "    <tr>\n",
              "      <th>Drinking Chocolate</th>\n",
              "      <td>266</td>\n",
              "    </tr>\n",
              "    <tr>\n",
              "      <th>Organic Chocolate</th>\n",
              "      <td>221</td>\n",
              "    </tr>\n",
              "    <tr>\n",
              "      <th>Clothing</th>\n",
              "      <td>221</td>\n",
              "    </tr>\n",
              "    <tr>\n",
              "      <th>House blend Beans</th>\n",
              "      <td>183</td>\n",
              "    </tr>\n",
              "    <tr>\n",
              "      <th>Green tea</th>\n",
              "      <td>159</td>\n",
              "    </tr>\n",
              "    <tr>\n",
              "      <th>Green beans</th>\n",
              "      <td>134</td>\n",
              "    </tr>\n",
              "  </tbody>\n",
              "</table>\n",
              "</div><br><label><b>dtype:</b> int64</label>"
            ]
          },
          "metadata": {},
          "execution_count": 73
        }
      ]
    },
    {
      "cell_type": "markdown",
      "source": [],
      "metadata": {
        "id": "XTVijbShPsSp"
      }
    },
    {
      "cell_type": "code",
      "source": [
        "coffee_sales.info()"
      ],
      "metadata": {
        "colab": {
          "base_uri": "https://localhost:8080/"
        },
        "id": "YFSeNrAoPqc0",
        "outputId": "faecaba0-a0b8-4468-d61c-8b1c91f8a775"
      },
      "execution_count": 74,
      "outputs": [
        {
          "output_type": "stream",
          "name": "stdout",
          "text": [
            "<class 'pandas.core.frame.DataFrame'>\n",
            "RangeIndex: 149116 entries, 0 to 149115\n",
            "Data columns (total 10 columns):\n",
            " #   Column                 Non-Null Count   Dtype         \n",
            "---  ------                 --------------   -----         \n",
            " 0   transaction_id         149116 non-null  int64         \n",
            " 1   transaction_qty        149116 non-null  int64         \n",
            " 2   store_id               149116 non-null  int64         \n",
            " 3   store_location         149116 non-null  object        \n",
            " 4   product_id             149116 non-null  int64         \n",
            " 5   unit_price             149116 non-null  float64       \n",
            " 6   product_category       149116 non-null  object        \n",
            " 7   product_type           149116 non-null  object        \n",
            " 8   product_detail         149116 non-null  object        \n",
            " 9   transaction_timestamp  149116 non-null  datetime64[ns]\n",
            "dtypes: datetime64[ns](1), float64(1), int64(4), object(4)\n",
            "memory usage: 11.4+ MB\n"
          ]
        }
      ]
    },
    {
      "cell_type": "code",
      "source": [
        "coffee_sales[\"transaction_id\"] = coffee_sales[\"transaction_id\"].astype(\"category\")\n",
        "coffee_sales[\"store_id\"] = coffee_sales[\"store_id\"].astype(\"category\")\n",
        "coffee_sales[\"store_location\"] = coffee_sales[\"store_location\"].astype(\"category\")\n",
        "coffee_sales[\"product_id\"] = coffee_sales[\"product_id\"].astype(\"category\")\n",
        "coffee_sales[\"product_category\"] = coffee_sales[\"product_category\"].astype(\"category\")\n",
        "coffee_sales[\"product_type\"] = coffee_sales[\"product_type\"].astype(\"category\")\n",
        "coffee_sales[\"product_detail\"] = coffee_sales[\"product_detail\"].astype(\"category\")\n",
        "coffee_sales[\"transaction_qty\"] = coffee_sales[\"transaction_qty\"].astype(\"int16\")\n",
        "coffee_sales[\"unit_price\"] = coffee_sales[\"unit_price\"].astype(\"float32\")"
      ],
      "metadata": {
        "id": "sdP7wA4pP5oA"
      },
      "execution_count": 75,
      "outputs": []
    },
    {
      "cell_type": "code",
      "source": [
        "coffee_sales.info()"
      ],
      "metadata": {
        "id": "7ojQi9NrUPCo",
        "colab": {
          "base_uri": "https://localhost:8080/"
        },
        "outputId": "fe93f236-b02d-4702-f5ed-9736e0783443"
      },
      "execution_count": 76,
      "outputs": [
        {
          "output_type": "stream",
          "name": "stdout",
          "text": [
            "<class 'pandas.core.frame.DataFrame'>\n",
            "RangeIndex: 149116 entries, 0 to 149115\n",
            "Data columns (total 10 columns):\n",
            " #   Column                 Non-Null Count   Dtype         \n",
            "---  ------                 --------------   -----         \n",
            " 0   transaction_id         149116 non-null  category      \n",
            " 1   transaction_qty        149116 non-null  int16         \n",
            " 2   store_id               149116 non-null  category      \n",
            " 3   store_location         149116 non-null  category      \n",
            " 4   product_id             149116 non-null  category      \n",
            " 5   unit_price             149116 non-null  float32       \n",
            " 6   product_category       149116 non-null  category      \n",
            " 7   product_type           149116 non-null  category      \n",
            " 8   product_detail         149116 non-null  category      \n",
            " 9   transaction_timestamp  149116 non-null  datetime64[ns]\n",
            "dtypes: category(7), datetime64[ns](1), float32(1), int16(1)\n",
            "memory usage: 8.6 MB\n"
          ]
        }
      ]
    }
  ],
  "metadata": {
    "kernelspec": {
      "display_name": "base",
      "language": "python",
      "name": "python3"
    },
    "language_info": {
      "codemirror_mode": {
        "name": "ipython",
        "version": 3
      },
      "file_extension": ".py",
      "mimetype": "text/x-python",
      "name": "python",
      "nbconvert_exporter": "python",
      "pygments_lexer": "ipython3",
      "version": "3.12.4"
    },
    "colab": {
      "provenance": [],
      "toc_visible": true
    }
  },
  "nbformat": 4,
  "nbformat_minor": 0
}