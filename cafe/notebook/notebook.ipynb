{
  "cells": [
    {
      "cell_type": "markdown",
      "metadata": {
        "id": "o_buk9ZOZHO9"
      },
      "source": []
    },
    {
      "cell_type": "code",
      "execution_count": 22,
      "metadata": {
        "id": "mJogtqsNZHO-"
      },
      "outputs": [],
      "source": [
        "import pandas as pd\n",
        "import kagglehub\n",
        "import os\n"
      ]
    },
    {
      "cell_type": "code",
      "execution_count": 23,
      "metadata": {
        "id": "2cjzfPvWZHPA"
      },
      "outputs": [],
      "source": [
        "path = kagglehub.dataset_download(\"ahmedabbas757/coffee-sales\")\n",
        "file_name = \"Coffee Shop Sales.xlsx\"\n",
        "file_path = os.path.join(path, file_name)\n",
        "coffee_sales = pd.read_excel(file_path)"
      ]
    },
    {
      "cell_type": "code",
      "source": [
        "coffee_sales.info()"
      ],
      "metadata": {
        "colab": {
          "base_uri": "https://localhost:8080/"
        },
        "id": "xvlh06l2ZeBs",
        "outputId": "1f6dd221-53f0-4c91-9643-b1131ffcee98"
      },
      "execution_count": 29,
      "outputs": [
        {
          "output_type": "stream",
          "name": "stdout",
          "text": [
            "<class 'pandas.core.frame.DataFrame'>\n",
            "RangeIndex: 149116 entries, 0 to 149115\n",
            "Data columns (total 10 columns):\n",
            " #   Column                 Non-Null Count   Dtype         \n",
            "---  ------                 --------------   -----         \n",
            " 0   transaction_id         149116 non-null  int64         \n",
            " 1   transaction_qty        149116 non-null  int64         \n",
            " 2   store_id               149116 non-null  int64         \n",
            " 3   store_location         149116 non-null  object        \n",
            " 4   product_id             149116 non-null  int64         \n",
            " 5   unit_price             149116 non-null  float64       \n",
            " 6   product_category       149116 non-null  object        \n",
            " 7   product_type           149116 non-null  object        \n",
            " 8   product_detail         149116 non-null  object        \n",
            " 9   transaction_timestamp  149116 non-null  datetime64[ns]\n",
            "dtypes: datetime64[ns](1), float64(1), int64(4), object(4)\n",
            "memory usage: 11.4+ MB\n"
          ]
        }
      ]
    },
    {
      "cell_type": "code",
      "source": [
        "coffee_sales[\"transaction_timestamp\"] = coffee_sales[\"transaction_date\"].astype(str) + ' ' + coffee_sales[\"transaction_time\"].astype(str)\n",
        "coffee_sales[\"transaction_timestamp\"] = pd.to_datetime(coffee_sales[\"transaction_timestamp\"])\n",
        "coffee_sales.drop([\"transaction_date\", \"transaction_time\"], axis=1, inplace=True)"
      ],
      "metadata": {
        "id": "x8U7gI7xZmjm"
      },
      "execution_count": 27,
      "outputs": []
    },
    {
      "cell_type": "code",
      "source": [
        "coffee_sales[\"transaction_timestamp\"]"
      ],
      "metadata": {
        "id": "ACszNvc6GVFG",
        "outputId": "3187c4bd-a143-4083-ef98-888f71e1ba15",
        "colab": {
          "base_uri": "https://localhost:8080/",
          "height": 458
        }
      },
      "execution_count": 28,
      "outputs": [
        {
          "output_type": "execute_result",
          "data": {
            "text/plain": [
              "0        2023-01-01 07:06:11\n",
              "1        2023-01-01 07:08:56\n",
              "2        2023-01-01 07:14:04\n",
              "3        2023-01-01 07:20:24\n",
              "4        2023-01-01 07:22:41\n",
              "                 ...        \n",
              "149111   2023-06-30 20:18:41\n",
              "149112   2023-06-30 20:25:10\n",
              "149113   2023-06-30 20:31:34\n",
              "149114   2023-06-30 20:57:19\n",
              "149115   2023-06-30 20:57:19\n",
              "Name: transaction_timestamp, Length: 149116, dtype: datetime64[ns]"
            ],
            "text/html": [
              "<div>\n",
              "<style scoped>\n",
              "    .dataframe tbody tr th:only-of-type {\n",
              "        vertical-align: middle;\n",
              "    }\n",
              "\n",
              "    .dataframe tbody tr th {\n",
              "        vertical-align: top;\n",
              "    }\n",
              "\n",
              "    .dataframe thead th {\n",
              "        text-align: right;\n",
              "    }\n",
              "</style>\n",
              "<table border=\"1\" class=\"dataframe\">\n",
              "  <thead>\n",
              "    <tr style=\"text-align: right;\">\n",
              "      <th></th>\n",
              "      <th>transaction_timestamp</th>\n",
              "    </tr>\n",
              "  </thead>\n",
              "  <tbody>\n",
              "    <tr>\n",
              "      <th>0</th>\n",
              "      <td>2023-01-01 07:06:11</td>\n",
              "    </tr>\n",
              "    <tr>\n",
              "      <th>1</th>\n",
              "      <td>2023-01-01 07:08:56</td>\n",
              "    </tr>\n",
              "    <tr>\n",
              "      <th>2</th>\n",
              "      <td>2023-01-01 07:14:04</td>\n",
              "    </tr>\n",
              "    <tr>\n",
              "      <th>3</th>\n",
              "      <td>2023-01-01 07:20:24</td>\n",
              "    </tr>\n",
              "    <tr>\n",
              "      <th>4</th>\n",
              "      <td>2023-01-01 07:22:41</td>\n",
              "    </tr>\n",
              "    <tr>\n",
              "      <th>...</th>\n",
              "      <td>...</td>\n",
              "    </tr>\n",
              "    <tr>\n",
              "      <th>149111</th>\n",
              "      <td>2023-06-30 20:18:41</td>\n",
              "    </tr>\n",
              "    <tr>\n",
              "      <th>149112</th>\n",
              "      <td>2023-06-30 20:25:10</td>\n",
              "    </tr>\n",
              "    <tr>\n",
              "      <th>149113</th>\n",
              "      <td>2023-06-30 20:31:34</td>\n",
              "    </tr>\n",
              "    <tr>\n",
              "      <th>149114</th>\n",
              "      <td>2023-06-30 20:57:19</td>\n",
              "    </tr>\n",
              "    <tr>\n",
              "      <th>149115</th>\n",
              "      <td>2023-06-30 20:57:19</td>\n",
              "    </tr>\n",
              "  </tbody>\n",
              "</table>\n",
              "<p>149116 rows × 1 columns</p>\n",
              "</div><br><label><b>dtype:</b> datetime64[ns]</label>"
            ]
          },
          "metadata": {},
          "execution_count": 28
        }
      ]
    },
    {
      "cell_type": "code",
      "source": [
        "coffee_sales[\"transaction_id\"].drop_duplicates().shape"
      ],
      "metadata": {
        "id": "-jRF7-6lIIz5",
        "outputId": "6fd6f1e0-f645-4b54-efed-35b4ae7b37f9",
        "colab": {
          "base_uri": "https://localhost:8080/"
        }
      },
      "execution_count": 36,
      "outputs": [
        {
          "output_type": "execute_result",
          "data": {
            "text/plain": [
              "(149116,)"
            ]
          },
          "metadata": {},
          "execution_count": 36
        }
      ]
    },
    {
      "cell_type": "code",
      "source": [
        "coffee_sales[[\"store_location\", \"store_id\"]].value_counts()"
      ],
      "metadata": {
        "id": "tH8LEcm3Jwie",
        "outputId": "741bb62b-55c0-40e3-feb8-c5f92f883c3a",
        "colab": {
          "base_uri": "https://localhost:8080/",
          "height": 209
        }
      },
      "execution_count": 48,
      "outputs": [
        {
          "output_type": "execute_result",
          "data": {
            "text/plain": [
              "store_location   store_id\n",
              "Hell's Kitchen   8           50735\n",
              "Astoria          3           50599\n",
              "Lower Manhattan  5           47782\n",
              "Name: count, dtype: int64"
            ],
            "text/html": [
              "<div>\n",
              "<style scoped>\n",
              "    .dataframe tbody tr th:only-of-type {\n",
              "        vertical-align: middle;\n",
              "    }\n",
              "\n",
              "    .dataframe tbody tr th {\n",
              "        vertical-align: top;\n",
              "    }\n",
              "\n",
              "    .dataframe thead th {\n",
              "        text-align: right;\n",
              "    }\n",
              "</style>\n",
              "<table border=\"1\" class=\"dataframe\">\n",
              "  <thead>\n",
              "    <tr style=\"text-align: right;\">\n",
              "      <th></th>\n",
              "      <th></th>\n",
              "      <th>count</th>\n",
              "    </tr>\n",
              "    <tr>\n",
              "      <th>store_location</th>\n",
              "      <th>store_id</th>\n",
              "      <th></th>\n",
              "    </tr>\n",
              "  </thead>\n",
              "  <tbody>\n",
              "    <tr>\n",
              "      <th>Hell's Kitchen</th>\n",
              "      <th>8</th>\n",
              "      <td>50735</td>\n",
              "    </tr>\n",
              "    <tr>\n",
              "      <th>Astoria</th>\n",
              "      <th>3</th>\n",
              "      <td>50599</td>\n",
              "    </tr>\n",
              "    <tr>\n",
              "      <th>Lower Manhattan</th>\n",
              "      <th>5</th>\n",
              "      <td>47782</td>\n",
              "    </tr>\n",
              "  </tbody>\n",
              "</table>\n",
              "</div><br><label><b>dtype:</b> int64</label>"
            ]
          },
          "metadata": {},
          "execution_count": 48
        }
      ]
    },
    {
      "cell_type": "code",
      "source": [
        "coffee_sales[\"product_detail\"].drop_duplicates().value_counts()"
      ],
      "metadata": {
        "id": "ChtPH2goL8qS",
        "outputId": "56fce203-e667-4eff-8af2-c90e902f5693",
        "colab": {
          "base_uri": "https://localhost:8080/",
          "height": 489
        }
      },
      "execution_count": 64,
      "outputs": [
        {
          "output_type": "execute_result",
          "data": {
            "text/plain": [
              "product_detail\n",
              "Ethiopia Rg                  1\n",
              "Spicy Eye Opener Chai Lg     1\n",
              "Chocolate syrup              1\n",
              "Sugar Free Vanilla syrup     1\n",
              "Organic Decaf Blend          1\n",
              "                            ..\n",
              "Columbian Medium Roast Rg    1\n",
              "Brazilian Lg                 1\n",
              "Brazilian Rg                 1\n",
              "Latte                        1\n",
              "I Need My Bean! Diner mug    1\n",
              "Name: count, Length: 80, dtype: int64"
            ],
            "text/html": [
              "<div>\n",
              "<style scoped>\n",
              "    .dataframe tbody tr th:only-of-type {\n",
              "        vertical-align: middle;\n",
              "    }\n",
              "\n",
              "    .dataframe tbody tr th {\n",
              "        vertical-align: top;\n",
              "    }\n",
              "\n",
              "    .dataframe thead th {\n",
              "        text-align: right;\n",
              "    }\n",
              "</style>\n",
              "<table border=\"1\" class=\"dataframe\">\n",
              "  <thead>\n",
              "    <tr style=\"text-align: right;\">\n",
              "      <th></th>\n",
              "      <th>count</th>\n",
              "    </tr>\n",
              "    <tr>\n",
              "      <th>product_detail</th>\n",
              "      <th></th>\n",
              "    </tr>\n",
              "  </thead>\n",
              "  <tbody>\n",
              "    <tr>\n",
              "      <th>Ethiopia Rg</th>\n",
              "      <td>1</td>\n",
              "    </tr>\n",
              "    <tr>\n",
              "      <th>Spicy Eye Opener Chai Lg</th>\n",
              "      <td>1</td>\n",
              "    </tr>\n",
              "    <tr>\n",
              "      <th>Chocolate syrup</th>\n",
              "      <td>1</td>\n",
              "    </tr>\n",
              "    <tr>\n",
              "      <th>Sugar Free Vanilla syrup</th>\n",
              "      <td>1</td>\n",
              "    </tr>\n",
              "    <tr>\n",
              "      <th>Organic Decaf Blend</th>\n",
              "      <td>1</td>\n",
              "    </tr>\n",
              "    <tr>\n",
              "      <th>...</th>\n",
              "      <td>...</td>\n",
              "    </tr>\n",
              "    <tr>\n",
              "      <th>Columbian Medium Roast Rg</th>\n",
              "      <td>1</td>\n",
              "    </tr>\n",
              "    <tr>\n",
              "      <th>Brazilian Lg</th>\n",
              "      <td>1</td>\n",
              "    </tr>\n",
              "    <tr>\n",
              "      <th>Brazilian Rg</th>\n",
              "      <td>1</td>\n",
              "    </tr>\n",
              "    <tr>\n",
              "      <th>Latte</th>\n",
              "      <td>1</td>\n",
              "    </tr>\n",
              "    <tr>\n",
              "      <th>I Need My Bean! Diner mug</th>\n",
              "      <td>1</td>\n",
              "    </tr>\n",
              "  </tbody>\n",
              "</table>\n",
              "<p>80 rows × 1 columns</p>\n",
              "</div><br><label><b>dtype:</b> int64</label>"
            ]
          },
          "metadata": {},
          "execution_count": 64
        }
      ]
    },
    {
      "cell_type": "code",
      "source": [],
      "metadata": {
        "id": "KHGlEDk7MJPf"
      },
      "execution_count": null,
      "outputs": []
    }
  ],
  "metadata": {
    "kernelspec": {
      "display_name": "base",
      "language": "python",
      "name": "python3"
    },
    "language_info": {
      "codemirror_mode": {
        "name": "ipython",
        "version": 3
      },
      "file_extension": ".py",
      "mimetype": "text/x-python",
      "name": "python",
      "nbconvert_exporter": "python",
      "pygments_lexer": "ipython3",
      "version": "3.12.4"
    },
    "colab": {
      "provenance": []
    }
  },
  "nbformat": 4,
  "nbformat_minor": 0
}