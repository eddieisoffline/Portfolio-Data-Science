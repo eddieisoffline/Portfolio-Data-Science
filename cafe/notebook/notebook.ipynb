{
  "cells": [
    {
      "cell_type": "markdown",
      "source": [
        "#English"
      ],
      "metadata": {
        "id": "rxFxZKHuZyCy"
      }
    },
    {
      "cell_type": "markdown",
      "metadata": {
        "id": "o_buk9ZOZHO9"
      },
      "source": [
        "## 1. Introduction\n",
        "\n"
      ]
    },
    {
      "cell_type": "markdown",
      "source": [
        "In this project, an Exploratory Data Analysis (EDA) and a time series-based sales prediction model were performed using a dataset available at this [link](https://www.kaggle.com/datasets/ahmedabbas757/coffee-sales) from Kaggle.\n",
        "\n",
        "The primary objective of this project is to understand historical sales patterns and develop a machine learning model capable of anticipating future behavior to provide valuable insights for decision-making.\n",
        "\n",
        "The workflow included the following key stages:\n",
        "\n",
        "1. **Data Extraction from Kaggle using an API**:\n",
        "    The Kagglehub API was used to extract the data correctly and ensure it remains updated if there are changes to the data source.\n",
        "\n",
        "2. **Exploratory Data Analysis (EDA)**:\n",
        "    Python and libraries such as pandas, matplotlib, and seaborn were utilized to clean and analyze the dataset, identify trends, seasonality, and key variables affecting sales, as well as to quickly visualize the data.\n",
        "\n",
        "3. **Predictive Modeling with Machine Learning**:\n",
        "    The Prophet forecasting model developed by Facebook was implemented to predict future sales, taking into account trends and seasonal events.\n",
        "\n",
        "4. **Visualization in Power BI**:\n",
        "    The data and results obtained were integrated into an interactive Power BI dashboard, enabling the communication of insights in a visual and intuitive manner.\n",
        "\n",
        "This project aims to demonstrate technical skills in data analysis, predictive modeling, and the creation of dynamic visualizations, as well as the ability to work with modern data science tools and business analytics. This approach is essential for extracting value from data and supporting evidence-based decision-making."
      ],
      "metadata": {
        "id": "InZ-XarAZU5W"
      }
    },
    {
      "cell_type": "markdown",
      "source": [
        "\n",
        "\n",
        "---\n",
        "\n"
      ],
      "metadata": {
        "id": "qPKXHbye7D9q"
      }
    },
    {
      "cell_type": "markdown",
      "source": [
        "## 2. Project Development\n",
        "\n",
        "This section will detail step by step the process followed to develop the sales analysis and prediction, from setting up the environment and preparing the data to implementing the model and the final visualization."
      ],
      "metadata": {
        "id": "VFs2bn9l5EmM"
      }
    },
    {
      "cell_type": "markdown",
      "source": [
        "### Importing Libraries\n",
        "\n",
        "The first step was to import the necessary libraries to carry out the analysis and modeling. Standard Python tools widely recognized in the data science community were used, along with data visualization tools, the Kagglehub library for data extraction, and Prophet for model development."
      ],
      "metadata": {
        "id": "v2U_uxdo5Z-d"
      }
    },
    {
      "cell_type": "code",
      "source": [
        "# Libraries for data manipulation, handling, and analysis\n",
        "import pandas as pd\n",
        "import numpy as np\n",
        "\n",
        "# Library for data extraction from Kaggle\n",
        "import kagglehub\n",
        "import os\n",
        "\n",
        "# Libraries for visualization\n",
        "import matplotlib.pyplot as plt\n",
        "import seaborn as sns\n",
        "\n",
        "# Libraries for the time series model\n",
        "from prophet import Prophet\n",
        "from prophet.diagnostics import performance_metrics, cross_validation\n",
        "\n",
        "import random\n",
        "\n",
        "\n",
        "# Library to connect to SQL databases\n",
        "from sqlalchemy import create_engine\n",
        "\n",
        "# Library to load environment variables from a .env file\n",
        "from dotenv import load_dotenv\n",
        "\n",
        "# Library to access the loaded environment variables\n",
        "import os\n",
        "\n",
        "# Handling warnings\n",
        "import warnings\n",
        "warnings.filterwarnings(\"ignore\")\n",
        "\n",
        "# Configuring the style of visualizations\n",
        "plt.style.use('seaborn-v0_8-dark')\n",
        "\n",
        "random.seed(24)"
      ],
      "metadata": {
        "id": "e4V9Nusg5m07"
      },
      "execution_count": 1,
      "outputs": []
    },
    {
      "cell_type": "markdown",
      "source": [
        "### Data Extraction\n",
        "\n",
        "To ensure the analysis is based on up-to-date information, the Kagglehub library was used to download the data directly from Kaggle. This approach enables a dynamic and flexible workflow, as the information can be easily synchronized if updates to the dataset occur."
      ],
      "metadata": {
        "id": "n7R7TW0W7TLK"
      }
    },
    {
      "cell_type": "code",
      "source": [
        "# The dataset is downloaded from Kaggle\n",
        "path = kagglehub.dataset_download(\"ahmedabbas757/coffee-sales\")\n",
        "\n",
        "# Name of the downloaded file\n",
        "file_name = \"Coffee Shop Sales.xlsx\"\n",
        "\n",
        "# The full file path is constructed\n",
        "file_path = os.path.join(path, file_name)\n",
        "\n",
        "# The file is loaded into a pandas DataFrame\n",
        "coffee_sales = pd.read_excel(file_path)"
      ],
      "metadata": {
        "id": "ytvrD6ZV7ahK"
      },
      "execution_count": 2,
      "outputs": []
    },
    {
      "cell_type": "markdown",
      "source": [
        "### Exploratory Data Analysis (EDA)"
      ],
      "metadata": {
        "id": "Az9dgvhQ7syO"
      }
    },
    {
      "cell_type": "markdown",
      "source": [
        "Once the data is loaded into a DataFrame, it is essential to perform an initial exploration to understand its structure and data quality. Using the info() method, we get an overview of the data, showing key information about its structure."
      ],
      "metadata": {
        "id": "u2-nHsVD-4Zh"
      }
    },
    {
      "cell_type": "code",
      "source": [
        "coffee_sales.info()"
      ],
      "metadata": {
        "id": "tVfgvycz-7ks",
        "outputId": "c8b61b6b-8b5c-419b-b062-c7b78a36b658",
        "colab": {
          "base_uri": "https://localhost:8080/"
        }
      },
      "execution_count": 3,
      "outputs": [
        {
          "output_type": "stream",
          "name": "stdout",
          "text": [
            "<class 'pandas.core.frame.DataFrame'>\n",
            "RangeIndex: 149116 entries, 0 to 149115\n",
            "Data columns (total 11 columns):\n",
            " #   Column            Non-Null Count   Dtype         \n",
            "---  ------            --------------   -----         \n",
            " 0   transaction_id    149116 non-null  int64         \n",
            " 1   transaction_date  149116 non-null  datetime64[ns]\n",
            " 2   transaction_time  149116 non-null  object        \n",
            " 3   transaction_qty   149116 non-null  int64         \n",
            " 4   store_id          149116 non-null  int64         \n",
            " 5   store_location    149116 non-null  object        \n",
            " 6   product_id        149116 non-null  int64         \n",
            " 7   unit_price        149116 non-null  float64       \n",
            " 8   product_category  149116 non-null  object        \n",
            " 9   product_type      149116 non-null  object        \n",
            " 10  product_detail    149116 non-null  object        \n",
            "dtypes: datetime64[ns](1), float64(1), int64(4), object(5)\n",
            "memory usage: 12.5+ MB\n"
          ]
        }
      ]
    },
    {
      "cell_type": "markdown",
      "source": [
        "We can see that the data is organized by a transaction identifier, accompanied by important details such as the transaction date, quantity sold, store location, and product features, such as unit price, category, and type. Additionally, there are a total of 149,116 rows, and most importantly, none of them contain missing data. An additional point to note is that the date and time of the transaction are separated into different columns."
      ],
      "metadata": {
        "id": "drV5MBZq-_Zz"
      }
    },
    {
      "cell_type": "markdown",
      "source": [
        "### Transforming the Date and Time Columns\n",
        "\n",
        "Since the transaction date and time are in separate columns (`transaction_date` and `transaction_time`), the goal of this step is to combine them into a single column with a timestamp format (date and time) to facilitate temporal analysis."
      ],
      "metadata": {
        "id": "zl7bcQez_EMl"
      }
    },
    {
      "cell_type": "code",
      "source": [
        "# The 'transaction_date' and 'transaction_time' columns are concatenated into a single column called 'transaction_timestamp'\n",
        "# First, both columns are converted to string (str) type and joined with a space in between\n",
        "coffee_sales[\"transaction_timestamp\"] = coffee_sales[\"transaction_date\"].astype(str) + ' ' + coffee_sales[\"transaction_time\"].astype(str)\n",
        "\n",
        "# The new 'transaction_timestamp' column is converted to datetime type for easier temporal analysis\n",
        "coffee_sales[\"transaction_timestamp\"] = pd.to_datetime(coffee_sales[\"transaction_timestamp\"])\n",
        "\n",
        "# The original 'transaction_date' and 'transaction_time' columns are dropped\n",
        "coffee_sales.drop([\"transaction_date\", \"transaction_time\"], axis=1, inplace=True)"
      ],
      "metadata": {
        "id": "A53MJXB2_G90"
      },
      "execution_count": 4,
      "outputs": []
    },
    {
      "cell_type": "markdown",
      "source": [
        "To verify that the new column is correct, we can check the data by displaying the first few rows and ensuring that the transaction_timestamp column contains the expected datetime format."
      ],
      "metadata": {
        "id": "UsS3LKAq_L6t"
      }
    },
    {
      "cell_type": "code",
      "source": [
        "coffee_sales[\"transaction_timestamp\"].head()"
      ],
      "metadata": {
        "id": "jNwQu22-_Vny",
        "outputId": "29df4d10-2b8e-4739-f87d-26491228f5a9",
        "colab": {
          "base_uri": "https://localhost:8080/",
          "height": 241
        }
      },
      "execution_count": 5,
      "outputs": [
        {
          "output_type": "execute_result",
          "data": {
            "text/plain": [
              "0   2023-01-01 07:06:11\n",
              "1   2023-01-01 07:08:56\n",
              "2   2023-01-01 07:14:04\n",
              "3   2023-01-01 07:20:24\n",
              "4   2023-01-01 07:22:41\n",
              "Name: transaction_timestamp, dtype: datetime64[ns]"
            ],
            "text/html": [
              "<div>\n",
              "<style scoped>\n",
              "    .dataframe tbody tr th:only-of-type {\n",
              "        vertical-align: middle;\n",
              "    }\n",
              "\n",
              "    .dataframe tbody tr th {\n",
              "        vertical-align: top;\n",
              "    }\n",
              "\n",
              "    .dataframe thead th {\n",
              "        text-align: right;\n",
              "    }\n",
              "</style>\n",
              "<table border=\"1\" class=\"dataframe\">\n",
              "  <thead>\n",
              "    <tr style=\"text-align: right;\">\n",
              "      <th></th>\n",
              "      <th>transaction_timestamp</th>\n",
              "    </tr>\n",
              "  </thead>\n",
              "  <tbody>\n",
              "    <tr>\n",
              "      <th>0</th>\n",
              "      <td>2023-01-01 07:06:11</td>\n",
              "    </tr>\n",
              "    <tr>\n",
              "      <th>1</th>\n",
              "      <td>2023-01-01 07:08:56</td>\n",
              "    </tr>\n",
              "    <tr>\n",
              "      <th>2</th>\n",
              "      <td>2023-01-01 07:14:04</td>\n",
              "    </tr>\n",
              "    <tr>\n",
              "      <th>3</th>\n",
              "      <td>2023-01-01 07:20:24</td>\n",
              "    </tr>\n",
              "    <tr>\n",
              "      <th>4</th>\n",
              "      <td>2023-01-01 07:22:41</td>\n",
              "    </tr>\n",
              "  </tbody>\n",
              "</table>\n",
              "</div><br><label><b>dtype:</b> datetime64[ns]</label>"
            ]
          },
          "metadata": {},
          "execution_count": 5
        }
      ]
    },
    {
      "cell_type": "markdown",
      "source": [
        "### Verification of Duplicate Transactions\n",
        "\n",
        "To ensure that each transaction is unique, we compare the total number of records in the dataset with the number of unique identifiers in the `transaction_id` column. If both values are equal, it means there are no duplicate transactions; otherwise, there are duplicate records in the data."
      ],
      "metadata": {
        "id": "MD4qjPaTio6K"
      }
    },
    {
      "cell_type": "code",
      "source": [
        "# Remove duplicate values in the 'transaction_id' column and count the number of unique identifiers\n",
        "unique_transactions = coffee_sales[\"transaction_id\"].drop_duplicates().shape[0]\n",
        "\n",
        "# Count the total number of rows in the original DataFrame\n",
        "total_transactions = coffee_sales.shape[0]\n",
        "\n",
        "# Compare if the number of unique identifiers is equal to the total number of rows in the DataFrame\n",
        "# If True, each transaction has a unique identifier, meaning there are no duplicates\n",
        "# If False, some transactions share the same 'transaction_id', indicating duplicates\n",
        "unique_transactions == total_transactions"
      ],
      "metadata": {
        "id": "AEpJYpkLiuHS",
        "colab": {
          "base_uri": "https://localhost:8080/"
        },
        "outputId": "aff2b049-a770-4190-a799-47884c60abea"
      },
      "execution_count": 6,
      "outputs": [
        {
          "output_type": "execute_result",
          "data": {
            "text/plain": [
              "True"
            ]
          },
          "metadata": {},
          "execution_count": 6
        }
      ]
    },
    {
      "cell_type": "markdown",
      "source": [
        "### Detailed Verification of Store Locations\n",
        "\n",
        "To analyze the distribution of transactions per store, the following code counts the frequency of each unique combination of `store_location` and `store_id`. This helps identify how many transactions were recorded at each store and detect potential inconsistencies in the data, such as stores with multiple identifiers or duplicate locations."
      ],
      "metadata": {
        "id": "G4F9h_mdr0HT"
      }
    },
    {
      "cell_type": "code",
      "source": [
        "# Count the frequency of unique combinations of 'store_location' and 'store_id'\n",
        "coffee_sales[[\"store_location\", \"store_id\"]].value_counts()"
      ],
      "metadata": {
        "id": "9OuBB294r8Qc",
        "colab": {
          "base_uri": "https://localhost:8080/",
          "height": 209
        },
        "outputId": "67a404d9-233a-4e0a-e1d3-d6a9e8dc0973"
      },
      "execution_count": 7,
      "outputs": [
        {
          "output_type": "execute_result",
          "data": {
            "text/plain": [
              "store_location   store_id\n",
              "Hell's Kitchen   8           50735\n",
              "Astoria          3           50599\n",
              "Lower Manhattan  5           47782\n",
              "Name: count, dtype: int64"
            ],
            "text/html": [
              "<div>\n",
              "<style scoped>\n",
              "    .dataframe tbody tr th:only-of-type {\n",
              "        vertical-align: middle;\n",
              "    }\n",
              "\n",
              "    .dataframe tbody tr th {\n",
              "        vertical-align: top;\n",
              "    }\n",
              "\n",
              "    .dataframe thead th {\n",
              "        text-align: right;\n",
              "    }\n",
              "</style>\n",
              "<table border=\"1\" class=\"dataframe\">\n",
              "  <thead>\n",
              "    <tr style=\"text-align: right;\">\n",
              "      <th></th>\n",
              "      <th></th>\n",
              "      <th>count</th>\n",
              "    </tr>\n",
              "    <tr>\n",
              "      <th>store_location</th>\n",
              "      <th>store_id</th>\n",
              "      <th></th>\n",
              "    </tr>\n",
              "  </thead>\n",
              "  <tbody>\n",
              "    <tr>\n",
              "      <th>Hell's Kitchen</th>\n",
              "      <th>8</th>\n",
              "      <td>50735</td>\n",
              "    </tr>\n",
              "    <tr>\n",
              "      <th>Astoria</th>\n",
              "      <th>3</th>\n",
              "      <td>50599</td>\n",
              "    </tr>\n",
              "    <tr>\n",
              "      <th>Lower Manhattan</th>\n",
              "      <th>5</th>\n",
              "      <td>47782</td>\n",
              "    </tr>\n",
              "  </tbody>\n",
              "</table>\n",
              "</div><br><label><b>dtype:</b> int64</label>"
            ]
          },
          "metadata": {},
          "execution_count": 7
        }
      ]
    },
    {
      "cell_type": "markdown",
      "source": [
        "The result displays the number of transactions recorded for each `store_location` and `store_id` combination. For example, the store in *Hell’s Kitchen* with ID **8** had **50,735** transactions, while the one in *Astoria* with ID **3** recorded **50,599** sales. Similarly, the store in *Lower Manhattan* with ID **5** accumulated **47,782** transactions."
      ],
      "metadata": {
        "id": "PXhZz8FfsJa6"
      }
    },
    {
      "cell_type": "markdown",
      "source": [
        "### Normalization of Values in Product Details\n",
        "\n",
        "To ensure data consistency in the `product_detail` column, we need to check for inconsistencies such as variations in uppercase and lowercase letters, extra spaces between words, or leading and trailing spaces.\n",
        "\n",
        "To achieve this, we will compare the number of unique values in the dataset before and after normalizing the text by removing extra spaces and converting all text to lowercase."
      ],
      "metadata": {
        "id": "cNrn8CjmBJEf"
      }
    },
    {
      "cell_type": "code",
      "source": [
        "# Print the number of unique values before validation\n",
        "print(f\"Number of unique values before validation: {coffee_sales['product_detail'].value_counts().shape[0]}\")\n",
        "\n",
        "# Print the number of unique values after applying validation (normalizing spaces, converting to lowercase, and stripping)\n",
        "print(\"Number of unique values after validation: \",\n",
        "      coffee_sales['product_detail'].str.replace(r'\\s+', ' ', regex=True).str.lower().str.strip().value_counts().shape[0])\n"
      ],
      "metadata": {
        "colab": {
          "base_uri": "https://localhost:8080/"
        },
        "id": "xRzqc9yPBR3o",
        "outputId": "4da94d6d-5be5-4773-dc61-df7e85b0a714"
      },
      "execution_count": 8,
      "outputs": [
        {
          "output_type": "stream",
          "name": "stdout",
          "text": [
            "Number of unique values before validation: 80\n",
            "Number of unique values after validation:  80\n"
          ]
        }
      ]
    },
    {
      "cell_type": "markdown",
      "source": [
        "Since the number of unique values remained the same before and after normalization, we can conclude that these data do not require corrections."
      ],
      "metadata": {
        "id": "_jrFsh_tBX9d"
      }
    },
    {
      "cell_type": "markdown",
      "source": [
        "### Checking for Outliers in Unit Prices\n",
        "\n",
        "To check for outliers in the unit prices, we can generate a box plot, which visually represents the distribution of the values. This plot will help us identify any extreme values that may exist outside the interquartile range (IQR)."
      ],
      "metadata": {
        "id": "c2jXoDfrO48Z"
      }
    },
    {
      "cell_type": "code",
      "source": [
        "# Generate the box plot for the 'unit_price' column\n",
        "sns.boxplot(coffee_sales[\"unit_price\"], fill=False)\n",
        "plt.title(\"Distribution of Unit Prices\")\n",
        "plt.ylabel(\"Count\")\n",
        "plt.xlabel(\"Unit Price\")\n",
        "# Call show() to display the plot\n",
        "plt.show()\n"
      ],
      "metadata": {
        "id": "zPlEzBroPS5Y",
        "outputId": "3f9269c9-4dca-4e70-f10a-ef5447957120",
        "colab": {
          "base_uri": "https://localhost:8080/",
          "height": 451
        }
      },
      "execution_count": 9,
      "outputs": [
        {
          "output_type": "display_data",
          "data": {
            "text/plain": [
              "<Figure size 640x480 with 1 Axes>"
            ],
            "image/png": "[encoded data removed]"
          },
          "metadata": {}
        }
      ]
    },
    {
      "cell_type": "markdown",
      "source": [
        "To investigate the prices exceeding $25, we can filter the corresponding records and check which products have these extreme prices."
      ],
      "metadata": {
        "id": "8YrmKfYnPkrs"
      }
    },
    {
      "cell_type": "code",
      "source": [
        "# Filter products with a unit price greater than or equal to 25 dollars and group by quantity\n",
        "coffee_sales[coffee_sales[\"unit_price\"] >= 25][\"product_type\"].value_counts()"
      ],
      "metadata": {
        "id": "BD59VOb1PqqA",
        "colab": {
          "base_uri": "https://localhost:8080/",
          "height": 209
        },
        "outputId": "0c585742-bea0-43f1-e220-a8ceddc0bae3"
      },
      "execution_count": 10,
      "outputs": [
        {
          "output_type": "execute_result",
          "data": {
            "text/plain": [
              "product_type\n",
              "Clothing         216\n",
              "Premium Beans    190\n",
              "Organic Beans     17\n",
              "Name: count, dtype: int64"
            ],
            "text/html": [
              "<div>\n",
              "<style scoped>\n",
              "    .dataframe tbody tr th:only-of-type {\n",
              "        vertical-align: middle;\n",
              "    }\n",
              "\n",
              "    .dataframe tbody tr th {\n",
              "        vertical-align: top;\n",
              "    }\n",
              "\n",
              "    .dataframe thead th {\n",
              "        text-align: right;\n",
              "    }\n",
              "</style>\n",
              "<table border=\"1\" class=\"dataframe\">\n",
              "  <thead>\n",
              "    <tr style=\"text-align: right;\">\n",
              "      <th></th>\n",
              "      <th>count</th>\n",
              "    </tr>\n",
              "    <tr>\n",
              "      <th>product_type</th>\n",
              "      <th></th>\n",
              "    </tr>\n",
              "  </thead>\n",
              "  <tbody>\n",
              "    <tr>\n",
              "      <th>Clothing</th>\n",
              "      <td>216</td>\n",
              "    </tr>\n",
              "    <tr>\n",
              "      <th>Premium Beans</th>\n",
              "      <td>190</td>\n",
              "    </tr>\n",
              "    <tr>\n",
              "      <th>Organic Beans</th>\n",
              "      <td>17</td>\n",
              "    </tr>\n",
              "  </tbody>\n",
              "</table>\n",
              "</div><br><label><b>dtype:</b> int64</label>"
            ]
          },
          "metadata": {},
          "execution_count": 10
        }
      ]
    },
    {
      "cell_type": "code",
      "source": [
        "# Filter products with a unit price greater than or equal to 25 and with product type \"Clothing\"\n",
        "# Then, get the unique values in the 'product_detail' column\n",
        "coffee_sales[(coffee_sales[\"unit_price\"] >= 25) & (coffee_sales[\"product_type\"] == \"Clothing\")][\"product_detail\"].unique()"
      ],
      "metadata": {
        "id": "KPzj4G1yQAHa",
        "colab": {
          "base_uri": "https://localhost:8080/"
        },
        "outputId": "55c55fcb-36e8-485f-b716-8f733108edd9"
      },
      "execution_count": 11,
      "outputs": [
        {
          "output_type": "execute_result",
          "data": {
            "text/plain": [
              "array(['I Need My Bean! T-shirt'], dtype=object)"
            ]
          },
          "metadata": {},
          "execution_count": 11
        }
      ]
    },
    {
      "cell_type": "markdown",
      "source": [
        "It's clear that the high-priced products are premium and organic coffee bean bags, as well as clothing items with the store's branding.\n",
        "\n",
        "For the next step, let's investigate the minimum prices in the store."
      ],
      "metadata": {
        "id": "d2cuEK2mQKZl"
      }
    },
    {
      "cell_type": "code",
      "source": [
        "# Get the minimum value of the unit price in the \"unit_price\" column\n",
        "coffee_sales[\"unit_price\"].min()"
      ],
      "metadata": {
        "id": "QBy-MM-fQY3t",
        "colab": {
          "base_uri": "https://localhost:8080/"
        },
        "outputId": "8de1f2bc-2021-4248-eba5-8caa16495227"
      },
      "execution_count": 12,
      "outputs": [
        {
          "output_type": "execute_result",
          "data": {
            "text/plain": [
              "0.8"
            ]
          },
          "metadata": {},
          "execution_count": 12
        }
      ]
    },
    {
      "cell_type": "markdown",
      "source": [
        "\n",
        "To find out which category and product type corresponds to the minimum price of $0.80, you can filter the dataset based on the minimum price."
      ],
      "metadata": {
        "id": "kXilPXkpQBeN"
      }
    },
    {
      "cell_type": "code",
      "source": [
        "# Filter products with a unit price of exactly 0.8 and count the number of products in each category\n",
        "coffee_sales[coffee_sales[\"unit_price\"] == 0.8][\"product_category\"].value_counts()\n"
      ],
      "metadata": {
        "id": "4EeX0Dl8QmR3",
        "colab": {
          "base_uri": "https://localhost:8080/",
          "height": 147
        },
        "outputId": "cbc1f8fe-02fd-4721-c06c-f41d07fc29dd"
      },
      "execution_count": 13,
      "outputs": [
        {
          "output_type": "execute_result",
          "data": {
            "text/plain": [
              "product_category\n",
              "Flavours    6790\n",
              "Name: count, dtype: int64"
            ],
            "text/html": [
              "<div>\n",
              "<style scoped>\n",
              "    .dataframe tbody tr th:only-of-type {\n",
              "        vertical-align: middle;\n",
              "    }\n",
              "\n",
              "    .dataframe tbody tr th {\n",
              "        vertical-align: top;\n",
              "    }\n",
              "\n",
              "    .dataframe thead th {\n",
              "        text-align: right;\n",
              "    }\n",
              "</style>\n",
              "<table border=\"1\" class=\"dataframe\">\n",
              "  <thead>\n",
              "    <tr style=\"text-align: right;\">\n",
              "      <th></th>\n",
              "      <th>count</th>\n",
              "    </tr>\n",
              "    <tr>\n",
              "      <th>product_category</th>\n",
              "      <th></th>\n",
              "    </tr>\n",
              "  </thead>\n",
              "  <tbody>\n",
              "    <tr>\n",
              "      <th>Flavours</th>\n",
              "      <td>6790</td>\n",
              "    </tr>\n",
              "  </tbody>\n",
              "</table>\n",
              "</div><br><label><b>dtype:</b> int64</label>"
            ]
          },
          "metadata": {},
          "execution_count": 13
        }
      ]
    },
    {
      "cell_type": "code",
      "source": [
        "# Filter products with a unit price of 0.8 and product category \"Flavours\", then count by product type\n",
        "coffee_sales[\n",
        "    (coffee_sales[\"unit_price\"] == 0.8)\n",
        "    &\n",
        "    (coffee_sales[\"product_category\"] == \"Flavours\")\n",
        "][\"product_type\"].value_counts()"
      ],
      "metadata": {
        "id": "TFhA4N0dQ-Sh",
        "colab": {
          "base_uri": "https://localhost:8080/",
          "height": 178
        },
        "outputId": "72760e01-6c55-40e3-96ba-c1e6eb312fee"
      },
      "execution_count": 14,
      "outputs": [
        {
          "output_type": "execute_result",
          "data": {
            "text/plain": [
              "product_type\n",
              "Regular syrup       4979\n",
              "Sugar free syrup    1811\n",
              "Name: count, dtype: int64"
            ],
            "text/html": [
              "<div>\n",
              "<style scoped>\n",
              "    .dataframe tbody tr th:only-of-type {\n",
              "        vertical-align: middle;\n",
              "    }\n",
              "\n",
              "    .dataframe tbody tr th {\n",
              "        vertical-align: top;\n",
              "    }\n",
              "\n",
              "    .dataframe thead th {\n",
              "        text-align: right;\n",
              "    }\n",
              "</style>\n",
              "<table border=\"1\" class=\"dataframe\">\n",
              "  <thead>\n",
              "    <tr style=\"text-align: right;\">\n",
              "      <th></th>\n",
              "      <th>count</th>\n",
              "    </tr>\n",
              "    <tr>\n",
              "      <th>product_type</th>\n",
              "      <th></th>\n",
              "    </tr>\n",
              "  </thead>\n",
              "  <tbody>\n",
              "    <tr>\n",
              "      <th>Regular syrup</th>\n",
              "      <td>4979</td>\n",
              "    </tr>\n",
              "    <tr>\n",
              "      <th>Sugar free syrup</th>\n",
              "      <td>1811</td>\n",
              "    </tr>\n",
              "  </tbody>\n",
              "</table>\n",
              "</div><br><label><b>dtype:</b> int64</label>"
            ]
          },
          "metadata": {},
          "execution_count": 14
        }
      ]
    },
    {
      "cell_type": "markdown",
      "source": [
        "As we can see, syrups are the products with the minimum price in the store, costing $0.80. This suggests that the syrups in the \"Flavours\" category are the least expensive items in the dataset."
      ],
      "metadata": {
        "id": "sttndsODRGFd"
      }
    },
    {
      "cell_type": "markdown",
      "source": [
        "### Visual Analysis of the categories of the Dataset"
      ],
      "metadata": {
        "id": "ZXp24y9sSXNz"
      }
    },
    {
      "cell_type": "markdown",
      "source": [
        "#### Categories"
      ],
      "metadata": {
        "id": "fM40wNrsS-jU"
      }
    },
    {
      "cell_type": "code",
      "source": [
        "# Count the number of products in each category and reset the index to structure it as a DataFrame\n",
        "product_category_count = coffee_sales[\"product_category\"].value_counts().reset_index()\n",
        "\n",
        "# Create a bar chart with Seaborn\n",
        "ax = sns.barplot(\n",
        "    x=product_category_count[\"product_category\"],  # Product category on the X-axis\n",
        "    y=product_category_count[\"count\"],  # Frequency on the Y-axis\n",
        "    hue=product_category_count[\"product_category\"],  # Color by category\n",
        ")\n",
        "\n",
        "# Add numerical labels above each bar for better value visualization\n",
        "for i, value in enumerate(product_category_count[\"count\"]):\n",
        "    ax.text(i, value + 0.5, str(value), ha=\"center\", fontsize=10, fontweight=\"bold\")\n",
        "\n",
        "# Add title and labels to the axes\n",
        "plt.title(\"Distribution of Product Categories\")\n",
        "plt.xlabel(\"Product Category\")\n",
        "plt.ylabel(\"Frequency\")\n",
        "\n",
        "# Rotate X-axis labels for better visibility\n",
        "plt.xticks(rotation=45)\n",
        "\n",
        "# Show the chart\n",
        "plt.show()\n"
      ],
      "metadata": {
        "colab": {
          "base_uri": "https://localhost:8080/",
          "height": 552
        },
        "id": "9RHfq6ZSSZyA",
        "outputId": "03664261-2ebd-4fa5-e343-4e7ca3887995"
      },
      "execution_count": 15,
      "outputs": [
        {
          "output_type": "display_data",
          "data": {
            "text/plain": [
              "<Figure size 640x480 with 1 Axes>"
            ],
            "image/png": "[encoded data removed]"
          },
          "metadata": {}
        }
      ]
    },
    {
      "cell_type": "markdown",
      "source": [
        "In order to interpret the distribution and corresponding percentages, a function will be declared to calculate the percentages of the total accumulated sales.\n"
      ],
      "metadata": {
        "id": "3Y8Wja1ucJwP"
      }
    },
    {
      "cell_type": "code",
      "source": [
        "def percentage_category(category, df, column, total):\n",
        "    \"\"\"\n",
        "    Calculates the percentage of a specific category within a Pandas DataFrame.\n",
        "\n",
        "    Args:\n",
        "        category: The value to search for in the specified column.\n",
        "        df: The Pandas DataFrame to search within.\n",
        "        column: The name of the column to search in.\n",
        "        total: The total value to calculate the percentage against.\n",
        "\n",
        "    Returns:\n",
        "        The percentage of the category rounded to 2 decimal places, or an error\n",
        "        message if the DataFrame is invalid or unprocessed.\n",
        "    \"\"\"\n",
        "    try:\n",
        "        value = df[df[column] == category][\"count\"].values[0]\n",
        "        return round((value / total) * 100, 2)\n",
        "    except:\n",
        "        return \"invalid or unprocessed dataframe\""
      ],
      "metadata": {
        "id": "3aQYNOmcrR37"
      },
      "execution_count": 16,
      "outputs": []
    },
    {
      "cell_type": "code",
      "source": [
        "# Define a list with the product categories to analyze\n",
        "product_category = [\n",
        "    \"Bakery\",              # Baked goods\n",
        "    \"Packaged Chocolate\",  # Packaged chocolates\n",
        "    \"Coffee\",              # Coffee\n",
        "    \"Tea\",                 # Tea\n",
        "    \"Branded\"              # Branded products\n",
        "]\n",
        "\n",
        "# Calculate the total number of products in all categories by summing the frequencies\n",
        "total_categories = product_category_count.sum().values[1]"
      ],
      "metadata": {
        "id": "a7qN7p7dsZ38"
      },
      "execution_count": 17,
      "outputs": []
    },
    {
      "cell_type": "code",
      "source": [
        "# Iterate over each product category in the product_category list\n",
        "for cat in product_category:\n",
        "    # Calculate the sales percentage of the current category and display the result\n",
        "    print(f\"{cat}: {percentage_category(cat, product_category_count, 'product_category', total_categories)} % of total sales\")"
      ],
      "metadata": {
        "colab": {
          "base_uri": "https://localhost:8080/"
        },
        "id": "tLcNblyRso9W",
        "outputId": "bc2a1cfa-93d8-47ec-c0c8-8c91c0599958"
      },
      "execution_count": 18,
      "outputs": [
        {
          "output_type": "stream",
          "name": "stdout",
          "text": [
            "Bakery: 15.29 % of total sales\n",
            "Packaged Chocolate: 0.33 % of total sales\n",
            "Coffee: 39.17 % of total sales\n",
            "Tea: 30.48 % of total sales\n",
            "Branded: 0.5 % of total sales\n"
          ]
        }
      ]
    },
    {
      "cell_type": "markdown",
      "source": [
        "This plot shows us the distribution of cafeteria sales by product category. We can see that the products in the Coffee and Tea categories dominate total sales, which indicates that these products are the customers' favorites. Coffee makes up almost two-fifths of total sales, with a specific figure of 39.17% of total sales, and tea has 30.48% of corresponding sales. Baked goods are in third place, representing 15.29% of total sales, which, despite being a secondary category, represents an important part of the revenue.\n",
        "\n",
        "Among the products with the lowest sales, we can see that packaged chocolates represent just 0.33% of total sales, followed by products with the store logo at 0.5% of accumulated sales.\n"
      ],
      "metadata": {
        "id": "udrcT6G4sZND"
      }
    },
    {
      "cell_type": "markdown",
      "source": [
        "#### Types"
      ],
      "metadata": {
        "id": "X_DKxSyzcKRF"
      }
    },
    {
      "cell_type": "markdown",
      "source": [
        "To analyze the product type, it will first be necessary to check the size of the set of unique product types."
      ],
      "metadata": {
        "id": "kS16RJR90VSP"
      }
    },
    {
      "cell_type": "code",
      "source": [
        "# Calculate the total number of unique product types in the dataset\n",
        "len(coffee_sales[\"product_type\"].unique())"
      ],
      "metadata": {
        "colab": {
          "base_uri": "https://localhost:8080/"
        },
        "id": "PTSQUyI3y5AK",
        "outputId": "b7734332-7eb9-4b37-8a37-69924a73ffb8"
      },
      "execution_count": 19,
      "outputs": [
        {
          "output_type": "execute_result",
          "data": {
            "text/plain": [
              "29"
            ]
          },
          "metadata": {},
          "execution_count": 19
        }
      ]
    },
    {
      "cell_type": "markdown",
      "source": [
        "Considering the size of the data set, the store's products will be explored by plotting the 5 best-selling and the 5 least-selling products."
      ],
      "metadata": {
        "id": "tTvNg7s917J2"
      }
    },
    {
      "cell_type": "code",
      "source": [
        "# Count the number of products in each Type and reset the index to structure it as a DataFrame\n",
        "product_type_count_top5 = coffee_sales[\"product_type\"].value_counts().reset_index().head()\n",
        "\n",
        "# Create a bar chart with Seaborn\n",
        "ax = sns.barplot(\n",
        "    x=product_type_count_top5[\"product_type\"],  # Product type on the X-axis\n",
        "    y=product_type_count_top5[\"count\"],  # Frequency on the Y-axis\n",
        "    hue=product_type_count_top5[\"product_type\"],  # Color by Type\n",
        ")\n",
        "\n",
        "# Add numerical labels above each bar for better value visualization\n",
        "for i, value in enumerate(product_type_count_top5[\"count\"]):\n",
        "    ax.text(i, value + 0.5, str(value), ha=\"center\", fontsize=10, fontweight=\"bold\")\n",
        "\n",
        "# Add title and labels to the axes\n",
        "plt.title(\"Distribution of the 5 most sold product types\")\n",
        "plt.xlabel(\"Product Type\")\n",
        "plt.ylabel(\"Frequency\")\n",
        "\n",
        "# Rotate X-axis labels for better visibility\n",
        "plt.xticks(rotation=45)\n",
        "\n",
        "# Show the chart\n",
        "plt.show()\n"
      ],
      "metadata": {
        "colab": {
          "base_uri": "https://localhost:8080/",
          "height": 564
        },
        "id": "169uf2w4ca2N",
        "outputId": "b05ac517-5245-4f52-9ce0-281bbf4ed9cc"
      },
      "execution_count": 20,
      "outputs": [
        {
          "output_type": "display_data",
          "data": {
            "text/plain": [
              "<Figure size 640x480 with 1 Axes>"
            ],
            "image/png": "[encoded data removed]"
          },
          "metadata": {}
        }
      ]
    },
    {
      "cell_type": "markdown",
      "source": [
        "This plot confirms the best-selling categories of coffee and tea, as within the 5 best-selling products in the cafeteria we can see that 2 of them correspond to coffee variants and 3 of them correspond to tea variants, respectively, and showing a preference for hot chocolate for a large part of the sales."
      ],
      "metadata": {
        "id": "LKuTLQPhccU7"
      }
    },
    {
      "cell_type": "code",
      "source": [
        "# Count the number of products in each type and reset the index to structure it in a DataFrame\n",
        "product_type_count_bottom5 = coffee_sales[\"product_type\"].value_counts().reset_index().tail()\n",
        "\n",
        "# Create a bar chart with Seaborn\n",
        "ax = sns.barplot(\n",
        "    x=product_type_count_bottom5[\"product_type\"],  # Product type on the X axis\n",
        "    y=product_type_count_bottom5[\"count\"],  # Frequency on the Y axis\n",
        "    hue=product_type_count_bottom5[\"product_type\"],  # Color by type\n",
        ")\n",
        "\n",
        "# Add numeric labels above each bar to better visualize the values\n",
        "for i, value in enumerate(product_type_count_bottom5[\"count\"]):\n",
        "    ax.text(i, value + 0.5, str(value), ha=\"center\", fontsize=10, fontweight=\"bold\")\n",
        "\n",
        "# Add title and labels to the axes\n",
        "plt.title(\"Distribution of the 5 least sold product types\")\n",
        "plt.xlabel(\"Product type\")\n",
        "plt.ylabel(\"Frequency\")\n",
        "\n",
        "# Rotate the labels on the X axis for better visibility\n",
        "plt.xticks(rotation=45)\n",
        "\n",
        "# Show the chart\n",
        "plt.show()"
      ],
      "metadata": {
        "colab": {
          "base_uri": "https://localhost:8080/",
          "height": 547
        },
        "id": "ysQps86M5Uoh",
        "outputId": "47a09be0-9825-434c-d2bc-07275e430dc0"
      },
      "execution_count": 21,
      "outputs": [
        {
          "output_type": "display_data",
          "data": {
            "text/plain": [
              "<Figure size 640x480 with 1 Axes>"
            ],
            "image/png": "[encoded data removed]"
          },
          "metadata": {}
        }
      ]
    },
    {
      "cell_type": "markdown",
      "source": [
        "This plot shows the distribution of the 5 least-selling products in the store. Noticing that two types of beans (\"House Blend Beans\" and \"Green Beans\"), as well as green tea, make up a different category from the least-selling ones, we could analyze if their low demand is due to a niche strategy, high prices, or simply a lower customer preference.\n",
        "\n",
        "With the presence of chocolate and the cafeteria's branded products, it opens the door to further analysis to identify the factors that cause these products to have low sales and, if possible, find an area for improvement."
      ],
      "metadata": {
        "id": "dbm4Plte7TGg"
      }
    },
    {
      "cell_type": "markdown",
      "source": [
        "### Exploring Temporal Sales Trends"
      ],
      "metadata": {
        "id": "_d7FRvP-13rn"
      }
    },
    {
      "cell_type": "markdown",
      "source": [
        "####Monthly sales by location"
      ],
      "metadata": {
        "id": "_KKx0Gz-IiUI"
      }
    },
    {
      "cell_type": "markdown",
      "source": [
        "To visually analyze sales data over time, the first step is to aggregate it to obtain sales by month, hour, day and week. In this initial phase, sales will be explored by store location."
      ],
      "metadata": {
        "id": "osaIX2slIoZU"
      }
    },
    {
      "cell_type": "code",
      "source": [
        "# Define the columns to be used in the analysis\n",
        "columns = ['transaction_timestamp', 'product_category', 'store_location']\n",
        "\n",
        "# ----------------------------------------------\n",
        "# Sales analysis by store and month\n",
        "# ----------------------------------------------\n",
        "monthly_sales_per_store = (\n",
        "    coffee_sales[columns]  # Select only the relevant columns\n",
        "    .assign(\n",
        "        # Extract the transaction month and year in \"MM YYYY\" format\n",
        "        month=lambda x: x['transaction_timestamp'].dt.strftime('%m %Y')\n",
        "    )\n",
        "    # Group data by store location and month\n",
        "    .groupby(['store_location', 'month'])\n",
        "    .size()  # Count the number of transactions in each group\n",
        "    .reset_index(name='count')  # Convert the result into a DataFrame with a column named 'count'\n",
        ")\n",
        "\n",
        "# ----------------------------------------------\n",
        "# Sales analysis by store and day of the week\n",
        "# ----------------------------------------------\n",
        "daily_sales_per_store = (\n",
        "    coffee_sales[columns]  # Select only the relevant columns\n",
        "    .assign(\n",
        "        # Extract the day of the week in full text format (e.g., \"Monday\", \"Tuesday\", etc.)\n",
        "        day=lambda x: x['transaction_timestamp'].dt.strftime('%A')\n",
        "    )\n",
        "    # Group data by store location and day of the week\n",
        "    .groupby(['store_location', 'day'])\n",
        "    .size()  # Count the number of transactions in each group\n",
        "    .reset_index(name='count')  # Convert the result into a DataFrame with a column named 'count'\n",
        ")\n",
        "\n",
        "# ----------------------------------------------\n",
        "# Sales analysis by store and hour of the day\n",
        "# ----------------------------------------------\n",
        "hourly_sales_per_store = (\n",
        "    coffee_sales[columns]  # Select only the relevant columns\n",
        "    .assign(\n",
        "        # Extract the transaction hour in 24-hour format (e.g., \"08\", \"15\", \"23\")\n",
        "        hour=lambda x: x['transaction_timestamp'].dt.strftime('%H')\n",
        "    )\n",
        "    # Group data by store location and hour of the day\n",
        "    .groupby(['store_location', 'hour'])\n",
        "    .size()  # Count the number of transactions in each group\n",
        "    .reset_index(name='count')  # Convert the result into a DataFrame with a column named 'count'\n",
        ")\n",
        "# ----------------------------------------------\n",
        "# Sales Analysis by Store and Week\n",
        "# ----------------------------------------------\n",
        "\n",
        "weekly_sales_per_store = (\n",
        "    coffee_sales[columns]  # Select only relevant columns\n",
        "    .assign(\n",
        "        # Extract the week number from the transaction date\n",
        "        week=lambda x: x['transaction_timestamp'].dt.strftime('%W')\n",
        "    )\n",
        "    # Group data by store location and week number\n",
        "    .groupby(['store_location', 'week'])\n",
        "    .size()  # Count the number of transactions in each group\n",
        "    .reset_index(name='count')  # Convert the result into a DataFrame with a 'count' column\n",
        ")\n"
      ],
      "metadata": {
        "id": "uvTGvPGm24Dc"
      },
      "execution_count": 22,
      "outputs": []
    },
    {
      "cell_type": "code",
      "source": [
        "# Create a line plot to visualize monthly sales by store location\n",
        "sns.lineplot(\n",
        "    x=monthly_sales_per_store[\"month\"],  # X-axis: Months\n",
        "    y=monthly_sales_per_store[\"count\"],  # Y-axis: Number of sales\n",
        "    hue=monthly_sales_per_store[\"store_location\"]  # Differentiate by store location\n",
        ")\n",
        "\n",
        "# Axis labels and chart title\n",
        "plt.xlabel(\"Month\")  # X-axis label\n",
        "plt.ylabel(\"Sales\")  # Y-axis label\n",
        "plt.legend(title=\"Store location\") # Legend title\n",
        "plt.title(\"Monthly Sales by Store Location\")  # Chart title\n",
        "\n",
        "# Display the plot\n",
        "plt.show()\n"
      ],
      "metadata": {
        "colab": {
          "base_uri": "https://localhost:8080/",
          "height": 465
        },
        "id": "zQMjKGA73Gu8",
        "outputId": "a8f6c532-3af9-446d-a552-a9adacefcd83"
      },
      "execution_count": 23,
      "outputs": [
        {
          "output_type": "display_data",
          "data": {
            "text/plain": [
              "<Figure size 640x480 with 1 Axes>"
            ],
            "image/png": "[encoded data removed]"
          },
          "metadata": {}
        }
      ]
    },
    {
      "cell_type": "markdown",
      "source": [
        "The chart shows the sales trend during the first half of 2023. We can see that the year started with a downward trend, which, by the end of February, began to rise until the data cutoff month. We can observe that the Astoria and Hell's Kitchen locations have similar sales trends, with Lower Manhattan showing a small difference in sales."
      ],
      "metadata": {
        "id": "70eNhkBmGFmi"
      }
    },
    {
      "cell_type": "markdown",
      "source": [
        "####Daily sales by location"
      ],
      "metadata": {
        "id": "CEnm1M2lmv5Z"
      }
    },
    {
      "cell_type": "code",
      "source": [
        "# Sort daily sales per store in ascending order by the number of sales\n",
        "daily_sales_per_store = daily_sales_per_store.sort_values(by=\"count\")\n",
        "\n",
        "# Create a line plot to visualize sales by day and store\n",
        "sns.lineplot(\n",
        "    x=daily_sales_per_store[\"day\"],  # X-axis: Day\n",
        "    y=daily_sales_per_store[\"count\"],  # Y-axis: Number of sales\n",
        "    hue=daily_sales_per_store[\"store_location\"]  # Differentiate by store location\n",
        ")\n",
        "\n",
        "# Axis labels and chart title\n",
        "plt.xlabel(\"Day\")  # X-axis label\n",
        "plt.ylabel(\"Sales\")  # Y-axis label\n",
        "plt.legend(title=\"Store Location\")  # Legend title\n",
        "plt.title(\"Sales by Day and Store\")  # Chart title\n",
        "\n",
        "# Display the chart\n",
        "plt.show()\n"
      ],
      "metadata": {
        "id": "o4E7HHfbm14v",
        "outputId": "c1e3fce6-3c04-4717-c76e-c9968dff7f23",
        "colab": {
          "base_uri": "https://localhost:8080/",
          "height": 465
        }
      },
      "execution_count": 24,
      "outputs": [
        {
          "output_type": "display_data",
          "data": {
            "text/plain": [
              "<Figure size 640x480 with 1 Axes>"
            ],
            "image/png": "[encoded data removed]"
          },
          "metadata": {}
        }
      ]
    },
    {
      "cell_type": "markdown",
      "source": [
        "####Hourly sales by location"
      ],
      "metadata": {
        "id": "cr_OViYFnw4C"
      }
    },
    {
      "cell_type": "code",
      "source": [
        "# Sort hourly sales per store in ascending order by hour\n",
        "hourly_sales_per_store = hourly_sales_per_store.sort_values(by=\"hour\")\n",
        "\n",
        "# Create a line plot to visualize sales by hour and store\n",
        "sns.lineplot(\n",
        "    x=hourly_sales_per_store[\"hour\"],  # X-axis: Hour\n",
        "    y=hourly_sales_per_store[\"count\"],  # Y-axis: Number of sales\n",
        "    hue=hourly_sales_per_store[\"store_location\"]  # Differentiate by store location\n",
        ")\n",
        "\n",
        "# Axis labels and chart title\n",
        "plt.xlabel(\"Hour\")  # X-axis label\n",
        "plt.ylabel(\"Sales\")  # Y-axis label\n",
        "plt.legend(title=\"Store Location\")  # Legend title\n",
        "plt.title(\"Sales by Hour and Store\")  # Chart title\n",
        "\n",
        "# Display the chart\n",
        "plt.show()\n"
      ],
      "metadata": {
        "id": "O0rfGDFZnxGd",
        "outputId": "a5e93428-b9b1-4ea5-883a-79b6c21b662a",
        "colab": {
          "base_uri": "https://localhost:8080/",
          "height": 465
        }
      },
      "execution_count": 25,
      "outputs": [
        {
          "output_type": "display_data",
          "data": {
            "text/plain": [
              "<Figure size 640x480 with 1 Axes>"
            ],
            "image/png": "[encoded data removed]"
          },
          "metadata": {}
        }
      ]
    },
    {
      "cell_type": "markdown",
      "source": [
        "####Weekly sales by location"
      ],
      "metadata": {
        "id": "DnJbkz6un2nz"
      }
    },
    {
      "cell_type": "code",
      "source": [
        "# Sort weekly sales per store in ascending order by week\n",
        "weekly_sales_per_store = weekly_sales_per_store.sort_values(by=\"week\")\n",
        "\n",
        "# Create a line plot to visualize sales by week and store\n",
        "sns.lineplot(\n",
        "    x=weekly_sales_per_store[\"week\"],  # X-axis: Week\n",
        "    y=weekly_sales_per_store[\"count\"],  # Y-axis: Number of sales\n",
        "    hue=weekly_sales_per_store[\"store_location\"]  # Differentiate by store location\n",
        ")\n",
        "\n",
        "# Axis labels and chart title\n",
        "plt.xlabel(\"Week\")  # X-axis label\n",
        "plt.ylabel(\"Sales\")  # Y-axis label\n",
        "plt.legend(title=\"Store Location\")  # Legend title\n",
        "plt.title(\"Weekly Sales by Store\")  # Chart title\n",
        "\n",
        "# Display the chart\n",
        "plt.show()\n"
      ],
      "metadata": {
        "id": "dxmOVX6ln15o",
        "outputId": "6fb9c8fd-be6b-4be5-a091-818b991b72bf",
        "colab": {
          "base_uri": "https://localhost:8080/",
          "height": 465
        }
      },
      "execution_count": 26,
      "outputs": [
        {
          "output_type": "display_data",
          "data": {
            "text/plain": [
              "<Figure size 640x480 with 1 Axes>"
            ],
            "image/png": "[encoded data removed]"
          },
          "metadata": {}
        }
      ]
    },
    {
      "cell_type": "markdown",
      "source": [
        "Based on these graphs, we can confirm the presence of seasonality in the data, with higher sales volumes observed on Thursdays and Fridays. Additionally, the highest sales frequency occurs between 7:00 a.m. and 10:00 a.m., after which the volume begins to decline."
      ],
      "metadata": {
        "id": "bq71vfPsrFm0"
      }
    },
    {
      "cell_type": "markdown",
      "source": [
        "Taking the seasonality of sales into account, we will proceed to train the predictive model with the necessary adjustments."
      ],
      "metadata": {
        "id": "tMT9dRvDsU40"
      }
    },
    {
      "cell_type": "markdown",
      "source": [
        "## 3. Model Training"
      ],
      "metadata": {
        "id": "EXy_03iDsldI"
      }
    },
    {
      "cell_type": "markdown",
      "source": [
        "#### Dataset Preparation"
      ],
      "metadata": {
        "id": "icUKbw8UvYJY"
      }
    },
    {
      "cell_type": "markdown",
      "source": [
        "To train the model, we will create a copy of the original DataFrame, exclude the extra flavors to avoid biasing the model, and filter the necessary columns, which in this case are the sale date and the unit price of the product. We will also separate the data by store."
      ],
      "metadata": {
        "id": "cf9Q-OtAvYBu"
      }
    },
    {
      "cell_type": "code",
      "source": [
        "coffee_sales = coffee_sales[coffee_sales['product_category'] != 'Flavours'] # Excluimos los sabores"
      ],
      "metadata": {
        "id": "2fZbRafL_-nG"
      },
      "execution_count": 27,
      "outputs": []
    },
    {
      "cell_type": "code",
      "source": [
        "# We make a copy of the original DataFrame to avoid modifying the original data\n",
        "df_train_manhattan = coffee_sales.copy()\n",
        "df_train_hell_kitchen = coffee_sales.copy()\n",
        "df_train_astoria = coffee_sales.copy()\n",
        "\n",
        "# We filter only the necessary columns: sale date and unit price\n",
        "df_train_manhattan = df_train_manhattan[df_train_manhattan['store_location'] == 'Lower Manhattan'][[\"transaction_timestamp\", \"unit_price\"]]\n",
        "df_train_hell_kitchen = df_train_hell_kitchen[df_train_hell_kitchen[\"store_location\"] == \"Hell's Kitchen\"][[\"transaction_timestamp\", \"unit_price\"]]\n",
        "df_train_astoria = df_train_astoria[df_train_astoria[\"store_location\"] == 'Astoria'][[\"transaction_timestamp\", \"unit_price\"]]\n",
        "\n",
        "# We rename the columns to be compatible with Prophet:\n",
        "df_train_manhattan.columns = ['ds', 'y']\n",
        "df_train_hell_kitchen.columns = ['ds', 'y']\n",
        "df_train_astoria.columns = ['ds', 'y']\n"
      ],
      "metadata": {
        "id": "bxcn6l3SvwB-"
      },
      "execution_count": 28,
      "outputs": []
    },
    {
      "cell_type": "markdown",
      "source": [
        "####Model Initialization"
      ],
      "metadata": {
        "id": "IeGiFTPYwSpe"
      }
    },
    {
      "cell_type": "markdown",
      "source": [
        "To find the best fit for the model, a function is created to iterate over a list of parameters in order to identify the optimal configuration. Afterwards, cross-validation is performed to evaluate the model's performance, using MAPE as the key metric."
      ],
      "metadata": {
        "id": "J70W67x8L7gq"
      }
    },
    {
      "cell_type": "code",
      "source": [
        "def best_fit(df):\n",
        "    # Define a grid of parameters to tune: changepoint scale, seasonality scale, and Fourier order for weekly seasonality\n",
        "    param_grid = {\n",
        "        'changepoint_prior_scale': [0.001, 0.01, 0.1, 0.5],  # Controls model flexibility to fit abrupt changes\n",
        "        'seasonality_prior_scale': [1, 5, 10],               # Controls the strength of seasonalities\n",
        "        'fourier_order': [3, 5, 7]                           # Number of Fourier terms to capture weekly seasonality\n",
        "    }\n",
        "\n",
        "    # Generate 10 random combinations of the defined parameters\n",
        "    param_combinations = [\n",
        "        {\n",
        "            'changepoint_prior_scale': random.choice(param_grid['changepoint_prior_scale']),\n",
        "            'seasonality_prior_scale': random.choice(param_grid['seasonality_prior_scale']),\n",
        "            'fourier_order': random.choice(param_grid['fourier_order'])\n",
        "        }\n",
        "        for _ in range(10)\n",
        "    ]\n",
        "\n",
        "    results = []  # List to store the results of each combination\n",
        "\n",
        "    # Evaluate each parameter combination\n",
        "    for params in param_combinations:\n",
        "        # Create a Prophet model with the selected parameters\n",
        "        model = Prophet(\n",
        "            changepoint_prior_scale=params['changepoint_prior_scale'],\n",
        "            seasonality_prior_scale=params['seasonality_prior_scale'],\n",
        "            weekly_seasonality=False  # Disable default weekly seasonality\n",
        "        )\n",
        "\n",
        "        # Manually add a stronger weekly seasonality\n",
        "        model.add_seasonality(\n",
        "            name='strong_weekly',\n",
        "            period=7,  # 7-day seasonality\n",
        "            fourier_order=params['fourier_order']\n",
        "        )\n",
        "\n",
        "        # Train the model with the data\n",
        "        model.fit(df)\n",
        "\n",
        "        # Perform time series cross-validation:\n",
        "        # - initial training period: 120 days\n",
        "        # - make predictions every 15 days\n",
        "        # - prediction horizon: 30 days\n",
        "        df_cv = cross_validation(model, initial='120 days', period='15 days', horizon='30 days', parallel=\"processes\")\n",
        "\n",
        "        # Compute evaluation metrics like MAPE\n",
        "        df_perf = performance_metrics(df_cv)\n",
        "\n",
        "        # Take the average MAPE for this combination\n",
        "        mape = df_perf['mape'].mean()\n",
        "\n",
        "        # Store the combination and its associated MAPE\n",
        "        results.append((params, mape))\n",
        "\n",
        "    # Sort results by MAPE in ascending order\n",
        "    results.sort(key=lambda x: x[1])\n",
        "\n",
        "    # Print the best combination and its MAPE\n",
        "    return(print(\"Best combination:\", results[0][0], \"MAPE:\", results[0][1]))"
      ],
      "metadata": {
        "id": "qaxOGG2KK0Di"
      },
      "execution_count": 29,
      "outputs": []
    },
    {
      "cell_type": "markdown",
      "source": [
        "The previously defined function is called to obtain the best-fitting values for the model based on the sales of each store location."
      ],
      "metadata": {
        "id": "jQBqYfqgMhwW"
      }
    },
    {
      "cell_type": "code",
      "source": [
        "best_fit(df_train_manhattan)"
      ],
      "metadata": {
        "colab": {
          "base_uri": "https://localhost:8080/"
        },
        "id": "NEjdftM5MmvM",
        "outputId": "26f8bc4d-1c30-4055-d4e5-7483a4d76b65"
      },
      "execution_count": 30,
      "outputs": [
        {
          "output_type": "stream",
          "name": "stderr",
          "text": [
            "INFO:prophet:Disabling yearly seasonality. Run prophet with yearly_seasonality=True to override this.\n",
            "DEBUG:cmdstanpy:input tempfile: /tmp/tmpd33s_z0x/b550h2w0.json\n",
            "DEBUG:cmdstanpy:input tempfile: /tmp/tmpd33s_z0x/d1c0jpv6.json\n",
            "DEBUG:cmdstanpy:idx 0\n",
            "DEBUG:cmdstanpy:running CmdStan, num_threads: None\n",
            "DEBUG:cmdstanpy:CmdStan args: ['/usr/local/lib/python3.11/dist-packages/prophet/stan_model/prophet_model.bin', 'random', 'seed=76197', 'data', 'file=/tmp/tmpd33s_z0x/b550h2w0.json', 'init=/tmp/tmpd33s_z0x/d1c0jpv6.json', 'output', 'file=/tmp/tmpd33s_z0x/prophet_modelc4gkog_8/prophet_model-20250730034622.csv', 'method=optimize', 'algorithm=lbfgs', 'iter=10000']\n",
            "03:46:22 - cmdstanpy - INFO - Chain [1] start processing\n",
            "INFO:cmdstanpy:Chain [1] start processing\n",
            "03:46:40 - cmdstanpy - INFO - Chain [1] done processing\n",
            "INFO:cmdstanpy:Chain [1] done processing\n",
            "INFO:prophet:Making 3 forecasts with cutoffs between 2023-05-01 20:16:31 and 2023-05-31 20:16:31\n",
            "INFO:prophet:Applying in parallel with <concurrent.futures.process.ProcessPoolExecutor object at 0x79971d348790>\n",
            "DEBUG:cmdstanpy:input tempfile: /tmp/tmpd33s_z0x/d0sa2mjs.json\n",
            "DEBUG:cmdstanpy:input tempfile: /tmp/tmpd33s_z0x/kr9amzm6.json\n",
            "DEBUG:cmdstanpy:input tempfile: /tmp/tmpd33s_z0x/mkbyy1de.json\n",
            "DEBUG:cmdstanpy:idx 0\n",
            "DEBUG:cmdstanpy:running CmdStan, num_threads: None\n",
            "DEBUG:cmdstanpy:CmdStan args: ['/usr/local/lib/python3.11/dist-packages/prophet/stan_model/prophet_model.bin', 'random', 'seed=33237', 'data', 'file=/tmp/tmpd33s_z0x/d0sa2mjs.json', 'init=/tmp/tmpd33s_z0x/mkbyy1de.json', 'output', 'file=/tmp/tmpd33s_z0x/prophet_modeln8tvdo4i/prophet_model-20250730034642.csv', 'method=optimize', 'algorithm=lbfgs', 'iter=10000']\n",
            "03:46:42 - cmdstanpy - INFO - Chain [1] start processing\n",
            "INFO:cmdstanpy:Chain [1] start processing\n",
            "DEBUG:cmdstanpy:input tempfile: /tmp/tmpd33s_z0x/mcxgf9vz.json\n",
            "DEBUG:cmdstanpy:idx 0\n",
            "DEBUG:cmdstanpy:running CmdStan, num_threads: None\n",
            "DEBUG:cmdstanpy:CmdStan args: ['/usr/local/lib/python3.11/dist-packages/prophet/stan_model/prophet_model.bin', 'random', 'seed=36063', 'data', 'file=/tmp/tmpd33s_z0x/kr9amzm6.json', 'init=/tmp/tmpd33s_z0x/mcxgf9vz.json', 'output', 'file=/tmp/tmpd33s_z0x/prophet_modelmx22vf3i/prophet_model-20250730034642.csv', 'method=optimize', 'algorithm=lbfgs', 'iter=10000']\n",
            "03:46:42 - cmdstanpy - INFO - Chain [1] start processing\n",
            "INFO:cmdstanpy:Chain [1] start processing\n",
            "03:46:56 - cmdstanpy - INFO - Chain [1] done processing\n",
            "INFO:cmdstanpy:Chain [1] done processing\n",
            "03:46:58 - cmdstanpy - INFO - Chain [1] done processing\n",
            "INFO:cmdstanpy:Chain [1] done processing\n",
            "DEBUG:cmdstanpy:input tempfile: /tmp/tmpd33s_z0x/23p1597n.json\n",
            "DEBUG:cmdstanpy:input tempfile: /tmp/tmpd33s_z0x/u8rx1837.json\n",
            "DEBUG:cmdstanpy:idx 0\n",
            "DEBUG:cmdstanpy:running CmdStan, num_threads: None\n",
            "DEBUG:cmdstanpy:CmdStan args: ['/usr/local/lib/python3.11/dist-packages/prophet/stan_model/prophet_model.bin', 'random', 'seed=5828', 'data', 'file=/tmp/tmpd33s_z0x/23p1597n.json', 'init=/tmp/tmpd33s_z0x/u8rx1837.json', 'output', 'file=/tmp/tmpd33s_z0x/prophet_model4sr5hyx0/prophet_model-20250730034701.csv', 'method=optimize', 'algorithm=lbfgs', 'iter=10000']\n",
            "03:47:01 - cmdstanpy - INFO - Chain [1] start processing\n",
            "INFO:cmdstanpy:Chain [1] start processing\n",
            "03:47:11 - cmdstanpy - INFO - Chain [1] done processing\n",
            "INFO:cmdstanpy:Chain [1] done processing\n",
            "INFO:prophet:Disabling yearly seasonality. Run prophet with yearly_seasonality=True to override this.\n",
            "DEBUG:cmdstanpy:input tempfile: /tmp/tmpd33s_z0x/ae2qtfgx.json\n",
            "DEBUG:cmdstanpy:input tempfile: /tmp/tmpd33s_z0x/s6_bvcfb.json\n",
            "DEBUG:cmdstanpy:idx 0\n",
            "DEBUG:cmdstanpy:running CmdStan, num_threads: None\n",
            "DEBUG:cmdstanpy:CmdStan args: ['/usr/local/lib/python3.11/dist-packages/prophet/stan_model/prophet_model.bin', 'random', 'seed=12679', 'data', 'file=/tmp/tmpd33s_z0x/ae2qtfgx.json', 'init=/tmp/tmpd33s_z0x/s6_bvcfb.json', 'output', 'file=/tmp/tmpd33s_z0x/prophet_modelra13o6z3/prophet_model-20250730034810.csv', 'method=optimize', 'algorithm=lbfgs', 'iter=10000']\n",
            "03:48:10 - cmdstanpy - INFO - Chain [1] start processing\n",
            "INFO:cmdstanpy:Chain [1] start processing\n",
            "03:48:18 - cmdstanpy - INFO - Chain [1] done processing\n",
            "INFO:cmdstanpy:Chain [1] done processing\n",
            "INFO:prophet:Making 3 forecasts with cutoffs between 2023-05-01 20:16:31 and 2023-05-31 20:16:31\n",
            "INFO:prophet:Applying in parallel with <concurrent.futures.process.ProcessPoolExecutor object at 0x79971b75e750>\n",
            "DEBUG:cmdstanpy:input tempfile: /tmp/tmpd33s_z0x/ukri0vpu.json\n",
            "DEBUG:cmdstanpy:input tempfile: /tmp/tmpd33s_z0x/zj_lf4b0.json\n",
            "DEBUG:cmdstanpy:input tempfile: /tmp/tmpd33s_z0x/iacvqlqd.json\n",
            "DEBUG:cmdstanpy:idx 0\n",
            "DEBUG:cmdstanpy:running CmdStan, num_threads: None\n",
            "DEBUG:cmdstanpy:CmdStan args: ['/usr/local/lib/python3.11/dist-packages/prophet/stan_model/prophet_model.bin', 'random', 'seed=40697', 'data', 'file=/tmp/tmpd33s_z0x/ukri0vpu.json', 'init=/tmp/tmpd33s_z0x/iacvqlqd.json', 'output', 'file=/tmp/tmpd33s_z0x/prophet_modely9n3thh3/prophet_model-20250730034820.csv', 'method=optimize', 'algorithm=lbfgs', 'iter=10000']\n",
            "03:48:20 - cmdstanpy - INFO - Chain [1] start processing\n",
            "INFO:cmdstanpy:Chain [1] start processing\n",
            "DEBUG:cmdstanpy:input tempfile: /tmp/tmpd33s_z0x/y94bjozt.json\n",
            "DEBUG:cmdstanpy:idx 0\n",
            "DEBUG:cmdstanpy:running CmdStan, num_threads: None\n",
            "DEBUG:cmdstanpy:CmdStan args: ['/usr/local/lib/python3.11/dist-packages/prophet/stan_model/prophet_model.bin', 'random', 'seed=70439', 'data', 'file=/tmp/tmpd33s_z0x/zj_lf4b0.json', 'init=/tmp/tmpd33s_z0x/y94bjozt.json', 'output', 'file=/tmp/tmpd33s_z0x/prophet_modelqaaw0hmz/prophet_model-20250730034820.csv', 'method=optimize', 'algorithm=lbfgs', 'iter=10000']\n",
            "03:48:20 - cmdstanpy - INFO - Chain [1] start processing\n",
            "INFO:cmdstanpy:Chain [1] start processing\n",
            "03:48:22 - cmdstanpy - INFO - Chain [1] done processing\n",
            "INFO:cmdstanpy:Chain [1] done processing\n",
            "03:48:25 - cmdstanpy - INFO - Chain [1] done processing\n",
            "INFO:cmdstanpy:Chain [1] done processing\n",
            "DEBUG:cmdstanpy:input tempfile: /tmp/tmpd33s_z0x/zzu77hml.json\n",
            "DEBUG:cmdstanpy:input tempfile: /tmp/tmpd33s_z0x/8fxtxmp1.json\n",
            "DEBUG:cmdstanpy:idx 0\n",
            "DEBUG:cmdstanpy:running CmdStan, num_threads: None\n",
            "DEBUG:cmdstanpy:CmdStan args: ['/usr/local/lib/python3.11/dist-packages/prophet/stan_model/prophet_model.bin', 'random', 'seed=91196', 'data', 'file=/tmp/tmpd33s_z0x/zzu77hml.json', 'init=/tmp/tmpd33s_z0x/8fxtxmp1.json', 'output', 'file=/tmp/tmpd33s_z0x/prophet_modelxhyf3v7g/prophet_model-20250730034828.csv', 'method=optimize', 'algorithm=lbfgs', 'iter=10000']\n",
            "03:48:28 - cmdstanpy - INFO - Chain [1] start processing\n",
            "INFO:cmdstanpy:Chain [1] start processing\n",
            "03:48:31 - cmdstanpy - INFO - Chain [1] done processing\n",
            "INFO:cmdstanpy:Chain [1] done processing\n",
            "INFO:prophet:Disabling yearly seasonality. Run prophet with yearly_seasonality=True to override this.\n",
            "DEBUG:cmdstanpy:input tempfile: /tmp/tmpd33s_z0x/5ts6y0ex.json\n",
            "DEBUG:cmdstanpy:input tempfile: /tmp/tmpd33s_z0x/5ecgdta0.json\n",
            "DEBUG:cmdstanpy:idx 0\n",
            "DEBUG:cmdstanpy:running CmdStan, num_threads: None\n",
            "DEBUG:cmdstanpy:CmdStan args: ['/usr/local/lib/python3.11/dist-packages/prophet/stan_model/prophet_model.bin', 'random', 'seed=20977', 'data', 'file=/tmp/tmpd33s_z0x/5ts6y0ex.json', 'init=/tmp/tmpd33s_z0x/5ecgdta0.json', 'output', 'file=/tmp/tmpd33s_z0x/prophet_modelhy06cf2t/prophet_model-20250730034927.csv', 'method=optimize', 'algorithm=lbfgs', 'iter=10000']\n",
            "03:49:27 - cmdstanpy - INFO - Chain [1] start processing\n",
            "INFO:cmdstanpy:Chain [1] start processing\n",
            "03:49:33 - cmdstanpy - INFO - Chain [1] done processing\n",
            "INFO:cmdstanpy:Chain [1] done processing\n",
            "INFO:prophet:Making 3 forecasts with cutoffs between 2023-05-01 20:16:31 and 2023-05-31 20:16:31\n",
            "INFO:prophet:Applying in parallel with <concurrent.futures.process.ProcessPoolExecutor object at 0x79971b63f290>\n",
            "DEBUG:cmdstanpy:input tempfile: /tmp/tmpd33s_z0x/jmua7z5t.json\n",
            "DEBUG:cmdstanpy:input tempfile: /tmp/tmpd33s_z0x/7faf_u36.json\n",
            "DEBUG:cmdstanpy:input tempfile: /tmp/tmpd33s_z0x/6hb1txfa.json\n",
            "DEBUG:cmdstanpy:idx 0\n",
            "DEBUG:cmdstanpy:running CmdStan, num_threads: None\n",
            "DEBUG:cmdstanpy:CmdStan args: ['/usr/local/lib/python3.11/dist-packages/prophet/stan_model/prophet_model.bin', 'random', 'seed=12800', 'data', 'file=/tmp/tmpd33s_z0x/jmua7z5t.json', 'init=/tmp/tmpd33s_z0x/6hb1txfa.json', 'output', 'file=/tmp/tmpd33s_z0x/prophet_model2vg3jpn4/prophet_model-20250730034936.csv', 'method=optimize', 'algorithm=lbfgs', 'iter=10000']\n",
            "03:49:36 - cmdstanpy - INFO - Chain [1] start processing\n",
            "INFO:cmdstanpy:Chain [1] start processing\n",
            "DEBUG:cmdstanpy:input tempfile: /tmp/tmpd33s_z0x/wsen7h_8.json\n",
            "DEBUG:cmdstanpy:idx 0\n",
            "DEBUG:cmdstanpy:running CmdStan, num_threads: None\n",
            "DEBUG:cmdstanpy:CmdStan args: ['/usr/local/lib/python3.11/dist-packages/prophet/stan_model/prophet_model.bin', 'random', 'seed=64827', 'data', 'file=/tmp/tmpd33s_z0x/7faf_u36.json', 'init=/tmp/tmpd33s_z0x/wsen7h_8.json', 'output', 'file=/tmp/tmpd33s_z0x/prophet_model1l9nd_tv/prophet_model-20250730034937.csv', 'method=optimize', 'algorithm=lbfgs', 'iter=10000']\n",
            "03:49:37 - cmdstanpy - INFO - Chain [1] start processing\n",
            "INFO:cmdstanpy:Chain [1] start processing\n",
            "03:49:42 - cmdstanpy - INFO - Chain [1] done processing\n",
            "INFO:cmdstanpy:Chain [1] done processing\n",
            "03:49:43 - cmdstanpy - INFO - Chain [1] done processing\n",
            "INFO:cmdstanpy:Chain [1] done processing\n",
            "DEBUG:cmdstanpy:input tempfile: /tmp/tmpd33s_z0x/nnzkhfy6.json\n",
            "DEBUG:cmdstanpy:input tempfile: /tmp/tmpd33s_z0x/zx7pdshh.json\n",
            "DEBUG:cmdstanpy:idx 0\n",
            "DEBUG:cmdstanpy:running CmdStan, num_threads: None\n",
            "DEBUG:cmdstanpy:CmdStan args: ['/usr/local/lib/python3.11/dist-packages/prophet/stan_model/prophet_model.bin', 'random', 'seed=78852', 'data', 'file=/tmp/tmpd33s_z0x/nnzkhfy6.json', 'init=/tmp/tmpd33s_z0x/zx7pdshh.json', 'output', 'file=/tmp/tmpd33s_z0x/prophet_modelmfjm5rai/prophet_model-20250730034948.csv', 'method=optimize', 'algorithm=lbfgs', 'iter=10000']\n",
            "03:49:48 - cmdstanpy - INFO - Chain [1] start processing\n",
            "INFO:cmdstanpy:Chain [1] start processing\n",
            "03:49:51 - cmdstanpy - INFO - Chain [1] done processing\n",
            "INFO:cmdstanpy:Chain [1] done processing\n",
            "INFO:prophet:Disabling yearly seasonality. Run prophet with yearly_seasonality=True to override this.\n",
            "DEBUG:cmdstanpy:input tempfile: /tmp/tmpd33s_z0x/2lr674ra.json\n",
            "DEBUG:cmdstanpy:input tempfile: /tmp/tmpd33s_z0x/180teppw.json\n",
            "DEBUG:cmdstanpy:idx 0\n",
            "DEBUG:cmdstanpy:running CmdStan, num_threads: None\n",
            "DEBUG:cmdstanpy:CmdStan args: ['/usr/local/lib/python3.11/dist-packages/prophet/stan_model/prophet_model.bin', 'random', 'seed=89531', 'data', 'file=/tmp/tmpd33s_z0x/2lr674ra.json', 'init=/tmp/tmpd33s_z0x/180teppw.json', 'output', 'file=/tmp/tmpd33s_z0x/prophet_model14fddm30/prophet_model-20250730035047.csv', 'method=optimize', 'algorithm=lbfgs', 'iter=10000']\n",
            "03:50:47 - cmdstanpy - INFO - Chain [1] start processing\n",
            "INFO:cmdstanpy:Chain [1] start processing\n",
            "03:50:51 - cmdstanpy - INFO - Chain [1] done processing\n",
            "INFO:cmdstanpy:Chain [1] done processing\n",
            "INFO:prophet:Making 3 forecasts with cutoffs between 2023-05-01 20:16:31 and 2023-05-31 20:16:31\n",
            "INFO:prophet:Applying in parallel with <concurrent.futures.process.ProcessPoolExecutor object at 0x79971aec8f90>\n",
            "DEBUG:cmdstanpy:input tempfile: /tmp/tmpd33s_z0x/aswp1hwz.json\n",
            "DEBUG:cmdstanpy:input tempfile: /tmp/tmpd33s_z0x/nduozu6t.json\n",
            "DEBUG:cmdstanpy:input tempfile: /tmp/tmpd33s_z0x/5k_m3in5.json\n",
            "DEBUG:cmdstanpy:idx 0\n",
            "DEBUG:cmdstanpy:running CmdStan, num_threads: None\n",
            "DEBUG:cmdstanpy:CmdStan args: ['/usr/local/lib/python3.11/dist-packages/prophet/stan_model/prophet_model.bin', 'random', 'seed=88179', 'data', 'file=/tmp/tmpd33s_z0x/aswp1hwz.json', 'init=/tmp/tmpd33s_z0x/5k_m3in5.json', 'output', 'file=/tmp/tmpd33s_z0x/prophet_modelbrk3klle/prophet_model-20250730035053.csv', 'method=optimize', 'algorithm=lbfgs', 'iter=10000']\n",
            "03:50:53 - cmdstanpy - INFO - Chain [1] start processing\n",
            "INFO:cmdstanpy:Chain [1] start processing\n",
            "DEBUG:cmdstanpy:input tempfile: /tmp/tmpd33s_z0x/hhsdtjr7.json\n",
            "DEBUG:cmdstanpy:idx 0\n",
            "DEBUG:cmdstanpy:running CmdStan, num_threads: None\n",
            "DEBUG:cmdstanpy:CmdStan args: ['/usr/local/lib/python3.11/dist-packages/prophet/stan_model/prophet_model.bin', 'random', 'seed=804', 'data', 'file=/tmp/tmpd33s_z0x/nduozu6t.json', 'init=/tmp/tmpd33s_z0x/hhsdtjr7.json', 'output', 'file=/tmp/tmpd33s_z0x/prophet_modeler9ow_77/prophet_model-20250730035054.csv', 'method=optimize', 'algorithm=lbfgs', 'iter=10000']\n",
            "03:50:54 - cmdstanpy - INFO - Chain [1] start processing\n",
            "INFO:cmdstanpy:Chain [1] start processing\n",
            "03:50:56 - cmdstanpy - INFO - Chain [1] done processing\n",
            "INFO:cmdstanpy:Chain [1] done processing\n",
            "03:50:57 - cmdstanpy - INFO - Chain [1] done processing\n",
            "INFO:cmdstanpy:Chain [1] done processing\n",
            "DEBUG:cmdstanpy:input tempfile: /tmp/tmpd33s_z0x/gjxkzi66.json\n",
            "DEBUG:cmdstanpy:input tempfile: /tmp/tmpd33s_z0x/jh0i58ly.json\n",
            "DEBUG:cmdstanpy:idx 0\n",
            "DEBUG:cmdstanpy:running CmdStan, num_threads: None\n",
            "DEBUG:cmdstanpy:CmdStan args: ['/usr/local/lib/python3.11/dist-packages/prophet/stan_model/prophet_model.bin', 'random', 'seed=352', 'data', 'file=/tmp/tmpd33s_z0x/gjxkzi66.json', 'init=/tmp/tmpd33s_z0x/jh0i58ly.json', 'output', 'file=/tmp/tmpd33s_z0x/prophet_modeljceyaz1g/prophet_model-20250730035102.csv', 'method=optimize', 'algorithm=lbfgs', 'iter=10000']\n",
            "03:51:02 - cmdstanpy - INFO - Chain [1] start processing\n",
            "INFO:cmdstanpy:Chain [1] start processing\n",
            "03:51:03 - cmdstanpy - INFO - Chain [1] done processing\n",
            "INFO:cmdstanpy:Chain [1] done processing\n",
            "INFO:prophet:Disabling yearly seasonality. Run prophet with yearly_seasonality=True to override this.\n",
            "DEBUG:cmdstanpy:input tempfile: /tmp/tmpd33s_z0x/56vqeykf.json\n",
            "DEBUG:cmdstanpy:input tempfile: /tmp/tmpd33s_z0x/6vayxlkk.json\n",
            "DEBUG:cmdstanpy:idx 0\n",
            "DEBUG:cmdstanpy:running CmdStan, num_threads: None\n",
            "DEBUG:cmdstanpy:CmdStan args: ['/usr/local/lib/python3.11/dist-packages/prophet/stan_model/prophet_model.bin', 'random', 'seed=15451', 'data', 'file=/tmp/tmpd33s_z0x/56vqeykf.json', 'init=/tmp/tmpd33s_z0x/6vayxlkk.json', 'output', 'file=/tmp/tmpd33s_z0x/prophet_modelistcz6go/prophet_model-20250730035200.csv', 'method=optimize', 'algorithm=lbfgs', 'iter=10000']\n",
            "03:52:00 - cmdstanpy - INFO - Chain [1] start processing\n",
            "INFO:cmdstanpy:Chain [1] start processing\n",
            "03:52:10 - cmdstanpy - INFO - Chain [1] done processing\n",
            "INFO:cmdstanpy:Chain [1] done processing\n",
            "INFO:prophet:Making 3 forecasts with cutoffs between 2023-05-01 20:16:31 and 2023-05-31 20:16:31\n",
            "INFO:prophet:Applying in parallel with <concurrent.futures.process.ProcessPoolExecutor object at 0x79971b784e10>\n",
            "DEBUG:cmdstanpy:input tempfile: /tmp/tmpd33s_z0x/2jhxs6_s.json\n",
            "DEBUG:cmdstanpy:input tempfile: /tmp/tmpd33s_z0x/dlr1zqhp.json\n",
            "DEBUG:cmdstanpy:input tempfile: /tmp/tmpd33s_z0x/i88wg28f.json\n",
            "DEBUG:cmdstanpy:idx 0\n",
            "DEBUG:cmdstanpy:running CmdStan, num_threads: None\n",
            "DEBUG:cmdstanpy:CmdStan args: ['/usr/local/lib/python3.11/dist-packages/prophet/stan_model/prophet_model.bin', 'random', 'seed=26937', 'data', 'file=/tmp/tmpd33s_z0x/2jhxs6_s.json', 'init=/tmp/tmpd33s_z0x/i88wg28f.json', 'output', 'file=/tmp/tmpd33s_z0x/prophet_modelm9b4p38j/prophet_model-20250730035212.csv', 'method=optimize', 'algorithm=lbfgs', 'iter=10000']\n",
            "03:52:12 - cmdstanpy - INFO - Chain [1] start processing\n",
            "INFO:cmdstanpy:Chain [1] start processing\n",
            "DEBUG:cmdstanpy:input tempfile: /tmp/tmpd33s_z0x/at0rqj3o.json\n",
            "DEBUG:cmdstanpy:idx 0\n",
            "DEBUG:cmdstanpy:running CmdStan, num_threads: None\n",
            "DEBUG:cmdstanpy:CmdStan args: ['/usr/local/lib/python3.11/dist-packages/prophet/stan_model/prophet_model.bin', 'random', 'seed=31999', 'data', 'file=/tmp/tmpd33s_z0x/dlr1zqhp.json', 'init=/tmp/tmpd33s_z0x/at0rqj3o.json', 'output', 'file=/tmp/tmpd33s_z0x/prophet_modelbby9pxl4/prophet_model-20250730035213.csv', 'method=optimize', 'algorithm=lbfgs', 'iter=10000']\n",
            "03:52:13 - cmdstanpy - INFO - Chain [1] start processing\n",
            "INFO:cmdstanpy:Chain [1] start processing\n",
            "03:52:23 - cmdstanpy - INFO - Chain [1] done processing\n",
            "INFO:cmdstanpy:Chain [1] done processing\n",
            "DEBUG:cmdstanpy:input tempfile: /tmp/tmpd33s_z0x/0dc_zryu.json\n",
            "03:52:27 - cmdstanpy - INFO - Chain [1] done processing\n",
            "INFO:cmdstanpy:Chain [1] done processing\n",
            "DEBUG:cmdstanpy:input tempfile: /tmp/tmpd33s_z0x/jy_ph993.json\n",
            "DEBUG:cmdstanpy:idx 0\n",
            "DEBUG:cmdstanpy:running CmdStan, num_threads: None\n",
            "DEBUG:cmdstanpy:CmdStan args: ['/usr/local/lib/python3.11/dist-packages/prophet/stan_model/prophet_model.bin', 'random', 'seed=2483', 'data', 'file=/tmp/tmpd33s_z0x/0dc_zryu.json', 'init=/tmp/tmpd33s_z0x/jy_ph993.json', 'output', 'file=/tmp/tmpd33s_z0x/prophet_modelbrhjf7gc/prophet_model-20250730035228.csv', 'method=optimize', 'algorithm=lbfgs', 'iter=10000']\n",
            "03:52:28 - cmdstanpy - INFO - Chain [1] start processing\n",
            "INFO:cmdstanpy:Chain [1] start processing\n",
            "03:52:39 - cmdstanpy - INFO - Chain [1] done processing\n",
            "INFO:cmdstanpy:Chain [1] done processing\n",
            "INFO:prophet:Disabling yearly seasonality. Run prophet with yearly_seasonality=True to override this.\n",
            "DEBUG:cmdstanpy:input tempfile: /tmp/tmpd33s_z0x/q942av6_.json\n",
            "DEBUG:cmdstanpy:input tempfile: /tmp/tmpd33s_z0x/ffr85khj.json\n",
            "DEBUG:cmdstanpy:idx 0\n",
            "DEBUG:cmdstanpy:running CmdStan, num_threads: None\n",
            "DEBUG:cmdstanpy:CmdStan args: ['/usr/local/lib/python3.11/dist-packages/prophet/stan_model/prophet_model.bin', 'random', 'seed=28333', 'data', 'file=/tmp/tmpd33s_z0x/q942av6_.json', 'init=/tmp/tmpd33s_z0x/ffr85khj.json', 'output', 'file=/tmp/tmpd33s_z0x/prophet_model7tfgjv4y/prophet_model-20250730035335.csv', 'method=optimize', 'algorithm=lbfgs', 'iter=10000']\n",
            "03:53:35 - cmdstanpy - INFO - Chain [1] start processing\n",
            "INFO:cmdstanpy:Chain [1] start processing\n",
            "03:53:58 - cmdstanpy - INFO - Chain [1] done processing\n",
            "INFO:cmdstanpy:Chain [1] done processing\n",
            "INFO:prophet:Making 3 forecasts with cutoffs between 2023-05-01 20:16:31 and 2023-05-31 20:16:31\n",
            "INFO:prophet:Applying in parallel with <concurrent.futures.process.ProcessPoolExecutor object at 0x7997198a02d0>\n",
            "DEBUG:cmdstanpy:input tempfile: /tmp/tmpd33s_z0x/sojtngzh.json\n",
            "DEBUG:cmdstanpy:input tempfile: /tmp/tmpd33s_z0x/ogricq9k.json\n",
            "DEBUG:cmdstanpy:input tempfile: /tmp/tmpd33s_z0x/ww6ixowi.json\n",
            "DEBUG:cmdstanpy:idx 0\n",
            "DEBUG:cmdstanpy:running CmdStan, num_threads: None\n",
            "DEBUG:cmdstanpy:CmdStan args: ['/usr/local/lib/python3.11/dist-packages/prophet/stan_model/prophet_model.bin', 'random', 'seed=13705', 'data', 'file=/tmp/tmpd33s_z0x/sojtngzh.json', 'init=/tmp/tmpd33s_z0x/ww6ixowi.json', 'output', 'file=/tmp/tmpd33s_z0x/prophet_model83bi_pzz/prophet_model-20250730035401.csv', 'method=optimize', 'algorithm=lbfgs', 'iter=10000']\n",
            "03:54:01 - cmdstanpy - INFO - Chain [1] start processing\n",
            "INFO:cmdstanpy:Chain [1] start processing\n",
            "DEBUG:cmdstanpy:input tempfile: /tmp/tmpd33s_z0x/kn0xlsuw.json\n",
            "DEBUG:cmdstanpy:idx 0\n",
            "DEBUG:cmdstanpy:running CmdStan, num_threads: None\n",
            "DEBUG:cmdstanpy:CmdStan args: ['/usr/local/lib/python3.11/dist-packages/prophet/stan_model/prophet_model.bin', 'random', 'seed=5092', 'data', 'file=/tmp/tmpd33s_z0x/ogricq9k.json', 'init=/tmp/tmpd33s_z0x/kn0xlsuw.json', 'output', 'file=/tmp/tmpd33s_z0x/prophet_modeld5oy8g7h/prophet_model-20250730035402.csv', 'method=optimize', 'algorithm=lbfgs', 'iter=10000']\n",
            "03:54:02 - cmdstanpy - INFO - Chain [1] start processing\n",
            "INFO:cmdstanpy:Chain [1] start processing\n",
            "03:54:17 - cmdstanpy - INFO - Chain [1] done processing\n",
            "INFO:cmdstanpy:Chain [1] done processing\n",
            "03:54:21 - cmdstanpy - INFO - Chain [1] done processing\n",
            "INFO:cmdstanpy:Chain [1] done processing\n",
            "DEBUG:cmdstanpy:input tempfile: /tmp/tmpd33s_z0x/8vc30jfs.json\n",
            "DEBUG:cmdstanpy:input tempfile: /tmp/tmpd33s_z0x/sakcr3vs.json\n",
            "DEBUG:cmdstanpy:idx 0\n",
            "DEBUG:cmdstanpy:running CmdStan, num_threads: None\n",
            "DEBUG:cmdstanpy:CmdStan args: ['/usr/local/lib/python3.11/dist-packages/prophet/stan_model/prophet_model.bin', 'random', 'seed=27409', 'data', 'file=/tmp/tmpd33s_z0x/8vc30jfs.json', 'init=/tmp/tmpd33s_z0x/sakcr3vs.json', 'output', 'file=/tmp/tmpd33s_z0x/prophet_modelv56y0rmh/prophet_model-20250730035424.csv', 'method=optimize', 'algorithm=lbfgs', 'iter=10000']\n",
            "03:54:24 - cmdstanpy - INFO - Chain [1] start processing\n",
            "INFO:cmdstanpy:Chain [1] start processing\n",
            "03:54:38 - cmdstanpy - INFO - Chain [1] done processing\n",
            "INFO:cmdstanpy:Chain [1] done processing\n",
            "INFO:prophet:Disabling yearly seasonality. Run prophet with yearly_seasonality=True to override this.\n",
            "DEBUG:cmdstanpy:input tempfile: /tmp/tmpd33s_z0x/2dn5n9gx.json\n",
            "DEBUG:cmdstanpy:input tempfile: /tmp/tmpd33s_z0x/0wd3uw9t.json\n",
            "DEBUG:cmdstanpy:idx 0\n",
            "DEBUG:cmdstanpy:running CmdStan, num_threads: None\n",
            "DEBUG:cmdstanpy:CmdStan args: ['/usr/local/lib/python3.11/dist-packages/prophet/stan_model/prophet_model.bin', 'random', 'seed=80926', 'data', 'file=/tmp/tmpd33s_z0x/2dn5n9gx.json', 'init=/tmp/tmpd33s_z0x/0wd3uw9t.json', 'output', 'file=/tmp/tmpd33s_z0x/prophet_model771j3glu/prophet_model-20250730035534.csv', 'method=optimize', 'algorithm=lbfgs', 'iter=10000']\n",
            "03:55:34 - cmdstanpy - INFO - Chain [1] start processing\n",
            "INFO:cmdstanpy:Chain [1] start processing\n",
            "03:55:38 - cmdstanpy - INFO - Chain [1] done processing\n",
            "INFO:cmdstanpy:Chain [1] done processing\n",
            "INFO:prophet:Making 3 forecasts with cutoffs between 2023-05-01 20:16:31 and 2023-05-31 20:16:31\n",
            "INFO:prophet:Applying in parallel with <concurrent.futures.process.ProcessPoolExecutor object at 0x79971a382110>\n",
            "DEBUG:cmdstanpy:input tempfile: /tmp/tmpd33s_z0x/4fkj4j7q.json\n",
            "DEBUG:cmdstanpy:input tempfile: /tmp/tmpd33s_z0x/lt2bufvg.json\n",
            "DEBUG:cmdstanpy:input tempfile: /tmp/tmpd33s_z0x/2bdw6jfb.json\n",
            "DEBUG:cmdstanpy:idx 0\n",
            "DEBUG:cmdstanpy:running CmdStan, num_threads: None\n",
            "DEBUG:cmdstanpy:CmdStan args: ['/usr/local/lib/python3.11/dist-packages/prophet/stan_model/prophet_model.bin', 'random', 'seed=44658', 'data', 'file=/tmp/tmpd33s_z0x/4fkj4j7q.json', 'init=/tmp/tmpd33s_z0x/2bdw6jfb.json', 'output', 'file=/tmp/tmpd33s_z0x/prophet_model1m87uqax/prophet_model-20250730035542.csv', 'method=optimize', 'algorithm=lbfgs', 'iter=10000']\n",
            "03:55:42 - cmdstanpy - INFO - Chain [1] start processing\n",
            "INFO:cmdstanpy:Chain [1] start processing\n",
            "DEBUG:cmdstanpy:input tempfile: /tmp/tmpd33s_z0x/l9wrvl05.json\n",
            "DEBUG:cmdstanpy:idx 0\n",
            "DEBUG:cmdstanpy:running CmdStan, num_threads: None\n",
            "DEBUG:cmdstanpy:CmdStan args: ['/usr/local/lib/python3.11/dist-packages/prophet/stan_model/prophet_model.bin', 'random', 'seed=1549', 'data', 'file=/tmp/tmpd33s_z0x/lt2bufvg.json', 'init=/tmp/tmpd33s_z0x/l9wrvl05.json', 'output', 'file=/tmp/tmpd33s_z0x/prophet_modelt_2dgzh_/prophet_model-20250730035542.csv', 'method=optimize', 'algorithm=lbfgs', 'iter=10000']\n",
            "03:55:42 - cmdstanpy - INFO - Chain [1] start processing\n",
            "INFO:cmdstanpy:Chain [1] start processing\n",
            "03:55:45 - cmdstanpy - INFO - Chain [1] done processing\n",
            "INFO:cmdstanpy:Chain [1] done processing\n",
            "03:55:46 - cmdstanpy - INFO - Chain [1] done processing\n",
            "INFO:cmdstanpy:Chain [1] done processing\n",
            "DEBUG:cmdstanpy:input tempfile: /tmp/tmpd33s_z0x/nfsgk48z.json\n",
            "DEBUG:cmdstanpy:input tempfile: /tmp/tmpd33s_z0x/1t0oyjp0.json\n",
            "DEBUG:cmdstanpy:idx 0\n",
            "DEBUG:cmdstanpy:running CmdStan, num_threads: None\n",
            "DEBUG:cmdstanpy:CmdStan args: ['/usr/local/lib/python3.11/dist-packages/prophet/stan_model/prophet_model.bin', 'random', 'seed=69814', 'data', 'file=/tmp/tmpd33s_z0x/nfsgk48z.json', 'init=/tmp/tmpd33s_z0x/1t0oyjp0.json', 'output', 'file=/tmp/tmpd33s_z0x/prophet_model0f25t4ax/prophet_model-20250730035552.csv', 'method=optimize', 'algorithm=lbfgs', 'iter=10000']\n",
            "03:55:52 - cmdstanpy - INFO - Chain [1] start processing\n",
            "INFO:cmdstanpy:Chain [1] start processing\n",
            "03:55:54 - cmdstanpy - INFO - Chain [1] done processing\n",
            "INFO:cmdstanpy:Chain [1] done processing\n",
            "INFO:prophet:Disabling yearly seasonality. Run prophet with yearly_seasonality=True to override this.\n",
            "DEBUG:cmdstanpy:input tempfile: /tmp/tmpd33s_z0x/v5p4nobv.json\n",
            "DEBUG:cmdstanpy:input tempfile: /tmp/tmpd33s_z0x/sn9ivcpp.json\n",
            "DEBUG:cmdstanpy:idx 0\n",
            "DEBUG:cmdstanpy:running CmdStan, num_threads: None\n",
            "DEBUG:cmdstanpy:CmdStan args: ['/usr/local/lib/python3.11/dist-packages/prophet/stan_model/prophet_model.bin', 'random', 'seed=88962', 'data', 'file=/tmp/tmpd33s_z0x/v5p4nobv.json', 'init=/tmp/tmpd33s_z0x/sn9ivcpp.json', 'output', 'file=/tmp/tmpd33s_z0x/prophet_model5d26kuo1/prophet_model-20250730035650.csv', 'method=optimize', 'algorithm=lbfgs', 'iter=10000']\n",
            "03:56:50 - cmdstanpy - INFO - Chain [1] start processing\n",
            "INFO:cmdstanpy:Chain [1] start processing\n",
            "03:56:56 - cmdstanpy - INFO - Chain [1] done processing\n",
            "INFO:cmdstanpy:Chain [1] done processing\n",
            "INFO:prophet:Making 3 forecasts with cutoffs between 2023-05-01 20:16:31 and 2023-05-31 20:16:31\n",
            "INFO:prophet:Applying in parallel with <concurrent.futures.process.ProcessPoolExecutor object at 0x79971a3c4c90>\n",
            "DEBUG:cmdstanpy:input tempfile: /tmp/tmpd33s_z0x/bfldp_0h.json\n",
            "DEBUG:cmdstanpy:input tempfile: /tmp/tmpd33s_z0x/cs71k2vq.json\n",
            "DEBUG:cmdstanpy:input tempfile: /tmp/tmpd33s_z0x/ndvkr4px.json\n",
            "DEBUG:cmdstanpy:idx 0\n",
            "DEBUG:cmdstanpy:running CmdStan, num_threads: None\n",
            "DEBUG:cmdstanpy:CmdStan args: ['/usr/local/lib/python3.11/dist-packages/prophet/stan_model/prophet_model.bin', 'random', 'seed=86316', 'data', 'file=/tmp/tmpd33s_z0x/bfldp_0h.json', 'init=/tmp/tmpd33s_z0x/ndvkr4px.json', 'output', 'file=/tmp/tmpd33s_z0x/prophet_modelrbl6hi2g/prophet_model-20250730035659.csv', 'method=optimize', 'algorithm=lbfgs', 'iter=10000']\n",
            "03:56:59 - cmdstanpy - INFO - Chain [1] start processing\n",
            "INFO:cmdstanpy:Chain [1] start processing\n",
            "DEBUG:cmdstanpy:input tempfile: /tmp/tmpd33s_z0x/ch47cv69.json\n",
            "DEBUG:cmdstanpy:idx 0\n",
            "DEBUG:cmdstanpy:running CmdStan, num_threads: None\n",
            "DEBUG:cmdstanpy:CmdStan args: ['/usr/local/lib/python3.11/dist-packages/prophet/stan_model/prophet_model.bin', 'random', 'seed=52001', 'data', 'file=/tmp/tmpd33s_z0x/cs71k2vq.json', 'init=/tmp/tmpd33s_z0x/ch47cv69.json', 'output', 'file=/tmp/tmpd33s_z0x/prophet_model___hgh0w/prophet_model-20250730035700.csv', 'method=optimize', 'algorithm=lbfgs', 'iter=10000']\n",
            "03:57:00 - cmdstanpy - INFO - Chain [1] start processing\n",
            "INFO:cmdstanpy:Chain [1] start processing\n",
            "03:57:04 - cmdstanpy - INFO - Chain [1] done processing\n",
            "INFO:cmdstanpy:Chain [1] done processing\n",
            "03:57:08 - cmdstanpy - INFO - Chain [1] done processing\n",
            "INFO:cmdstanpy:Chain [1] done processing\n",
            "DEBUG:cmdstanpy:input tempfile: /tmp/tmpd33s_z0x/w0n68g7h.json\n",
            "DEBUG:cmdstanpy:input tempfile: /tmp/tmpd33s_z0x/8xtsjvpr.json\n",
            "DEBUG:cmdstanpy:idx 0\n",
            "DEBUG:cmdstanpy:running CmdStan, num_threads: None\n",
            "DEBUG:cmdstanpy:CmdStan args: ['/usr/local/lib/python3.11/dist-packages/prophet/stan_model/prophet_model.bin', 'random', 'seed=25337', 'data', 'file=/tmp/tmpd33s_z0x/w0n68g7h.json', 'init=/tmp/tmpd33s_z0x/8xtsjvpr.json', 'output', 'file=/tmp/tmpd33s_z0x/prophet_modelludnyov_/prophet_model-20250730035712.csv', 'method=optimize', 'algorithm=lbfgs', 'iter=10000']\n",
            "03:57:12 - cmdstanpy - INFO - Chain [1] start processing\n",
            "INFO:cmdstanpy:Chain [1] start processing\n",
            "03:57:17 - cmdstanpy - INFO - Chain [1] done processing\n",
            "INFO:cmdstanpy:Chain [1] done processing\n",
            "INFO:prophet:Disabling yearly seasonality. Run prophet with yearly_seasonality=True to override this.\n",
            "DEBUG:cmdstanpy:input tempfile: /tmp/tmpd33s_z0x/_dbiqqap.json\n",
            "DEBUG:cmdstanpy:input tempfile: /tmp/tmpd33s_z0x/yovu6efb.json\n",
            "DEBUG:cmdstanpy:idx 0\n",
            "DEBUG:cmdstanpy:running CmdStan, num_threads: None\n",
            "DEBUG:cmdstanpy:CmdStan args: ['/usr/local/lib/python3.11/dist-packages/prophet/stan_model/prophet_model.bin', 'random', 'seed=83989', 'data', 'file=/tmp/tmpd33s_z0x/_dbiqqap.json', 'init=/tmp/tmpd33s_z0x/yovu6efb.json', 'output', 'file=/tmp/tmpd33s_z0x/prophet_model661wm4ts/prophet_model-20250730035807.csv', 'method=optimize', 'algorithm=lbfgs', 'iter=10000']\n",
            "03:58:07 - cmdstanpy - INFO - Chain [1] start processing\n",
            "INFO:cmdstanpy:Chain [1] start processing\n",
            "03:58:33 - cmdstanpy - INFO - Chain [1] done processing\n",
            "INFO:cmdstanpy:Chain [1] done processing\n",
            "INFO:prophet:Making 3 forecasts with cutoffs between 2023-05-01 20:16:31 and 2023-05-31 20:16:31\n",
            "INFO:prophet:Applying in parallel with <concurrent.futures.process.ProcessPoolExecutor object at 0x79971a3dfb90>\n",
            "DEBUG:cmdstanpy:input tempfile: /tmp/tmpd33s_z0x/cscbii7z.json\n",
            "DEBUG:cmdstanpy:input tempfile: /tmp/tmpd33s_z0x/rg34igyz.json\n",
            "DEBUG:cmdstanpy:input tempfile: /tmp/tmpd33s_z0x/u82yxndv.json\n",
            "DEBUG:cmdstanpy:idx 0\n",
            "DEBUG:cmdstanpy:running CmdStan, num_threads: None\n",
            "DEBUG:cmdstanpy:CmdStan args: ['/usr/local/lib/python3.11/dist-packages/prophet/stan_model/prophet_model.bin', 'random', 'seed=40485', 'data', 'file=/tmp/tmpd33s_z0x/cscbii7z.json', 'init=/tmp/tmpd33s_z0x/u82yxndv.json', 'output', 'file=/tmp/tmpd33s_z0x/prophet_modelm1p8mg5q/prophet_model-20250730035836.csv', 'method=optimize', 'algorithm=lbfgs', 'iter=10000']\n",
            "03:58:36 - cmdstanpy - INFO - Chain [1] start processing\n",
            "INFO:cmdstanpy:Chain [1] start processing\n",
            "DEBUG:cmdstanpy:input tempfile: /tmp/tmpd33s_z0x/9ba85j39.json\n",
            "DEBUG:cmdstanpy:idx 0\n",
            "DEBUG:cmdstanpy:running CmdStan, num_threads: None\n",
            "DEBUG:cmdstanpy:CmdStan args: ['/usr/local/lib/python3.11/dist-packages/prophet/stan_model/prophet_model.bin', 'random', 'seed=62338', 'data', 'file=/tmp/tmpd33s_z0x/rg34igyz.json', 'init=/tmp/tmpd33s_z0x/9ba85j39.json', 'output', 'file=/tmp/tmpd33s_z0x/prophet_modelj2rdnzuu/prophet_model-20250730035837.csv', 'method=optimize', 'algorithm=lbfgs', 'iter=10000']\n",
            "03:58:37 - cmdstanpy - INFO - Chain [1] start processing\n",
            "INFO:cmdstanpy:Chain [1] start processing\n",
            "03:58:55 - cmdstanpy - INFO - Chain [1] done processing\n",
            "INFO:cmdstanpy:Chain [1] done processing\n",
            "03:58:58 - cmdstanpy - INFO - Chain [1] done processing\n",
            "INFO:cmdstanpy:Chain [1] done processing\n",
            "DEBUG:cmdstanpy:input tempfile: /tmp/tmpd33s_z0x/o16n6u6t.json\n",
            "DEBUG:cmdstanpy:input tempfile: /tmp/tmpd33s_z0x/0trfkndi.json\n",
            "DEBUG:cmdstanpy:idx 0\n",
            "DEBUG:cmdstanpy:running CmdStan, num_threads: None\n",
            "DEBUG:cmdstanpy:CmdStan args: ['/usr/local/lib/python3.11/dist-packages/prophet/stan_model/prophet_model.bin', 'random', 'seed=92141', 'data', 'file=/tmp/tmpd33s_z0x/o16n6u6t.json', 'init=/tmp/tmpd33s_z0x/0trfkndi.json', 'output', 'file=/tmp/tmpd33s_z0x/prophet_modelmunr2hcx/prophet_model-20250730035901.csv', 'method=optimize', 'algorithm=lbfgs', 'iter=10000']\n",
            "03:59:01 - cmdstanpy - INFO - Chain [1] start processing\n",
            "INFO:cmdstanpy:Chain [1] start processing\n",
            "03:59:13 - cmdstanpy - INFO - Chain [1] done processing\n",
            "INFO:cmdstanpy:Chain [1] done processing\n",
            "INFO:prophet:Disabling yearly seasonality. Run prophet with yearly_seasonality=True to override this.\n",
            "DEBUG:cmdstanpy:input tempfile: /tmp/tmpd33s_z0x/uzup9zl4.json\n",
            "DEBUG:cmdstanpy:input tempfile: /tmp/tmpd33s_z0x/8qykddl0.json\n",
            "DEBUG:cmdstanpy:idx 0\n",
            "DEBUG:cmdstanpy:running CmdStan, num_threads: None\n",
            "DEBUG:cmdstanpy:CmdStan args: ['/usr/local/lib/python3.11/dist-packages/prophet/stan_model/prophet_model.bin', 'random', 'seed=18808', 'data', 'file=/tmp/tmpd33s_z0x/uzup9zl4.json', 'init=/tmp/tmpd33s_z0x/8qykddl0.json', 'output', 'file=/tmp/tmpd33s_z0x/prophet_modelnt9_xrln/prophet_model-20250730040002.csv', 'method=optimize', 'algorithm=lbfgs', 'iter=10000']\n",
            "04:00:02 - cmdstanpy - INFO - Chain [1] start processing\n",
            "INFO:cmdstanpy:Chain [1] start processing\n",
            "04:00:25 - cmdstanpy - INFO - Chain [1] done processing\n",
            "INFO:cmdstanpy:Chain [1] done processing\n",
            "INFO:prophet:Making 3 forecasts with cutoffs between 2023-05-01 20:16:31 and 2023-05-31 20:16:31\n",
            "INFO:prophet:Applying in parallel with <concurrent.futures.process.ProcessPoolExecutor object at 0x79971bd9c050>\n",
            "DEBUG:cmdstanpy:input tempfile: /tmp/tmpd33s_z0x/z8hxt27q.json\n",
            "DEBUG:cmdstanpy:input tempfile: /tmp/tmpd33s_z0x/uce1gg6e.json\n",
            "DEBUG:cmdstanpy:input tempfile: /tmp/tmpd33s_z0x/cksar7x8.json\n",
            "DEBUG:cmdstanpy:idx 0\n",
            "DEBUG:cmdstanpy:running CmdStan, num_threads: None\n",
            "DEBUG:cmdstanpy:CmdStan args: ['/usr/local/lib/python3.11/dist-packages/prophet/stan_model/prophet_model.bin', 'random', 'seed=24204', 'data', 'file=/tmp/tmpd33s_z0x/z8hxt27q.json', 'init=/tmp/tmpd33s_z0x/cksar7x8.json', 'output', 'file=/tmp/tmpd33s_z0x/prophet_modelvkfaqmqu/prophet_model-20250730040028.csv', 'method=optimize', 'algorithm=lbfgs', 'iter=10000']\n",
            "04:00:28 - cmdstanpy - INFO - Chain [1] start processing\n",
            "INFO:cmdstanpy:Chain [1] start processing\n",
            "DEBUG:cmdstanpy:input tempfile: /tmp/tmpd33s_z0x/adryy4h6.json\n",
            "DEBUG:cmdstanpy:idx 0\n",
            "DEBUG:cmdstanpy:running CmdStan, num_threads: None\n",
            "DEBUG:cmdstanpy:CmdStan args: ['/usr/local/lib/python3.11/dist-packages/prophet/stan_model/prophet_model.bin', 'random', 'seed=67019', 'data', 'file=/tmp/tmpd33s_z0x/uce1gg6e.json', 'init=/tmp/tmpd33s_z0x/adryy4h6.json', 'output', 'file=/tmp/tmpd33s_z0x/prophet_model5rxd8lfw/prophet_model-20250730040029.csv', 'method=optimize', 'algorithm=lbfgs', 'iter=10000']\n",
            "04:00:29 - cmdstanpy - INFO - Chain [1] start processing\n",
            "INFO:cmdstanpy:Chain [1] start processing\n",
            "04:00:49 - cmdstanpy - INFO - Chain [1] done processing\n",
            "INFO:cmdstanpy:Chain [1] done processing\n",
            "04:00:52 - cmdstanpy - INFO - Chain [1] done processing\n",
            "INFO:cmdstanpy:Chain [1] done processing\n",
            "DEBUG:cmdstanpy:input tempfile: /tmp/tmpd33s_z0x/3uwhh3hq.json\n",
            "DEBUG:cmdstanpy:input tempfile: /tmp/tmpd33s_z0x/qvlohr4m.json\n",
            "DEBUG:cmdstanpy:idx 0\n",
            "DEBUG:cmdstanpy:running CmdStan, num_threads: None\n",
            "DEBUG:cmdstanpy:CmdStan args: ['/usr/local/lib/python3.11/dist-packages/prophet/stan_model/prophet_model.bin', 'random', 'seed=33828', 'data', 'file=/tmp/tmpd33s_z0x/3uwhh3hq.json', 'init=/tmp/tmpd33s_z0x/qvlohr4m.json', 'output', 'file=/tmp/tmpd33s_z0x/prophet_modelbuea6ksi/prophet_model-20250730040056.csv', 'method=optimize', 'algorithm=lbfgs', 'iter=10000']\n",
            "04:00:56 - cmdstanpy - INFO - Chain [1] start processing\n",
            "INFO:cmdstanpy:Chain [1] start processing\n",
            "04:01:15 - cmdstanpy - INFO - Chain [1] done processing\n",
            "INFO:cmdstanpy:Chain [1] done processing\n"
          ]
        },
        {
          "output_type": "stream",
          "name": "stdout",
          "text": [
            "Best combination: {'changepoint_prior_scale': 0.01, 'seasonality_prior_scale': 10, 'fourier_order': 7} MAPE: 0.2526792390188897\n"
          ]
        }
      ]
    },
    {
      "cell_type": "markdown",
      "source": [
        "For the **Manhattan** store, the best calculated combination is:\n",
        "\n",
        "*  **changepoint_prior_scale**: 0.01\n",
        "\n",
        "* **seasonality_prior_scale**: 10\n",
        "\n",
        "* **fourier_order**: 7\n",
        "\n",
        "* With a **MAPE** of 25.26%."
      ],
      "metadata": {
        "id": "pijoFPljMr73"
      }
    },
    {
      "cell_type": "code",
      "source": [
        "best_fit(df_train_hell_kitchen)"
      ],
      "metadata": {
        "colab": {
          "base_uri": "https://localhost:8080/"
        },
        "id": "H-1A2R0-MnJQ",
        "outputId": "627716e3-f7bc-48e6-a2c7-b4af0c027437"
      },
      "execution_count": 31,
      "outputs": [
        {
          "output_type": "stream",
          "name": "stderr",
          "text": [
            "INFO:prophet:Disabling yearly seasonality. Run prophet with yearly_seasonality=True to override this.\n",
            "DEBUG:cmdstanpy:input tempfile: /tmp/tmpd33s_z0x/uvnxd3pm.json\n",
            "DEBUG:cmdstanpy:input tempfile: /tmp/tmpd33s_z0x/6b36euud.json\n",
            "DEBUG:cmdstanpy:idx 0\n",
            "DEBUG:cmdstanpy:running CmdStan, num_threads: None\n",
            "DEBUG:cmdstanpy:CmdStan args: ['/usr/local/lib/python3.11/dist-packages/prophet/stan_model/prophet_model.bin', 'random', 'seed=26511', 'data', 'file=/tmp/tmpd33s_z0x/uvnxd3pm.json', 'init=/tmp/tmpd33s_z0x/6b36euud.json', 'output', 'file=/tmp/tmpd33s_z0x/prophet_model7one5iju/prophet_model-20250730040204.csv', 'method=optimize', 'algorithm=lbfgs', 'iter=10000']\n",
            "04:02:04 - cmdstanpy - INFO - Chain [1] start processing\n",
            "INFO:cmdstanpy:Chain [1] start processing\n",
            "04:02:16 - cmdstanpy - INFO - Chain [1] done processing\n",
            "INFO:cmdstanpy:Chain [1] done processing\n",
            "INFO:prophet:Making 3 forecasts with cutoffs between 2023-05-01 20:57:19 and 2023-05-31 20:57:19\n",
            "INFO:prophet:Applying in parallel with <concurrent.futures.process.ProcessPoolExecutor object at 0x79971c1e4390>\n",
            "DEBUG:cmdstanpy:input tempfile: /tmp/tmpd33s_z0x/2hft35y3.json\n",
            "DEBUG:cmdstanpy:input tempfile: /tmp/tmpd33s_z0x/xy5z121e.json\n",
            "DEBUG:cmdstanpy:input tempfile: /tmp/tmpd33s_z0x/a0mgiik8.json\n",
            "DEBUG:cmdstanpy:idx 0\n",
            "DEBUG:cmdstanpy:running CmdStan, num_threads: None\n",
            "DEBUG:cmdstanpy:CmdStan args: ['/usr/local/lib/python3.11/dist-packages/prophet/stan_model/prophet_model.bin', 'random', 'seed=52808', 'data', 'file=/tmp/tmpd33s_z0x/2hft35y3.json', 'init=/tmp/tmpd33s_z0x/a0mgiik8.json', 'output', 'file=/tmp/tmpd33s_z0x/prophet_modelj278hyua/prophet_model-20250730040219.csv', 'method=optimize', 'algorithm=lbfgs', 'iter=10000']\n",
            "04:02:19 - cmdstanpy - INFO - Chain [1] start processing\n",
            "INFO:cmdstanpy:Chain [1] start processing\n",
            "DEBUG:cmdstanpy:input tempfile: /tmp/tmpd33s_z0x/00bz0sds.json\n",
            "DEBUG:cmdstanpy:idx 0\n",
            "DEBUG:cmdstanpy:running CmdStan, num_threads: None\n",
            "DEBUG:cmdstanpy:CmdStan args: ['/usr/local/lib/python3.11/dist-packages/prophet/stan_model/prophet_model.bin', 'random', 'seed=20011', 'data', 'file=/tmp/tmpd33s_z0x/xy5z121e.json', 'init=/tmp/tmpd33s_z0x/00bz0sds.json', 'output', 'file=/tmp/tmpd33s_z0x/prophet_modelja4cdeha/prophet_model-20250730040219.csv', 'method=optimize', 'algorithm=lbfgs', 'iter=10000']\n",
            "04:02:19 - cmdstanpy - INFO - Chain [1] start processing\n",
            "INFO:cmdstanpy:Chain [1] start processing\n",
            "04:02:33 - cmdstanpy - INFO - Chain [1] done processing\n",
            "INFO:cmdstanpy:Chain [1] done processing\n",
            "04:02:35 - cmdstanpy - INFO - Chain [1] done processing\n",
            "INFO:cmdstanpy:Chain [1] done processing\n",
            "DEBUG:cmdstanpy:input tempfile: /tmp/tmpd33s_z0x/2t4x2jkr.json\n",
            "DEBUG:cmdstanpy:input tempfile: /tmp/tmpd33s_z0x/5fzdmoc9.json\n",
            "DEBUG:cmdstanpy:idx 0\n",
            "DEBUG:cmdstanpy:running CmdStan, num_threads: None\n",
            "DEBUG:cmdstanpy:CmdStan args: ['/usr/local/lib/python3.11/dist-packages/prophet/stan_model/prophet_model.bin', 'random', 'seed=3870', 'data', 'file=/tmp/tmpd33s_z0x/2t4x2jkr.json', 'init=/tmp/tmpd33s_z0x/5fzdmoc9.json', 'output', 'file=/tmp/tmpd33s_z0x/prophet_model02zsv0pq/prophet_model-20250730040240.csv', 'method=optimize', 'algorithm=lbfgs', 'iter=10000']\n",
            "04:02:40 - cmdstanpy - INFO - Chain [1] start processing\n",
            "INFO:cmdstanpy:Chain [1] start processing\n",
            "04:02:51 - cmdstanpy - INFO - Chain [1] done processing\n",
            "INFO:cmdstanpy:Chain [1] done processing\n",
            "INFO:prophet:Disabling yearly seasonality. Run prophet with yearly_seasonality=True to override this.\n",
            "DEBUG:cmdstanpy:input tempfile: /tmp/tmpd33s_z0x/7bkshzjp.json\n",
            "DEBUG:cmdstanpy:input tempfile: /tmp/tmpd33s_z0x/y3rqumhl.json\n",
            "DEBUG:cmdstanpy:idx 0\n",
            "DEBUG:cmdstanpy:running CmdStan, num_threads: None\n",
            "DEBUG:cmdstanpy:CmdStan args: ['/usr/local/lib/python3.11/dist-packages/prophet/stan_model/prophet_model.bin', 'random', 'seed=54324', 'data', 'file=/tmp/tmpd33s_z0x/7bkshzjp.json', 'init=/tmp/tmpd33s_z0x/y3rqumhl.json', 'output', 'file=/tmp/tmpd33s_z0x/prophet_model88rcgeen/prophet_model-20250730040348.csv', 'method=optimize', 'algorithm=lbfgs', 'iter=10000']\n",
            "04:03:48 - cmdstanpy - INFO - Chain [1] start processing\n",
            "INFO:cmdstanpy:Chain [1] start processing\n",
            "04:04:02 - cmdstanpy - INFO - Chain [1] done processing\n",
            "INFO:cmdstanpy:Chain [1] done processing\n",
            "INFO:prophet:Making 3 forecasts with cutoffs between 2023-05-01 20:57:19 and 2023-05-31 20:57:19\n",
            "INFO:prophet:Applying in parallel with <concurrent.futures.process.ProcessPoolExecutor object at 0x79971b4ba2d0>\n",
            "DEBUG:cmdstanpy:input tempfile: /tmp/tmpd33s_z0x/cwc8ewb5.json\n",
            "DEBUG:cmdstanpy:input tempfile: /tmp/tmpd33s_z0x/iy1yjayz.json\n",
            "DEBUG:cmdstanpy:input tempfile: /tmp/tmpd33s_z0x/r7u9f201.json\n",
            "DEBUG:cmdstanpy:idx 0\n",
            "DEBUG:cmdstanpy:running CmdStan, num_threads: None\n",
            "DEBUG:cmdstanpy:CmdStan args: ['/usr/local/lib/python3.11/dist-packages/prophet/stan_model/prophet_model.bin', 'random', 'seed=53733', 'data', 'file=/tmp/tmpd33s_z0x/cwc8ewb5.json', 'init=/tmp/tmpd33s_z0x/r7u9f201.json', 'output', 'file=/tmp/tmpd33s_z0x/prophet_modelm0i4ipm2/prophet_model-20250730040405.csv', 'method=optimize', 'algorithm=lbfgs', 'iter=10000']\n",
            "04:04:05 - cmdstanpy - INFO - Chain [1] start processing\n",
            "INFO:cmdstanpy:Chain [1] start processing\n",
            "DEBUG:cmdstanpy:input tempfile: /tmp/tmpd33s_z0x/drrjr7ez.json\n",
            "DEBUG:cmdstanpy:idx 0\n",
            "DEBUG:cmdstanpy:running CmdStan, num_threads: None\n",
            "DEBUG:cmdstanpy:CmdStan args: ['/usr/local/lib/python3.11/dist-packages/prophet/stan_model/prophet_model.bin', 'random', 'seed=8266', 'data', 'file=/tmp/tmpd33s_z0x/iy1yjayz.json', 'init=/tmp/tmpd33s_z0x/drrjr7ez.json', 'output', 'file=/tmp/tmpd33s_z0x/prophet_modelrfxfnpd5/prophet_model-20250730040405.csv', 'method=optimize', 'algorithm=lbfgs', 'iter=10000']\n",
            "04:04:05 - cmdstanpy - INFO - Chain [1] start processing\n",
            "INFO:cmdstanpy:Chain [1] start processing\n",
            "04:04:17 - cmdstanpy - INFO - Chain [1] done processing\n",
            "INFO:cmdstanpy:Chain [1] done processing\n",
            "DEBUG:cmdstanpy:input tempfile: /tmp/tmpd33s_z0x/f6lxmaat.json\n",
            "04:04:25 - cmdstanpy - INFO - Chain [1] done processing\n",
            "INFO:cmdstanpy:Chain [1] done processing\n",
            "DEBUG:cmdstanpy:input tempfile: /tmp/tmpd33s_z0x/qd0f1_q9.json\n",
            "DEBUG:cmdstanpy:idx 0\n",
            "DEBUG:cmdstanpy:running CmdStan, num_threads: None\n",
            "DEBUG:cmdstanpy:CmdStan args: ['/usr/local/lib/python3.11/dist-packages/prophet/stan_model/prophet_model.bin', 'random', 'seed=76712', 'data', 'file=/tmp/tmpd33s_z0x/f6lxmaat.json', 'init=/tmp/tmpd33s_z0x/qd0f1_q9.json', 'output', 'file=/tmp/tmpd33s_z0x/prophet_modelr3zk0l9x/prophet_model-20250730040426.csv', 'method=optimize', 'algorithm=lbfgs', 'iter=10000']\n",
            "04:04:26 - cmdstanpy - INFO - Chain [1] start processing\n",
            "INFO:cmdstanpy:Chain [1] start processing\n",
            "04:04:42 - cmdstanpy - INFO - Chain [1] done processing\n",
            "INFO:cmdstanpy:Chain [1] done processing\n",
            "INFO:prophet:Disabling yearly seasonality. Run prophet with yearly_seasonality=True to override this.\n",
            "DEBUG:cmdstanpy:input tempfile: /tmp/tmpd33s_z0x/ud1s5y3z.json\n",
            "DEBUG:cmdstanpy:input tempfile: /tmp/tmpd33s_z0x/tz4z69l4.json\n",
            "DEBUG:cmdstanpy:idx 0\n",
            "DEBUG:cmdstanpy:running CmdStan, num_threads: None\n",
            "DEBUG:cmdstanpy:CmdStan args: ['/usr/local/lib/python3.11/dist-packages/prophet/stan_model/prophet_model.bin', 'random', 'seed=39509', 'data', 'file=/tmp/tmpd33s_z0x/ud1s5y3z.json', 'init=/tmp/tmpd33s_z0x/tz4z69l4.json', 'output', 'file=/tmp/tmpd33s_z0x/prophet_modelho1rfp2z/prophet_model-20250730040547.csv', 'method=optimize', 'algorithm=lbfgs', 'iter=10000']\n",
            "04:05:47 - cmdstanpy - INFO - Chain [1] start processing\n",
            "INFO:cmdstanpy:Chain [1] start processing\n",
            "04:05:59 - cmdstanpy - INFO - Chain [1] done processing\n",
            "INFO:cmdstanpy:Chain [1] done processing\n",
            "INFO:prophet:Making 3 forecasts with cutoffs between 2023-05-01 20:57:19 and 2023-05-31 20:57:19\n",
            "INFO:prophet:Applying in parallel with <concurrent.futures.process.ProcessPoolExecutor object at 0x799719be9890>\n",
            "DEBUG:cmdstanpy:input tempfile: /tmp/tmpd33s_z0x/mduus3zz.json\n",
            "DEBUG:cmdstanpy:input tempfile: /tmp/tmpd33s_z0x/hcxddnkz.json\n",
            "DEBUG:cmdstanpy:input tempfile: /tmp/tmpd33s_z0x/u4um5di7.json\n",
            "DEBUG:cmdstanpy:idx 0\n",
            "DEBUG:cmdstanpy:running CmdStan, num_threads: None\n",
            "DEBUG:cmdstanpy:CmdStan args: ['/usr/local/lib/python3.11/dist-packages/prophet/stan_model/prophet_model.bin', 'random', 'seed=92113', 'data', 'file=/tmp/tmpd33s_z0x/mduus3zz.json', 'init=/tmp/tmpd33s_z0x/u4um5di7.json', 'output', 'file=/tmp/tmpd33s_z0x/prophet_model9oov3ctw/prophet_model-20250730040602.csv', 'method=optimize', 'algorithm=lbfgs', 'iter=10000']\n",
            "04:06:02 - cmdstanpy - INFO - Chain [1] start processing\n",
            "INFO:cmdstanpy:Chain [1] start processing\n",
            "DEBUG:cmdstanpy:input tempfile: /tmp/tmpd33s_z0x/h2mylssl.json\n",
            "DEBUG:cmdstanpy:idx 0\n",
            "DEBUG:cmdstanpy:running CmdStan, num_threads: None\n",
            "DEBUG:cmdstanpy:CmdStan args: ['/usr/local/lib/python3.11/dist-packages/prophet/stan_model/prophet_model.bin', 'random', 'seed=83428', 'data', 'file=/tmp/tmpd33s_z0x/hcxddnkz.json', 'init=/tmp/tmpd33s_z0x/h2mylssl.json', 'output', 'file=/tmp/tmpd33s_z0x/prophet_modelb5u8imf4/prophet_model-20250730040602.csv', 'method=optimize', 'algorithm=lbfgs', 'iter=10000']\n",
            "04:06:02 - cmdstanpy - INFO - Chain [1] start processing\n",
            "INFO:cmdstanpy:Chain [1] start processing\n",
            "04:06:15 - cmdstanpy - INFO - Chain [1] done processing\n",
            "INFO:cmdstanpy:Chain [1] done processing\n",
            "04:06:17 - cmdstanpy - INFO - Chain [1] done processing\n",
            "INFO:cmdstanpy:Chain [1] done processing\n",
            "DEBUG:cmdstanpy:input tempfile: /tmp/tmpd33s_z0x/dre0aila.json\n",
            "DEBUG:cmdstanpy:input tempfile: /tmp/tmpd33s_z0x/382d1_6g.json\n",
            "DEBUG:cmdstanpy:idx 0\n",
            "DEBUG:cmdstanpy:running CmdStan, num_threads: None\n",
            "DEBUG:cmdstanpy:CmdStan args: ['/usr/local/lib/python3.11/dist-packages/prophet/stan_model/prophet_model.bin', 'random', 'seed=85006', 'data', 'file=/tmp/tmpd33s_z0x/dre0aila.json', 'init=/tmp/tmpd33s_z0x/382d1_6g.json', 'output', 'file=/tmp/tmpd33s_z0x/prophet_modelx4vb754j/prophet_model-20250730040621.csv', 'method=optimize', 'algorithm=lbfgs', 'iter=10000']\n",
            "04:06:21 - cmdstanpy - INFO - Chain [1] start processing\n",
            "INFO:cmdstanpy:Chain [1] start processing\n",
            "04:06:31 - cmdstanpy - INFO - Chain [1] done processing\n",
            "INFO:cmdstanpy:Chain [1] done processing\n",
            "INFO:prophet:Disabling yearly seasonality. Run prophet with yearly_seasonality=True to override this.\n",
            "DEBUG:cmdstanpy:input tempfile: /tmp/tmpd33s_z0x/fcyzy0ex.json\n",
            "DEBUG:cmdstanpy:input tempfile: /tmp/tmpd33s_z0x/owu83mqi.json\n",
            "DEBUG:cmdstanpy:idx 0\n",
            "DEBUG:cmdstanpy:running CmdStan, num_threads: None\n",
            "DEBUG:cmdstanpy:CmdStan args: ['/usr/local/lib/python3.11/dist-packages/prophet/stan_model/prophet_model.bin', 'random', 'seed=57819', 'data', 'file=/tmp/tmpd33s_z0x/fcyzy0ex.json', 'init=/tmp/tmpd33s_z0x/owu83mqi.json', 'output', 'file=/tmp/tmpd33s_z0x/prophet_modelr4pli2xn/prophet_model-20250730040729.csv', 'method=optimize', 'algorithm=lbfgs', 'iter=10000']\n",
            "04:07:29 - cmdstanpy - INFO - Chain [1] start processing\n",
            "INFO:cmdstanpy:Chain [1] start processing\n",
            "04:07:31 - cmdstanpy - INFO - Chain [1] done processing\n",
            "INFO:cmdstanpy:Chain [1] done processing\n",
            "INFO:prophet:Making 3 forecasts with cutoffs between 2023-05-01 20:57:19 and 2023-05-31 20:57:19\n",
            "INFO:prophet:Applying in parallel with <concurrent.futures.process.ProcessPoolExecutor object at 0x799720734590>\n",
            "DEBUG:cmdstanpy:input tempfile: /tmp/tmpd33s_z0x/k01hii0t.json\n",
            "DEBUG:cmdstanpy:input tempfile: /tmp/tmpd33s_z0x/0yak2_sw.json\n",
            "DEBUG:cmdstanpy:input tempfile: /tmp/tmpd33s_z0x/p4o1mvty.json\n",
            "DEBUG:cmdstanpy:idx 0\n",
            "DEBUG:cmdstanpy:running CmdStan, num_threads: None\n",
            "DEBUG:cmdstanpy:CmdStan args: ['/usr/local/lib/python3.11/dist-packages/prophet/stan_model/prophet_model.bin', 'random', 'seed=64661', 'data', 'file=/tmp/tmpd33s_z0x/k01hii0t.json', 'init=/tmp/tmpd33s_z0x/p4o1mvty.json', 'output', 'file=/tmp/tmpd33s_z0x/prophet_modelazrpn4gk/prophet_model-20250730040734.csv', 'method=optimize', 'algorithm=lbfgs', 'iter=10000']\n",
            "04:07:34 - cmdstanpy - INFO - Chain [1] start processing\n",
            "INFO:cmdstanpy:Chain [1] start processing\n",
            "DEBUG:cmdstanpy:input tempfile: /tmp/tmpd33s_z0x/xc_14s_7.json\n",
            "DEBUG:cmdstanpy:idx 0\n",
            "DEBUG:cmdstanpy:running CmdStan, num_threads: None\n",
            "DEBUG:cmdstanpy:CmdStan args: ['/usr/local/lib/python3.11/dist-packages/prophet/stan_model/prophet_model.bin', 'random', 'seed=95129', 'data', 'file=/tmp/tmpd33s_z0x/0yak2_sw.json', 'init=/tmp/tmpd33s_z0x/xc_14s_7.json', 'output', 'file=/tmp/tmpd33s_z0x/prophet_model1duj0cwf/prophet_model-20250730040735.csv', 'method=optimize', 'algorithm=lbfgs', 'iter=10000']\n",
            "04:07:35 - cmdstanpy - INFO - Chain [1] start processing\n",
            "INFO:cmdstanpy:Chain [1] start processing\n",
            "04:07:41 - cmdstanpy - INFO - Chain [1] done processing\n",
            "INFO:cmdstanpy:Chain [1] done processing\n",
            "04:07:42 - cmdstanpy - INFO - Chain [1] done processing\n",
            "INFO:cmdstanpy:Chain [1] done processing\n",
            "DEBUG:cmdstanpy:input tempfile: /tmp/tmpd33s_z0x/vhbrbke0.json\n",
            "DEBUG:cmdstanpy:input tempfile: /tmp/tmpd33s_z0x/fcrw61t7.json\n",
            "DEBUG:cmdstanpy:idx 0\n",
            "DEBUG:cmdstanpy:running CmdStan, num_threads: None\n",
            "DEBUG:cmdstanpy:CmdStan args: ['/usr/local/lib/python3.11/dist-packages/prophet/stan_model/prophet_model.bin', 'random', 'seed=70099', 'data', 'file=/tmp/tmpd33s_z0x/vhbrbke0.json', 'init=/tmp/tmpd33s_z0x/fcrw61t7.json', 'output', 'file=/tmp/tmpd33s_z0x/prophet_modelw_0slkx2/prophet_model-20250730040748.csv', 'method=optimize', 'algorithm=lbfgs', 'iter=10000']\n",
            "04:07:48 - cmdstanpy - INFO - Chain [1] start processing\n",
            "INFO:cmdstanpy:Chain [1] start processing\n",
            "04:07:49 - cmdstanpy - INFO - Chain [1] done processing\n",
            "INFO:cmdstanpy:Chain [1] done processing\n",
            "INFO:prophet:Disabling yearly seasonality. Run prophet with yearly_seasonality=True to override this.\n",
            "DEBUG:cmdstanpy:input tempfile: /tmp/tmpd33s_z0x/2kyx25o9.json\n",
            "DEBUG:cmdstanpy:input tempfile: /tmp/tmpd33s_z0x/zo0dvz8l.json\n",
            "DEBUG:cmdstanpy:idx 0\n",
            "DEBUG:cmdstanpy:running CmdStan, num_threads: None\n",
            "DEBUG:cmdstanpy:CmdStan args: ['/usr/local/lib/python3.11/dist-packages/prophet/stan_model/prophet_model.bin', 'random', 'seed=86564', 'data', 'file=/tmp/tmpd33s_z0x/2kyx25o9.json', 'init=/tmp/tmpd33s_z0x/zo0dvz8l.json', 'output', 'file=/tmp/tmpd33s_z0x/prophet_model_r1y4d40/prophet_model-20250730040847.csv', 'method=optimize', 'algorithm=lbfgs', 'iter=10000']\n",
            "04:08:47 - cmdstanpy - INFO - Chain [1] start processing\n",
            "INFO:cmdstanpy:Chain [1] start processing\n",
            "04:08:50 - cmdstanpy - INFO - Chain [1] done processing\n",
            "INFO:cmdstanpy:Chain [1] done processing\n",
            "INFO:prophet:Making 3 forecasts with cutoffs between 2023-05-01 20:57:19 and 2023-05-31 20:57:19\n",
            "INFO:prophet:Applying in parallel with <concurrent.futures.process.ProcessPoolExecutor object at 0x799715f89590>\n",
            "DEBUG:cmdstanpy:input tempfile: /tmp/tmpd33s_z0x/fgtfrg0p.json\n",
            "DEBUG:cmdstanpy:input tempfile: /tmp/tmpd33s_z0x/1ix7gh21.json\n",
            "DEBUG:cmdstanpy:input tempfile: /tmp/tmpd33s_z0x/kvr78fo7.json\n",
            "DEBUG:cmdstanpy:idx 0\n",
            "DEBUG:cmdstanpy:running CmdStan, num_threads: None\n",
            "DEBUG:cmdstanpy:CmdStan args: ['/usr/local/lib/python3.11/dist-packages/prophet/stan_model/prophet_model.bin', 'random', 'seed=53261', 'data', 'file=/tmp/tmpd33s_z0x/fgtfrg0p.json', 'init=/tmp/tmpd33s_z0x/kvr78fo7.json', 'output', 'file=/tmp/tmpd33s_z0x/prophet_models0vpbp97/prophet_model-20250730040853.csv', 'method=optimize', 'algorithm=lbfgs', 'iter=10000']\n",
            "04:08:53 - cmdstanpy - INFO - Chain [1] start processing\n",
            "INFO:cmdstanpy:Chain [1] start processing\n",
            "DEBUG:cmdstanpy:input tempfile: /tmp/tmpd33s_z0x/3krmcxvj.json\n",
            "DEBUG:cmdstanpy:idx 0\n",
            "DEBUG:cmdstanpy:running CmdStan, num_threads: None\n",
            "DEBUG:cmdstanpy:CmdStan args: ['/usr/local/lib/python3.11/dist-packages/prophet/stan_model/prophet_model.bin', 'random', 'seed=87352', 'data', 'file=/tmp/tmpd33s_z0x/1ix7gh21.json', 'init=/tmp/tmpd33s_z0x/3krmcxvj.json', 'output', 'file=/tmp/tmpd33s_z0x/prophet_modelpwiilgn3/prophet_model-20250730040853.csv', 'method=optimize', 'algorithm=lbfgs', 'iter=10000']\n",
            "04:08:53 - cmdstanpy - INFO - Chain [1] start processing\n",
            "INFO:cmdstanpy:Chain [1] start processing\n",
            "04:08:56 - cmdstanpy - INFO - Chain [1] done processing\n",
            "INFO:cmdstanpy:Chain [1] done processing\n",
            "04:08:56 - cmdstanpy - INFO - Chain [1] done processing\n",
            "INFO:cmdstanpy:Chain [1] done processing\n",
            "DEBUG:cmdstanpy:input tempfile: /tmp/tmpd33s_z0x/09mkylg0.json\n",
            "DEBUG:cmdstanpy:input tempfile: /tmp/tmpd33s_z0x/_61yd_pf.json\n",
            "DEBUG:cmdstanpy:idx 0\n",
            "DEBUG:cmdstanpy:running CmdStan, num_threads: None\n",
            "DEBUG:cmdstanpy:CmdStan args: ['/usr/local/lib/python3.11/dist-packages/prophet/stan_model/prophet_model.bin', 'random', 'seed=62184', 'data', 'file=/tmp/tmpd33s_z0x/09mkylg0.json', 'init=/tmp/tmpd33s_z0x/_61yd_pf.json', 'output', 'file=/tmp/tmpd33s_z0x/prophet_model6kj50hrz/prophet_model-20250730040902.csv', 'method=optimize', 'algorithm=lbfgs', 'iter=10000']\n",
            "04:09:02 - cmdstanpy - INFO - Chain [1] start processing\n",
            "INFO:cmdstanpy:Chain [1] start processing\n",
            "04:09:04 - cmdstanpy - INFO - Chain [1] done processing\n",
            "INFO:cmdstanpy:Chain [1] done processing\n",
            "INFO:prophet:Disabling yearly seasonality. Run prophet with yearly_seasonality=True to override this.\n",
            "DEBUG:cmdstanpy:input tempfile: /tmp/tmpd33s_z0x/yb7yp5sg.json\n",
            "DEBUG:cmdstanpy:input tempfile: /tmp/tmpd33s_z0x/6ipia94c.json\n",
            "DEBUG:cmdstanpy:idx 0\n",
            "DEBUG:cmdstanpy:running CmdStan, num_threads: None\n",
            "DEBUG:cmdstanpy:CmdStan args: ['/usr/local/lib/python3.11/dist-packages/prophet/stan_model/prophet_model.bin', 'random', 'seed=44900', 'data', 'file=/tmp/tmpd33s_z0x/yb7yp5sg.json', 'init=/tmp/tmpd33s_z0x/6ipia94c.json', 'output', 'file=/tmp/tmpd33s_z0x/prophet_model8pr9yg6p/prophet_model-20250730041001.csv', 'method=optimize', 'algorithm=lbfgs', 'iter=10000']\n",
            "04:10:01 - cmdstanpy - INFO - Chain [1] start processing\n",
            "INFO:cmdstanpy:Chain [1] start processing\n",
            "04:10:06 - cmdstanpy - INFO - Chain [1] done processing\n",
            "INFO:cmdstanpy:Chain [1] done processing\n",
            "INFO:prophet:Making 3 forecasts with cutoffs between 2023-05-01 20:57:19 and 2023-05-31 20:57:19\n",
            "INFO:prophet:Applying in parallel with <concurrent.futures.process.ProcessPoolExecutor object at 0x79971bdfa590>\n",
            "DEBUG:cmdstanpy:input tempfile: /tmp/tmpd33s_z0x/jadtivpa.json\n",
            "DEBUG:cmdstanpy:input tempfile: /tmp/tmpd33s_z0x/c4wk08e2.json\n",
            "DEBUG:cmdstanpy:input tempfile: /tmp/tmpd33s_z0x/3s3vkmdw.json\n",
            "DEBUG:cmdstanpy:idx 0\n",
            "DEBUG:cmdstanpy:running CmdStan, num_threads: None\n",
            "DEBUG:cmdstanpy:CmdStan args: ['/usr/local/lib/python3.11/dist-packages/prophet/stan_model/prophet_model.bin', 'random', 'seed=11113', 'data', 'file=/tmp/tmpd33s_z0x/jadtivpa.json', 'init=/tmp/tmpd33s_z0x/3s3vkmdw.json', 'output', 'file=/tmp/tmpd33s_z0x/prophet_modelnwc5bf1h/prophet_model-20250730041009.csv', 'method=optimize', 'algorithm=lbfgs', 'iter=10000']\n",
            "04:10:09 - cmdstanpy - INFO - Chain [1] start processing\n",
            "INFO:cmdstanpy:Chain [1] start processing\n",
            "DEBUG:cmdstanpy:input tempfile: /tmp/tmpd33s_z0x/lrb6q54_.json\n",
            "DEBUG:cmdstanpy:idx 0\n",
            "DEBUG:cmdstanpy:running CmdStan, num_threads: None\n",
            "DEBUG:cmdstanpy:CmdStan args: ['/usr/local/lib/python3.11/dist-packages/prophet/stan_model/prophet_model.bin', 'random', 'seed=85412', 'data', 'file=/tmp/tmpd33s_z0x/c4wk08e2.json', 'init=/tmp/tmpd33s_z0x/lrb6q54_.json', 'output', 'file=/tmp/tmpd33s_z0x/prophet_modelhvhgpzwu/prophet_model-20250730041010.csv', 'method=optimize', 'algorithm=lbfgs', 'iter=10000']\n",
            "04:10:10 - cmdstanpy - INFO - Chain [1] start processing\n",
            "INFO:cmdstanpy:Chain [1] start processing\n",
            "04:10:15 - cmdstanpy - INFO - Chain [1] done processing\n",
            "INFO:cmdstanpy:Chain [1] done processing\n",
            "04:10:16 - cmdstanpy - INFO - Chain [1] done processing\n",
            "INFO:cmdstanpy:Chain [1] done processing\n",
            "DEBUG:cmdstanpy:input tempfile: /tmp/tmpd33s_z0x/l_9jkcnl.json\n",
            "DEBUG:cmdstanpy:input tempfile: /tmp/tmpd33s_z0x/5yp5yq_m.json\n",
            "DEBUG:cmdstanpy:idx 0\n",
            "DEBUG:cmdstanpy:running CmdStan, num_threads: None\n",
            "DEBUG:cmdstanpy:CmdStan args: ['/usr/local/lib/python3.11/dist-packages/prophet/stan_model/prophet_model.bin', 'random', 'seed=1259', 'data', 'file=/tmp/tmpd33s_z0x/l_9jkcnl.json', 'init=/tmp/tmpd33s_z0x/5yp5yq_m.json', 'output', 'file=/tmp/tmpd33s_z0x/prophet_modelo96ueyad/prophet_model-20250730041022.csv', 'method=optimize', 'algorithm=lbfgs', 'iter=10000']\n",
            "04:10:22 - cmdstanpy - INFO - Chain [1] start processing\n",
            "INFO:cmdstanpy:Chain [1] start processing\n",
            "04:10:24 - cmdstanpy - INFO - Chain [1] done processing\n",
            "INFO:cmdstanpy:Chain [1] done processing\n",
            "INFO:prophet:Disabling yearly seasonality. Run prophet with yearly_seasonality=True to override this.\n",
            "DEBUG:cmdstanpy:input tempfile: /tmp/tmpd33s_z0x/jklqq1gr.json\n",
            "DEBUG:cmdstanpy:input tempfile: /tmp/tmpd33s_z0x/iyk6_z9l.json\n",
            "DEBUG:cmdstanpy:idx 0\n",
            "DEBUG:cmdstanpy:running CmdStan, num_threads: None\n",
            "DEBUG:cmdstanpy:CmdStan args: ['/usr/local/lib/python3.11/dist-packages/prophet/stan_model/prophet_model.bin', 'random', 'seed=94052', 'data', 'file=/tmp/tmpd33s_z0x/jklqq1gr.json', 'init=/tmp/tmpd33s_z0x/iyk6_z9l.json', 'output', 'file=/tmp/tmpd33s_z0x/prophet_modelvnis5hsx/prophet_model-20250730041122.csv', 'method=optimize', 'algorithm=lbfgs', 'iter=10000']\n",
            "04:11:22 - cmdstanpy - INFO - Chain [1] start processing\n",
            "INFO:cmdstanpy:Chain [1] start processing\n",
            "04:11:25 - cmdstanpy - INFO - Chain [1] done processing\n",
            "INFO:cmdstanpy:Chain [1] done processing\n",
            "INFO:prophet:Making 3 forecasts with cutoffs between 2023-05-01 20:57:19 and 2023-05-31 20:57:19\n",
            "INFO:prophet:Applying in parallel with <concurrent.futures.process.ProcessPoolExecutor object at 0x79971b48bf90>\n",
            "DEBUG:cmdstanpy:input tempfile: /tmp/tmpd33s_z0x/qdpso7f9.json\n",
            "DEBUG:cmdstanpy:input tempfile: /tmp/tmpd33s_z0x/a7a7qt23.json\n",
            "DEBUG:cmdstanpy:input tempfile: /tmp/tmpd33s_z0x/7nywxqw7.json\n",
            "DEBUG:cmdstanpy:idx 0\n",
            "DEBUG:cmdstanpy:running CmdStan, num_threads: None\n",
            "DEBUG:cmdstanpy:CmdStan args: ['/usr/local/lib/python3.11/dist-packages/prophet/stan_model/prophet_model.bin', 'random', 'seed=1064', 'data', 'file=/tmp/tmpd33s_z0x/qdpso7f9.json', 'init=/tmp/tmpd33s_z0x/7nywxqw7.json', 'output', 'file=/tmp/tmpd33s_z0x/prophet_modelgaytn2dy/prophet_model-20250730041128.csv', 'method=optimize', 'algorithm=lbfgs', 'iter=10000']\n",
            "04:11:28 - cmdstanpy - INFO - Chain [1] start processing\n",
            "INFO:cmdstanpy:Chain [1] start processing\n",
            "DEBUG:cmdstanpy:input tempfile: /tmp/tmpd33s_z0x/q52w0398.json\n",
            "DEBUG:cmdstanpy:idx 0\n",
            "DEBUG:cmdstanpy:running CmdStan, num_threads: None\n",
            "DEBUG:cmdstanpy:CmdStan args: ['/usr/local/lib/python3.11/dist-packages/prophet/stan_model/prophet_model.bin', 'random', 'seed=28876', 'data', 'file=/tmp/tmpd33s_z0x/a7a7qt23.json', 'init=/tmp/tmpd33s_z0x/q52w0398.json', 'output', 'file=/tmp/tmpd33s_z0x/prophet_modeldtawu19h/prophet_model-20250730041129.csv', 'method=optimize', 'algorithm=lbfgs', 'iter=10000']\n",
            "04:11:29 - cmdstanpy - INFO - Chain [1] start processing\n",
            "INFO:cmdstanpy:Chain [1] start processing\n",
            "04:11:33 - cmdstanpy - INFO - Chain [1] done processing\n",
            "INFO:cmdstanpy:Chain [1] done processing\n",
            "04:11:34 - cmdstanpy - INFO - Chain [1] done processing\n",
            "INFO:cmdstanpy:Chain [1] done processing\n",
            "DEBUG:cmdstanpy:input tempfile: /tmp/tmpd33s_z0x/vkzg89pb.json\n",
            "DEBUG:cmdstanpy:input tempfile: /tmp/tmpd33s_z0x/g98fbt3v.json\n",
            "DEBUG:cmdstanpy:idx 0\n",
            "DEBUG:cmdstanpy:running CmdStan, num_threads: None\n",
            "DEBUG:cmdstanpy:CmdStan args: ['/usr/local/lib/python3.11/dist-packages/prophet/stan_model/prophet_model.bin', 'random', 'seed=29756', 'data', 'file=/tmp/tmpd33s_z0x/vkzg89pb.json', 'init=/tmp/tmpd33s_z0x/g98fbt3v.json', 'output', 'file=/tmp/tmpd33s_z0x/prophet_modelwtmv0ymh/prophet_model-20250730041140.csv', 'method=optimize', 'algorithm=lbfgs', 'iter=10000']\n",
            "04:11:40 - cmdstanpy - INFO - Chain [1] start processing\n",
            "INFO:cmdstanpy:Chain [1] start processing\n",
            "04:11:41 - cmdstanpy - INFO - Chain [1] done processing\n",
            "INFO:cmdstanpy:Chain [1] done processing\n",
            "INFO:prophet:Disabling yearly seasonality. Run prophet with yearly_seasonality=True to override this.\n",
            "DEBUG:cmdstanpy:input tempfile: /tmp/tmpd33s_z0x/sy59tbky.json\n",
            "DEBUG:cmdstanpy:input tempfile: /tmp/tmpd33s_z0x/v3l34le2.json\n",
            "DEBUG:cmdstanpy:idx 0\n",
            "DEBUG:cmdstanpy:running CmdStan, num_threads: None\n",
            "DEBUG:cmdstanpy:CmdStan args: ['/usr/local/lib/python3.11/dist-packages/prophet/stan_model/prophet_model.bin', 'random', 'seed=24102', 'data', 'file=/tmp/tmpd33s_z0x/sy59tbky.json', 'init=/tmp/tmpd33s_z0x/v3l34le2.json', 'output', 'file=/tmp/tmpd33s_z0x/prophet_modelpotb7rs5/prophet_model-20250730041238.csv', 'method=optimize', 'algorithm=lbfgs', 'iter=10000']\n",
            "04:12:38 - cmdstanpy - INFO - Chain [1] start processing\n",
            "INFO:cmdstanpy:Chain [1] start processing\n",
            "04:12:52 - cmdstanpy - INFO - Chain [1] done processing\n",
            "INFO:cmdstanpy:Chain [1] done processing\n",
            "INFO:prophet:Making 3 forecasts with cutoffs between 2023-05-01 20:57:19 and 2023-05-31 20:57:19\n",
            "INFO:prophet:Applying in parallel with <concurrent.futures.process.ProcessPoolExecutor object at 0x79971c73e890>\n",
            "DEBUG:cmdstanpy:input tempfile: /tmp/tmpd33s_z0x/mwrghbvt.json\n",
            "DEBUG:cmdstanpy:input tempfile: /tmp/tmpd33s_z0x/3bv3y08r.json\n",
            "DEBUG:cmdstanpy:input tempfile: /tmp/tmpd33s_z0x/rgghp7k5.json\n",
            "DEBUG:cmdstanpy:idx 0\n",
            "DEBUG:cmdstanpy:running CmdStan, num_threads: None\n",
            "DEBUG:cmdstanpy:CmdStan args: ['/usr/local/lib/python3.11/dist-packages/prophet/stan_model/prophet_model.bin', 'random', 'seed=67520', 'data', 'file=/tmp/tmpd33s_z0x/mwrghbvt.json', 'init=/tmp/tmpd33s_z0x/rgghp7k5.json', 'output', 'file=/tmp/tmpd33s_z0x/prophet_modellagslgyx/prophet_model-20250730041256.csv', 'method=optimize', 'algorithm=lbfgs', 'iter=10000']\n",
            "04:12:56 - cmdstanpy - INFO - Chain [1] start processing\n",
            "INFO:cmdstanpy:Chain [1] start processing\n",
            "DEBUG:cmdstanpy:input tempfile: /tmp/tmpd33s_z0x/jndpyedg.json\n",
            "DEBUG:cmdstanpy:idx 0\n",
            "DEBUG:cmdstanpy:running CmdStan, num_threads: None\n",
            "DEBUG:cmdstanpy:CmdStan args: ['/usr/local/lib/python3.11/dist-packages/prophet/stan_model/prophet_model.bin', 'random', 'seed=72309', 'data', 'file=/tmp/tmpd33s_z0x/3bv3y08r.json', 'init=/tmp/tmpd33s_z0x/jndpyedg.json', 'output', 'file=/tmp/tmpd33s_z0x/prophet_modeltdmlnupl/prophet_model-20250730041257.csv', 'method=optimize', 'algorithm=lbfgs', 'iter=10000']\n",
            "04:12:57 - cmdstanpy - INFO - Chain [1] start processing\n",
            "INFO:cmdstanpy:Chain [1] start processing\n",
            "04:13:11 - cmdstanpy - INFO - Chain [1] done processing\n",
            "INFO:cmdstanpy:Chain [1] done processing\n",
            "DEBUG:cmdstanpy:input tempfile: /tmp/tmpd33s_z0x/o2sj9jrn.json\n",
            "04:13:16 - cmdstanpy - INFO - Chain [1] done processing\n",
            "INFO:cmdstanpy:Chain [1] done processing\n",
            "DEBUG:cmdstanpy:input tempfile: /tmp/tmpd33s_z0x/z9vbg1ct.json\n",
            "DEBUG:cmdstanpy:idx 0\n",
            "DEBUG:cmdstanpy:running CmdStan, num_threads: None\n",
            "DEBUG:cmdstanpy:CmdStan args: ['/usr/local/lib/python3.11/dist-packages/prophet/stan_model/prophet_model.bin', 'random', 'seed=61061', 'data', 'file=/tmp/tmpd33s_z0x/o2sj9jrn.json', 'init=/tmp/tmpd33s_z0x/z9vbg1ct.json', 'output', 'file=/tmp/tmpd33s_z0x/prophet_modelugqonuoo/prophet_model-20250730041318.csv', 'method=optimize', 'algorithm=lbfgs', 'iter=10000']\n",
            "04:13:18 - cmdstanpy - INFO - Chain [1] start processing\n",
            "INFO:cmdstanpy:Chain [1] start processing\n",
            "04:13:34 - cmdstanpy - INFO - Chain [1] done processing\n",
            "INFO:cmdstanpy:Chain [1] done processing\n",
            "INFO:prophet:Disabling yearly seasonality. Run prophet with yearly_seasonality=True to override this.\n",
            "DEBUG:cmdstanpy:input tempfile: /tmp/tmpd33s_z0x/ee09eltg.json\n",
            "DEBUG:cmdstanpy:input tempfile: /tmp/tmpd33s_z0x/nf75lnja.json\n",
            "DEBUG:cmdstanpy:idx 0\n",
            "DEBUG:cmdstanpy:running CmdStan, num_threads: None\n",
            "DEBUG:cmdstanpy:CmdStan args: ['/usr/local/lib/python3.11/dist-packages/prophet/stan_model/prophet_model.bin', 'random', 'seed=2425', 'data', 'file=/tmp/tmpd33s_z0x/ee09eltg.json', 'init=/tmp/tmpd33s_z0x/nf75lnja.json', 'output', 'file=/tmp/tmpd33s_z0x/prophet_modelxi83dwwe/prophet_model-20250730041431.csv', 'method=optimize', 'algorithm=lbfgs', 'iter=10000']\n",
            "04:14:31 - cmdstanpy - INFO - Chain [1] start processing\n",
            "INFO:cmdstanpy:Chain [1] start processing\n",
            "04:14:46 - cmdstanpy - INFO - Chain [1] done processing\n",
            "INFO:cmdstanpy:Chain [1] done processing\n",
            "INFO:prophet:Making 3 forecasts with cutoffs between 2023-05-01 20:57:19 and 2023-05-31 20:57:19\n",
            "INFO:prophet:Applying in parallel with <concurrent.futures.process.ProcessPoolExecutor object at 0x79971bdd4050>\n",
            "DEBUG:cmdstanpy:input tempfile: /tmp/tmpd33s_z0x/w_7l6pmg.json\n",
            "DEBUG:cmdstanpy:input tempfile: /tmp/tmpd33s_z0x/vay4yt2l.json\n",
            "DEBUG:cmdstanpy:input tempfile: /tmp/tmpd33s_z0x/v9wz5e1d.json\n",
            "DEBUG:cmdstanpy:idx 0\n",
            "DEBUG:cmdstanpy:running CmdStan, num_threads: None\n",
            "DEBUG:cmdstanpy:CmdStan args: ['/usr/local/lib/python3.11/dist-packages/prophet/stan_model/prophet_model.bin', 'random', 'seed=59607', 'data', 'file=/tmp/tmpd33s_z0x/w_7l6pmg.json', 'init=/tmp/tmpd33s_z0x/v9wz5e1d.json', 'output', 'file=/tmp/tmpd33s_z0x/prophet_model35pijzrd/prophet_model-20250730041449.csv', 'method=optimize', 'algorithm=lbfgs', 'iter=10000']\n",
            "04:14:49 - cmdstanpy - INFO - Chain [1] start processing\n",
            "INFO:cmdstanpy:Chain [1] start processing\n",
            "DEBUG:cmdstanpy:input tempfile: /tmp/tmpd33s_z0x/gz8k95j2.json\n",
            "DEBUG:cmdstanpy:idx 0\n",
            "DEBUG:cmdstanpy:running CmdStan, num_threads: None\n",
            "DEBUG:cmdstanpy:CmdStan args: ['/usr/local/lib/python3.11/dist-packages/prophet/stan_model/prophet_model.bin', 'random', 'seed=73547', 'data', 'file=/tmp/tmpd33s_z0x/vay4yt2l.json', 'init=/tmp/tmpd33s_z0x/gz8k95j2.json', 'output', 'file=/tmp/tmpd33s_z0x/prophet_modelys75q32t/prophet_model-20250730041450.csv', 'method=optimize', 'algorithm=lbfgs', 'iter=10000']\n",
            "04:14:50 - cmdstanpy - INFO - Chain [1] start processing\n",
            "INFO:cmdstanpy:Chain [1] start processing\n",
            "04:15:01 - cmdstanpy - INFO - Chain [1] done processing\n",
            "INFO:cmdstanpy:Chain [1] done processing\n",
            "DEBUG:cmdstanpy:input tempfile: /tmp/tmpd33s_z0x/8jty3pek.json\n",
            "04:15:07 - cmdstanpy - INFO - Chain [1] done processing\n",
            "INFO:cmdstanpy:Chain [1] done processing\n",
            "DEBUG:cmdstanpy:input tempfile: /tmp/tmpd33s_z0x/pewubs91.json\n",
            "DEBUG:cmdstanpy:idx 0\n",
            "DEBUG:cmdstanpy:running CmdStan, num_threads: None\n",
            "DEBUG:cmdstanpy:CmdStan args: ['/usr/local/lib/python3.11/dist-packages/prophet/stan_model/prophet_model.bin', 'random', 'seed=16731', 'data', 'file=/tmp/tmpd33s_z0x/8jty3pek.json', 'init=/tmp/tmpd33s_z0x/pewubs91.json', 'output', 'file=/tmp/tmpd33s_z0x/prophet_modelci2vnu3n/prophet_model-20250730041508.csv', 'method=optimize', 'algorithm=lbfgs', 'iter=10000']\n",
            "04:15:08 - cmdstanpy - INFO - Chain [1] start processing\n",
            "INFO:cmdstanpy:Chain [1] start processing\n",
            "04:15:17 - cmdstanpy - INFO - Chain [1] done processing\n",
            "INFO:cmdstanpy:Chain [1] done processing\n",
            "INFO:prophet:Disabling yearly seasonality. Run prophet with yearly_seasonality=True to override this.\n",
            "DEBUG:cmdstanpy:input tempfile: /tmp/tmpd33s_z0x/m9q05nws.json\n",
            "DEBUG:cmdstanpy:input tempfile: /tmp/tmpd33s_z0x/vg5bqo3p.json\n",
            "DEBUG:cmdstanpy:idx 0\n",
            "DEBUG:cmdstanpy:running CmdStan, num_threads: None\n",
            "DEBUG:cmdstanpy:CmdStan args: ['/usr/local/lib/python3.11/dist-packages/prophet/stan_model/prophet_model.bin', 'random', 'seed=93831', 'data', 'file=/tmp/tmpd33s_z0x/m9q05nws.json', 'init=/tmp/tmpd33s_z0x/vg5bqo3p.json', 'output', 'file=/tmp/tmpd33s_z0x/prophet_model6v55gmjm/prophet_model-20250730041614.csv', 'method=optimize', 'algorithm=lbfgs', 'iter=10000']\n",
            "04:16:14 - cmdstanpy - INFO - Chain [1] start processing\n",
            "INFO:cmdstanpy:Chain [1] start processing\n",
            "04:16:33 - cmdstanpy - INFO - Chain [1] done processing\n",
            "INFO:cmdstanpy:Chain [1] done processing\n",
            "INFO:prophet:Making 3 forecasts with cutoffs between 2023-05-01 20:57:19 and 2023-05-31 20:57:19\n",
            "INFO:prophet:Applying in parallel with <concurrent.futures.process.ProcessPoolExecutor object at 0x79971a19d250>\n",
            "DEBUG:cmdstanpy:input tempfile: /tmp/tmpd33s_z0x/k6_m9e91.json\n",
            "DEBUG:cmdstanpy:input tempfile: /tmp/tmpd33s_z0x/mdkq0otc.json\n",
            "DEBUG:cmdstanpy:input tempfile: /tmp/tmpd33s_z0x/oxhrh31h.json\n",
            "DEBUG:cmdstanpy:idx 0\n",
            "DEBUG:cmdstanpy:running CmdStan, num_threads: None\n",
            "DEBUG:cmdstanpy:CmdStan args: ['/usr/local/lib/python3.11/dist-packages/prophet/stan_model/prophet_model.bin', 'random', 'seed=78030', 'data', 'file=/tmp/tmpd33s_z0x/k6_m9e91.json', 'init=/tmp/tmpd33s_z0x/oxhrh31h.json', 'output', 'file=/tmp/tmpd33s_z0x/prophet_model1qx2i7nb/prophet_model-20250730041638.csv', 'method=optimize', 'algorithm=lbfgs', 'iter=10000']\n",
            "04:16:38 - cmdstanpy - INFO - Chain [1] start processing\n",
            "INFO:cmdstanpy:Chain [1] start processing\n",
            "DEBUG:cmdstanpy:input tempfile: /tmp/tmpd33s_z0x/ia2gieoe.json\n",
            "DEBUG:cmdstanpy:idx 0\n",
            "DEBUG:cmdstanpy:running CmdStan, num_threads: None\n",
            "DEBUG:cmdstanpy:CmdStan args: ['/usr/local/lib/python3.11/dist-packages/prophet/stan_model/prophet_model.bin', 'random', 'seed=44474', 'data', 'file=/tmp/tmpd33s_z0x/mdkq0otc.json', 'init=/tmp/tmpd33s_z0x/ia2gieoe.json', 'output', 'file=/tmp/tmpd33s_z0x/prophet_modelu5irlsu9/prophet_model-20250730041639.csv', 'method=optimize', 'algorithm=lbfgs', 'iter=10000']\n",
            "04:16:39 - cmdstanpy - INFO - Chain [1] start processing\n",
            "INFO:cmdstanpy:Chain [1] start processing\n",
            "04:16:52 - cmdstanpy - INFO - Chain [1] done processing\n",
            "INFO:cmdstanpy:Chain [1] done processing\n",
            "04:16:55 - cmdstanpy - INFO - Chain [1] done processing\n",
            "INFO:cmdstanpy:Chain [1] done processing\n",
            "DEBUG:cmdstanpy:input tempfile: /tmp/tmpd33s_z0x/1h3lf23n.json\n",
            "DEBUG:cmdstanpy:input tempfile: /tmp/tmpd33s_z0x/tx_yx4v0.json\n",
            "DEBUG:cmdstanpy:idx 0\n",
            "DEBUG:cmdstanpy:running CmdStan, num_threads: None\n",
            "DEBUG:cmdstanpy:CmdStan args: ['/usr/local/lib/python3.11/dist-packages/prophet/stan_model/prophet_model.bin', 'random', 'seed=12110', 'data', 'file=/tmp/tmpd33s_z0x/1h3lf23n.json', 'init=/tmp/tmpd33s_z0x/tx_yx4v0.json', 'output', 'file=/tmp/tmpd33s_z0x/prophet_modelz2m3zn8s/prophet_model-20250730041658.csv', 'method=optimize', 'algorithm=lbfgs', 'iter=10000']\n",
            "04:16:58 - cmdstanpy - INFO - Chain [1] start processing\n",
            "INFO:cmdstanpy:Chain [1] start processing\n",
            "04:17:16 - cmdstanpy - INFO - Chain [1] done processing\n",
            "INFO:cmdstanpy:Chain [1] done processing\n"
          ]
        },
        {
          "output_type": "stream",
          "name": "stdout",
          "text": [
            "Best combination: {'changepoint_prior_scale': 0.001, 'seasonality_prior_scale': 5, 'fourier_order': 3} MAPE: 0.2599537523452476\n"
          ]
        }
      ]
    },
    {
      "cell_type": "markdown",
      "source": [
        "For the **Hell's Kitchen** store, the best calculated combination is:\n",
        "\n",
        "* **changepoint_prior_scale**: 0.01\n",
        "\n",
        "* **seasonality_prior_scale**: 1\n",
        "\n",
        "* **fourier_order**: 7\n",
        "\n",
        "* With a **MAPE** of 26.51%."
      ],
      "metadata": {
        "id": "e5E2oy7jMseO"
      }
    },
    {
      "cell_type": "code",
      "source": [
        "best_fit(df_train_astoria)"
      ],
      "metadata": {
        "colab": {
          "base_uri": "https://localhost:8080/"
        },
        "id": "YUbmHCUEMoE6",
        "outputId": "a5f23b9d-9274-471e-e710-bb50b01d0beb"
      },
      "execution_count": null,
      "outputs": [
        {
          "output_type": "stream",
          "name": "stderr",
          "text": [
            "INFO:prophet:Disabling yearly seasonality. Run prophet with yearly_seasonality=True to override this.\n",
            "DEBUG:cmdstanpy:input tempfile: /tmp/tmpd33s_z0x/1wabj5pq.json\n",
            "DEBUG:cmdstanpy:input tempfile: /tmp/tmpd33s_z0x/kfv1find.json\n",
            "DEBUG:cmdstanpy:idx 0\n",
            "DEBUG:cmdstanpy:running CmdStan, num_threads: None\n",
            "DEBUG:cmdstanpy:CmdStan args: ['/usr/local/lib/python3.11/dist-packages/prophet/stan_model/prophet_model.bin', 'random', 'seed=67813', 'data', 'file=/tmp/tmpd33s_z0x/1wabj5pq.json', 'init=/tmp/tmpd33s_z0x/kfv1find.json', 'output', 'file=/tmp/tmpd33s_z0x/prophet_model3rzyv_ll/prophet_model-20250730041814.csv', 'method=optimize', 'algorithm=lbfgs', 'iter=10000']\n",
            "04:18:14 - cmdstanpy - INFO - Chain [1] start processing\n",
            "INFO:cmdstanpy:Chain [1] start processing\n",
            "04:18:17 - cmdstanpy - INFO - Chain [1] done processing\n",
            "INFO:cmdstanpy:Chain [1] done processing\n",
            "INFO:prophet:Making 3 forecasts with cutoffs between 2023-05-01 19:57:49 and 2023-05-31 19:57:49\n",
            "INFO:prophet:Applying in parallel with <concurrent.futures.process.ProcessPoolExecutor object at 0x79971a4ea410>\n",
            "DEBUG:cmdstanpy:input tempfile: /tmp/tmpd33s_z0x/ras4iqiz.json\n",
            "DEBUG:cmdstanpy:input tempfile: /tmp/tmpd33s_z0x/p_8tiqac.json\n",
            "DEBUG:cmdstanpy:input tempfile: /tmp/tmpd33s_z0x/hah5tkdu.json\n",
            "DEBUG:cmdstanpy:idx 0\n",
            "DEBUG:cmdstanpy:running CmdStan, num_threads: None\n",
            "DEBUG:cmdstanpy:CmdStan args: ['/usr/local/lib/python3.11/dist-packages/prophet/stan_model/prophet_model.bin', 'random', 'seed=32131', 'data', 'file=/tmp/tmpd33s_z0x/ras4iqiz.json', 'init=/tmp/tmpd33s_z0x/hah5tkdu.json', 'output', 'file=/tmp/tmpd33s_z0x/prophet_model01rugp2h/prophet_model-20250730041821.csv', 'method=optimize', 'algorithm=lbfgs', 'iter=10000']\n",
            "04:18:21 - cmdstanpy - INFO - Chain [1] start processing\n",
            "INFO:cmdstanpy:Chain [1] start processing\n",
            "DEBUG:cmdstanpy:input tempfile: /tmp/tmpd33s_z0x/wg7rq2uv.json\n",
            "DEBUG:cmdstanpy:idx 0\n",
            "DEBUG:cmdstanpy:running CmdStan, num_threads: None\n",
            "DEBUG:cmdstanpy:CmdStan args: ['/usr/local/lib/python3.11/dist-packages/prophet/stan_model/prophet_model.bin', 'random', 'seed=34377', 'data', 'file=/tmp/tmpd33s_z0x/p_8tiqac.json', 'init=/tmp/tmpd33s_z0x/wg7rq2uv.json', 'output', 'file=/tmp/tmpd33s_z0x/prophet_model5ux1g4st/prophet_model-20250730041822.csv', 'method=optimize', 'algorithm=lbfgs', 'iter=10000']\n",
            "04:18:22 - cmdstanpy - INFO - Chain [1] start processing\n",
            "INFO:cmdstanpy:Chain [1] start processing\n",
            "04:18:31 - cmdstanpy - INFO - Chain [1] done processing\n",
            "INFO:cmdstanpy:Chain [1] done processing\n",
            "04:18:31 - cmdstanpy - INFO - Chain [1] done processing\n",
            "INFO:cmdstanpy:Chain [1] done processing\n",
            "DEBUG:cmdstanpy:input tempfile: /tmp/tmpd33s_z0x/eju5rk07.json\n",
            "DEBUG:cmdstanpy:input tempfile: /tmp/tmpd33s_z0x/6tfdv9qt.json\n",
            "DEBUG:cmdstanpy:idx 0\n",
            "DEBUG:cmdstanpy:running CmdStan, num_threads: None\n",
            "DEBUG:cmdstanpy:CmdStan args: ['/usr/local/lib/python3.11/dist-packages/prophet/stan_model/prophet_model.bin', 'random', 'seed=68982', 'data', 'file=/tmp/tmpd33s_z0x/eju5rk07.json', 'init=/tmp/tmpd33s_z0x/6tfdv9qt.json', 'output', 'file=/tmp/tmpd33s_z0x/prophet_modelsp4mtrh8/prophet_model-20250730041837.csv', 'method=optimize', 'algorithm=lbfgs', 'iter=10000']\n",
            "04:18:37 - cmdstanpy - INFO - Chain [1] start processing\n",
            "INFO:cmdstanpy:Chain [1] start processing\n",
            "04:18:40 - cmdstanpy - INFO - Chain [1] done processing\n",
            "INFO:cmdstanpy:Chain [1] done processing\n",
            "INFO:prophet:Disabling yearly seasonality. Run prophet with yearly_seasonality=True to override this.\n",
            "DEBUG:cmdstanpy:input tempfile: /tmp/tmpd33s_z0x/ngzj38kh.json\n",
            "DEBUG:cmdstanpy:input tempfile: /tmp/tmpd33s_z0x/5we0c7sx.json\n",
            "DEBUG:cmdstanpy:idx 0\n",
            "DEBUG:cmdstanpy:running CmdStan, num_threads: None\n",
            "DEBUG:cmdstanpy:CmdStan args: ['/usr/local/lib/python3.11/dist-packages/prophet/stan_model/prophet_model.bin', 'random', 'seed=92168', 'data', 'file=/tmp/tmpd33s_z0x/ngzj38kh.json', 'init=/tmp/tmpd33s_z0x/5we0c7sx.json', 'output', 'file=/tmp/tmpd33s_z0x/prophet_modelrlyu03dd/prophet_model-20250730041939.csv', 'method=optimize', 'algorithm=lbfgs', 'iter=10000']\n",
            "04:19:39 - cmdstanpy - INFO - Chain [1] start processing\n",
            "INFO:cmdstanpy:Chain [1] start processing\n",
            "04:19:43 - cmdstanpy - INFO - Chain [1] done processing\n",
            "INFO:cmdstanpy:Chain [1] done processing\n",
            "INFO:prophet:Making 3 forecasts with cutoffs between 2023-05-01 19:57:49 and 2023-05-31 19:57:49\n",
            "INFO:prophet:Applying in parallel with <concurrent.futures.process.ProcessPoolExecutor object at 0x79971cfa5d90>\n",
            "DEBUG:cmdstanpy:input tempfile: /tmp/tmpd33s_z0x/jh7gb5gl.json\n",
            "DEBUG:cmdstanpy:input tempfile: /tmp/tmpd33s_z0x/c7brzqg_.json\n",
            "DEBUG:cmdstanpy:input tempfile: /tmp/tmpd33s_z0x/9ebpj6ap.json\n",
            "DEBUG:cmdstanpy:idx 0\n",
            "DEBUG:cmdstanpy:running CmdStan, num_threads: None\n",
            "DEBUG:cmdstanpy:CmdStan args: ['/usr/local/lib/python3.11/dist-packages/prophet/stan_model/prophet_model.bin', 'random', 'seed=96094', 'data', 'file=/tmp/tmpd33s_z0x/jh7gb5gl.json', 'init=/tmp/tmpd33s_z0x/9ebpj6ap.json', 'output', 'file=/tmp/tmpd33s_z0x/prophet_model64qc5_zl/prophet_model-20250730041946.csv', 'method=optimize', 'algorithm=lbfgs', 'iter=10000']\n",
            "04:19:46 - cmdstanpy - INFO - Chain [1] start processing\n",
            "INFO:cmdstanpy:Chain [1] start processing\n",
            "DEBUG:cmdstanpy:input tempfile: /tmp/tmpd33s_z0x/7qw9i5f5.json\n",
            "DEBUG:cmdstanpy:idx 0\n",
            "DEBUG:cmdstanpy:running CmdStan, num_threads: None\n",
            "DEBUG:cmdstanpy:CmdStan args: ['/usr/local/lib/python3.11/dist-packages/prophet/stan_model/prophet_model.bin', 'random', 'seed=6356', 'data', 'file=/tmp/tmpd33s_z0x/c7brzqg_.json', 'init=/tmp/tmpd33s_z0x/7qw9i5f5.json', 'output', 'file=/tmp/tmpd33s_z0x/prophet_model2om2leew/prophet_model-20250730041947.csv', 'method=optimize', 'algorithm=lbfgs', 'iter=10000']\n",
            "04:19:47 - cmdstanpy - INFO - Chain [1] start processing\n",
            "INFO:cmdstanpy:Chain [1] start processing\n",
            "04:19:54 - cmdstanpy - INFO - Chain [1] done processing\n",
            "INFO:cmdstanpy:Chain [1] done processing\n",
            "04:19:54 - cmdstanpy - INFO - Chain [1] done processing\n",
            "INFO:cmdstanpy:Chain [1] done processing\n",
            "DEBUG:cmdstanpy:input tempfile: /tmp/tmpd33s_z0x/pqk5_jqz.json\n",
            "DEBUG:cmdstanpy:input tempfile: /tmp/tmpd33s_z0x/qme8b26w.json\n",
            "DEBUG:cmdstanpy:idx 0\n",
            "DEBUG:cmdstanpy:running CmdStan, num_threads: None\n",
            "DEBUG:cmdstanpy:CmdStan args: ['/usr/local/lib/python3.11/dist-packages/prophet/stan_model/prophet_model.bin', 'random', 'seed=97790', 'data', 'file=/tmp/tmpd33s_z0x/pqk5_jqz.json', 'init=/tmp/tmpd33s_z0x/qme8b26w.json', 'output', 'file=/tmp/tmpd33s_z0x/prophet_modelxgwzhoex/prophet_model-20250730041959.csv', 'method=optimize', 'algorithm=lbfgs', 'iter=10000']\n",
            "04:19:59 - cmdstanpy - INFO - Chain [1] start processing\n",
            "INFO:cmdstanpy:Chain [1] start processing\n",
            "04:20:02 - cmdstanpy - INFO - Chain [1] done processing\n",
            "INFO:cmdstanpy:Chain [1] done processing\n",
            "INFO:prophet:Disabling yearly seasonality. Run prophet with yearly_seasonality=True to override this.\n",
            "DEBUG:cmdstanpy:input tempfile: /tmp/tmpd33s_z0x/0bdvuazo.json\n",
            "DEBUG:cmdstanpy:input tempfile: /tmp/tmpd33s_z0x/z7beb35e.json\n",
            "DEBUG:cmdstanpy:idx 0\n",
            "DEBUG:cmdstanpy:running CmdStan, num_threads: None\n",
            "DEBUG:cmdstanpy:CmdStan args: ['/usr/local/lib/python3.11/dist-packages/prophet/stan_model/prophet_model.bin', 'random', 'seed=21860', 'data', 'file=/tmp/tmpd33s_z0x/0bdvuazo.json', 'init=/tmp/tmpd33s_z0x/z7beb35e.json', 'output', 'file=/tmp/tmpd33s_z0x/prophet_modelnoizh_fj/prophet_model-20250730042104.csv', 'method=optimize', 'algorithm=lbfgs', 'iter=10000']\n",
            "04:21:04 - cmdstanpy - INFO - Chain [1] start processing\n",
            "INFO:cmdstanpy:Chain [1] start processing\n",
            "04:21:09 - cmdstanpy - INFO - Chain [1] done processing\n",
            "INFO:cmdstanpy:Chain [1] done processing\n",
            "INFO:prophet:Making 3 forecasts with cutoffs between 2023-05-01 19:57:49 and 2023-05-31 19:57:49\n",
            "INFO:prophet:Applying in parallel with <concurrent.futures.process.ProcessPoolExecutor object at 0x7997198b9450>\n",
            "DEBUG:cmdstanpy:input tempfile: /tmp/tmpd33s_z0x/z2qy8nf2.json\n",
            "DEBUG:cmdstanpy:input tempfile: /tmp/tmpd33s_z0x/0h891y09.json\n",
            "DEBUG:cmdstanpy:input tempfile: /tmp/tmpd33s_z0x/1y5nyi1d.json\n",
            "DEBUG:cmdstanpy:idx 0\n",
            "DEBUG:cmdstanpy:running CmdStan, num_threads: None\n",
            "DEBUG:cmdstanpy:CmdStan args: ['/usr/local/lib/python3.11/dist-packages/prophet/stan_model/prophet_model.bin', 'random', 'seed=49666', 'data', 'file=/tmp/tmpd33s_z0x/z2qy8nf2.json', 'init=/tmp/tmpd33s_z0x/1y5nyi1d.json', 'output', 'file=/tmp/tmpd33s_z0x/prophet_modelchiyo0iu/prophet_model-20250730042114.csv', 'method=optimize', 'algorithm=lbfgs', 'iter=10000']\n",
            "04:21:14 - cmdstanpy - INFO - Chain [1] start processing\n",
            "INFO:cmdstanpy:Chain [1] start processing\n",
            "DEBUG:cmdstanpy:input tempfile: /tmp/tmpd33s_z0x/irz__k4_.json\n",
            "DEBUG:cmdstanpy:idx 0\n",
            "DEBUG:cmdstanpy:running CmdStan, num_threads: None\n",
            "DEBUG:cmdstanpy:CmdStan args: ['/usr/local/lib/python3.11/dist-packages/prophet/stan_model/prophet_model.bin', 'random', 'seed=28029', 'data', 'file=/tmp/tmpd33s_z0x/0h891y09.json', 'init=/tmp/tmpd33s_z0x/irz__k4_.json', 'output', 'file=/tmp/tmpd33s_z0x/prophet_modelktxp1_9j/prophet_model-20250730042114.csv', 'method=optimize', 'algorithm=lbfgs', 'iter=10000']\n",
            "04:21:15 - cmdstanpy - INFO - Chain [1] start processing\n",
            "INFO:cmdstanpy:Chain [1] start processing\n",
            "04:21:22 - cmdstanpy - INFO - Chain [1] done processing\n",
            "INFO:cmdstanpy:Chain [1] done processing\n",
            "04:21:24 - cmdstanpy - INFO - Chain [1] done processing\n",
            "INFO:cmdstanpy:Chain [1] done processing\n",
            "DEBUG:cmdstanpy:input tempfile: /tmp/tmpd33s_z0x/j1posc33.json\n",
            "DEBUG:cmdstanpy:input tempfile: /tmp/tmpd33s_z0x/c7ar6fk6.json\n",
            "DEBUG:cmdstanpy:idx 0\n",
            "DEBUG:cmdstanpy:running CmdStan, num_threads: None\n",
            "DEBUG:cmdstanpy:CmdStan args: ['/usr/local/lib/python3.11/dist-packages/prophet/stan_model/prophet_model.bin', 'random', 'seed=46710', 'data', 'file=/tmp/tmpd33s_z0x/j1posc33.json', 'init=/tmp/tmpd33s_z0x/c7ar6fk6.json', 'output', 'file=/tmp/tmpd33s_z0x/prophet_modelrw7389v3/prophet_model-20250730042130.csv', 'method=optimize', 'algorithm=lbfgs', 'iter=10000']\n",
            "04:21:30 - cmdstanpy - INFO - Chain [1] start processing\n",
            "INFO:cmdstanpy:Chain [1] start processing\n",
            "04:21:33 - cmdstanpy - INFO - Chain [1] done processing\n",
            "INFO:cmdstanpy:Chain [1] done processing\n",
            "INFO:prophet:Disabling yearly seasonality. Run prophet with yearly_seasonality=True to override this.\n",
            "DEBUG:cmdstanpy:input tempfile: /tmp/tmpd33s_z0x/_chryq07.json\n",
            "DEBUG:cmdstanpy:input tempfile: /tmp/tmpd33s_z0x/qgr942m3.json\n",
            "DEBUG:cmdstanpy:idx 0\n",
            "DEBUG:cmdstanpy:running CmdStan, num_threads: None\n",
            "DEBUG:cmdstanpy:CmdStan args: ['/usr/local/lib/python3.11/dist-packages/prophet/stan_model/prophet_model.bin', 'random', 'seed=32126', 'data', 'file=/tmp/tmpd33s_z0x/_chryq07.json', 'init=/tmp/tmpd33s_z0x/qgr942m3.json', 'output', 'file=/tmp/tmpd33s_z0x/prophet_modelu5ok4nhi/prophet_model-20250730042232.csv', 'method=optimize', 'algorithm=lbfgs', 'iter=10000']\n",
            "04:22:32 - cmdstanpy - INFO - Chain [1] start processing\n",
            "INFO:cmdstanpy:Chain [1] start processing\n",
            "04:22:50 - cmdstanpy - INFO - Chain [1] done processing\n",
            "INFO:cmdstanpy:Chain [1] done processing\n",
            "INFO:prophet:Making 3 forecasts with cutoffs between 2023-05-01 19:57:49 and 2023-05-31 19:57:49\n",
            "INFO:prophet:Applying in parallel with <concurrent.futures.process.ProcessPoolExecutor object at 0x79971c723250>\n",
            "DEBUG:cmdstanpy:input tempfile: /tmp/tmpd33s_z0x/_0tqc1e0.json\n",
            "DEBUG:cmdstanpy:input tempfile: /tmp/tmpd33s_z0x/7hxv1xpb.json\n",
            "DEBUG:cmdstanpy:input tempfile: /tmp/tmpd33s_z0x/zpsiulr2.json\n",
            "DEBUG:cmdstanpy:idx 0\n",
            "DEBUG:cmdstanpy:running CmdStan, num_threads: None\n",
            "DEBUG:cmdstanpy:CmdStan args: ['/usr/local/lib/python3.11/dist-packages/prophet/stan_model/prophet_model.bin', 'random', 'seed=41043', 'data', 'file=/tmp/tmpd33s_z0x/_0tqc1e0.json', 'init=/tmp/tmpd33s_z0x/zpsiulr2.json', 'output', 'file=/tmp/tmpd33s_z0x/prophet_modelwn0r4s31/prophet_model-20250730042253.csv', 'method=optimize', 'algorithm=lbfgs', 'iter=10000']\n",
            "04:22:53 - cmdstanpy - INFO - Chain [1] start processing\n",
            "INFO:cmdstanpy:Chain [1] start processing\n",
            "DEBUG:cmdstanpy:input tempfile: /tmp/tmpd33s_z0x/l4utbola.json\n",
            "DEBUG:cmdstanpy:idx 0\n",
            "DEBUG:cmdstanpy:running CmdStan, num_threads: None\n",
            "DEBUG:cmdstanpy:CmdStan args: ['/usr/local/lib/python3.11/dist-packages/prophet/stan_model/prophet_model.bin', 'random', 'seed=46805', 'data', 'file=/tmp/tmpd33s_z0x/7hxv1xpb.json', 'init=/tmp/tmpd33s_z0x/l4utbola.json', 'output', 'file=/tmp/tmpd33s_z0x/prophet_modelpgbh3xae/prophet_model-20250730042253.csv', 'method=optimize', 'algorithm=lbfgs', 'iter=10000']\n",
            "04:22:53 - cmdstanpy - INFO - Chain [1] start processing\n",
            "INFO:cmdstanpy:Chain [1] start processing\n",
            "04:23:15 - cmdstanpy - INFO - Chain [1] done processing\n",
            "INFO:cmdstanpy:Chain [1] done processing\n",
            "04:23:15 - cmdstanpy - INFO - Chain [1] done processing\n",
            "INFO:cmdstanpy:Chain [1] done processing\n",
            "DEBUG:cmdstanpy:input tempfile: /tmp/tmpd33s_z0x/9k0s_pbm.json\n",
            "DEBUG:cmdstanpy:input tempfile: /tmp/tmpd33s_z0x/gdh6ey31.json\n",
            "DEBUG:cmdstanpy:idx 0\n",
            "DEBUG:cmdstanpy:running CmdStan, num_threads: None\n",
            "DEBUG:cmdstanpy:CmdStan args: ['/usr/local/lib/python3.11/dist-packages/prophet/stan_model/prophet_model.bin', 'random', 'seed=26322', 'data', 'file=/tmp/tmpd33s_z0x/9k0s_pbm.json', 'init=/tmp/tmpd33s_z0x/gdh6ey31.json', 'output', 'file=/tmp/tmpd33s_z0x/prophet_modelc15m9th2/prophet_model-20250730042320.csv', 'method=optimize', 'algorithm=lbfgs', 'iter=10000']\n",
            "04:23:20 - cmdstanpy - INFO - Chain [1] start processing\n",
            "INFO:cmdstanpy:Chain [1] start processing\n",
            "04:23:31 - cmdstanpy - INFO - Chain [1] done processing\n",
            "INFO:cmdstanpy:Chain [1] done processing\n",
            "INFO:prophet:Disabling yearly seasonality. Run prophet with yearly_seasonality=True to override this.\n",
            "DEBUG:cmdstanpy:input tempfile: /tmp/tmpd33s_z0x/lyca9e46.json\n",
            "DEBUG:cmdstanpy:input tempfile: /tmp/tmpd33s_z0x/ant7txxh.json\n",
            "DEBUG:cmdstanpy:idx 0\n",
            "DEBUG:cmdstanpy:running CmdStan, num_threads: None\n",
            "DEBUG:cmdstanpy:CmdStan args: ['/usr/local/lib/python3.11/dist-packages/prophet/stan_model/prophet_model.bin', 'random', 'seed=96094', 'data', 'file=/tmp/tmpd33s_z0x/lyca9e46.json', 'init=/tmp/tmpd33s_z0x/ant7txxh.json', 'output', 'file=/tmp/tmpd33s_z0x/prophet_modelcgtrayi0/prophet_model-20250730042430.csv', 'method=optimize', 'algorithm=lbfgs', 'iter=10000']\n",
            "04:24:30 - cmdstanpy - INFO - Chain [1] start processing\n",
            "INFO:cmdstanpy:Chain [1] start processing\n",
            "04:24:36 - cmdstanpy - INFO - Chain [1] done processing\n",
            "INFO:cmdstanpy:Chain [1] done processing\n",
            "INFO:prophet:Making 3 forecasts with cutoffs between 2023-05-01 19:57:49 and 2023-05-31 19:57:49\n",
            "INFO:prophet:Applying in parallel with <concurrent.futures.process.ProcessPoolExecutor object at 0x79971a4e8bd0>\n",
            "DEBUG:cmdstanpy:input tempfile: /tmp/tmpd33s_z0x/s055nayc.json\n",
            "DEBUG:cmdstanpy:input tempfile: /tmp/tmpd33s_z0x/jybbgvr9.json\n",
            "DEBUG:cmdstanpy:input tempfile: /tmp/tmpd33s_z0x/y_b23749.json\n",
            "DEBUG:cmdstanpy:idx 0\n",
            "DEBUG:cmdstanpy:running CmdStan, num_threads: None\n",
            "DEBUG:cmdstanpy:CmdStan args: ['/usr/local/lib/python3.11/dist-packages/prophet/stan_model/prophet_model.bin', 'random', 'seed=77047', 'data', 'file=/tmp/tmpd33s_z0x/s055nayc.json', 'init=/tmp/tmpd33s_z0x/y_b23749.json', 'output', 'file=/tmp/tmpd33s_z0x/prophet_modelv3kts9gr/prophet_model-20250730042441.csv', 'method=optimize', 'algorithm=lbfgs', 'iter=10000']\n",
            "04:24:41 - cmdstanpy - INFO - Chain [1] start processing\n",
            "INFO:cmdstanpy:Chain [1] start processing\n",
            "DEBUG:cmdstanpy:input tempfile: /tmp/tmpd33s_z0x/o1wf8t2r.json\n",
            "DEBUG:cmdstanpy:idx 0\n",
            "DEBUG:cmdstanpy:running CmdStan, num_threads: None\n",
            "DEBUG:cmdstanpy:CmdStan args: ['/usr/local/lib/python3.11/dist-packages/prophet/stan_model/prophet_model.bin', 'random', 'seed=77786', 'data', 'file=/tmp/tmpd33s_z0x/jybbgvr9.json', 'init=/tmp/tmpd33s_z0x/o1wf8t2r.json', 'output', 'file=/tmp/tmpd33s_z0x/prophet_model0kh1sc2b/prophet_model-20250730042442.csv', 'method=optimize', 'algorithm=lbfgs', 'iter=10000']\n",
            "04:24:42 - cmdstanpy - INFO - Chain [1] start processing\n",
            "INFO:cmdstanpy:Chain [1] start processing\n",
            "04:24:49 - cmdstanpy - INFO - Chain [1] done processing\n",
            "INFO:cmdstanpy:Chain [1] done processing\n",
            "04:24:49 - cmdstanpy - INFO - Chain [1] done processing\n",
            "INFO:cmdstanpy:Chain [1] done processing\n",
            "DEBUG:cmdstanpy:input tempfile: /tmp/tmpd33s_z0x/kv6fj8ds.json\n",
            "DEBUG:cmdstanpy:input tempfile: /tmp/tmpd33s_z0x/79ygfxhm.json\n",
            "DEBUG:cmdstanpy:idx 0\n",
            "DEBUG:cmdstanpy:running CmdStan, num_threads: None\n",
            "DEBUG:cmdstanpy:CmdStan args: ['/usr/local/lib/python3.11/dist-packages/prophet/stan_model/prophet_model.bin', 'random', 'seed=51683', 'data', 'file=/tmp/tmpd33s_z0x/kv6fj8ds.json', 'init=/tmp/tmpd33s_z0x/79ygfxhm.json', 'output', 'file=/tmp/tmpd33s_z0x/prophet_model2dxc3m8r/prophet_model-20250730042456.csv', 'method=optimize', 'algorithm=lbfgs', 'iter=10000']\n",
            "04:24:56 - cmdstanpy - INFO - Chain [1] start processing\n",
            "INFO:cmdstanpy:Chain [1] start processing\n",
            "04:24:58 - cmdstanpy - INFO - Chain [1] done processing\n",
            "INFO:cmdstanpy:Chain [1] done processing\n",
            "INFO:prophet:Disabling yearly seasonality. Run prophet with yearly_seasonality=True to override this.\n",
            "DEBUG:cmdstanpy:input tempfile: /tmp/tmpd33s_z0x/dvhj04yj.json\n",
            "DEBUG:cmdstanpy:input tempfile: /tmp/tmpd33s_z0x/dty03qdd.json\n",
            "DEBUG:cmdstanpy:idx 0\n",
            "DEBUG:cmdstanpy:running CmdStan, num_threads: None\n",
            "DEBUG:cmdstanpy:CmdStan args: ['/usr/local/lib/python3.11/dist-packages/prophet/stan_model/prophet_model.bin', 'random', 'seed=37367', 'data', 'file=/tmp/tmpd33s_z0x/dvhj04yj.json', 'init=/tmp/tmpd33s_z0x/dty03qdd.json', 'output', 'file=/tmp/tmpd33s_z0x/prophet_model8rie8g13/prophet_model-20250730042556.csv', 'method=optimize', 'algorithm=lbfgs', 'iter=10000']\n",
            "04:25:56 - cmdstanpy - INFO - Chain [1] start processing\n",
            "INFO:cmdstanpy:Chain [1] start processing\n",
            "04:26:00 - cmdstanpy - INFO - Chain [1] done processing\n",
            "INFO:cmdstanpy:Chain [1] done processing\n",
            "INFO:prophet:Making 3 forecasts with cutoffs between 2023-05-01 19:57:49 and 2023-05-31 19:57:49\n",
            "INFO:prophet:Applying in parallel with <concurrent.futures.process.ProcessPoolExecutor object at 0x79971d357390>\n",
            "DEBUG:cmdstanpy:input tempfile: /tmp/tmpd33s_z0x/8i56ye8r.json\n",
            "DEBUG:cmdstanpy:input tempfile: /tmp/tmpd33s_z0x/8bqtn6m4.json\n",
            "DEBUG:cmdstanpy:input tempfile: /tmp/tmpd33s_z0x/2kg01jas.json\n",
            "DEBUG:cmdstanpy:idx 0\n",
            "DEBUG:cmdstanpy:running CmdStan, num_threads: None\n",
            "DEBUG:cmdstanpy:CmdStan args: ['/usr/local/lib/python3.11/dist-packages/prophet/stan_model/prophet_model.bin', 'random', 'seed=15183', 'data', 'file=/tmp/tmpd33s_z0x/8i56ye8r.json', 'init=/tmp/tmpd33s_z0x/2kg01jas.json', 'output', 'file=/tmp/tmpd33s_z0x/prophet_modelvtu64j1k/prophet_model-20250730042603.csv', 'method=optimize', 'algorithm=lbfgs', 'iter=10000']\n",
            "04:26:03 - cmdstanpy - INFO - Chain [1] start processing\n",
            "INFO:cmdstanpy:Chain [1] start processing\n",
            "DEBUG:cmdstanpy:input tempfile: /tmp/tmpd33s_z0x/wooef_me.json\n",
            "DEBUG:cmdstanpy:idx 0\n",
            "DEBUG:cmdstanpy:running CmdStan, num_threads: None\n",
            "DEBUG:cmdstanpy:CmdStan args: ['/usr/local/lib/python3.11/dist-packages/prophet/stan_model/prophet_model.bin', 'random', 'seed=35395', 'data', 'file=/tmp/tmpd33s_z0x/8bqtn6m4.json', 'init=/tmp/tmpd33s_z0x/wooef_me.json', 'output', 'file=/tmp/tmpd33s_z0x/prophet_modelc6kb2i3s/prophet_model-20250730042603.csv', 'method=optimize', 'algorithm=lbfgs', 'iter=10000']\n",
            "04:26:04 - cmdstanpy - INFO - Chain [1] start processing\n",
            "INFO:cmdstanpy:Chain [1] start processing\n",
            "04:26:13 - cmdstanpy - INFO - Chain [1] done processing\n",
            "INFO:cmdstanpy:Chain [1] done processing\n",
            "04:26:14 - cmdstanpy - INFO - Chain [1] done processing\n",
            "INFO:cmdstanpy:Chain [1] done processing\n",
            "DEBUG:cmdstanpy:input tempfile: /tmp/tmpd33s_z0x/d9mckuzv.json\n",
            "DEBUG:cmdstanpy:input tempfile: /tmp/tmpd33s_z0x/oyc2i_bg.json\n",
            "DEBUG:cmdstanpy:idx 0\n",
            "DEBUG:cmdstanpy:running CmdStan, num_threads: None\n",
            "DEBUG:cmdstanpy:CmdStan args: ['/usr/local/lib/python3.11/dist-packages/prophet/stan_model/prophet_model.bin', 'random', 'seed=40068', 'data', 'file=/tmp/tmpd33s_z0x/d9mckuzv.json', 'init=/tmp/tmpd33s_z0x/oyc2i_bg.json', 'output', 'file=/tmp/tmpd33s_z0x/prophet_modelxz1ff7xk/prophet_model-20250730042619.csv', 'method=optimize', 'algorithm=lbfgs', 'iter=10000']\n",
            "04:26:19 - cmdstanpy - INFO - Chain [1] start processing\n",
            "INFO:cmdstanpy:Chain [1] start processing\n",
            "04:26:22 - cmdstanpy - INFO - Chain [1] done processing\n",
            "INFO:cmdstanpy:Chain [1] done processing\n",
            "INFO:prophet:Disabling yearly seasonality. Run prophet with yearly_seasonality=True to override this.\n",
            "DEBUG:cmdstanpy:input tempfile: /tmp/tmpd33s_z0x/37u4c5e_.json\n",
            "DEBUG:cmdstanpy:input tempfile: /tmp/tmpd33s_z0x/liokeyz3.json\n",
            "DEBUG:cmdstanpy:idx 0\n",
            "DEBUG:cmdstanpy:running CmdStan, num_threads: None\n",
            "DEBUG:cmdstanpy:CmdStan args: ['/usr/local/lib/python3.11/dist-packages/prophet/stan_model/prophet_model.bin', 'random', 'seed=84603', 'data', 'file=/tmp/tmpd33s_z0x/37u4c5e_.json', 'init=/tmp/tmpd33s_z0x/liokeyz3.json', 'output', 'file=/tmp/tmpd33s_z0x/prophet_modellcbs5vml/prophet_model-20250730042721.csv', 'method=optimize', 'algorithm=lbfgs', 'iter=10000']\n",
            "04:27:21 - cmdstanpy - INFO - Chain [1] start processing\n",
            "INFO:cmdstanpy:Chain [1] start processing\n",
            "04:27:24 - cmdstanpy - INFO - Chain [1] done processing\n",
            "INFO:cmdstanpy:Chain [1] done processing\n",
            "INFO:prophet:Making 3 forecasts with cutoffs between 2023-05-01 19:57:49 and 2023-05-31 19:57:49\n",
            "INFO:prophet:Applying in parallel with <concurrent.futures.process.ProcessPoolExecutor object at 0x79971aa6cf90>\n",
            "DEBUG:cmdstanpy:input tempfile: /tmp/tmpd33s_z0x/zqmscvm9.json\n",
            "DEBUG:cmdstanpy:input tempfile: /tmp/tmpd33s_z0x/zy6i885_.json\n",
            "DEBUG:cmdstanpy:input tempfile: /tmp/tmpd33s_z0x/3ny0bxk4.json\n",
            "DEBUG:cmdstanpy:idx 0\n",
            "DEBUG:cmdstanpy:running CmdStan, num_threads: None\n",
            "DEBUG:cmdstanpy:CmdStan args: ['/usr/local/lib/python3.11/dist-packages/prophet/stan_model/prophet_model.bin', 'random', 'seed=97966', 'data', 'file=/tmp/tmpd33s_z0x/zqmscvm9.json', 'init=/tmp/tmpd33s_z0x/3ny0bxk4.json', 'output', 'file=/tmp/tmpd33s_z0x/prophet_modelzdcxmewy/prophet_model-20250730042726.csv', 'method=optimize', 'algorithm=lbfgs', 'iter=10000']\n",
            "04:27:26 - cmdstanpy - INFO - Chain [1] start processing\n",
            "INFO:cmdstanpy:Chain [1] start processing\n",
            "DEBUG:cmdstanpy:input tempfile: /tmp/tmpd33s_z0x/o003pad_.json\n",
            "DEBUG:cmdstanpy:idx 0\n",
            "DEBUG:cmdstanpy:running CmdStan, num_threads: None\n",
            "DEBUG:cmdstanpy:CmdStan args: ['/usr/local/lib/python3.11/dist-packages/prophet/stan_model/prophet_model.bin', 'random', 'seed=85845', 'data', 'file=/tmp/tmpd33s_z0x/zy6i885_.json', 'init=/tmp/tmpd33s_z0x/o003pad_.json', 'output', 'file=/tmp/tmpd33s_z0x/prophet_modelzk6a9g76/prophet_model-20250730042727.csv', 'method=optimize', 'algorithm=lbfgs', 'iter=10000']\n",
            "04:27:27 - cmdstanpy - INFO - Chain [1] start processing\n",
            "INFO:cmdstanpy:Chain [1] start processing\n",
            "04:27:31 - cmdstanpy - INFO - Chain [1] done processing\n",
            "INFO:cmdstanpy:Chain [1] done processing\n",
            "04:27:34 - cmdstanpy - INFO - Chain [1] done processing\n",
            "INFO:cmdstanpy:Chain [1] done processing\n",
            "DEBUG:cmdstanpy:input tempfile: /tmp/tmpd33s_z0x/bzn9ttsc.json\n",
            "DEBUG:cmdstanpy:input tempfile: /tmp/tmpd33s_z0x/l1o5xdkk.json\n",
            "DEBUG:cmdstanpy:idx 0\n",
            "DEBUG:cmdstanpy:running CmdStan, num_threads: None\n",
            "DEBUG:cmdstanpy:CmdStan args: ['/usr/local/lib/python3.11/dist-packages/prophet/stan_model/prophet_model.bin', 'random', 'seed=27793', 'data', 'file=/tmp/tmpd33s_z0x/bzn9ttsc.json', 'init=/tmp/tmpd33s_z0x/l1o5xdkk.json', 'output', 'file=/tmp/tmpd33s_z0x/prophet_modelepzv28ry/prophet_model-20250730042737.csv', 'method=optimize', 'algorithm=lbfgs', 'iter=10000']\n",
            "04:27:37 - cmdstanpy - INFO - Chain [1] start processing\n",
            "INFO:cmdstanpy:Chain [1] start processing\n",
            "04:27:40 - cmdstanpy - INFO - Chain [1] done processing\n",
            "INFO:cmdstanpy:Chain [1] done processing\n",
            "INFO:prophet:Disabling yearly seasonality. Run prophet with yearly_seasonality=True to override this.\n",
            "DEBUG:cmdstanpy:input tempfile: /tmp/tmpd33s_z0x/dej2emyc.json\n",
            "DEBUG:cmdstanpy:input tempfile: /tmp/tmpd33s_z0x/zcv1blxs.json\n",
            "DEBUG:cmdstanpy:idx 0\n",
            "DEBUG:cmdstanpy:running CmdStan, num_threads: None\n",
            "DEBUG:cmdstanpy:CmdStan args: ['/usr/local/lib/python3.11/dist-packages/prophet/stan_model/prophet_model.bin', 'random', 'seed=56559', 'data', 'file=/tmp/tmpd33s_z0x/dej2emyc.json', 'init=/tmp/tmpd33s_z0x/zcv1blxs.json', 'output', 'file=/tmp/tmpd33s_z0x/prophet_modelepfe62a6/prophet_model-20250730042839.csv', 'method=optimize', 'algorithm=lbfgs', 'iter=10000']\n",
            "04:28:39 - cmdstanpy - INFO - Chain [1] start processing\n",
            "INFO:cmdstanpy:Chain [1] start processing\n",
            "04:29:01 - cmdstanpy - INFO - Chain [1] done processing\n",
            "INFO:cmdstanpy:Chain [1] done processing\n",
            "INFO:prophet:Making 3 forecasts with cutoffs between 2023-05-01 19:57:49 and 2023-05-31 19:57:49\n",
            "INFO:prophet:Applying in parallel with <concurrent.futures.process.ProcessPoolExecutor object at 0x79971d612d10>\n",
            "DEBUG:cmdstanpy:input tempfile: /tmp/tmpd33s_z0x/tnyzz0el.json\n",
            "DEBUG:cmdstanpy:input tempfile: /tmp/tmpd33s_z0x/m7m2gmzo.json\n",
            "DEBUG:cmdstanpy:input tempfile: /tmp/tmpd33s_z0x/kzfgs9tn.json\n",
            "DEBUG:cmdstanpy:idx 0\n",
            "DEBUG:cmdstanpy:running CmdStan, num_threads: None\n",
            "DEBUG:cmdstanpy:CmdStan args: ['/usr/local/lib/python3.11/dist-packages/prophet/stan_model/prophet_model.bin', 'random', 'seed=96914', 'data', 'file=/tmp/tmpd33s_z0x/tnyzz0el.json', 'init=/tmp/tmpd33s_z0x/kzfgs9tn.json', 'output', 'file=/tmp/tmpd33s_z0x/prophet_modeli6fepcrf/prophet_model-20250730042904.csv', 'method=optimize', 'algorithm=lbfgs', 'iter=10000']\n",
            "04:29:04 - cmdstanpy - INFO - Chain [1] start processing\n",
            "INFO:cmdstanpy:Chain [1] start processing\n",
            "DEBUG:cmdstanpy:input tempfile: /tmp/tmpd33s_z0x/lvkl5i79.json\n",
            "DEBUG:cmdstanpy:idx 0\n",
            "DEBUG:cmdstanpy:running CmdStan, num_threads: None\n",
            "DEBUG:cmdstanpy:CmdStan args: ['/usr/local/lib/python3.11/dist-packages/prophet/stan_model/prophet_model.bin', 'random', 'seed=39590', 'data', 'file=/tmp/tmpd33s_z0x/m7m2gmzo.json', 'init=/tmp/tmpd33s_z0x/lvkl5i79.json', 'output', 'file=/tmp/tmpd33s_z0x/prophet_model_scnbe6_/prophet_model-20250730042904.csv', 'method=optimize', 'algorithm=lbfgs', 'iter=10000']\n",
            "04:29:04 - cmdstanpy - INFO - Chain [1] start processing\n",
            "INFO:cmdstanpy:Chain [1] start processing\n",
            "04:29:15 - cmdstanpy - INFO - Chain [1] done processing\n",
            "INFO:cmdstanpy:Chain [1] done processing\n",
            "DEBUG:cmdstanpy:input tempfile: /tmp/tmpd33s_z0x/0r0mm4fq.json\n",
            "04:29:19 - cmdstanpy - INFO - Chain [1] done processing\n",
            "INFO:cmdstanpy:Chain [1] done processing\n",
            "DEBUG:cmdstanpy:input tempfile: /tmp/tmpd33s_z0x/m2a52uhh.json\n",
            "DEBUG:cmdstanpy:idx 0\n",
            "DEBUG:cmdstanpy:running CmdStan, num_threads: None\n",
            "DEBUG:cmdstanpy:CmdStan args: ['/usr/local/lib/python3.11/dist-packages/prophet/stan_model/prophet_model.bin', 'random', 'seed=92337', 'data', 'file=/tmp/tmpd33s_z0x/0r0mm4fq.json', 'init=/tmp/tmpd33s_z0x/m2a52uhh.json', 'output', 'file=/tmp/tmpd33s_z0x/prophet_modeli5etdu_k/prophet_model-20250730042921.csv', 'method=optimize', 'algorithm=lbfgs', 'iter=10000']\n",
            "04:29:21 - cmdstanpy - INFO - Chain [1] start processing\n",
            "INFO:cmdstanpy:Chain [1] start processing\n",
            "04:29:31 - cmdstanpy - INFO - Chain [1] done processing\n",
            "INFO:cmdstanpy:Chain [1] done processing\n",
            "INFO:prophet:Disabling yearly seasonality. Run prophet with yearly_seasonality=True to override this.\n",
            "DEBUG:cmdstanpy:input tempfile: /tmp/tmpd33s_z0x/zjztofzl.json\n",
            "DEBUG:cmdstanpy:input tempfile: /tmp/tmpd33s_z0x/e_38uyfz.json\n",
            "DEBUG:cmdstanpy:idx 0\n",
            "DEBUG:cmdstanpy:running CmdStan, num_threads: None\n",
            "DEBUG:cmdstanpy:CmdStan args: ['/usr/local/lib/python3.11/dist-packages/prophet/stan_model/prophet_model.bin', 'random', 'seed=49629', 'data', 'file=/tmp/tmpd33s_z0x/zjztofzl.json', 'init=/tmp/tmpd33s_z0x/e_38uyfz.json', 'output', 'file=/tmp/tmpd33s_z0x/prophet_modelaewm5hym/prophet_model-20250730043029.csv', 'method=optimize', 'algorithm=lbfgs', 'iter=10000']\n",
            "04:30:29 - cmdstanpy - INFO - Chain [1] start processing\n",
            "INFO:cmdstanpy:Chain [1] start processing\n",
            "04:30:54 - cmdstanpy - INFO - Chain [1] done processing\n",
            "INFO:cmdstanpy:Chain [1] done processing\n",
            "INFO:prophet:Making 3 forecasts with cutoffs between 2023-05-01 19:57:49 and 2023-05-31 19:57:49\n",
            "INFO:prophet:Applying in parallel with <concurrent.futures.process.ProcessPoolExecutor object at 0x79971b75d090>\n",
            "DEBUG:cmdstanpy:input tempfile: /tmp/tmpd33s_z0x/z_rimnj3.json\n",
            "DEBUG:cmdstanpy:input tempfile: /tmp/tmpd33s_z0x/eqvoi7ya.json\n",
            "DEBUG:cmdstanpy:input tempfile: /tmp/tmpd33s_z0x/i_0vkc0m.json\n",
            "DEBUG:cmdstanpy:idx 0\n",
            "DEBUG:cmdstanpy:running CmdStan, num_threads: None\n",
            "DEBUG:cmdstanpy:CmdStan args: ['/usr/local/lib/python3.11/dist-packages/prophet/stan_model/prophet_model.bin', 'random', 'seed=36660', 'data', 'file=/tmp/tmpd33s_z0x/z_rimnj3.json', 'init=/tmp/tmpd33s_z0x/i_0vkc0m.json', 'output', 'file=/tmp/tmpd33s_z0x/prophet_model6pqw52sc/prophet_model-20250730043059.csv', 'method=optimize', 'algorithm=lbfgs', 'iter=10000']\n",
            "04:30:59 - cmdstanpy - INFO - Chain [1] start processing\n",
            "INFO:cmdstanpy:Chain [1] start processing\n",
            "DEBUG:cmdstanpy:input tempfile: /tmp/tmpd33s_z0x/8xqha7l9.json\n",
            "DEBUG:cmdstanpy:idx 0\n",
            "DEBUG:cmdstanpy:running CmdStan, num_threads: None\n",
            "DEBUG:cmdstanpy:CmdStan args: ['/usr/local/lib/python3.11/dist-packages/prophet/stan_model/prophet_model.bin', 'random', 'seed=15394', 'data', 'file=/tmp/tmpd33s_z0x/eqvoi7ya.json', 'init=/tmp/tmpd33s_z0x/8xqha7l9.json', 'output', 'file=/tmp/tmpd33s_z0x/prophet_modelr9amgqcd/prophet_model-20250730043059.csv', 'method=optimize', 'algorithm=lbfgs', 'iter=10000']\n",
            "04:30:59 - cmdstanpy - INFO - Chain [1] start processing\n",
            "INFO:cmdstanpy:Chain [1] start processing\n",
            "04:31:20 - cmdstanpy - INFO - Chain [1] done processing\n",
            "INFO:cmdstanpy:Chain [1] done processing\n",
            "DEBUG:cmdstanpy:input tempfile: /tmp/tmpd33s_z0x/t6e4rlep.json\n",
            "DEBUG:cmdstanpy:input tempfile: /tmp/tmpd33s_z0x/5xd_84at.json\n",
            "DEBUG:cmdstanpy:idx 0\n",
            "DEBUG:cmdstanpy:running CmdStan, num_threads: None\n",
            "DEBUG:cmdstanpy:CmdStan args: ['/usr/local/lib/python3.11/dist-packages/prophet/stan_model/prophet_model.bin', 'random', 'seed=76876', 'data', 'file=/tmp/tmpd33s_z0x/t6e4rlep.json', 'init=/tmp/tmpd33s_z0x/5xd_84at.json', 'output', 'file=/tmp/tmpd33s_z0x/prophet_modelvh_9bnrw/prophet_model-20250730043129.csv', 'method=optimize', 'algorithm=lbfgs', 'iter=10000']\n",
            "04:31:29 - cmdstanpy - INFO - Chain [1] start processing\n",
            "INFO:cmdstanpy:Chain [1] start processing\n",
            "04:31:31 - cmdstanpy - INFO - Chain [1] done processing\n",
            "INFO:cmdstanpy:Chain [1] done processing\n",
            "04:31:46 - cmdstanpy - INFO - Chain [1] done processing\n",
            "INFO:cmdstanpy:Chain [1] done processing\n",
            "INFO:prophet:Disabling yearly seasonality. Run prophet with yearly_seasonality=True to override this.\n",
            "DEBUG:cmdstanpy:input tempfile: /tmp/tmpd33s_z0x/k7irm1ka.json\n",
            "DEBUG:cmdstanpy:input tempfile: /tmp/tmpd33s_z0x/e0f005xc.json\n",
            "DEBUG:cmdstanpy:idx 0\n",
            "DEBUG:cmdstanpy:running CmdStan, num_threads: None\n",
            "DEBUG:cmdstanpy:CmdStan args: ['/usr/local/lib/python3.11/dist-packages/prophet/stan_model/prophet_model.bin', 'random', 'seed=13493', 'data', 'file=/tmp/tmpd33s_z0x/k7irm1ka.json', 'init=/tmp/tmpd33s_z0x/e0f005xc.json', 'output', 'file=/tmp/tmpd33s_z0x/prophet_modeldogms7w7/prophet_model-20250730043245.csv', 'method=optimize', 'algorithm=lbfgs', 'iter=10000']\n",
            "04:32:45 - cmdstanpy - INFO - Chain [1] start processing\n",
            "INFO:cmdstanpy:Chain [1] start processing\n"
          ]
        }
      ]
    },
    {
      "cell_type": "markdown",
      "source": [
        "For the **Astoria** store, the best calculated combination is:\n",
        "\n",
        "* **changepoint_prior_scale**: 0.01\n",
        "\n",
        "* **seasonality_prior_scale**: 1\n",
        "\n",
        "* **fourier_order**: 3\n",
        "\n",
        "* With a **MAPE** of 22.93%."
      ],
      "metadata": {
        "id": "vR4f9wUUMtCY"
      }
    },
    {
      "cell_type": "markdown",
      "source": [
        "The model is initialized including the previously observed seasonality."
      ],
      "metadata": {
        "id": "NzEUdXCiwP-_"
      }
    },
    {
      "cell_type": "code",
      "source": [
        "model_manhattan = Prophet(\n",
        "    changepoint_prior_scale=0.01,\n",
        "    seasonality_prior_scale= 10\n",
        "    daily_seasonality=True,\n",
        "    weekly_seasonality=False\n",
        ")\n",
        "\n",
        "model_manhattan.add_seasonality(\n",
        "    name='weekly_strong',\n",
        "    period=7,\n",
        "    fourier_order=7\n",
        ")\n",
        "\n",
        "model_manhattan.add_country_holidays(country_name='US')"
      ],
      "metadata": {
        "id": "YntUhXAcNlhB"
      },
      "execution_count": null,
      "outputs": []
    },
    {
      "cell_type": "code",
      "source": [
        "model_hell_kitchen = Prophet(\n",
        "    changepoint_prior_scale=0.01,\n",
        "    seasonality_prior_scale =1,\n",
        "    daily_seasonality=True,\n",
        "    weekly_seasonality=False\n",
        ")\n",
        "\n",
        "model_hell_kitchen.add_seasonality(\n",
        "    name='weekly_strong',\n",
        "    period=7,\n",
        "    fourier_order=7\n",
        ")\n",
        "\n",
        "model_hell_kitchen.add_country_holidays(country_name='US')"
      ],
      "metadata": {
        "id": "KazuEn1ONrLX"
      },
      "execution_count": null,
      "outputs": []
    },
    {
      "cell_type": "code",
      "source": [
        "model_astoria = Prophet(\n",
        "    changepoint_prior_scale=0.01,\n",
        "    daily_seasonality=True,\n",
        "    weekly_seasonality=False,\n",
        "    seasonality_prior_scale=1\n",
        ")\n",
        "\n",
        "model_astoria.add_seasonality(\n",
        "    name='weekly_strong',\n",
        "    period=7,\n",
        "    fourier_order=3\n",
        ")\n",
        "\n",
        "model_astoria.add_country_holidays(country_name='US')"
      ],
      "metadata": {
        "id": "VewLAqinNrFv"
      },
      "execution_count": null,
      "outputs": []
    },
    {
      "cell_type": "markdown",
      "source": [
        "The model is fitted using the previously generated DataFrame."
      ],
      "metadata": {
        "id": "wp6smj2rN-HN"
      }
    },
    {
      "cell_type": "code",
      "source": [
        "model_manhattan.fit(df_train_manhattan)"
      ],
      "metadata": {
        "id": "jk96nYPHNq_L"
      },
      "execution_count": null,
      "outputs": []
    },
    {
      "cell_type": "code",
      "source": [
        "model_hell_kitchen.fit(df_train_hell_kitchen)"
      ],
      "metadata": {
        "id": "npU6W8rJNqnq"
      },
      "execution_count": null,
      "outputs": []
    },
    {
      "cell_type": "code",
      "source": [
        "model_astoria.fit(df_train_astoria)"
      ],
      "metadata": {
        "id": "9pWiY6vCNqco"
      },
      "execution_count": null,
      "outputs": []
    },
    {
      "cell_type": "markdown",
      "source": [
        "## Forescast"
      ],
      "metadata": {
        "id": "94Gf7LV5OLQA"
      }
    },
    {
      "cell_type": "markdown",
      "source": [
        "The forecast is initialized for the next 30 days starting from the last date in the model for each store."
      ],
      "metadata": {
        "id": "acMfhwAIOWs8"
      }
    },
    {
      "cell_type": "code",
      "source": [
        "# Generate a DataFrame of future dates starting from the end of the original dataset.\n",
        "# 'periods=30' indicates that 30 additional days will be generated.\n",
        "future_manhattan = model_manhattan.make_future_dataframe(periods=30)\n",
        "future_hell_kitchen = model_hell_kitchen.make_future_dataframe(periods=30)\n",
        "future_astoria = model_astoria.make_future_dataframe(periods=30)\n",
        "\n",
        "# Use the already trained model (model_manhattan) to make predictions\n",
        "# for the dates in the generated DataFrame. The result is a DataFrame\n",
        "# with columns such as 'ds' (date), 'yhat' (prediction), 'yhat_lower' and 'yhat_upper' (confidence interval).\n",
        "forecast_manhattan = model_manhattan.predict(future_manhattan)\n",
        "forecast_hell_kitchen = model_hell_kitchen.predict(future_hell_kitchen)\n",
        "forecast_astoria = model_astoria.predict(future_astoria)"
      ],
      "metadata": {
        "id": "2zQL3ytSOi4q"
      },
      "execution_count": null,
      "outputs": []
    },
    {
      "cell_type": "code",
      "source": [
        "# Iterate over a list of tuples, each containing a forecast DataFrame and its corresponding location name.\n",
        "for df, val in [\n",
        "  (forecast_manhattan, \" Lower Manhattan\"),\n",
        "  (forecast_hell_kitchen, \"Hell Kitchen\"),\n",
        "  (forecast_astoria, \"Astoria\")]:\n",
        "\n",
        "  # Select only the 'ds' (date) and 'yhat' (predicted value) columns from the DataFrame and take the last 30 rows.\n",
        "  df = df[['ds', 'yhat']].tail(30)\n",
        "\n",
        "  # Add a new column called 'Location' with the corresponding location name.\n",
        "  df['Location'] = val\n"
      ],
      "metadata": {
        "id": "3l9uR-EcOs1v"
      },
      "execution_count": null,
      "outputs": []
    },
    {
      "cell_type": "code",
      "source": [
        "# Combine (concatenate) the three forecast DataFrames into a single one by stacking them vertically.\n",
        "forescast_df = pd.concat([forecast_manhattan, forecast_hell_kitchen, forecast_astoria])\n"
      ],
      "metadata": {
        "id": "9DsCFAA3O0wE"
      },
      "execution_count": null,
      "outputs": []
    },
    {
      "cell_type": "markdown",
      "source": [
        "## Import to PostgreSQL Database"
      ],
      "metadata": {
        "id": "0IXADyeAO80z"
      }
    },
    {
      "cell_type": "markdown",
      "source": [
        "To establish a secure connection to the PostgreSQL database, environment variables are used to manage the credentials and connection parameters, thus avoiding exposing sensitive information in the code."
      ],
      "metadata": {
        "id": "NP1sHeQbO_mF"
      }
    },
    {
      "cell_type": "code",
      "source": [
        "# Load environment variables from a .env file to retrieve database credentials.\n",
        "load_dotenv()\n",
        "USER = os.getenv(\"user\")\n",
        "PASSWORD = os.getenv(\"password\")\n",
        "HOST = os.getenv(\"host\")\n",
        "PORT = os.getenv(\"port\")\n",
        "DBNAME = os.getenv(\"dbname\")\n",
        "\n",
        "# Build the PostgreSQL connection URL using the psycopg2 driver, including SSL for enhanced security.\n",
        "DATABASE_URL = f\"postgresql+psycopg2://{USER}:{PASSWORD}@{HOST}:{PORT}/{DBNAME}?sslmode=require\"\n",
        "\n",
        "# Create a connection engine using SQLAlchemy.\n",
        "engine = create_engine(DATABASE_URL)\n",
        "\n",
        "# Attempt to connect to the database and print a success or error message.\n",
        "try:\n",
        "    with engine.connect() as connection:\n",
        "        print(\"Successful connection\")\n",
        "except Exception as e:\n",
        "    print(f\"Connection failed \\n error: {e}\")\n"
      ],
      "metadata": {
        "id": "l45ya4IxO_NJ"
      },
      "execution_count": null,
      "outputs": []
    },
    {
      "cell_type": "markdown",
      "source": [
        "The DataFrames `forescast_df` and coffee_sales are exported to the PostgreSQL database using pandas `to_sql` method. Each DataFrame is saved in a specific table (`'forescast'` and `'coffe_sales'`, respectively)."
      ],
      "metadata": {
        "id": "6AmKMicSPvbf"
      }
    },
    {
      "cell_type": "code",
      "source": [
        "# Export the 'forescast_df' DataFrame to the 'forescast' table in the database.\n",
        "# If the table exists, it will be replaced; the DataFrame index is not saved as a column.\n",
        "forescast_df.to_sql('forescast', con=engine, if_exists='replace', index=False)\n",
        "\n",
        "# Export the 'coffee_sales' DataFrame to the 'coffe_sales' table in the database.\n",
        "# It also replaces the table if it exists and does not save the index.\n",
        "coffee_sales.to_sql('coffe_sales', con=engine, if_exists='replace', index=False)"
      ],
      "metadata": {
        "id": "UTHdlibPPvtv"
      },
      "execution_count": null,
      "outputs": []
    },
    {
      "cell_type": "markdown",
      "source": [
        "#Español"
      ],
      "metadata": {
        "id": "rbC-jQC_Z2TC"
      }
    },
    {
      "cell_type": "markdown",
      "source": [
        "##1. Introducción"
      ],
      "metadata": {
        "id": "XGnvQNwkZ4BH"
      }
    },
    {
      "cell_type": "markdown",
      "source": [
        "\n",
        "En este proyecto, se realizó un análisis exploratorio de datos (EDA) y un modelo de predicción de ventas basado en series temporales usando un conjunto de datos disponible en este [enlace](https://www.kaggle.com/datasets/ahmedabbas757/coffee-sales) de Kaggle.\n",
        "\n",
        "El Objetivo principal de este proyecto es comprender los patrones históricos de ventas y poder desarrollar un modelo de aprendizaje automático que pueda anticipar el comportamiento futuro para poder proporcionar información valiosa para para la toma de decisiones.\n",
        "\n",
        "El flujo de trabajo incluyó las siguientes etapas principales:\n",
        "\n",
        "\n",
        "1.   **Extracción de los datos de Kaggle usando una Api**:\n",
        "    Se uso la API Kagglehub para poder extraer los datos de manera correcta y poder mantenerlos actualizados si existe un cambio en el origen de los datos.\n",
        "2.   **Análisis Exploratorio de Datos (EDA)**:\n",
        "    Se utilizó Python y bibliotecas como pandas, matplotlib y seaborn para limpiar y analizar el conjunto de datos, identificando tendencias, estacionalidad y variables clave que afectan las ventas, así como para visualizar los datos de manera rápida.\n",
        "3. **Modelado Predictivo de aprendizaje automatico**:\n",
        "    Se implementó el modelo de pronóstico Prophet desarrollado por Facebook para predecir ventas futuras, considerando aspectos como tendencias y eventos estacionales.\n",
        "4. **Visualización en Power BI**:\n",
        "    Los datos y resultados obtenidos se integraron en un tablero interactivo en Power BI, facilitando la comunicación de insights de manera visual e intuitiva.\n",
        "\n",
        "El proyecto busca demostrar habilidades técnicas en análisis de datos, modelado predictivo y creación de visualizaciones dinámicas, así como la capacidad de trabajar con herramientas modernas de ciencia de datos y análisis empresarial. Este enfoque es crucial para extraer valor de los datos y apoyar la toma de decisiones basadas en evidencia.\n",
        "\n"
      ],
      "metadata": {
        "id": "Kd6uuHJWVk0K"
      }
    },
    {
      "cell_type": "markdown",
      "source": [
        "\n",
        "\n",
        "---\n",
        "\n"
      ],
      "metadata": {
        "id": "lI679tHz7H8I"
      }
    },
    {
      "cell_type": "markdown",
      "source": [
        "## 2. Desarrollo del proyecto\n",
        "\n",
        "En esta sección, se detallará paso a paso el proceso seguido para desarrollar el análisis y la predicción de las ventas, desde la configuración del entorno y la preparación de los datos, hasta la implementación del modelo y la visualización final."
      ],
      "metadata": {
        "id": "cAK-sMMCZOHn"
      }
    },
    {
      "cell_type": "markdown",
      "source": [
        "### Importación de las librerías\n",
        "\n",
        "El primer paso fue importar las librerías necesarias para llevar a cabo el análisis y modelado. Se utilizaron herramientas estándar de Python que son ampliamente reconocidas en la comunidad de ciencia de datos, así como herramientas de visualización de datos, la libería de Kagglehub para la extracción de los datos y Prophet, para el desarrollo del modelo."
      ],
      "metadata": {
        "id": "6SAOSoxKZVlX"
      }
    },
    {
      "cell_type": "code",
      "execution_count": null,
      "metadata": {
        "id": "mJogtqsNZHO-"
      },
      "outputs": [],
      "source": [
        "# Librerías para la manipulación, manejo  y análisis de datos\n",
        "import pandas as pd\n",
        "import numpy as np\n",
        "\n",
        "# Librería para extracción de datos desde Kaggle\n",
        "import kagglehub\n",
        "import os\n",
        "\n",
        "# Librerías para visualización\n",
        "import matplotlib.pyplot as plt\n",
        "import seaborn as sns\n",
        "\n",
        "# Librerías para el modelo basado en series temporales\n",
        "from prophet import Prophet\n",
        "from prophet.diagnostics import performance_metrics, cross_validation\n",
        "import random\n",
        "\n",
        "\n",
        "# Librería para conectar con bases de datos SQL\n",
        "from sqlalchemy import create_engine\n",
        "\n",
        "# Librería para cargar variables de entorno desde un archivo .env\n",
        "from dotenv import load_dotenv\n",
        "\n",
        "# ILibrería para acceder a las variables de entorno cargadas\n",
        "import os\n",
        "\n",
        "# Manejo de advertencias\n",
        "import warnings\n",
        "warnings.filterwarnings(\"ignore\")\n",
        "\n",
        "# Configuración del estilo de las visualizaciones\n",
        "plt.style.use('seaborn-v0_8-dark')\n",
        "\n",
        "random.seed(24)\n"
      ]
    },
    {
      "cell_type": "markdown",
      "source": [
        "### Extracción de los Datos\n",
        "\n",
        "Para garantizar que el análisis se base en información al día, se utilizó la librería kagglehub para descargar los datos directamente desde Kaggle, esto permite tener un enfoque en un flujo de trabajo dinámico y flexible, ya que la información se puede sincronizar fácilmente en caso de existir actualizaciones en el conjunto de datos."
      ],
      "metadata": {
        "id": "l3g2966n50RR"
      }
    },
    {
      "cell_type": "code",
      "execution_count": null,
      "metadata": {
        "id": "2cjzfPvWZHPA"
      },
      "outputs": [],
      "source": [
        "# Se descarga el conjunto de datos desde Kaggle\n",
        "path = kagglehub.dataset_download(\"ahmedabbas757/coffee-sales\")\n",
        "\n",
        "# Nombre del archivo descargado\n",
        "file_name = \"Coffee Shop Sales.xlsx\"\n",
        "\n",
        "# Se construye la ruta completa del archivo\n",
        "file_path = os.path.join(path, file_name)\n",
        "\n",
        "# Se carga el archivo a un DataFrame de pandas.\n",
        "coffee_sales = pd.read_excel(file_path)"
      ]
    },
    {
      "cell_type": "markdown",
      "source": [
        "### Análisis Exploratorio de Datos (EDA)"
      ],
      "metadata": {
        "id": "uMCNkIeK7hiH"
      }
    },
    {
      "cell_type": "markdown",
      "source": [
        "Una vez cargados los datos en un DataFrame, es fundamental realizar una exploración inicial para comprender su estructura y calidad de los datos usando el método info(), este nos proporciona una vista general de los datos para ver información clave sobre la estructura de los datos."
      ],
      "metadata": {
        "id": "jGQirmMm8dCc"
      }
    },
    {
      "cell_type": "code",
      "source": [
        "coffee_sales.info()"
      ],
      "metadata": {
        "id": "xvlh06l2ZeBs"
      },
      "execution_count": null,
      "outputs": []
    },
    {
      "cell_type": "markdown",
      "source": [
        "Podemos ver que los datos están organizados por un identificador de transacción, el cual está acompañado de información importante como la fecha de la transacción, la cantidad vendida, la ubicación de la tienda y características del producto, como su precio unitario, categoría y tipo.\n",
        "Además de estos detalles, se cuenta con un total de 149,116 filas, y lo más relevante es que ninguna de ellas contiene datos nulos. Un aspecto adicional a destacar es que la fecha y la hora de la transacción están separadas en columnas distintas.\n",
        "\n"
      ],
      "metadata": {
        "id": "QvHNDEzp8xFT"
      }
    },
    {
      "cell_type": "markdown",
      "source": [
        "### Transformación de las columnas de fecha y hora\n",
        "\n",
        "Dado que la fecha y la hora de la transacción se encuentran separadas en columnas distintas (`transaction_date` y `transaction_time`), el objetivo de este paso es combinarlas en una sola columna con un formato de timestamp (fecha y hora) para facilitar el análisis temporal."
      ],
      "metadata": {
        "id": "NP5CREAJ-BI4"
      }
    },
    {
      "cell_type": "code",
      "source": [
        "# Se concadenan las columnas 'transaction_date' y 'transaction_time' en una sola columna llamada 'transaction_timestamp'\n",
        "# Primero, se convierte ambas columnas a tipo cadena (str) y se unen con un espacio en medio\n",
        "coffee_sales[\"transaction_timestamp\"] = coffee_sales[\"transaction_date\"].astype(str) + ' ' + coffee_sales[\"transaction_time\"].astype(str)\n",
        "\n",
        "# Se convierte la columna nueva 'transaction_timestamp' a tipo datetime para facilitar el análisis temporal\n",
        "coffee_sales[\"transaction_timestamp\"] = pd.to_datetime(coffee_sales[\"transaction_timestamp\"])\n",
        "\n",
        "# Se eliminan las columnas originales 'transaction_date' y 'transaction_time'\n",
        "coffee_sales.drop([\"transaction_date\", \"transaction_time\"], axis=1, inplace=True)"
      ],
      "metadata": {
        "id": "x8U7gI7xZmjm"
      },
      "execution_count": null,
      "outputs": []
    },
    {
      "cell_type": "markdown",
      "source": [
        "Para verificar que la nueva columna es correcta, podemos comprobar los datos mostrando las primeras filas y asegurándonos de que la columna transaction_timestamp contiene el formato datetime esperado.\n"
      ],
      "metadata": {
        "id": "cM3yhkk7-ps_"
      }
    },
    {
      "cell_type": "code",
      "source": [
        "coffee_sales[\"transaction_timestamp\"].head()"
      ],
      "metadata": {
        "id": "ACszNvc6GVFG"
      },
      "execution_count": null,
      "outputs": []
    },
    {
      "cell_type": "markdown",
      "source": [
        "### Verificación de duplicados en las transacciones\n",
        "\n",
        "Para asegurarnos de que cada transacción es única, se compara el número de registros originales del conjunto de datos con el número de identificadores únicos en la columna `transaction_id`. Si ambos valores son iguales, significa que no hay transacciones duplicadas; de lo contrario, existen registros repetidos en los datos.\n",
        "\n"
      ],
      "metadata": {
        "id": "owEzTHSYfuA9"
      }
    },
    {
      "cell_type": "code",
      "source": [
        "# Eliminar valores duplicados en la columna 'transaction_id' y contar cuántos identificadores únicos existen\n",
        "unique_transactions = coffee_sales[\"transaction_id\"].drop_duplicates().shape[0]\n",
        "\n",
        "# Contar el número total de filas en el DataFrame original\n",
        "total_transactions = coffee_sales.shape[0]\n",
        "\n",
        "# Comparar si el número de identificadores únicos es igual al número total de filas en el DataFrame\n",
        "# Si es True, significa que cada transacción tiene un identificador único y no hay duplicados\n",
        "# Si es False, significa que existen transacciones con el mismo 'transaction_id' más de una vez\n",
        "unique_transactions == total_transactions"
      ],
      "metadata": {
        "id": "-jRF7-6lIIz5"
      },
      "execution_count": null,
      "outputs": []
    },
    {
      "cell_type": "markdown",
      "source": [
        "### Verificación de las ubicaciones de las tiendas\n",
        "\n",
        "Para analizar la distribución de las transacciones por tienda, el siguiente código cuenta la frecuencia de ocurrencia de cada combinación única de `store_location` y `store_id`. Esto permite identificar cuántas transacciones se realizaron en cada tienda y detectar posibles inconsistencias en los datos, como tiendas con múltiples identificadores o ubicaciones duplicadas."
      ],
      "metadata": {
        "id": "EHK5CkOHi7FJ"
      }
    },
    {
      "cell_type": "code",
      "source": [
        "# Contar la frecuencia de combinaciones únicas de 'store_location' y 'store_id'\n",
        "coffee_sales[[\"store_location\", \"store_id\"]].value_counts()\n"
      ],
      "metadata": {
        "id": "tH8LEcm3Jwie"
      },
      "execution_count": null,
      "outputs": []
    },
    {
      "cell_type": "markdown",
      "source": [
        "El resultado muestra el número de transacciones registradas en cada combinación de `store_location` y `store_id`. Por ejemplo, la tienda en *Hell’s Kitchen* con el ID **8** tuvo **50,735** transacciones, mientras que la ubicada en *Astoria* con el ID **3** registró **50,599** ventas. De manera similar, la tienda en *Lower Manhattan* con el ID **5** acumuló **47,782** transacciones."
      ],
      "metadata": {
        "id": "SaQjCkGuqs4R"
      }
    },
    {
      "cell_type": "markdown",
      "source": [
        "### Normalización de valores en los detalles de los productos\n",
        "\n",
        "Para verificar que el conjunto de datos no tenga incosistencias en la columna `product_detail`, como pueden ser las variaciones en las mayúsculas o minúsculas, espacios adicionales en medio de las oraciones, al principio o final de estas.\n",
        "\n",
        "Para lograr esto, se va a comparar el tamaño del dataset filtrado por valores únicos antes y después de una normalización de los datos eliminando los espacios extras, asi como convirtiendo el texto a minúsculas."
      ],
      "metadata": {
        "id": "3oQLYds388bz"
      }
    },
    {
      "cell_type": "code",
      "source": [
        "# Imprimir el número de valores únicos antes de la validación\n",
        "print(f\"Numero de valores antes de la validación: {coffee_sales['product_detail'].value_counts().shape[0]}\")\n",
        "\n",
        "# Imprimir el número de valores únicos después de aplicar la validación (normalización de espacios, minúsculas y strip)\n",
        "print(\"Numero de valores después de la validación: \",\n",
        "      coffee_sales['product_detail'].str.replace(r'\\s+', ' ', regex=True).str.lower().str.strip().value_counts().shape[0])\n",
        "\n"
      ],
      "metadata": {
        "id": "ChtPH2goL8qS"
      },
      "execution_count": null,
      "outputs": []
    },
    {
      "cell_type": "markdown",
      "source": [
        "Como la cantidad de valores únicos se mantuvo igual antes y después de la normalización, podemos concluir que estos datos no requieren correcciones.\n",
        "\n"
      ],
      "metadata": {
        "id": "MgXPgN9U-3Lv"
      }
    },
    {
      "cell_type": "markdown",
      "source": [
        "### Revisar si no hay valores extremos en los precios unitarios\n",
        "\n",
        "Para poder revisar si hay valores extremos en los precios unitarios, se ejecutara un codigo que nos permita generar un gráfico de caja para poder ver visualmente la distribución de los valores. Este gráfico nos ayudará a identificar los valores extremos que puedan existir fuera del rango intercuartílico (IQR)."
      ],
      "metadata": {
        "id": "zn10SgkpFFk5"
      }
    },
    {
      "cell_type": "code",
      "source": [
        "#Se genera el gráfico con la columna unit_price\n",
        "sns.boxplot(coffee_sales[\"unit_price\"], fill=False)\n",
        "plt.title(\"Distribución de los precios unitarios\")\n",
        "plt.xlabel(\"Precio unitario\")\n",
        "plt.ylabel(\"Frecuencia\")\n",
        "#se llama show() para mostrar el gráfico\n",
        "plt.show()"
      ],
      "metadata": {
        "id": "KHGlEDk7MJPf"
      },
      "execution_count": null,
      "outputs": []
    },
    {
      "cell_type": "markdown",
      "source": [
        "Podemos ver en el gráfico precios que sobrepasan los $25 doláres, para investigarlo vamos a ejecutar el siguente código."
      ],
      "metadata": {
        "id": "Sa9lmSPdGmEC"
      }
    },
    {
      "cell_type": "code",
      "source": [
        "# Filtrar los productos cuyo precio unitario es mayor o igual a 25 doláres y agrupar por cantidad.\n",
        "coffee_sales[coffee_sales[\"unit_price\"]>=25][\"product_type\"].value_counts()"
      ],
      "metadata": {
        "id": "mtVkBQZoG1Et"
      },
      "execution_count": null,
      "outputs": []
    },
    {
      "cell_type": "code",
      "source": [
        "# Filtrar los productos cuyo precio unitario es mayor o igual a 25 y cuyo tipo de producto es \"Clothing\"\n",
        "# Y  obtener los valores únicos\n",
        "coffee_sales[(coffee_sales[\"unit_price\"]>=25)&(coffee_sales[\"product_type\"]== \"Clothing\")][\"product_detail\"].unique()"
      ],
      "metadata": {
        "id": "fpZ84plKHuc7"
      },
      "execution_count": null,
      "outputs": []
    },
    {
      "cell_type": "markdown",
      "source": [
        "Podemos ver que estos productos con precios altos son bolsas de granos de café premium y orgánicos, así como piezas de ropa con el branding de la tienda.\n",
        "\n",
        "Para el siguiente paso se van a investigar los precios mínimos de la tienda."
      ],
      "metadata": {
        "id": "IMrYYZYJG_Bd"
      }
    },
    {
      "cell_type": "code",
      "source": [
        "# Obtener el valor mínimo del precio unitario en la columna \"unit_price\"\n",
        "coffee_sales[\"unit_price\"].min()"
      ],
      "metadata": {
        "id": "jaHO-JmjL_p-"
      },
      "execution_count": null,
      "outputs": []
    },
    {
      "cell_type": "markdown",
      "source": [
        "Podemos ver un precio mínimo de $0.8 doláres, para ver a que categoría y tipo de producto, se va a ejecutar el siguiente código."
      ],
      "metadata": {
        "id": "6-PMO5E5MGiD"
      }
    },
    {
      "cell_type": "code",
      "source": [
        "# Se van a filtrar los productos cuyo precio unitario es exactamente 0.8\n",
        "# y se van a contar la cantidad de productos en cada categoría.\n",
        "coffee_sales[coffee_sales[\"unit_price\"]==0.8][\"product_category\"].value_counts()"
      ],
      "metadata": {
        "id": "tveJWjJpMCCF"
      },
      "execution_count": null,
      "outputs": []
    },
    {
      "cell_type": "code",
      "source": [
        "# Filtrar los productos cuyo precio unitario es 0.8 y cuya categoría de producto es \"Flavours\" y contar por categoria\n",
        "coffee_sales[\n",
        "    (coffee_sales[\"unit_price\"]==0.8)\n",
        "    &\n",
        "    (coffee_sales[\"product_category\"]== \"Flavours\")\n",
        "    ][\"product_type\"].value_counts()"
      ],
      "metadata": {
        "id": "W3L0Xn0zMsUb"
      },
      "execution_count": null,
      "outputs": []
    },
    {
      "cell_type": "markdown",
      "source": [
        "Como podemos ver, los jarabes son los productos con el precio mínimo en la tienda con un costo de $0.8 doláres."
      ],
      "metadata": {
        "id": "dGiQ-ve4Nksz"
      }
    },
    {
      "cell_type": "markdown",
      "source": [
        "### Exploración visual de las categorías del conjunto de datos"
      ],
      "metadata": {
        "id": "6tYjdeDLVP_8"
      }
    },
    {
      "cell_type": "markdown",
      "source": [
        "#### Categorías"
      ],
      "metadata": {
        "id": "txH-cKnIVV7F"
      }
    },
    {
      "cell_type": "code",
      "source": [
        "# Contar la cantidad de productos en cada categoría y reiniciar el índice para estructurarlo en un DataFrame\n",
        "product_category_count = coffee_sales[\"product_category\"].value_counts().reset_index()\n",
        "\n",
        "# Crear un gráfico de barras con Seaborn\n",
        "ax = sns.barplot(\n",
        "    x=product_category_count[\"product_category\"],  # Categoría de producto en el eje X\n",
        "    y=product_category_count[\"count\"],  # Frecuencia en el eje Y\n",
        "    hue=product_category_count[\"product_category\"],  # Colorear por categoría\n",
        ")\n",
        "\n",
        "# Agregar etiquetas numéricas encima de cada barra para visualizar mejor los valores\n",
        "for i, value in enumerate(product_category_count[\"count\"]):\n",
        "    ax.text(i, value + 0.5, str(value), ha=\"center\", fontsize=10, fontweight=\"bold\")\n",
        "\n",
        "# Agregar título y etiquetas a los ejes\n",
        "plt.title(\"Distribución de las categorías de productos\")\n",
        "plt.xlabel(\"Categoría de producto\")\n",
        "plt.ylabel(\"Frecuencia\")\n",
        "\n",
        "# Rotar las etiquetas del eje X para mejor visibilidad\n",
        "plt.xticks(rotation=45)\n",
        "\n",
        "# Mostrar el gráfico\n",
        "plt.show()"
      ],
      "metadata": {
        "id": "DKbtrb8tRlA0"
      },
      "execution_count": null,
      "outputs": []
    },
    {
      "cell_type": "markdown",
      "source": [
        "Para poder interpretrar la distribución y los porcentajes correspondientes, se declará una función que nos permita calcular los porcentajes del total de las ventas acomuladas."
      ],
      "metadata": {
        "id": "sAeEJFaYnPqc"
      }
    },
    {
      "cell_type": "code",
      "source": [
        "def percentage_category(category, df, column, total):\n",
        "    \"\"\"\n",
        "    Calcula el porcentaje de una categoría específica dentro de un DataFrame de Pandas.\n",
        "\n",
        "    Args:\n",
        "        category: El valor a buscar en la columna especificada.\n",
        "        df: El DataFrame de Pandas en el que se buscará.\n",
        "        column: El nombre de la columna en la que se buscará.\n",
        "        total: El valor total contra el que se calculará el porcentaje.\n",
        "\n",
        "    Returns:\n",
        "        El porcentaje de la categoría redondeado a 2 decimales, o un mensaje de error\n",
        "        si el DataFrame no es válido o no ha sido procesado.\n",
        "    \"\"\"\n",
        "    try:\n",
        "        value = df[df[column] == category][\"count\"].values[0]\n",
        "        return round((value / total) * 100, 2)\n",
        "    except:\n",
        "        return \"dataframe no válido o no procesado\""
      ],
      "metadata": {
        "id": "Du-katk4kpqg"
      },
      "execution_count": null,
      "outputs": []
    },
    {
      "cell_type": "code",
      "source": [
        "# Definir una lista con las categorías de productos a analizar\n",
        "product_category = [\n",
        "    \"Bakery\",              # Productos horneados\n",
        "    \"Packaged Chocolate\",  # Chocolates empaquetados\n",
        "    \"Coffee\",              # Café\n",
        "    \"Tea\",                 # Té\n",
        "    \"Branded\"              # Productos de marca\n",
        "]\n",
        "\n",
        "# Calcular el total de productos en todas las categorías sumando las frecuencias\n",
        "total_categories = product_category_count.sum().values[1]"
      ],
      "metadata": {
        "id": "mu1TSTRnlhBk"
      },
      "execution_count": null,
      "outputs": []
    },
    {
      "cell_type": "code",
      "source": [
        "# Iterar sobre cada categoría de producto en la lista product_category\n",
        "for cat in product_category:\n",
        "    # Calcular el porcentaje de ventas de la categoría actual y mostrar el resultado\n",
        "    print(f\"{cat}: {percentage_category(cat, product_category_count, 'product_category', total_categories)} % del total de las ventas\")\n"
      ],
      "metadata": {
        "id": "qxQIi2xtld_2"
      },
      "execution_count": null,
      "outputs": []
    },
    {
      "cell_type": "markdown",
      "source": [
        "Este gráfico nos muestra la distribución de las ventas de la cafetería por categoría de producto, podemos ver que los productos de las categorías *Coffee y Tea* dominan en las ventas totales, lo cuál nos indica que estos productos son los productos favoritos de los clientes, siendo el café casi dos quintas partes del total de las ventas, teniendo un dato especifico del 39.17% de las ventas totales, y el té tiene un 30.48% de las ventas correspondientes. Los productos horneados se encuentran en tercer lugar, siendo un 15.29% de las ventas totales, lo cuál a pesar de ser una categoría secundaria, representan una parte importante de los ingresos.\n",
        "\n",
        "\n",
        "En los productos con menos ventas, podemos ver que los chocolates enpaquetados represetan apenas un 0.33% del total de las ventas, seguidos de los productos con el logo de la tienda con el 0.5% de las ventas acomuladas."
      ],
      "metadata": {
        "id": "-_M2M5rMcPuS"
      }
    },
    {
      "cell_type": "markdown",
      "source": [
        "#### Tipos"
      ],
      "metadata": {
        "id": "MVqsZKWJcDWz"
      }
    },
    {
      "cell_type": "markdown",
      "source": [
        "Para analizar el tipo de producto, primero se va a tener que comprobar el tamaño del conjunto de tipos de productos únicos."
      ],
      "metadata": {
        "id": "d1z9GlFV0NLY"
      }
    },
    {
      "cell_type": "code",
      "source": [
        "# Calcular el número total de tipos de productos únicos en el conjunto de datos\n",
        "len(coffee_sales[\"product_type\"].unique())"
      ],
      "metadata": {
        "id": "YQxMDp6Zwp1R"
      },
      "execution_count": null,
      "outputs": []
    },
    {
      "cell_type": "markdown",
      "source": [
        "Considerando el tamaño del conjunto de los datos, se explorá los productos de tienda graficando los 5 productos más vendidos y los 5 menos vendidos."
      ],
      "metadata": {
        "id": "kYZqCS2V0y53"
      }
    },
    {
      "cell_type": "code",
      "source": [
        "# Contar la cantidad de productos en cada Tipo y reiniciar el índice para estructurarlo en un DataFrame\n",
        "product_type_count_top5 = coffee_sales[\"product_type\"].value_counts().reset_index().head()\n",
        "\n",
        "# Crear un gráfico de barras con Seaborn\n",
        "ax = sns.barplot(\n",
        "    x=product_type_count_top5[\"product_type\"],  # Tipo de producto en el eje X\n",
        "    y=product_type_count_top5[\"count\"],  # Frecuencia en el eje Y\n",
        "    hue=product_type_count_top5[\"product_type\"],  # Colorear por Tipo\n",
        ")\n",
        "\n",
        "# Agregar etiquetas numéricas encima de cada barra para visualizar mejor los valores\n",
        "for i, value in enumerate(product_type_count_top5[\"count\"]):\n",
        "    ax.text(i, value + 0.5, str(value), ha=\"center\", fontsize=10, fontweight=\"bold\")\n",
        "\n",
        "# Agregar título y etiquetas a los ejes\n",
        "plt.title(\"Distribución de los 5 tipos de productos más vendidos\")\n",
        "plt.xlabel(\"Tipo de producto\")\n",
        "plt.ylabel(\"Frecuencia\")\n",
        "\n",
        "# Rotar las etiquetas del eje X para mejor visibilidad\n",
        "plt.xticks(rotation=45)\n",
        "\n",
        "# Mostrar el gráfico\n",
        "plt.show()"
      ],
      "metadata": {
        "id": "Wy4KZxucVT1e"
      },
      "execution_count": null,
      "outputs": []
    },
    {
      "cell_type": "markdown",
      "source": [
        "Este gráfico reafirma las categorías más vendidas de café y té, pues dentro de los 5 productos más vendidos en la cafetería podemos ver que 2 de ellos corresponden a variantes de café y 3 de ellos corresponden a variantes de té, respectivamente, y mostrando una preferencia del chocolate caliente para una gran parte de las ventas."
      ],
      "metadata": {
        "id": "3NaIiEc936Xz"
      }
    },
    {
      "cell_type": "code",
      "source": [
        "# Contar la cantidad de productos en cada Tipo y reiniciar el índice para estructurarlo en un DataFrame\n",
        "product_type_count_bottom5 = coffee_sales[\"product_type\"].value_counts().reset_index().tail()\n",
        "\n",
        "# Crear un gráfico de barras con Seaborn\n",
        "ax = sns.barplot(\n",
        "    x=product_type_count_bottom5[\"product_type\"],  # Tipo de producto en el eje X\n",
        "    y=product_type_count_bottom5[\"count\"],  # Frecuencia en el eje Y\n",
        "    hue=product_type_count_bottom5[\"product_type\"],  # Colorear por Tipo\n",
        ")\n",
        "\n",
        "# Agregar etiquetas numéricas encima de cada barra para visualizar mejor los valores\n",
        "for i, value in enumerate(product_type_count_bottom5[\"count\"]):\n",
        "    ax.text(i, value + 0.5, str(value), ha=\"center\", fontsize=10, fontweight=\"bold\")\n",
        "\n",
        "# Agregar título y etiquetas a los ejes\n",
        "plt.title(\"Distribución de los 5 tipos de productos menos vendidos\")\n",
        "plt.xlabel(\"Tipo de producto\")\n",
        "plt.ylabel(\"Frecuencia\")\n",
        "\n",
        "# Rotar las etiquetas del eje X para mejor visibilidad\n",
        "plt.xticks(rotation=45)\n",
        "\n",
        "# Mostrar el gráfico\n",
        "plt.show()"
      ],
      "metadata": {
        "id": "g5PWQa0Qe5qq"
      },
      "execution_count": null,
      "outputs": []
    },
    {
      "cell_type": "markdown",
      "source": [
        "En este gráfico podemos ver la distribución de los 5 productos menos vendidos en la tienda, al notar que dos tipos de granos (\"House blend Beans y \"Green Beans\"), así como el té verde, conforman una categoría diferente a las menos vendidas, podríamos analizar si su baja demanda se debe a una estrategia de nicho, precios elevados o simplemente a una menor preferencia de los clientes.\n",
        "\n",
        "Con la presencia del chocolate y de los productos de marca de la cafetería, da pie a un posterior analisis para identificar los factores que hacen que estos productos tengan unas ventas bajas y si es posible, encontrar un área de mejora.\n"
      ],
      "metadata": {
        "id": "zIxU80mof0pk"
      }
    },
    {
      "cell_type": "markdown",
      "source": [
        "### Exploración de las ventas temporales\n"
      ],
      "metadata": {
        "id": "REhZ0wqp0yZ3"
      }
    },
    {
      "cell_type": "markdown",
      "source": [
        "#### Ventas Mensuales por sucursal"
      ],
      "metadata": {
        "id": "MdnIU0-QHN1f"
      }
    },
    {
      "cell_type": "markdown",
      "source": [
        "Para explorar los datos de forma visual a través del tiempo, se necesita primero agruparlos para obtener las ventas por mes, hora, día y semana, en este primer paso se va a explorar las ventas por surcusal."
      ],
      "metadata": {
        "id": "m91AN6gwHWtv"
      }
    },
    {
      "cell_type": "code",
      "source": [
        "# Define the columns to be used in the analysis\n",
        "columnas = ['transaction_timestamp', 'product_category', 'store_location']\n",
        "\n",
        "# ----------------------------------------------\n",
        "# Análisis de ventas por sucursal y mes\n",
        "# ----------------------------------------------\n",
        "ventas_por_sucursal_mensuales = (\n",
        "    coffee_sales[columnas]  # Seleccionar solo las columnas relevantes\n",
        "    .assign(\n",
        "        # Extraer el mes y año de la fecha de transacción en formato \"MM YYYY\"\n",
        "        month=lambda x: x['transaction_timestamp'].dt.strftime('%m %Y')\n",
        "    )\n",
        "    # Agrupar los datos por ubicación de la tienda y mes\n",
        "    .groupby(['store_location', 'month'])\n",
        "    .size()  # Contar el número de transacciones en cada grupo\n",
        "    .reset_index(name='count')  # Convertir el resultado en un DataFrame con una columna llamada 'count'\n",
        ")\n",
        "\n",
        "# ----------------------------------------------\n",
        "# Análisis de ventas por sucursal y día de la semana\n",
        "# ----------------------------------------------\n",
        "ventas_por_sucursal_diarias = (\n",
        "    coffee_sales[columnas]  # Seleccionar solo las columnas relevantes\n",
        "    .assign(\n",
        "        # Extraer el día de la semana en formato completo (ejemplo: \"Monday\", \"Tuesday\", etc.)\n",
        "        day=lambda x: x['transaction_timestamp'].dt.strftime('%A')\n",
        "    )\n",
        "    # Agrupar los datos por ubicación de la tienda y día de la semana\n",
        "    .groupby(['store_location', 'day'])\n",
        "    .size()  # Contar el número de transacciones en cada grupo\n",
        "    .reset_index(name='count')  # Convertir el resultado en un DataFrame con una columna llamada 'count'\n",
        ")\n",
        "\n",
        "# ----------------------------------------------\n",
        "# Análisis de ventas por sucursal y hora del día\n",
        "# ----------------------------------------------\n",
        "ventas_por_sucursal_por_hora = (\n",
        "    coffee_sales[columnas]  # Seleccionar solo las columnas relevantes\n",
        "    .assign(\n",
        "        # Extraer la hora de la transacción en formato de 24 horas (ejemplo: \"08\", \"15\", \"23\")\n",
        "        hour=lambda x: x['transaction_timestamp'].dt.strftime('%H')\n",
        "    )\n",
        "    # Agrupar los datos por ubicación de la tienda y hora del día\n",
        "    .groupby(['store_location', 'hour'])\n",
        "    .size()  # Contar el número de transacciones en cada grupo\n",
        "    .reset_index(name='count')  # Convertir el resultado en un DataFrame con una columna llamada 'count'\n",
        ")\n",
        "\n",
        "# ----------------------------------------------\n",
        "# Análisis de ventas por sucursal y semana\n",
        "# ----------------------------------------------\n",
        "\n",
        "\n",
        "ventas_por_sucursal_por_semana = (\n",
        "    coffee_sales[columnas]  # Seleccionar solo las columnas relevantes\n",
        "    .assign(\n",
        "        # Extraer la hora de la transacción en formato de número de semana\n",
        "        week=lambda x: x['transaction_timestamp'].dt.strftime('%W')\n",
        "    )\n",
        "    # Agrupar los datos por ubicación de la tienda y semana\n",
        "    .groupby(['store_location', 'week'])\n",
        "    .size()  # Contar el número de transacciones en cada grupo\n",
        "    .reset_index(name='count')  # Convertir el resultado en un DataFrame con una columna llamada 'count'\n",
        ")"
      ],
      "metadata": {
        "id": "by8z1RgWVwbC"
      },
      "execution_count": null,
      "outputs": []
    },
    {
      "cell_type": "code",
      "source": [
        "# Crear un gráfico de líneas para visualizar las ventas mensuales por sucursal\n",
        "sns.lineplot(\n",
        "    x=ventas_por_sucursal_mensuales[\"month\"],  # Eje X: Meses\n",
        "    y=ventas_por_sucursal_mensuales[\"count\"],  # Eje Y: Número de ventas\n",
        "    hue=ventas_por_sucursal_mensuales[\"store_location\"]  # Diferenciar por ubicación de la tienda\n",
        ")\n",
        "\n",
        "\n",
        "# Etiquetas de los ejes y título del gráfico\n",
        "plt.xlabel(\"Mes\")  # Etiqueta del eje X\n",
        "plt.ylabel(\"Ventas\")  # Etiqueta del eje Y\n",
        "plt.legend(title = \"Ubicación de la tienda\") #Titulo de la leyenda\n",
        "plt.title(\"Ventas mensuales por sucursal\")  # Título del gráfico\n",
        "\n",
        "# Mostrar el gráfico\n",
        "plt.show()\n"
      ],
      "metadata": {
        "id": "C2EUbg-DrLRY"
      },
      "execution_count": null,
      "outputs": []
    },
    {
      "cell_type": "markdown",
      "source": [
        "El gráfico nos muestra la tendencia de las ventas durante la primera mitad del año 2023, podemos ver que el año empezó con una tendencia a la baja que al terminar febrero, comenzó a ir a la alta hasta el mes de corte de los datos. Podemos ver que la surcusal de *Astoria* y *Hell's Kitchen* tienen tendencias similares de ventas, con Lower Manhattan teniendo una diferencia pequeña de ventas."
      ],
      "metadata": {
        "id": "juYjnrGP1AXV"
      }
    },
    {
      "cell_type": "markdown",
      "source": [
        "#### Ventas por día de la semana"
      ],
      "metadata": {
        "id": "nF5HMQZxgFuO"
      }
    },
    {
      "cell_type": "code",
      "source": [
        "# Se ordena los valores de las ventas por sucursal diarias por número de ventas en forma ascedente\n",
        "ventas_por_sucursal_diarias = ventas_por_sucursal_diarias.sort_values(by=\"count\")\n",
        "# Crear un gráfico de líneas para visualizar las ventas por día y sucursal\n",
        "sns.lineplot(\n",
        "    x=ventas_por_sucursal_diarias[\"day\"],  # Eje X: Día\n",
        "    y=ventas_por_sucursal_diarias[\"count\"],  # Eje Y: Número de ventas\n",
        "    hue=ventas_por_sucursal_diarias[\"store_location\"]  # Diferenciar por ubicación de la tienda\n",
        ")\n",
        "\n",
        "\n",
        "# Etiquetas de los ejes y título del gráfico\n",
        "plt.xlabel(\"Día\")  # Etiqueta del eje X\n",
        "plt.ylabel(\"Ventas\")  # Etiqueta del eje Y\n",
        "plt.legend(title = \"Ubicación de la tienda\") #Titulo de la leyenda\n",
        "plt.title(\"Ventas por día y sucursal\")  # Título del gráfico\n",
        "\n",
        "# Mostrar el gráfico\n",
        "plt.show()"
      ],
      "metadata": {
        "id": "WLinocfFgFdC"
      },
      "execution_count": null,
      "outputs": []
    },
    {
      "cell_type": "markdown",
      "source": [
        "####Ventas por hora del día"
      ],
      "metadata": {
        "id": "bXrezHDonH-V"
      }
    },
    {
      "cell_type": "code",
      "source": [
        "# Se ordena los valores de las ventas por sucursal por número de ventas y hora  en forma ascedente\n",
        "ventas_por_sucursal_por_hora = ventas_por_sucursal_por_hora.sort_values(by=\"hour\")\n",
        "# Crear un gráfico de líneas para visualizar las ventas por hora y sucursal\n",
        "sns.lineplot(\n",
        "    x=ventas_por_sucursal_por_hora[\"hour\"],  # Eje X: hora\n",
        "    y=ventas_por_sucursal_por_hora[\"count\"],  # Eje Y: Número de ventas\n",
        "    hue=ventas_por_sucursal_por_hora[\"store_location\"]  # Diferenciar por ubicación de la tienda\n",
        ")\n",
        "\n",
        "\n",
        "# Etiquetas de los ejes y título del gráfico\n",
        "plt.xlabel(\"Hora\")  # Etiqueta del eje X\n",
        "plt.ylabel(\"Ventas\")  # Etiqueta del eje Y\n",
        "plt.legend(title = \"Ubicación de la tienda\") #Titulo de la leyenda\n",
        "plt.title(\"Ventas por hora y sucursal\")  # Título del gráfico\n",
        "\n",
        "# Mostrar el gráfico\n",
        "plt.show()"
      ],
      "metadata": {
        "id": "WKFEfXqzoB7m"
      },
      "execution_count": null,
      "outputs": []
    },
    {
      "cell_type": "markdown",
      "source": [
        "####Ventas por semana del año"
      ],
      "metadata": {
        "id": "5sqFIhmmnQay"
      }
    },
    {
      "cell_type": "code",
      "source": [
        "# Se ordena los valores de las ventas por sucursal semanales por número de ventas en forma ascedente\n",
        "ventas_por_sucursal_por_semana = ventas_por_sucursal_por_semana.sort_values(by=\"week\")\n",
        "# Crear un gráfico de líneas para visualizar las ventas por hora y sucursal\n",
        "sns.lineplot(\n",
        "    x=ventas_por_sucursal_por_semana[\"week\"],  # Eje X: Semana\n",
        "    y=ventas_por_sucursal_por_semana[\"count\"],  # Eje Y: Número de ventas\n",
        "    hue=ventas_por_sucursal_por_semana[\"store_location\"]  # Diferenciar por ubicación de la tienda\n",
        ")\n",
        "\n",
        "\n",
        "# Etiquetas de los ejes y título del gráfico\n",
        "plt.xlabel(\"Semana\")  # Etiqueta del eje X\n",
        "plt.ylabel(\"Ventas\")  # Etiqueta del eje Y\n",
        "plt.legend(title = \"Ubicación de la tienda\") #Titulo de la leyenda\n",
        "plt.title(\"Ventas semanales por sucursal\")  # Título del gráfico\n",
        "plt.xticks(rotation=45)\n",
        "\n",
        "# Mostrar el gráfico\n",
        "plt.show()"
      ],
      "metadata": {
        "id": "UZmsinhenuI0"
      },
      "execution_count": null,
      "outputs": []
    },
    {
      "cell_type": "markdown",
      "source": [
        "Con estas gráficas podemos confirmar que existe estacionalidad en los datos, observándose un mayor volumen de ventas los días jueves y viernes. Además, la mayor frecuencia de ventas se concentra entre las 7:00 a.m. y las 10:00 a.m., tras lo cual el volumen comienza a disminuir."
      ],
      "metadata": {
        "id": "muJuWaQxqkpj"
      }
    },
    {
      "cell_type": "markdown",
      "source": [
        "Teniendo en cuenta la estacionalidad de las ventas, procederemos a entrenar el modelo predictivo aplicando los ajustes necesarios."
      ],
      "metadata": {
        "id": "ecEWWKLBsAzX"
      }
    },
    {
      "cell_type": "markdown",
      "source": [
        "## 3. Entrenamiento del modelo"
      ],
      "metadata": {
        "id": "AHd8ZOI2sWZ4"
      }
    },
    {
      "cell_type": "markdown",
      "source": [
        "#### Preparación del Dataset"
      ],
      "metadata": {
        "id": "3GC1cMm4uqtI"
      }
    },
    {
      "cell_type": "markdown",
      "source": [
        "Para poder entrenar el modelo, procederemos a hacer una copia del DataFrame original, excluimos los sabores extra para evitar sesgar el modelo, así como filtraremos las columnas necesarias, que en este caso son la fecha de la venta y el precio unitario del producto y seperaremos por tienda."
      ],
      "metadata": {
        "id": "fCMi1vHTuzFZ"
      }
    },
    {
      "cell_type": "code",
      "source": [
        "coffee_sales = coffee_sales[coffee_sales['product_category'] != 'Flavours'] # Excluimos los sabores"
      ],
      "metadata": {
        "id": "WxTNU1JA8Ji0"
      },
      "execution_count": null,
      "outputs": []
    },
    {
      "cell_type": "code",
      "source": [
        "# Hacemos una copia del DataFrame original para no modificar los datos originales\n",
        "df_train_manhattan = coffee_sales.copy()\n",
        "df_train_hell_kitchen = coffee_sales.copy()\n",
        "df_train_astoria = coffee_sales.copy()\n",
        "# Filtramos solo las columnas necesarias: fecha de la venta y precio unitario\n",
        "df_train_manhattan = df_train_manhattan[df_train_manhattan['store_location'] == 'Lower Manhattan'][[\"transaction_timestamp\", \"unit_price\"]]\n",
        "df_train_hell_kitchen = df_train_hell_kitchen[df_train_hell_kitchen[\"store_location\"] == \"Hell's Kitchen\"][[\"transaction_timestamp\", \"unit_price\"]]\n",
        "df_train_astoria = df_train_astoria[df_train_astoria[\"store_location\"] =='Astoria' ][[\"transaction_timestamp\", \"unit_price\"]]\n",
        "# Renombramos las columnas para que sean compatibles con Prophet:\n",
        "df_train_manhattan.columns = ['ds', 'y']\n",
        "df_train_hell_kitchen.columns = ['ds', 'y']\n",
        "df_train_astoria.columns = ['ds', 'y']\n"
      ],
      "metadata": {
        "id": "uD-KgOxhuPvH"
      },
      "execution_count": null,
      "outputs": []
    },
    {
      "cell_type": "markdown",
      "source": [
        "#### Inicialización del modelo"
      ],
      "metadata": {
        "id": "ujh6y9Q1v_Vr"
      }
    },
    {
      "cell_type": "markdown",
      "source": [
        "Para poder encontrar el mejor ajuste del modelo, se crea una función para que itere sobre una lista de parametros para encontrar el mejor ajuste, posteriormente se hace una validación cruzada para obtener los resultados del rendimiento del modelo, usando el MAPE como valor clave."
      ],
      "metadata": {
        "id": "R815LJelUPBR"
      }
    },
    {
      "cell_type": "code",
      "source": [
        "def best_fit(df):\n",
        "    # Se define una grilla de parámetros para ajustar: escala del cambio de tendencia,\n",
        "    # escala de la estacionalidad y orden de Fourier para la estacionalidad semanal\n",
        "    param_grid = {\n",
        "        'changepoint_prior_scale': [0.001, 0.01, 0.1, 0.5],  # Controla la flexibilidad del modelo para ajustarse a cambios bruscos\n",
        "        'seasonality_prior_scale': [1, 5, 10],               # Controla la intensidad de las estacionalidades\n",
        "        'fourier_order': [3, 5, 7]                           # Número de términos de Fourier para capturar estacionalidad semanal\n",
        "    }\n",
        "\n",
        "    # Se generan 10 combinaciones aleatorias de los parámetros definidos arriba\n",
        "    param_combinations = [\n",
        "        {\n",
        "            'changepoint_prior_scale': random.choice(param_grid['changepoint_prior_scale']),\n",
        "            'seasonality_prior_scale': random.choice(param_grid['seasonality_prior_scale']),\n",
        "            'fourier_order': random.choice(param_grid['fourier_order'])\n",
        "        }\n",
        "        for _ in range(10)\n",
        "    ]\n",
        "\n",
        "    results = []  # Lista para almacenar los resultados de cada combinación\n",
        "\n",
        "    # Se evalúa cada combinación de parámetros\n",
        "    for params in param_combinations:\n",
        "        # Se crea un modelo Prophet con los parámetros seleccionados\n",
        "        model = Prophet(\n",
        "            changepoint_prior_scale=params['changepoint_prior_scale'],\n",
        "            seasonality_prior_scale=params['seasonality_prior_scale'],\n",
        "            weekly_seasonality=False  # Se desactiva la estacionalidad semanal por defecto\n",
        "        )\n",
        "\n",
        "        # Se agrega manualmente una estacionalidad semanal más fuerte\n",
        "        model.add_seasonality(\n",
        "            name='semanal_fuerte',\n",
        "            period=7,  # Estacionalidad de 7 días\n",
        "            fourier_order=params['fourier_order']\n",
        "        )\n",
        "\n",
        "        # Se entrena el modelo con los datos\n",
        "        model.fit(df)\n",
        "\n",
        "        # Se hace validación cruzada temporal:\n",
        "        # - periodo inicial de entrenamiento: 120 días\n",
        "        # - se hacen predicciones cada 15 días\n",
        "        # - horizonte de predicción: 30 días\n",
        "        df_cv = cross_validation(model, initial='120 days', period='15 days', horizon='30 days', parallel=\"processes\")\n",
        "\n",
        "        # Se calculan métricas de evaluación como MAPE\n",
        "        df_perf = performance_metrics(df_cv)\n",
        "\n",
        "        # Se toma el promedio de MAPE para esta combinación\n",
        "        mape = df_perf['mape'].mean()\n",
        "\n",
        "        # Se guarda la combinación y su MAPE asociado\n",
        "        results.append((params, mape))\n",
        "\n",
        "    # Se ordenan los resultados por MAPE de menor a mayor\n",
        "    results.sort(key=lambda x: x[1])\n",
        "\n",
        "    # Se imprime la mejor combinación y su MAPE\n",
        "    return(print(\"Mejor combinación:\", results[0][0], \"MAPE:\", results[0][1]))\n"
      ],
      "metadata": {
        "id": "T7pAQheg7u4e"
      },
      "execution_count": null,
      "outputs": []
    },
    {
      "cell_type": "markdown",
      "source": [
        "Se hace el llamado de ls función previamente definida para obtener los valores con mejor ajuste para el modelo dependiendo de las ventas de cada sucursal."
      ],
      "metadata": {
        "id": "-4l3_QFWVQM4"
      }
    },
    {
      "cell_type": "code",
      "source": [
        "best_fit(df_train_manhattan)"
      ],
      "metadata": {
        "id": "PEk-MjY4knkO",
        "collapsed": true
      },
      "execution_count": null,
      "outputs": []
    },
    {
      "cell_type": "markdown",
      "source": [
        "Para la sucursal en **Manhattan**, la mejor combinacion calculada es :   \n",
        "* *changepoint_prior_scale*: 0.01\n",
        "* *seasonality_prior_scale*: 10\n",
        "* *fourier_order*: 7\n",
        "\n",
        "Con un *MAPE* de 25.26%"
      ],
      "metadata": {
        "id": "MmeiKhHJbxjE"
      }
    },
    {
      "cell_type": "code",
      "source": [
        "best_fit(df_trainhell_kitchen)"
      ],
      "metadata": {
        "id": "mit_vDMJkncL",
        "collapsed": true
      },
      "execution_count": null,
      "outputs": []
    },
    {
      "cell_type": "markdown",
      "source": [
        "Para la sucursal en **Hell Kitchen**, la mejor combinacion calculada es :   \n",
        "* *changepoint_prior_scale*: 0.01\n",
        "* *seasonality_prior_scale*: 1\n",
        "* *fourier_order*: 7\n",
        "\n",
        "Con un *MAPE* de 26.51%\n"
      ],
      "metadata": {
        "id": "rStM5whUc1K7"
      }
    },
    {
      "cell_type": "code",
      "source": [
        "best_fit(df_train_astoria)"
      ],
      "metadata": {
        "id": "Ng8E2G6rfdyX",
        "collapsed": true
      },
      "execution_count": null,
      "outputs": []
    },
    {
      "cell_type": "markdown",
      "source": [
        "Para la sucursal en **Astoria**, la mejor combinacion calculada es :   \n",
        "* *changepoint_prior_scale*: 0.01\n",
        "* *seasonality_prior_scale*: 1\n",
        "* *fourier_order*: 3\n",
        "\n",
        "Con un *MAPE* de 22.93%"
      ],
      "metadata": {
        "id": "YFrobwfzdoTR"
      }
    },
    {
      "cell_type": "markdown",
      "source": [
        "Se incializa el modelo incluyendo la estacionalidad previamente observada."
      ],
      "metadata": {
        "id": "IGUOR-dZwDKB"
      }
    },
    {
      "cell_type": "code",
      "source": [
        "model_manhattan = Prophet(\n",
        "    changepoint_prior_scale=0.01,\n",
        "    seasonality_prior_scale= 10\n",
        "    daily_seasonality=True,\n",
        "    weekly_seasonality=False\n",
        ")\n",
        "\n",
        "model_manhattan.add_seasonality(\n",
        "    name='semanal_fuerte',\n",
        "    period=7,\n",
        "    fourier_order=7\n",
        ")\n",
        "\n",
        "model_manhattan.add_country_holidays(country_name='US')\n",
        "\n"
      ],
      "metadata": {
        "id": "CRG2yPKisAKT"
      },
      "execution_count": null,
      "outputs": []
    },
    {
      "cell_type": "code",
      "source": [
        "model_hell_kitchen = Prophet(\n",
        "    changepoint_prior_scale=0.01,\n",
        "    seasonality_prior_scale =1,\n",
        "    daily_seasonality=True,\n",
        "    weekly_seasonality=False\n",
        ")\n",
        "\n",
        "model_hell_kitchen.add_seasonality(\n",
        "    name='semanal_fuerte',\n",
        "    period=7,\n",
        "    fourier_order=7\n",
        ")\n",
        "\n",
        "model_hell_kitchen.add_country_holidays(country_name='US')\n"
      ],
      "metadata": {
        "id": "Kra2d90YuD4A"
      },
      "execution_count": null,
      "outputs": []
    },
    {
      "cell_type": "code",
      "source": [
        "model_astoria = Prophet(\n",
        "    changepoint_prior_scale=0.01,\n",
        "    daily_seasonality=True,\n",
        "    weekly_seasonality=False,\n",
        "    seasonality_prior_scale=1\n",
        ")\n",
        "\n",
        "model_astoria.add_seasonality(\n",
        "    name='semanal_fuerte',\n",
        "    period=7,\n",
        "    fourier_order=3\n",
        ")\n",
        "\n",
        "model_astoria.add_country_holidays(country_name='US')\n"
      ],
      "metadata": {
        "id": "LLT2FcUbuFmI"
      },
      "execution_count": null,
      "outputs": []
    },
    {
      "cell_type": "markdown",
      "source": [
        "El modelo es ajustado con el DataFrame previamente generado."
      ],
      "metadata": {
        "id": "AE6xCIMwy7tS"
      }
    },
    {
      "cell_type": "code",
      "source": [
        "model_manhattan.fit(df_train_manhattan)\n"
      ],
      "metadata": {
        "id": "Ih22DduQupJf"
      },
      "execution_count": null,
      "outputs": []
    },
    {
      "cell_type": "code",
      "source": [
        "model_hell_kitchen.fit(df_train_hell_kitchen)\n"
      ],
      "metadata": {
        "id": "ZxvFQNL-uKsd"
      },
      "execution_count": null,
      "outputs": []
    },
    {
      "cell_type": "code",
      "source": [
        "model_astoria.fit(df_train_astoria)"
      ],
      "metadata": {
        "id": "m1s9KzsuuLkA"
      },
      "execution_count": null,
      "outputs": []
    },
    {
      "cell_type": "markdown",
      "source": [
        "## Predicciones"
      ],
      "metadata": {
        "id": "LFWmcDfIhCCO"
      }
    },
    {
      "cell_type": "markdown",
      "source": [
        "Se inicializa la predicción para los próximos 30 días a partir de la última fecha del modelo para cada sucursal."
      ],
      "metadata": {
        "id": "Wx62Ws3kjZw8"
      }
    },
    {
      "cell_type": "code",
      "source": [
        "# Genera un DataFrame de fechas futuras a partir del final del conjunto de datos original.\n",
        "# 'periods=30' indica que se generarán 30 días adicionales.\n",
        "future_manhattan = model_manhattan.make_future_dataframe(periods=30)\n",
        "future_hell_kitchen = model_hell_kitchen.make_future_dataframe(periods=30)\n",
        "future_astoria = model_astoria.make_future_dataframe(periods=30)\n",
        "\n",
        "\n",
        "# Utiliza el modelo ya entrenado (model_manhattan) para hacer predicciones\n",
        "# sobre las fechas del DataFrame generado. El resultado es un DataFrame\n",
        "# con columnas como 'ds' (fecha), 'yhat' (predicción), 'yhat_lower' y 'yhat_upper' (intervalo de confianza).\n",
        "forecast_manhattan = model_manhattan.predict(future_manhattan)\n",
        "forecast_hell_kitchen = model_hell_kitchen.predict(future_hell_kitchen)\n",
        "forecast_astoria = model_astoria.predict(future_astoria)"
      ],
      "metadata": {
        "id": "cjxn3H3xfV9K"
      },
      "execution_count": null,
      "outputs": []
    },
    {
      "cell_type": "code",
      "source": [
        "# Itera sobre una lista de tuplas, donde cada tupla contiene un DataFrame de pronóstico y el nombre de una ubicación.\n",
        "for df, val in [\n",
        "  (forecast_manhattan, \" Lower Manhattan\"),\n",
        "  (forecast_hell_kitchen, \"Hell Kitchen\"),\n",
        "  (forecast_astoria, \"Astoria\")]:\n",
        "\n",
        "  # Selecciona solo las columnas 'ds' (fecha) y 'yhat' (valor pronosticado) del DataFrame y toma las últimas 30 filas.\n",
        "  df = df[['ds', 'yhat']].tail(30)\n",
        "\n",
        "  # Añade una nueva columna llamada 'Location' con el nombre de la ubicación correspondiente.\n",
        "  df['Location'] = val"
      ],
      "metadata": {
        "id": "sfz5PLnBhyld"
      },
      "execution_count": null,
      "outputs": []
    },
    {
      "cell_type": "code",
      "source": [
        "# Combina (concatena) los tres DataFrames de pronósticos en uno solo, apilándolos verticalmente.\n",
        "forescast_df = pd.concat([forecast_manhattan, forecast_hell_kitchen, forecast_astoria])\n"
      ],
      "metadata": {
        "id": "EhoZr_wil-0N"
      },
      "execution_count": null,
      "outputs": []
    },
    {
      "cell_type": "markdown",
      "source": [
        "## Importación a Base de datos PostgreSQL\n",
        "\n"
      ],
      "metadata": {
        "id": "BIc0MDBMrFjr"
      }
    },
    {
      "cell_type": "markdown",
      "source": [
        "Para establecer una conexión segura con la base de datos PostgreSQL, se utilizan variables de entorno para manejar las credenciales y parámetros de conexión, evitando así exponer información sensible en el código."
      ],
      "metadata": {
        "id": "n2lBR_g8PM4L"
      }
    },
    {
      "cell_type": "code",
      "source": [
        "\n",
        "# Carga las variables de entorno desde un archivo .env para obtener las credenciales de la base de datos.\n",
        "load_dotenv()\n",
        "USER = os.getenv(\"user\")\n",
        "PASSWORD = os.getenv(\"password\")\n",
        "HOST = os.getenv(\"host\")\n",
        "PORT = os.getenv(\"port\")\n",
        "DBNAME = os.getenv(\"dbname\")\n",
        "\n",
        "# Construye la URL de conexión a PostgreSQL usando el driver psycopg2, incluyendo SSL para mayor seguridad.\n",
        "DATABASE_URL = f\"postgresql+psycopg2://{USER}:{PASSWORD}@{HOST}:{PORT}/{DBNAME}?sslmode=require\"\n",
        "\n",
        "# Crea un motor de conexión con SQLAlchemy.\n",
        "engine = create_engine(DATABASE_URL)\n",
        "\n",
        "# Intenta conectar a la base de datos y reporta éxito o fallo con un mensaje.\n",
        "try:\n",
        "    with engine.connect() as connection:\n",
        "        print(\"Conexión exitosa\")\n",
        "except Exception as e:\n",
        "    print(f\"Fallo al conectar \\n error: {e}\")\n",
        "\n"
      ],
      "metadata": {
        "id": "ItUjJLhZrOWK"
      },
      "execution_count": null,
      "outputs": []
    },
    {
      "cell_type": "markdown",
      "source": [
        "Los DataFrames `forescast_df` y coffee_sales se exportan a la base de datos PostgreSQL usando el método `to_sql` de pandas. Cada DataFrame se guarda en una tabla específica (`'forescast'` y `'coffe_sales'` respectivamente)."
      ],
      "metadata": {
        "id": "RL9HrYdaPVfj"
      }
    },
    {
      "cell_type": "code",
      "source": [
        "# Exporta el DataFrame 'forescast_df' a la tabla 'forescast' en la base de datos.\n",
        "# Si la tabla existe, se reemplaza; no se incluye el índice como columna.\n",
        "forescast_df.to_sql('forescast', con=engine, if_exists='replace', index=False)\n",
        "\n",
        "# Exporta el DataFrame 'coffee_sales' a la tabla 'coffe_sales' en la base de datos.\n",
        "# También reemplaza la tabla si existe y no guarda el índice.\n",
        "coffee_sales.to_sql('coffe_sales', con=engine, if_exists='replace', index=False)\n"
      ],
      "metadata": {
        "id": "-5Y1F9Mg6-nC"
      },
      "execution_count": null,
      "outputs": []
    }
  ],
  "metadata": {
    "kernelspec": {
      "display_name": "base",
      "language": "python",
      "name": "python3"
    },
    "language_info": {
      "codemirror_mode": {
        "name": "ipython",
        "version": 3
      },
      "file_extension": ".py",
      "mimetype": "text/x-python",
      "name": "python",
      "nbconvert_exporter": "python",
      "pygments_lexer": "ipython3",
      "version": "3.12.4"
    },
    "colab": {
      "provenance": [],
      "toc_visible": true
    }
  },
  "nbformat": 4,
  "nbformat_minor": 0
}