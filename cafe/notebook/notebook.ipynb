{
  "cells": [
    {
      "cell_type": "markdown",
      "source": [
        "#English"
      ],
      "metadata": {
        "id": "rxFxZKHuZyCy"
      }
    },
    {
      "cell_type": "markdown",
      "metadata": {
        "id": "o_buk9ZOZHO9"
      },
      "source": [
        "## 1. Introduction\n",
        "\n"
      ]
    },
    {
      "cell_type": "markdown",
      "source": [
        "In this project, an Exploratory Data Analysis (EDA) and a time series-based sales prediction model were performed using a dataset available at this [link](https://www.kaggle.com/datasets/ahmedabbas757/coffee-sales) from Kaggle.\n",
        "\n",
        "The primary objective of this project is to understand historical sales patterns and develop a machine learning model capable of anticipating future behavior to provide valuable insights for decision-making.\n",
        "\n",
        "The workflow included the following key stages:\n",
        "\n",
        "1. **Data Extraction from Kaggle using an API**:\n",
        "    The Kagglehub API was used to extract the data correctly and ensure it remains updated if there are changes to the data source.\n",
        "\n",
        "2. **Exploratory Data Analysis (EDA)**:\n",
        "    Python and libraries such as pandas, matplotlib, and seaborn were utilized to clean and analyze the dataset, identify trends, seasonality, and key variables affecting sales, as well as to quickly visualize the data.\n",
        "\n",
        "3. **Predictive Modeling with Machine Learning**:\n",
        "    The Prophet forecasting model developed by Facebook was implemented to predict future sales, taking into account trends and seasonal events.\n",
        "\n",
        "4. **Visualization in Power BI**:\n",
        "    The data and results obtained were integrated into an interactive Power BI dashboard, enabling the communication of insights in a visual and intuitive manner.\n",
        "\n",
        "This project aims to demonstrate technical skills in data analysis, predictive modeling, and the creation of dynamic visualizations, as well as the ability to work with modern data science tools and business analytics. This approach is essential for extracting value from data and supporting evidence-based decision-making."
      ],
      "metadata": {
        "id": "InZ-XarAZU5W"
      }
    },
    {
      "cell_type": "markdown",
      "source": [
        "\n",
        "\n",
        "---\n",
        "\n"
      ],
      "metadata": {
        "id": "qPKXHbye7D9q"
      }
    },
    {
      "cell_type": "markdown",
      "source": [
        "## 2. Project Development\n",
        "\n",
        "This section will detail step by step the process followed to develop the sales analysis and prediction, from setting up the environment and preparing the data to implementing the model and the final visualization."
      ],
      "metadata": {
        "id": "VFs2bn9l5EmM"
      }
    },
    {
      "cell_type": "markdown",
      "source": [
        "### Importing Libraries\n",
        "\n",
        "The first step was to import the necessary libraries to carry out the analysis and modeling. Standard Python tools widely recognized in the data science community were used, along with data visualization tools, the Kagglehub library for data extraction, and Prophet for model development."
      ],
      "metadata": {
        "id": "v2U_uxdo5Z-d"
      }
    },
    {
      "cell_type": "code",
      "source": [
        "# Libraries for data manipulation, handling, and analysis\n",
        "import pandas as pd\n",
        "import numpy as np\n",
        "\n",
        "# Library for data extraction from Kaggle\n",
        "import kagglehub\n",
        "import os\n",
        "\n",
        "# Libraries for visualization\n",
        "import matplotlib.pyplot as plt\n",
        "import seaborn as sns\n",
        "\n",
        "# Libraries for the time series model\n",
        "from prophet import Prophet\n",
        "from prophet.diagnostics import performance_metrics, cross_validation\n",
        "\n",
        "import random\n",
        "\n",
        "\n",
        "# Library to connect to SQL databases\n",
        "from sqlalchemy import create_engine\n",
        "\n",
        "# Library to load environment variables from a .env file\n",
        "from dotenv import load_dotenv\n",
        "\n",
        "# Library to access the loaded environment variables\n",
        "import os\n",
        "\n",
        "# Handling warnings\n",
        "import warnings\n",
        "warnings.filterwarnings(\"ignore\")\n",
        "\n",
        "# Configuring the style of visualizations\n",
        "plt.style.use('seaborn-v0_8-dark')\n",
        "\n",
        "random.seed(24)"
      ],
      "metadata": {
        "id": "e4V9Nusg5m07"
      },
      "execution_count": 94,
      "outputs": []
    },
    {
      "cell_type": "markdown",
      "source": [
        "### Data Extraction\n",
        "\n",
        "To ensure the analysis is based on up-to-date information, the Kagglehub library was used to download the data directly from Kaggle. This approach enables a dynamic and flexible workflow, as the information can be easily synchronized if updates to the dataset occur."
      ],
      "metadata": {
        "id": "n7R7TW0W7TLK"
      }
    },
    {
      "cell_type": "code",
      "source": [
        "# The dataset is downloaded from Kaggle\n",
        "path = kagglehub.dataset_download(\"ahmedabbas757/coffee-sales\")\n",
        "\n",
        "# Name of the downloaded file\n",
        "file_name = \"Coffee Shop Sales.xlsx\"\n",
        "\n",
        "# The full file path is constructed\n",
        "file_path = os.path.join(path, file_name)\n",
        "\n",
        "# The file is loaded into a pandas DataFrame\n",
        "coffee_sales = pd.read_excel(file_path)"
      ],
      "metadata": {
        "id": "ytvrD6ZV7ahK"
      },
      "execution_count": 95,
      "outputs": []
    },
    {
      "cell_type": "markdown",
      "source": [
        "### Exploratory Data Analysis (EDA)"
      ],
      "metadata": {
        "id": "Az9dgvhQ7syO"
      }
    },
    {
      "cell_type": "markdown",
      "source": [
        "Once the data is loaded into a DataFrame, it is essential to perform an initial exploration to understand its structure and data quality. Using the info() method, we get an overview of the data, showing key information about its structure."
      ],
      "metadata": {
        "id": "u2-nHsVD-4Zh"
      }
    },
    {
      "cell_type": "code",
      "source": [
        "coffee_sales.info()"
      ],
      "metadata": {
        "id": "tVfgvycz-7ks",
        "outputId": "f99ffe7f-38d8-48bf-c0e6-523d0cce459c",
        "colab": {
          "base_uri": "https://localhost:8080/"
        }
      },
      "execution_count": 96,
      "outputs": [
        {
          "output_type": "stream",
          "name": "stdout",
          "text": [
            "<class 'pandas.core.frame.DataFrame'>\n",
            "RangeIndex: 149116 entries, 0 to 149115\n",
            "Data columns (total 11 columns):\n",
            " #   Column            Non-Null Count   Dtype         \n",
            "---  ------            --------------   -----         \n",
            " 0   transaction_id    149116 non-null  int64         \n",
            " 1   transaction_date  149116 non-null  datetime64[ns]\n",
            " 2   transaction_time  149116 non-null  object        \n",
            " 3   transaction_qty   149116 non-null  int64         \n",
            " 4   store_id          149116 non-null  int64         \n",
            " 5   store_location    149116 non-null  object        \n",
            " 6   product_id        149116 non-null  int64         \n",
            " 7   unit_price        149116 non-null  float64       \n",
            " 8   product_category  149116 non-null  object        \n",
            " 9   product_type      149116 non-null  object        \n",
            " 10  product_detail    149116 non-null  object        \n",
            "dtypes: datetime64[ns](1), float64(1), int64(4), object(5)\n",
            "memory usage: 12.5+ MB\n"
          ]
        }
      ]
    },
    {
      "cell_type": "markdown",
      "source": [
        "We can see that the data is organized by a transaction identifier, accompanied by important details such as the transaction date, quantity sold, store location, and product features, such as unit price, category, and type. Additionally, there are a total of 149,116 rows, and most importantly, none of them contain missing data. An additional point to note is that the date and time of the transaction are separated into different columns."
      ],
      "metadata": {
        "id": "drV5MBZq-_Zz"
      }
    },
    {
      "cell_type": "markdown",
      "source": [
        "### Transforming the Date and Time Columns\n",
        "\n",
        "Since the transaction date and time are in separate columns (`transaction_date` and `transaction_time`), the goal of this step is to combine them into a single column with a timestamp format (date and time) to facilitate temporal analysis."
      ],
      "metadata": {
        "id": "zl7bcQez_EMl"
      }
    },
    {
      "cell_type": "code",
      "source": [
        "# The 'transaction_date' and 'transaction_time' columns are concatenated into a single column called 'transaction_timestamp'\n",
        "# First, both columns are converted to string (str) type and joined with a space in between\n",
        "coffee_sales[\"transaction_timestamp\"] = coffee_sales[\"transaction_date\"].astype(str) + ' ' + coffee_sales[\"transaction_time\"].astype(str)\n",
        "\n",
        "# The new 'transaction_timestamp' column is converted to datetime type for easier temporal analysis\n",
        "coffee_sales[\"transaction_timestamp\"] = pd.to_datetime(coffee_sales[\"transaction_timestamp\"])\n",
        "\n",
        "# The original 'transaction_date' and 'transaction_time' columns are dropped\n",
        "coffee_sales.drop([\"transaction_date\", \"transaction_time\"], axis=1, inplace=True)"
      ],
      "metadata": {
        "id": "A53MJXB2_G90"
      },
      "execution_count": 97,
      "outputs": []
    },
    {
      "cell_type": "markdown",
      "source": [
        "To verify that the new column is correct, we can check the data by displaying the first few rows and ensuring that the transaction_timestamp column contains the expected datetime format."
      ],
      "metadata": {
        "id": "UsS3LKAq_L6t"
      }
    },
    {
      "cell_type": "code",
      "source": [
        "coffee_sales[\"transaction_timestamp\"].head()"
      ],
      "metadata": {
        "id": "jNwQu22-_Vny",
        "outputId": "cffda8d0-70e1-4c2b-e24c-c7678d3ae22c",
        "colab": {
          "base_uri": "https://localhost:8080/",
          "height": 241
        }
      },
      "execution_count": 98,
      "outputs": [
        {
          "output_type": "execute_result",
          "data": {
            "text/plain": [
              "0   2023-01-01 07:06:11\n",
              "1   2023-01-01 07:08:56\n",
              "2   2023-01-01 07:14:04\n",
              "3   2023-01-01 07:20:24\n",
              "4   2023-01-01 07:22:41\n",
              "Name: transaction_timestamp, dtype: datetime64[ns]"
            ],
            "text/html": [
              "<div>\n",
              "<style scoped>\n",
              "    .dataframe tbody tr th:only-of-type {\n",
              "        vertical-align: middle;\n",
              "    }\n",
              "\n",
              "    .dataframe tbody tr th {\n",
              "        vertical-align: top;\n",
              "    }\n",
              "\n",
              "    .dataframe thead th {\n",
              "        text-align: right;\n",
              "    }\n",
              "</style>\n",
              "<table border=\"1\" class=\"dataframe\">\n",
              "  <thead>\n",
              "    <tr style=\"text-align: right;\">\n",
              "      <th></th>\n",
              "      <th>transaction_timestamp</th>\n",
              "    </tr>\n",
              "  </thead>\n",
              "  <tbody>\n",
              "    <tr>\n",
              "      <th>0</th>\n",
              "      <td>2023-01-01 07:06:11</td>\n",
              "    </tr>\n",
              "    <tr>\n",
              "      <th>1</th>\n",
              "      <td>2023-01-01 07:08:56</td>\n",
              "    </tr>\n",
              "    <tr>\n",
              "      <th>2</th>\n",
              "      <td>2023-01-01 07:14:04</td>\n",
              "    </tr>\n",
              "    <tr>\n",
              "      <th>3</th>\n",
              "      <td>2023-01-01 07:20:24</td>\n",
              "    </tr>\n",
              "    <tr>\n",
              "      <th>4</th>\n",
              "      <td>2023-01-01 07:22:41</td>\n",
              "    </tr>\n",
              "  </tbody>\n",
              "</table>\n",
              "</div><br><label><b>dtype:</b> datetime64[ns]</label>"
            ]
          },
          "metadata": {},
          "execution_count": 98
        }
      ]
    },
    {
      "cell_type": "markdown",
      "source": [
        "### Verification of Duplicate Transactions\n",
        "\n",
        "To ensure that each transaction is unique, we compare the total number of records in the dataset with the number of unique identifiers in the `transaction_id` column. If both values are equal, it means there are no duplicate transactions; otherwise, there are duplicate records in the data."
      ],
      "metadata": {
        "id": "MD4qjPaTio6K"
      }
    },
    {
      "cell_type": "code",
      "source": [
        "# Remove duplicate values in the 'transaction_id' column and count the number of unique identifiers\n",
        "unique_transactions = coffee_sales[\"transaction_id\"].drop_duplicates().shape[0]\n",
        "\n",
        "# Count the total number of rows in the original DataFrame\n",
        "total_transactions = coffee_sales.shape[0]\n",
        "\n",
        "# Compare if the number of unique identifiers is equal to the total number of rows in the DataFrame\n",
        "# If True, each transaction has a unique identifier, meaning there are no duplicates\n",
        "# If False, some transactions share the same 'transaction_id', indicating duplicates\n",
        "unique_transactions == total_transactions"
      ],
      "metadata": {
        "id": "AEpJYpkLiuHS",
        "colab": {
          "base_uri": "https://localhost:8080/"
        },
        "outputId": "18d1ad24-188d-4562-af18-7728c5def858"
      },
      "execution_count": 99,
      "outputs": [
        {
          "output_type": "execute_result",
          "data": {
            "text/plain": [
              "True"
            ]
          },
          "metadata": {},
          "execution_count": 99
        }
      ]
    },
    {
      "cell_type": "markdown",
      "source": [
        "### Detailed Verification of Store Locations\n",
        "\n",
        "To analyze the distribution of transactions per store, the following code counts the frequency of each unique combination of `store_location` and `store_id`. This helps identify how many transactions were recorded at each store and detect potential inconsistencies in the data, such as stores with multiple identifiers or duplicate locations."
      ],
      "metadata": {
        "id": "G4F9h_mdr0HT"
      }
    },
    {
      "cell_type": "code",
      "source": [
        "# Count the frequency of unique combinations of 'store_location' and 'store_id'\n",
        "coffee_sales[[\"store_location\", \"store_id\"]].value_counts()"
      ],
      "metadata": {
        "id": "9OuBB294r8Qc",
        "colab": {
          "base_uri": "https://localhost:8080/",
          "height": 209
        },
        "outputId": "311a751e-7c37-4ada-e4a4-b9f70c9fbb93"
      },
      "execution_count": 100,
      "outputs": [
        {
          "output_type": "execute_result",
          "data": {
            "text/plain": [
              "store_location   store_id\n",
              "Hell's Kitchen   8           50735\n",
              "Astoria          3           50599\n",
              "Lower Manhattan  5           47782\n",
              "Name: count, dtype: int64"
            ],
            "text/html": [
              "<div>\n",
              "<style scoped>\n",
              "    .dataframe tbody tr th:only-of-type {\n",
              "        vertical-align: middle;\n",
              "    }\n",
              "\n",
              "    .dataframe tbody tr th {\n",
              "        vertical-align: top;\n",
              "    }\n",
              "\n",
              "    .dataframe thead th {\n",
              "        text-align: right;\n",
              "    }\n",
              "</style>\n",
              "<table border=\"1\" class=\"dataframe\">\n",
              "  <thead>\n",
              "    <tr style=\"text-align: right;\">\n",
              "      <th></th>\n",
              "      <th></th>\n",
              "      <th>count</th>\n",
              "    </tr>\n",
              "    <tr>\n",
              "      <th>store_location</th>\n",
              "      <th>store_id</th>\n",
              "      <th></th>\n",
              "    </tr>\n",
              "  </thead>\n",
              "  <tbody>\n",
              "    <tr>\n",
              "      <th>Hell's Kitchen</th>\n",
              "      <th>8</th>\n",
              "      <td>50735</td>\n",
              "    </tr>\n",
              "    <tr>\n",
              "      <th>Astoria</th>\n",
              "      <th>3</th>\n",
              "      <td>50599</td>\n",
              "    </tr>\n",
              "    <tr>\n",
              "      <th>Lower Manhattan</th>\n",
              "      <th>5</th>\n",
              "      <td>47782</td>\n",
              "    </tr>\n",
              "  </tbody>\n",
              "</table>\n",
              "</div><br><label><b>dtype:</b> int64</label>"
            ]
          },
          "metadata": {},
          "execution_count": 100
        }
      ]
    },
    {
      "cell_type": "markdown",
      "source": [
        "The result displays the number of transactions recorded for each `store_location` and `store_id` combination. For example, the store in *Hell’s Kitchen* with ID **8** had **50,735** transactions, while the one in *Astoria* with ID **3** recorded **50,599** sales. Similarly, the store in *Lower Manhattan* with ID **5** accumulated **47,782** transactions."
      ],
      "metadata": {
        "id": "PXhZz8FfsJa6"
      }
    },
    {
      "cell_type": "markdown",
      "source": [
        "### Normalization of Values in Product Details\n",
        "\n",
        "To ensure data consistency in the `product_detail` column, we need to check for inconsistencies such as variations in uppercase and lowercase letters, extra spaces between words, or leading and trailing spaces.\n",
        "\n",
        "To achieve this, we will compare the number of unique values in the dataset before and after normalizing the text by removing extra spaces and converting all text to lowercase."
      ],
      "metadata": {
        "id": "cNrn8CjmBJEf"
      }
    },
    {
      "cell_type": "code",
      "source": [
        "# Print the number of unique values before validation\n",
        "print(f\"Number of unique values before validation: {coffee_sales['product_detail'].value_counts().shape[0]}\")\n",
        "\n",
        "# Print the number of unique values after applying validation (normalizing spaces, converting to lowercase, and stripping)\n",
        "print(\"Number of unique values after validation: \",\n",
        "      coffee_sales['product_detail'].str.replace(r'\\s+', ' ', regex=True).str.lower().str.strip().value_counts().shape[0])\n"
      ],
      "metadata": {
        "colab": {
          "base_uri": "https://localhost:8080/"
        },
        "id": "xRzqc9yPBR3o",
        "outputId": "2084ac9b-f5aa-464b-9131-d4376b1ed97d"
      },
      "execution_count": 101,
      "outputs": [
        {
          "output_type": "stream",
          "name": "stdout",
          "text": [
            "Number of unique values before validation: 80\n",
            "Number of unique values after validation:  80\n"
          ]
        }
      ]
    },
    {
      "cell_type": "markdown",
      "source": [
        "Since the number of unique values remained the same before and after normalization, we can conclude that these data do not require corrections."
      ],
      "metadata": {
        "id": "_jrFsh_tBX9d"
      }
    },
    {
      "cell_type": "markdown",
      "source": [
        "### Checking for Outliers in Unit Prices\n",
        "\n",
        "To check for outliers in the unit prices, we can generate a box plot, which visually represents the distribution of the values. This plot will help us identify any extreme values that may exist outside the interquartile range (IQR)."
      ],
      "metadata": {
        "id": "c2jXoDfrO48Z"
      }
    },
    {
      "cell_type": "code",
      "source": [
        "# Generate the box plot for the 'unit_price' column\n",
        "sns.boxplot(coffee_sales[\"unit_price\"], fill=False)\n",
        "plt.title(\"Distribution of Unit Prices\")\n",
        "plt.ylabel(\"Count\")\n",
        "plt.xlabel(\"Unit Price\")\n",
        "# Call show() to display the plot\n",
        "plt.show()\n"
      ],
      "metadata": {
        "id": "zPlEzBroPS5Y",
        "outputId": "044121c0-7a92-45b7-b672-2b3f8cc25811",
        "colab": {
          "base_uri": "https://localhost:8080/"
        }
      },
      "execution_count": 102,
      "outputs": [
        {
          "output_type": "display_data",
          "data": {
            "text/plain": [
              "<Figure size 640x480 with 1 Axes>"
            ],
            "image/png": "[encoded data removed]"
          },
          "metadata": {}
        }
      ]
    },
    {
      "cell_type": "markdown",
      "source": [
        "To investigate the prices exceeding $25, we can filter the corresponding records and check which products have these extreme prices."
      ],
      "metadata": {
        "id": "8YrmKfYnPkrs"
      }
    },
    {
      "cell_type": "code",
      "source": [
        "# Filter products with a unit price greater than or equal to 25 dollars and group by quantity\n",
        "coffee_sales[coffee_sales[\"unit_price\"] >= 25][\"product_type\"].value_counts()"
      ],
      "metadata": {
        "id": "BD59VOb1PqqA",
        "colab": {
          "base_uri": "https://localhost:8080/"
        },
        "outputId": "b3af9e86-a2bd-471f-baaa-f0972cc1524d"
      },
      "execution_count": 103,
      "outputs": [
        {
          "output_type": "execute_result",
          "data": {
            "text/plain": [
              "product_type\n",
              "Clothing         216\n",
              "Premium Beans    190\n",
              "Organic Beans     17\n",
              "Name: count, dtype: int64"
            ],
            "text/html": [
              "<div>\n",
              "<style scoped>\n",
              "    .dataframe tbody tr th:only-of-type {\n",
              "        vertical-align: middle;\n",
              "    }\n",
              "\n",
              "    .dataframe tbody tr th {\n",
              "        vertical-align: top;\n",
              "    }\n",
              "\n",
              "    .dataframe thead th {\n",
              "        text-align: right;\n",
              "    }\n",
              "</style>\n",
              "<table border=\"1\" class=\"dataframe\">\n",
              "  <thead>\n",
              "    <tr style=\"text-align: right;\">\n",
              "      <th></th>\n",
              "      <th>count</th>\n",
              "    </tr>\n",
              "    <tr>\n",
              "      <th>product_type</th>\n",
              "      <th></th>\n",
              "    </tr>\n",
              "  </thead>\n",
              "  <tbody>\n",
              "    <tr>\n",
              "      <th>Clothing</th>\n",
              "      <td>216</td>\n",
              "    </tr>\n",
              "    <tr>\n",
              "      <th>Premium Beans</th>\n",
              "      <td>190</td>\n",
              "    </tr>\n",
              "    <tr>\n",
              "      <th>Organic Beans</th>\n",
              "      <td>17</td>\n",
              "    </tr>\n",
              "  </tbody>\n",
              "</table>\n",
              "</div><br><label><b>dtype:</b> int64</label>"
            ]
          },
          "metadata": {},
          "execution_count": 103
        }
      ]
    },
    {
      "cell_type": "code",
      "source": [
        "# Filter products with a unit price greater than or equal to 25 and with product type \"Clothing\"\n",
        "# Then, get the unique values in the 'product_detail' column\n",
        "coffee_sales[(coffee_sales[\"unit_price\"] >= 25) & (coffee_sales[\"product_type\"] == \"Clothing\")][\"product_detail\"].unique()"
      ],
      "metadata": {
        "id": "KPzj4G1yQAHa",
        "colab": {
          "base_uri": "https://localhost:8080/"
        },
        "outputId": "6383a553-138a-4ff0-aa3e-13232b3b1a7d"
      },
      "execution_count": 104,
      "outputs": [
        {
          "output_type": "execute_result",
          "data": {
            "text/plain": [
              "array(['I Need My Bean! T-shirt'], dtype=object)"
            ]
          },
          "metadata": {},
          "execution_count": 104
        }
      ]
    },
    {
      "cell_type": "markdown",
      "source": [
        "It's clear that the high-priced products are premium and organic coffee bean bags, as well as clothing items with the store's branding.\n",
        "\n",
        "For the next step, let's investigate the minimum prices in the store."
      ],
      "metadata": {
        "id": "d2cuEK2mQKZl"
      }
    },
    {
      "cell_type": "code",
      "source": [
        "# Get the minimum value of the unit price in the \"unit_price\" column\n",
        "coffee_sales[\"unit_price\"].min()"
      ],
      "metadata": {
        "id": "QBy-MM-fQY3t",
        "colab": {
          "base_uri": "https://localhost:8080/"
        },
        "outputId": "4c7d57ce-29e5-4b33-8f94-151a6225d2ae"
      },
      "execution_count": 105,
      "outputs": [
        {
          "output_type": "execute_result",
          "data": {
            "text/plain": [
              "0.8"
            ]
          },
          "metadata": {},
          "execution_count": 105
        }
      ]
    },
    {
      "cell_type": "markdown",
      "source": [
        "\n",
        "To find out which category and product type corresponds to the minimum price of $0.80, you can filter the dataset based on the minimum price."
      ],
      "metadata": {
        "id": "kXilPXkpQBeN"
      }
    },
    {
      "cell_type": "code",
      "source": [
        "# Filter products with a unit price of exactly 0.8 and count the number of products in each category\n",
        "coffee_sales[coffee_sales[\"unit_price\"] == 0.8][\"product_category\"].value_counts()\n"
      ],
      "metadata": {
        "id": "4EeX0Dl8QmR3",
        "colab": {
          "base_uri": "https://localhost:8080/"
        },
        "outputId": "1611f0ec-ed09-4a0b-e45c-05b708a09da6"
      },
      "execution_count": 106,
      "outputs": [
        {
          "output_type": "execute_result",
          "data": {
            "text/plain": [
              "product_category\n",
              "Flavours    6790\n",
              "Name: count, dtype: int64"
            ],
            "text/html": [
              "<div>\n",
              "<style scoped>\n",
              "    .dataframe tbody tr th:only-of-type {\n",
              "        vertical-align: middle;\n",
              "    }\n",
              "\n",
              "    .dataframe tbody tr th {\n",
              "        vertical-align: top;\n",
              "    }\n",
              "\n",
              "    .dataframe thead th {\n",
              "        text-align: right;\n",
              "    }\n",
              "</style>\n",
              "<table border=\"1\" class=\"dataframe\">\n",
              "  <thead>\n",
              "    <tr style=\"text-align: right;\">\n",
              "      <th></th>\n",
              "      <th>count</th>\n",
              "    </tr>\n",
              "    <tr>\n",
              "      <th>product_category</th>\n",
              "      <th></th>\n",
              "    </tr>\n",
              "  </thead>\n",
              "  <tbody>\n",
              "    <tr>\n",
              "      <th>Flavours</th>\n",
              "      <td>6790</td>\n",
              "    </tr>\n",
              "  </tbody>\n",
              "</table>\n",
              "</div><br><label><b>dtype:</b> int64</label>"
            ]
          },
          "metadata": {},
          "execution_count": 106
        }
      ]
    },
    {
      "cell_type": "code",
      "source": [
        "# Filter products with a unit price of 0.8 and product category \"Flavours\", then count by product type\n",
        "coffee_sales[\n",
        "    (coffee_sales[\"unit_price\"] == 0.8)\n",
        "    &\n",
        "    (coffee_sales[\"product_category\"] == \"Flavours\")\n",
        "][\"product_type\"].value_counts()"
      ],
      "metadata": {
        "id": "TFhA4N0dQ-Sh",
        "colab": {
          "base_uri": "https://localhost:8080/"
        },
        "outputId": "0e42d2ee-c270-4be8-89e9-30692670ff5c"
      },
      "execution_count": 107,
      "outputs": [
        {
          "output_type": "execute_result",
          "data": {
            "text/plain": [
              "product_type\n",
              "Regular syrup       4979\n",
              "Sugar free syrup    1811\n",
              "Name: count, dtype: int64"
            ],
            "text/html": [
              "<div>\n",
              "<style scoped>\n",
              "    .dataframe tbody tr th:only-of-type {\n",
              "        vertical-align: middle;\n",
              "    }\n",
              "\n",
              "    .dataframe tbody tr th {\n",
              "        vertical-align: top;\n",
              "    }\n",
              "\n",
              "    .dataframe thead th {\n",
              "        text-align: right;\n",
              "    }\n",
              "</style>\n",
              "<table border=\"1\" class=\"dataframe\">\n",
              "  <thead>\n",
              "    <tr style=\"text-align: right;\">\n",
              "      <th></th>\n",
              "      <th>count</th>\n",
              "    </tr>\n",
              "    <tr>\n",
              "      <th>product_type</th>\n",
              "      <th></th>\n",
              "    </tr>\n",
              "  </thead>\n",
              "  <tbody>\n",
              "    <tr>\n",
              "      <th>Regular syrup</th>\n",
              "      <td>4979</td>\n",
              "    </tr>\n",
              "    <tr>\n",
              "      <th>Sugar free syrup</th>\n",
              "      <td>1811</td>\n",
              "    </tr>\n",
              "  </tbody>\n",
              "</table>\n",
              "</div><br><label><b>dtype:</b> int64</label>"
            ]
          },
          "metadata": {},
          "execution_count": 107
        }
      ]
    },
    {
      "cell_type": "markdown",
      "source": [
        "As we can see, syrups are the products with the minimum price in the store, costing $0.80. This suggests that the syrups in the \"Flavours\" category are the least expensive items in the dataset."
      ],
      "metadata": {
        "id": "sttndsODRGFd"
      }
    },
    {
      "cell_type": "markdown",
      "source": [
        "### Visual Analysis of the categories of the Dataset"
      ],
      "metadata": {
        "id": "ZXp24y9sSXNz"
      }
    },
    {
      "cell_type": "markdown",
      "source": [
        "#### Categories"
      ],
      "metadata": {
        "id": "fM40wNrsS-jU"
      }
    },
    {
      "cell_type": "code",
      "source": [
        "# Count the number of products in each category and reset the index to structure it as a DataFrame\n",
        "product_category_count = coffee_sales[\"product_category\"].value_counts().reset_index()\n",
        "\n",
        "# Create a bar chart with Seaborn\n",
        "ax = sns.barplot(\n",
        "    x=product_category_count[\"product_category\"],  # Product category on the X-axis\n",
        "    y=product_category_count[\"count\"],  # Frequency on the Y-axis\n",
        "    hue=product_category_count[\"product_category\"],  # Color by category\n",
        ")\n",
        "\n",
        "# Add numerical labels above each bar for better value visualization\n",
        "for i, value in enumerate(product_category_count[\"count\"]):\n",
        "    ax.text(i, value + 0.5, str(value), ha=\"center\", fontsize=10, fontweight=\"bold\")\n",
        "\n",
        "# Add title and labels to the axes\n",
        "plt.title(\"Distribution of Product Categories\")\n",
        "plt.xlabel(\"Product Category\")\n",
        "plt.ylabel(\"Frequency\")\n",
        "\n",
        "# Rotate X-axis labels for better visibility\n",
        "plt.xticks(rotation=45)\n",
        "\n",
        "# Show the chart\n",
        "plt.show()\n"
      ],
      "metadata": {
        "colab": {
          "base_uri": "https://localhost:8080/"
        },
        "id": "9RHfq6ZSSZyA",
        "outputId": "a1aa8f26-67e9-4aaf-e3cf-2529f15ba3e6"
      },
      "execution_count": 108,
      "outputs": [
        {
          "output_type": "display_data",
          "data": {
            "text/plain": [
              "<Figure size 640x480 with 1 Axes>"
            ],
            "image/png": "[encoded data removed]"
          },
          "metadata": {}
        }
      ]
    },
    {
      "cell_type": "markdown",
      "source": [
        "In order to interpret the distribution and corresponding percentages, a function will be declared to calculate the percentages of the total accumulated sales.\n"
      ],
      "metadata": {
        "id": "3Y8Wja1ucJwP"
      }
    },
    {
      "cell_type": "code",
      "source": [
        "def percentage_category(category, df, column, total):\n",
        "    \"\"\"\n",
        "    Calculates the percentage of a specific category within a Pandas DataFrame.\n",
        "\n",
        "    Args:\n",
        "        category: The value to search for in the specified column.\n",
        "        df: The Pandas DataFrame to search within.\n",
        "        column: The name of the column to search in.\n",
        "        total: The total value to calculate the percentage against.\n",
        "\n",
        "    Returns:\n",
        "        The percentage of the category rounded to 2 decimal places, or an error\n",
        "        message if the DataFrame is invalid or unprocessed.\n",
        "    \"\"\"\n",
        "    try:\n",
        "        value = df[df[column] == category][\"count\"].values[0]\n",
        "        return round((value / total) * 100, 2)\n",
        "    except:\n",
        "        return \"invalid or unprocessed dataframe\""
      ],
      "metadata": {
        "id": "3aQYNOmcrR37"
      },
      "execution_count": 109,
      "outputs": []
    },
    {
      "cell_type": "code",
      "source": [
        "# Define a list with the product categories to analyze\n",
        "product_category = [\n",
        "    \"Bakery\",              # Baked goods\n",
        "    \"Packaged Chocolate\",  # Packaged chocolates\n",
        "    \"Coffee\",              # Coffee\n",
        "    \"Tea\",                 # Tea\n",
        "    \"Branded\"              # Branded products\n",
        "]\n",
        "\n",
        "# Calculate the total number of products in all categories by summing the frequencies\n",
        "total_categories = product_category_count.sum().values[1]"
      ],
      "metadata": {
        "id": "a7qN7p7dsZ38"
      },
      "execution_count": 110,
      "outputs": []
    },
    {
      "cell_type": "code",
      "source": [
        "# Iterate over each product category in the product_category list\n",
        "for cat in product_category:\n",
        "    # Calculate the sales percentage of the current category and display the result\n",
        "    print(f\"{cat}: {percentage_category(cat, product_category_count, 'product_category', total_categories)} % of total sales\")"
      ],
      "metadata": {
        "colab": {
          "base_uri": "https://localhost:8080/"
        },
        "id": "tLcNblyRso9W",
        "outputId": "110ff167-fd37-4dd6-8b6e-29527932f826"
      },
      "execution_count": 111,
      "outputs": [
        {
          "output_type": "stream",
          "name": "stdout",
          "text": [
            "Bakery: 15.29 % of total sales\n",
            "Packaged Chocolate: 0.33 % of total sales\n",
            "Coffee: 39.17 % of total sales\n",
            "Tea: 30.48 % of total sales\n",
            "Branded: 0.5 % of total sales\n"
          ]
        }
      ]
    },
    {
      "cell_type": "markdown",
      "source": [
        "This plot shows us the distribution of cafeteria sales by product category. We can see that the products in the Coffee and Tea categories dominate total sales, which indicates that these products are the customers' favorites. Coffee makes up almost two-fifths of total sales, with a specific figure of 39.17% of total sales, and tea has 30.48% of corresponding sales. Baked goods are in third place, representing 15.29% of total sales, which, despite being a secondary category, represents an important part of the revenue.\n",
        "\n",
        "Among the products with the lowest sales, we can see that packaged chocolates represent just 0.33% of total sales, followed by products with the store logo at 0.5% of accumulated sales.\n"
      ],
      "metadata": {
        "id": "udrcT6G4sZND"
      }
    },
    {
      "cell_type": "markdown",
      "source": [
        "#### Types"
      ],
      "metadata": {
        "id": "X_DKxSyzcKRF"
      }
    },
    {
      "cell_type": "markdown",
      "source": [
        "To analyze the product type, it will first be necessary to check the size of the set of unique product types."
      ],
      "metadata": {
        "id": "kS16RJR90VSP"
      }
    },
    {
      "cell_type": "code",
      "source": [
        "# Calculate the total number of unique product types in the dataset\n",
        "len(coffee_sales[\"product_type\"].unique())"
      ],
      "metadata": {
        "colab": {
          "base_uri": "https://localhost:8080/"
        },
        "id": "PTSQUyI3y5AK",
        "outputId": "6847d163-27f7-494e-cee6-fb862e85ceb9"
      },
      "execution_count": 112,
      "outputs": [
        {
          "output_type": "execute_result",
          "data": {
            "text/plain": [
              "29"
            ]
          },
          "metadata": {},
          "execution_count": 112
        }
      ]
    },
    {
      "cell_type": "markdown",
      "source": [
        "Considering the size of the data set, the store's products will be explored by plotting the 5 best-selling and the 5 least-selling products."
      ],
      "metadata": {
        "id": "tTvNg7s917J2"
      }
    },
    {
      "cell_type": "code",
      "source": [
        "# Count the number of products in each Type and reset the index to structure it as a DataFrame\n",
        "product_type_count_top5 = coffee_sales[\"product_type\"].value_counts().reset_index().head()\n",
        "\n",
        "# Create a bar chart with Seaborn\n",
        "ax = sns.barplot(\n",
        "    x=product_type_count_top5[\"product_type\"],  # Product type on the X-axis\n",
        "    y=product_type_count_top5[\"count\"],  # Frequency on the Y-axis\n",
        "    hue=product_type_count_top5[\"product_type\"],  # Color by Type\n",
        ")\n",
        "\n",
        "# Add numerical labels above each bar for better value visualization\n",
        "for i, value in enumerate(product_type_count_top5[\"count\"]):\n",
        "    ax.text(i, value + 0.5, str(value), ha=\"center\", fontsize=10, fontweight=\"bold\")\n",
        "\n",
        "# Add title and labels to the axes\n",
        "plt.title(\"Distribution of the 5 most sold product types\")\n",
        "plt.xlabel(\"Product Type\")\n",
        "plt.ylabel(\"Frequency\")\n",
        "\n",
        "# Rotate X-axis labels for better visibility\n",
        "plt.xticks(rotation=45)\n",
        "\n",
        "# Show the chart\n",
        "plt.show()\n"
      ],
      "metadata": {
        "colab": {
          "base_uri": "https://localhost:8080/"
        },
        "id": "169uf2w4ca2N",
        "outputId": "8bac821a-36a1-422c-b0a0-14bedac45ced"
      },
      "execution_count": 113,
      "outputs": [
        {
          "output_type": "display_data",
          "data": {
            "text/plain": [
              "<Figure size 640x480 with 1 Axes>"
            ],
            "image/png": "[encoded data removed]"
          },
          "metadata": {}
        }
      ]
    },
    {
      "cell_type": "markdown",
      "source": [
        "This plot confirms the best-selling categories of coffee and tea, as within the 5 best-selling products in the cafeteria we can see that 2 of them correspond to coffee variants and 3 of them correspond to tea variants, respectively, and showing a preference for hot chocolate for a large part of the sales."
      ],
      "metadata": {
        "id": "LKuTLQPhccU7"
      }
    },
    {
      "cell_type": "code",
      "source": [
        "# Count the number of products in each type and reset the index to structure it in a DataFrame\n",
        "product_type_count_bottom5 = coffee_sales[\"product_type\"].value_counts().reset_index().tail()\n",
        "\n",
        "# Create a bar chart with Seaborn\n",
        "ax = sns.barplot(\n",
        "    x=product_type_count_bottom5[\"product_type\"],  # Product type on the X axis\n",
        "    y=product_type_count_bottom5[\"count\"],  # Frequency on the Y axis\n",
        "    hue=product_type_count_bottom5[\"product_type\"],  # Color by type\n",
        ")\n",
        "\n",
        "# Add numeric labels above each bar to better visualize the values\n",
        "for i, value in enumerate(product_type_count_bottom5[\"count\"]):\n",
        "    ax.text(i, value + 0.5, str(value), ha=\"center\", fontsize=10, fontweight=\"bold\")\n",
        "\n",
        "# Add title and labels to the axes\n",
        "plt.title(\"Distribution of the 5 least sold product types\")\n",
        "plt.xlabel(\"Product type\")\n",
        "plt.ylabel(\"Frequency\")\n",
        "\n",
        "# Rotate the labels on the X axis for better visibility\n",
        "plt.xticks(rotation=45)\n",
        "\n",
        "# Show the chart\n",
        "plt.show()"
      ],
      "metadata": {
        "colab": {
          "base_uri": "https://localhost:8080/"
        },
        "id": "ysQps86M5Uoh",
        "outputId": "93c56b5c-34bc-4d97-e9e0-79b4192b3a2a"
      },
      "execution_count": 114,
      "outputs": [
        {
          "output_type": "display_data",
          "data": {
            "text/plain": [
              "<Figure size 640x480 with 1 Axes>"
            ],
            "image/png": "[encoded data removed]"
          },
          "metadata": {}
        }
      ]
    },
    {
      "cell_type": "markdown",
      "source": [
        "This plot shows the distribution of the 5 least-selling products in the store. Noticing that two types of beans (\"House Blend Beans\" and \"Green Beans\"), as well as green tea, make up a different category from the least-selling ones, we could analyze if their low demand is due to a niche strategy, high prices, or simply a lower customer preference.\n",
        "\n",
        "With the presence of chocolate and the cafeteria's branded products, it opens the door to further analysis to identify the factors that cause these products to have low sales and, if possible, find an area for improvement."
      ],
      "metadata": {
        "id": "dbm4Plte7TGg"
      }
    },
    {
      "cell_type": "markdown",
      "source": [
        "### Exploring Temporal Sales Trends"
      ],
      "metadata": {
        "id": "_d7FRvP-13rn"
      }
    },
    {
      "cell_type": "markdown",
      "source": [
        "####Monthly sales by location"
      ],
      "metadata": {
        "id": "_KKx0Gz-IiUI"
      }
    },
    {
      "cell_type": "markdown",
      "source": [
        "To visually analyze sales data over time, the first step is to aggregate it to obtain sales by month, hour, day and week. In this initial phase, sales will be explored by store location."
      ],
      "metadata": {
        "id": "osaIX2slIoZU"
      }
    },
    {
      "cell_type": "code",
      "source": [
        "# Define the columns to be used in the analysis\n",
        "columns = ['transaction_timestamp', 'product_category', 'store_location']\n",
        "\n",
        "# ----------------------------------------------\n",
        "# Sales analysis by store and month\n",
        "# ----------------------------------------------\n",
        "monthly_sales_per_store = (\n",
        "    coffee_sales[columns]  # Select only the relevant columns\n",
        "    .assign(\n",
        "        # Extract the transaction month and year in \"MM YYYY\" format\n",
        "        month=lambda x: x['transaction_timestamp'].dt.strftime('%m %Y')\n",
        "    )\n",
        "    # Group data by store location and month\n",
        "    .groupby(['store_location', 'month'])\n",
        "    .size()  # Count the number of transactions in each group\n",
        "    .reset_index(name='count')  # Convert the result into a DataFrame with a column named 'count'\n",
        ")\n",
        "\n",
        "# ----------------------------------------------\n",
        "# Sales analysis by store and day of the week\n",
        "# ----------------------------------------------\n",
        "daily_sales_per_store = (\n",
        "    coffee_sales[columns]  # Select only the relevant columns\n",
        "    .assign(\n",
        "        # Extract the day of the week in full text format (e.g., \"Monday\", \"Tuesday\", etc.)\n",
        "        day=lambda x: x['transaction_timestamp'].dt.strftime('%A')\n",
        "    )\n",
        "    # Group data by store location and day of the week\n",
        "    .groupby(['store_location', 'day'])\n",
        "    .size()  # Count the number of transactions in each group\n",
        "    .reset_index(name='count')  # Convert the result into a DataFrame with a column named 'count'\n",
        ")\n",
        "\n",
        "# ----------------------------------------------\n",
        "# Sales analysis by store and hour of the day\n",
        "# ----------------------------------------------\n",
        "hourly_sales_per_store = (\n",
        "    coffee_sales[columns]  # Select only the relevant columns\n",
        "    .assign(\n",
        "        # Extract the transaction hour in 24-hour format (e.g., \"08\", \"15\", \"23\")\n",
        "        hour=lambda x: x['transaction_timestamp'].dt.strftime('%H')\n",
        "    )\n",
        "    # Group data by store location and hour of the day\n",
        "    .groupby(['store_location', 'hour'])\n",
        "    .size()  # Count the number of transactions in each group\n",
        "    .reset_index(name='count')  # Convert the result into a DataFrame with a column named 'count'\n",
        ")\n",
        "# ----------------------------------------------\n",
        "# Sales Analysis by Store and Week\n",
        "# ----------------------------------------------\n",
        "\n",
        "weekly_sales_per_store = (\n",
        "    coffee_sales[columns]  # Select only relevant columns\n",
        "    .assign(\n",
        "        # Extract the week number from the transaction date\n",
        "        week=lambda x: x['transaction_timestamp'].dt.strftime('%W')\n",
        "    )\n",
        "    # Group data by store location and week number\n",
        "    .groupby(['store_location', 'week'])\n",
        "    .size()  # Count the number of transactions in each group\n",
        "    .reset_index(name='count')  # Convert the result into a DataFrame with a 'count' column\n",
        ")\n"
      ],
      "metadata": {
        "id": "uvTGvPGm24Dc"
      },
      "execution_count": null,
      "outputs": []
    },
    {
      "cell_type": "code",
      "source": [
        "# Create a line plot to visualize monthly sales by store location\n",
        "sns.lineplot(\n",
        "    x=monthly_sales_per_store[\"month\"],  # X-axis: Months\n",
        "    y=monthly_sales_per_store[\"count\"],  # Y-axis: Number of sales\n",
        "    hue=monthly_sales_per_store[\"store_location\"]  # Differentiate by store location\n",
        ")\n",
        "\n",
        "# Axis labels and chart title\n",
        "plt.xlabel(\"Month\")  # X-axis label\n",
        "plt.ylabel(\"Sales\")  # Y-axis label\n",
        "plt.legend(title=\"Store location\") # Legend title\n",
        "plt.title(\"Monthly Sales by Store Location\")  # Chart title\n",
        "\n",
        "# Display the plot\n",
        "plt.show()\n"
      ],
      "metadata": {
        "id": "zQMjKGA73Gu8"
      },
      "execution_count": null,
      "outputs": []
    },
    {
      "cell_type": "markdown",
      "source": [
        "The chart shows the sales trend during the first half of 2023. We can see that the year started with a downward trend, which, by the end of February, began to rise until the data cutoff month. We can observe that the Astoria and Hell's Kitchen locations have similar sales trends, with Lower Manhattan showing a small difference in sales."
      ],
      "metadata": {
        "id": "70eNhkBmGFmi"
      }
    },
    {
      "cell_type": "markdown",
      "source": [
        "####Daily sales by location"
      ],
      "metadata": {
        "id": "CEnm1M2lmv5Z"
      }
    },
    {
      "cell_type": "code",
      "source": [
        "# Sort daily sales per store in ascending order by the number of sales\n",
        "daily_sales_per_store = daily_sales_per_store.sort_values(by=\"count\")\n",
        "\n",
        "# Create a line plot to visualize sales by day and store\n",
        "sns.lineplot(\n",
        "    x=daily_sales_per_store[\"day\"],  # X-axis: Day\n",
        "    y=daily_sales_per_store[\"count\"],  # Y-axis: Number of sales\n",
        "    hue=daily_sales_per_store[\"store_location\"]  # Differentiate by store location\n",
        ")\n",
        "\n",
        "# Axis labels and chart title\n",
        "plt.xlabel(\"Day\")  # X-axis label\n",
        "plt.ylabel(\"Sales\")  # Y-axis label\n",
        "plt.legend(title=\"Store Location\")  # Legend title\n",
        "plt.title(\"Sales by Day and Store\")  # Chart title\n",
        "\n",
        "# Display the chart\n",
        "plt.show()\n"
      ],
      "metadata": {
        "id": "o4E7HHfbm14v"
      },
      "execution_count": null,
      "outputs": []
    },
    {
      "cell_type": "markdown",
      "source": [
        "####Hourly sales by location"
      ],
      "metadata": {
        "id": "cr_OViYFnw4C"
      }
    },
    {
      "cell_type": "code",
      "source": [
        "# Sort hourly sales per store in ascending order by hour\n",
        "hourly_sales_per_store = hourly_sales_per_store.sort_values(by=\"hour\")\n",
        "\n",
        "# Create a line plot to visualize sales by hour and store\n",
        "sns.lineplot(\n",
        "    x=hourly_sales_per_store[\"hour\"],  # X-axis: Hour\n",
        "    y=hourly_sales_per_store[\"count\"],  # Y-axis: Number of sales\n",
        "    hue=hourly_sales_per_store[\"store_location\"]  # Differentiate by store location\n",
        ")\n",
        "\n",
        "# Axis labels and chart title\n",
        "plt.xlabel(\"Hour\")  # X-axis label\n",
        "plt.ylabel(\"Sales\")  # Y-axis label\n",
        "plt.legend(title=\"Store Location\")  # Legend title\n",
        "plt.title(\"Sales by Hour and Store\")  # Chart title\n",
        "\n",
        "# Display the chart\n",
        "plt.show()\n"
      ],
      "metadata": {
        "id": "O0rfGDFZnxGd"
      },
      "execution_count": null,
      "outputs": []
    },
    {
      "cell_type": "markdown",
      "source": [
        "####Weekly sales by location"
      ],
      "metadata": {
        "id": "DnJbkz6un2nz"
      }
    },
    {
      "cell_type": "code",
      "source": [
        "# Sort weekly sales per store in ascending order by week\n",
        "weekly_sales_per_store = weekly_sales_per_store.sort_values(by=\"week\")\n",
        "\n",
        "# Create a line plot to visualize sales by week and store\n",
        "sns.lineplot(\n",
        "    x=weekly_sales_per_store[\"week\"],  # X-axis: Week\n",
        "    y=weekly_sales_per_store[\"count\"],  # Y-axis: Number of sales\n",
        "    hue=weekly_sales_per_store[\"store_location\"]  # Differentiate by store location\n",
        ")\n",
        "\n",
        "# Axis labels and chart title\n",
        "plt.xlabel(\"Week\")  # X-axis label\n",
        "plt.ylabel(\"Sales\")  # Y-axis label\n",
        "plt.legend(title=\"Store Location\")  # Legend title\n",
        "plt.title(\"Weekly Sales by Store\")  # Chart title\n",
        "\n",
        "# Display the chart\n",
        "plt.show()\n"
      ],
      "metadata": {
        "id": "dxmOVX6ln15o"
      },
      "execution_count": null,
      "outputs": []
    },
    {
      "cell_type": "markdown",
      "source": [
        "Based on these graphs, we can confirm the presence of seasonality in the data, with higher sales volumes observed on Thursdays and Fridays. Additionally, the highest sales frequency occurs between 7:00 a.m. and 10:00 a.m., after which the volume begins to decline."
      ],
      "metadata": {
        "id": "bq71vfPsrFm0"
      }
    },
    {
      "cell_type": "markdown",
      "source": [
        "Taking the seasonality of sales into account, we will proceed to train the predictive model with the necessary adjustments."
      ],
      "metadata": {
        "id": "tMT9dRvDsU40"
      }
    },
    {
      "cell_type": "markdown",
      "source": [
        "## 3. Model Training"
      ],
      "metadata": {
        "id": "EXy_03iDsldI"
      }
    },
    {
      "cell_type": "markdown",
      "source": [
        "#### Dataset Preparation"
      ],
      "metadata": {
        "id": "icUKbw8UvYJY"
      }
    },
    {
      "cell_type": "markdown",
      "source": [
        "To train the model, we will create a copy of the original DataFrame, filtering the necessary columns, which in this case are the sale date and the unit price of the product. We will also separate the data by store, and the data will be aggregated by day."
      ],
      "metadata": {
        "id": "cf9Q-OtAvYBu"
      }
    },
    {
      "cell_type": "code",
      "source": [
        "def daily_sales(df_store):\n",
        "    daily = (df_store\n",
        "          .set_index('ds')        # date column\n",
        "          .resample('D')['y'].sum()              # daily sales\n",
        "          .asfreq('D', fill_value=0)\n",
        "          .reset_index())\n",
        "\n",
        "\n",
        "    return daily"
      ],
      "metadata": {
        "id": "cSVh30nWle2e"
      },
      "execution_count": null,
      "outputs": []
    },
    {
      "cell_type": "code",
      "source": [
        "# We make a copy of the original DataFrame to avoid modifying the original data\n",
        "df_train_manhattan = coffee_sales.copy()\n",
        "df_train_hell_kitchen = coffee_sales.copy()\n",
        "df_train_astoria = coffee_sales.copy()\n"
      ],
      "metadata": {
        "id": "-u8Pd4z2lnfL"
      },
      "execution_count": null,
      "outputs": []
    },
    {
      "cell_type": "code",
      "source": [
        "\n",
        "# We filter only the necessary columns: sale date and unit price\n",
        "df_train_manhattan = df_train_manhattan[df_train_manhattan['store_location'] == 'Lower Manhattan'][[\"transaction_timestamp\", \"unit_price\"]]\n",
        "df_train_hell_kitchen = df_train_hell_kitchen[df_train_hell_kitchen[\"store_location\"] == \"Hell's Kitchen\"][[\"transaction_timestamp\", \"unit_price\"]]\n",
        "df_train_astoria = df_train_astoria[df_train_astoria[\"store_location\"] == 'Astoria'][[\"transaction_timestamp\", \"unit_price\"]]\n",
        "\n",
        "# We rename the columns to be compatible with Prophet:\n",
        "df_train_manhattan.columns = ['ds', 'y']\n",
        "df_train_hell_kitchen.columns = ['ds', 'y']\n",
        "df_train_astoria.columns = ['ds', 'y']\n"
      ],
      "metadata": {
        "id": "bxcn6l3SvwB-"
      },
      "execution_count": null,
      "outputs": []
    },
    {
      "cell_type": "code",
      "source": [
        "df_train_manhattan = daily_sales(df_train_manhattan)\n",
        "df_train_hell_kitchen = daily_sales(df_train_hell_kitchen)\n",
        "df_train_astoria = daily_sales(df_train_astoria)"
      ],
      "metadata": {
        "id": "0F1RQM5UloLa"
      },
      "execution_count": null,
      "outputs": []
    },
    {
      "cell_type": "markdown",
      "source": [
        "####Model Initialization"
      ],
      "metadata": {
        "id": "IeGiFTPYwSpe"
      }
    },
    {
      "cell_type": "markdown",
      "source": [
        "To find the best fit for the model, a function is created to iterate over a list of parameters in order to identify the optimal configuration. Afterwards, cross-validation is performed to evaluate the model's performance, using MAPE as the key metric."
      ],
      "metadata": {
        "id": "J70W67x8L7gq"
      }
    },
    {
      "cell_type": "code",
      "source": [
        "def best_fit(df):\n",
        "    # Define a grid of parameters to tune: changepoint scale, seasonality scale, and Fourier order for weekly seasonality\n",
        "    param_grid = {\n",
        "        'changepoint_prior_scale': [0.001, 0.01, 0.1, 0.5],  # Controls model flexibility to fit abrupt changes\n",
        "        'seasonality_prior_scale': [1, 5, 10],               # Controls the strength of seasonalities\n",
        "        'fourier_order': [3, 5, 7]                           # Number of Fourier terms to capture weekly seasonality\n",
        "    }\n",
        "\n",
        "    # Generate 10 random combinations of the defined parameters\n",
        "    param_combinations = [\n",
        "        {\n",
        "            'changepoint_prior_scale': random.choice(param_grid['changepoint_prior_scale']),\n",
        "            'seasonality_prior_scale': random.choice(param_grid['seasonality_prior_scale']),\n",
        "            'fourier_order': random.choice(param_grid['fourier_order'])\n",
        "        }\n",
        "        for _ in range(10)\n",
        "    ]\n",
        "\n",
        "    results = []  # List to store the results of each combination\n",
        "\n",
        "    # Evaluate each parameter combination\n",
        "    for params in param_combinations:\n",
        "        # Create a Prophet model with the selected parameters\n",
        "        model = Prophet(\n",
        "            changepoint_prior_scale=params['changepoint_prior_scale'],\n",
        "            seasonality_prior_scale=params['seasonality_prior_scale'],\n",
        "            weekly_seasonality=False  # Disable default weekly seasonality\n",
        "        )\n",
        "\n",
        "        # Manually add a stronger weekly seasonality\n",
        "        model.add_seasonality(\n",
        "            name='strong_weekly',\n",
        "            period=7,  # 7-day seasonality\n",
        "            fourier_order=params['fourier_order']\n",
        "        )\n",
        "\n",
        "        # Train the model with the data\n",
        "        model.fit(df)\n",
        "\n",
        "        # Perform time series cross-validation:\n",
        "        # - initial training period: 120 days\n",
        "        # - make predictions every 15 days\n",
        "        # - prediction horizon: 30 days\n",
        "        df_cv = cross_validation(model, initial='120 days', period='15 days', horizon='30 days', parallel=\"processes\")\n",
        "\n",
        "        # Compute evaluation metrics like MAPE\n",
        "        df_perf = performance_metrics(df_cv)\n",
        "\n",
        "        # Take the average MAPE for this combination\n",
        "        mape = df_perf['mape'].mean()\n",
        "\n",
        "        # Store the combination and its associated MAPE\n",
        "        results.append((params, mape))\n",
        "\n",
        "    # Sort results by MAPE in ascending order\n",
        "    results.sort(key=lambda x: x[1])\n",
        "\n",
        "    # Print the best combination and its MAPE\n",
        "    return(print(\"Best combination:\", results[0][0], \"MAPE:\", results[0][1]))"
      ],
      "metadata": {
        "id": "qaxOGG2KK0Di"
      },
      "execution_count": null,
      "outputs": []
    },
    {
      "cell_type": "markdown",
      "source": [
        "The previously defined function is called to obtain the best-fitting values for the model based on the sales of each store location."
      ],
      "metadata": {
        "id": "jQBqYfqgMhwW"
      }
    },
    {
      "cell_type": "code",
      "source": [
        "best_fit(df_train_manhattan)"
      ],
      "metadata": {
        "id": "NEjdftM5MmvM"
      },
      "execution_count": null,
      "outputs": []
    },
    {
      "cell_type": "markdown",
      "source": [
        "For the **Manhattan** store, the best calculated combination is:\n",
        "\n",
        "*  **changepoint_prior_scale**: 0.01\n",
        "\n",
        "* **seasonality_prior_scale**: 1\n",
        "\n",
        "* **fourier_order**: 3\n",
        "\n",
        "* With a **MAPE** of 12.14%."
      ],
      "metadata": {
        "id": "pijoFPljMr73"
      }
    },
    {
      "cell_type": "code",
      "source": [
        "best_fit(df_train_hell_kitchen)"
      ],
      "metadata": {
        "id": "H-1A2R0-MnJQ"
      },
      "execution_count": null,
      "outputs": []
    },
    {
      "cell_type": "markdown",
      "source": [
        "For the **Hell's Kitchen** store, the best calculated combination is:\n",
        "\n",
        "* **changepoint_prior_scale**: 0.01\n",
        "\n",
        "* **seasonality_prior_scale**: 10\n",
        "\n",
        "* **fourier_order**: 7\n",
        "\n",
        "* With a **MAPE** of 16.32%."
      ],
      "metadata": {
        "id": "e5E2oy7jMseO"
      }
    },
    {
      "cell_type": "code",
      "source": [
        "best_fit(df_train_astoria)"
      ],
      "metadata": {
        "id": "YUbmHCUEMoE6"
      },
      "execution_count": null,
      "outputs": []
    },
    {
      "cell_type": "markdown",
      "source": [
        "For the **Astoria** store, the best calculated combination is:\n",
        "\n",
        "* **changepoint_prior_scale**: 0.01\n",
        "\n",
        "* **seasonality_prior_scale**: 5\n",
        "\n",
        "* **fourier_order**: 5\n",
        "\n",
        "* With a **MAPE** of 12.95%."
      ],
      "metadata": {
        "id": "vR4f9wUUMtCY"
      }
    },
    {
      "cell_type": "markdown",
      "source": [
        "The model is initialized including the previously observed seasonality."
      ],
      "metadata": {
        "id": "NzEUdXCiwP-_"
      }
    },
    {
      "cell_type": "code",
      "source": [
        "model_manhattan = Prophet(\n",
        "    changepoint_prior_scale=0.01,\n",
        "    seasonality_prior_scale= 1,\n",
        "    daily_seasonality=True,\n",
        "    weekly_seasonality=False\n",
        ")\n",
        "\n",
        "model_manhattan.add_seasonality(\n",
        "    name='weekly_strong',\n",
        "    period=7,\n",
        "    fourier_order=3\n",
        ")\n",
        "\n",
        "model_manhattan.add_country_holidays(country_name='US')"
      ],
      "metadata": {
        "id": "YntUhXAcNlhB"
      },
      "execution_count": null,
      "outputs": []
    },
    {
      "cell_type": "code",
      "source": [
        "model_hell_kitchen = Prophet(\n",
        "    changepoint_prior_scale=0.01,\n",
        "    seasonality_prior_scale = 10,\n",
        "    daily_seasonality=True,\n",
        "    weekly_seasonality=False\n",
        ")\n",
        "\n",
        "model_hell_kitchen.add_seasonality(\n",
        "    name='weekly_strong',\n",
        "    period=7,\n",
        "    fourier_order=7\n",
        ")\n",
        "\n",
        "model_hell_kitchen.add_country_holidays(country_name='US')"
      ],
      "metadata": {
        "id": "KazuEn1ONrLX"
      },
      "execution_count": null,
      "outputs": []
    },
    {
      "cell_type": "code",
      "source": [
        "model_astoria = Prophet(\n",
        "    changepoint_prior_scale=0.01,\n",
        "    daily_seasonality=True,\n",
        "    weekly_seasonality=False,\n",
        "    seasonality_prior_scale=5\n",
        ")\n",
        "\n",
        "model_astoria.add_seasonality(\n",
        "    name='weekly_strong',\n",
        "    period=7,\n",
        "    fourier_order=5\n",
        ")\n",
        "\n",
        "model_astoria.add_country_holidays(country_name='US')"
      ],
      "metadata": {
        "id": "VewLAqinNrFv"
      },
      "execution_count": null,
      "outputs": []
    },
    {
      "cell_type": "markdown",
      "source": [
        "The model is fitted using the previously generated DataFrame."
      ],
      "metadata": {
        "id": "wp6smj2rN-HN"
      }
    },
    {
      "cell_type": "code",
      "source": [
        "model_manhattan.fit(df_train_manhattan)"
      ],
      "metadata": {
        "id": "jk96nYPHNq_L"
      },
      "execution_count": null,
      "outputs": []
    },
    {
      "cell_type": "code",
      "source": [
        "model_hell_kitchen.fit(df_train_hell_kitchen)"
      ],
      "metadata": {
        "id": "npU6W8rJNqnq"
      },
      "execution_count": null,
      "outputs": []
    },
    {
      "cell_type": "code",
      "source": [
        "model_astoria.fit(df_train_astoria)"
      ],
      "metadata": {
        "id": "9pWiY6vCNqco"
      },
      "execution_count": null,
      "outputs": []
    },
    {
      "cell_type": "markdown",
      "source": [
        "## Model Cross validation"
      ],
      "metadata": {
        "id": "F8jAhpBx69A2"
      }
    },
    {
      "cell_type": "markdown",
      "source": [
        "We applied cross-validation to the forecasting models for Lower Manhattan, Hell’s Kitchen, and Astoria, using an initial training window of 120 days, a rolling period of 15 days, and a forecast horizon of 30 days. The performance of each model was evaluated with metrics such as MAPE, and the results were consolidated into a single DataFrame with the corresponding location labels for comparison."
      ],
      "metadata": {
        "id": "VQCFkMAH_CFx"
      }
    },
    {
      "cell_type": "code",
      "source": [
        "df_cv_manhattan = cross_validation(model_manhattan, initial='120 days', period='15 days', horizon='30 days', parallel=\"processes\")\n",
        "# Compute evaluation metrics like MAPE\n",
        "df_perf_manhattan = performance_metrics(df_cv_manhattan)\n",
        "\n",
        "\n",
        "df_cv_hell_kitchen = cross_validation(model_hell_kitchen, initial='120 days', period='15 days', horizon='30 days', parallel=\"processes\")\n",
        "# Compute evaluation metrics like MAPE\n",
        "df_perf_hell_kitchen = performance_metrics(df_cv_hell_kitchen)\n",
        "\n",
        "df_cv_astoria = cross_validation(model_astoria, initial='120 days', period='15 days', horizon='30 days', parallel=\"processes\")\n",
        "# Compute evaluation metrics like MAPE\n",
        "df_perf_astoria = performance_metrics(df_cv_astoria)\n",
        "\n"
      ],
      "metadata": {
        "id": "y-3NaKg2722t"
      },
      "execution_count": null,
      "outputs": []
    },
    {
      "cell_type": "code",
      "source": [
        "df_perf = pd.DataFrame()\n",
        "# Iterate over a list of tuples, each containing a perfomance DataFrame and its corresponding location name.\n",
        "for df, val in [\n",
        "  (df_perf_manhattan, \" Lower Manhattan\"),\n",
        "  (df_perf_hell_kitchen, \"Hell Kitchen\"),\n",
        "  (df_perf_astoria, \"Astoria\")]:\n",
        "\n",
        "  # Add a new column called 'Location' with the corresponding location name.\n",
        "  df['Location'] = val\n",
        "  # Combine (concatenate) the three perfomance DataFrames into a single one by stacking them vertically.\n",
        "  df_perf = pd.concat([df_perf, df])"
      ],
      "metadata": {
        "id": "mCJWB7Pb8Q92"
      },
      "execution_count": null,
      "outputs": []
    },
    {
      "cell_type": "markdown",
      "source": [
        "## Forescast"
      ],
      "metadata": {
        "id": "94Gf7LV5OLQA"
      }
    },
    {
      "cell_type": "markdown",
      "source": [
        "The forecast is initialized for the next 30 days starting from the last date in the model for each store."
      ],
      "metadata": {
        "id": "acMfhwAIOWs8"
      }
    },
    {
      "cell_type": "code",
      "source": [
        "# Generate a DataFrame of future dates starting from the end of the original dataset.\n",
        "# 'periods=30' indicates that 30 additional days will be generated.\n",
        "future_manhattan = model_manhattan.make_future_dataframe(periods=30)\n",
        "future_hell_kitchen = model_hell_kitchen.make_future_dataframe(periods=30)\n",
        "future_astoria = model_astoria.make_future_dataframe(periods=30)\n",
        "\n",
        "# Use the already trained model (model_manhattan) to make predictions\n",
        "# for the dates in the generated DataFrame. The result is a DataFrame\n",
        "# with columns such as 'ds' (date), 'yhat' (prediction), 'yhat_lower' and 'yhat_upper' (confidence interval).\n",
        "forecast_manhattan = model_manhattan.predict(future_manhattan)\n",
        "forecast_hell_kitchen = model_hell_kitchen.predict(future_hell_kitchen)\n",
        "forecast_astoria = model_astoria.predict(future_astoria)"
      ],
      "metadata": {
        "id": "2zQL3ytSOi4q"
      },
      "execution_count": null,
      "outputs": []
    },
    {
      "cell_type": "code",
      "source": [
        "forescast_df = pd.DataFrame()\n",
        "# Iterate over a list of tuples, each containing a forecast DataFrame and its corresponding location name.\n",
        "for df, val in [\n",
        "  (forecast_manhattan_future, \" Lower Manhattan\"),\n",
        "  (forecast_hell_kitchen_future, \"Hell Kitchen\"),\n",
        "  (forecast_astoria_future, \"Astoria\")]:\n",
        "\n",
        "  # Add a new column called 'Location' with the corresponding location name.\n",
        "  df['Location'] = val\n",
        "  # Combine (concatenate) the three forecast DataFrames into a single one by stacking them vertically.\n",
        "  forescast_df = pd.concat([forescast_df, df])"
      ],
      "metadata": {
        "id": "3l9uR-EcOs1v"
      },
      "execution_count": null,
      "outputs": []
    },
    {
      "cell_type": "markdown",
      "source": [
        "## Import to PostgreSQL Database"
      ],
      "metadata": {
        "id": "0IXADyeAO80z"
      }
    },
    {
      "cell_type": "markdown",
      "source": [
        "To establish a secure connection to the PostgreSQL database, environment variables are used to manage the credentials and connection parameters, thus avoiding exposing sensitive information in the code."
      ],
      "metadata": {
        "id": "NP1sHeQbO_mF"
      }
    },
    {
      "cell_type": "code",
      "source": [
        "# Load environment variables from a .env file to retrieve database credentials.\n",
        "load_dotenv()\n",
        "USER = os.getenv(\"user\")\n",
        "PASSWORD = os.getenv(\"password\")\n",
        "HOST = os.getenv(\"host\")\n",
        "PORT = os.getenv(\"port\")\n",
        "DBNAME = os.getenv(\"dbname\")\n",
        "\n",
        "# Build the PostgreSQL connection URL using the psycopg2 driver, including SSL for enhanced security.\n",
        "DATABASE_URL = f\"postgresql+psycopg2://{USER}:{PASSWORD}@{HOST}:{PORT}/{DBNAME}?sslmode=require\"\n",
        "\n",
        "# Create a connection engine using SQLAlchemy.\n",
        "engine = create_engine(DATABASE_URL)\n",
        "\n",
        "# Attempt to connect to the database and print a success or error message.\n",
        "try:\n",
        "    with engine.connect() as connection:\n",
        "        print(\"Successful connection\")\n",
        "except Exception as e:\n",
        "    print(f\"Connection failed \\n error: {e}\")\n"
      ],
      "metadata": {
        "id": "l45ya4IxO_NJ"
      },
      "execution_count": null,
      "outputs": []
    },
    {
      "cell_type": "markdown",
      "source": [
        "The DataFrames `forescast_df` and coffee_sales are exported to the PostgreSQL database using pandas `to_sql` method. Each DataFrame is saved in a specific table (`'forescast'` and `'coffe_sales'`, respectively)."
      ],
      "metadata": {
        "id": "6AmKMicSPvbf"
      }
    },
    {
      "cell_type": "code",
      "source": [
        "# Export the 'forescast_df' DataFrame to the 'forescast' table in the database.\n",
        "# If the table exists, it will be replaced; the DataFrame index is not saved as a column.\n",
        "forescast_df.to_sql('forescast', con=engine, if_exists='replace', index=False)\n",
        "\n",
        "# Export the 'coffee_sales' DataFrame to the 'coffe_sales' table in the database.\n",
        "# It also replaces the table if it exists and does not save the index.\n",
        "coffee_sales.to_sql('coffe_sales', con=engine, if_exists='replace', index=False)\n",
        "\n",
        "# Export the perfomance DataFrame to the 'perfomance' table in the database.\n",
        "# It also replaces the table if it exists and does not save the index.\n",
        "df_perf.to_sql('perfomance', con=engine, if_exists='replace', index=False)"
      ],
      "metadata": {
        "id": "UTHdlibPPvtv"
      },
      "execution_count": null,
      "outputs": []
    },
    {
      "cell_type": "markdown",
      "source": [
        "#Español"
      ],
      "metadata": {
        "id": "rbC-jQC_Z2TC"
      }
    },
    {
      "cell_type": "markdown",
      "source": [
        "##1. Introducción"
      ],
      "metadata": {
        "id": "XGnvQNwkZ4BH"
      }
    },
    {
      "cell_type": "markdown",
      "source": [
        "\n",
        "En este proyecto, se realizó un análisis exploratorio de datos (EDA) y un modelo de predicción de ventas basado en series temporales usando un conjunto de datos disponible en este [enlace](https://www.kaggle.com/datasets/ahmedabbas757/coffee-sales) de Kaggle.\n",
        "\n",
        "El Objetivo principal de este proyecto es comprender los patrones históricos de ventas y poder desarrollar un modelo de aprendizaje automático que pueda anticipar el comportamiento futuro para poder proporcionar información valiosa para para la toma de decisiones.\n",
        "\n",
        "El flujo de trabajo incluyó las siguientes etapas principales:\n",
        "\n",
        "\n",
        "1.   **Extracción de los datos de Kaggle usando una Api**:\n",
        "    Se uso la API Kagglehub para poder extraer los datos de manera correcta y poder mantenerlos actualizados si existe un cambio en el origen de los datos.\n",
        "2.   **Análisis Exploratorio de Datos (EDA)**:\n",
        "    Se utilizó Python y bibliotecas como pandas, matplotlib y seaborn para limpiar y analizar el conjunto de datos, identificando tendencias, estacionalidad y variables clave que afectan las ventas, así como para visualizar los datos de manera rápida.\n",
        "3. **Modelado Predictivo de aprendizaje automatico**:\n",
        "    Se implementó el modelo de pronóstico Prophet desarrollado por Facebook para predecir ventas futuras, considerando aspectos como tendencias y eventos estacionales.\n",
        "4. **Visualización en Power BI**:\n",
        "    Los datos y resultados obtenidos se integraron en un tablero interactivo en Power BI, facilitando la comunicación de insights de manera visual e intuitiva.\n",
        "\n",
        "El proyecto busca demostrar habilidades técnicas en análisis de datos, modelado predictivo y creación de visualizaciones dinámicas, así como la capacidad de trabajar con herramientas modernas de ciencia de datos y análisis empresarial. Este enfoque es crucial para extraer valor de los datos y apoyar la toma de decisiones basadas en evidencia.\n",
        "\n"
      ],
      "metadata": {
        "id": "Kd6uuHJWVk0K"
      }
    },
    {
      "cell_type": "markdown",
      "source": [
        "\n",
        "\n",
        "---\n",
        "\n"
      ],
      "metadata": {
        "id": "lI679tHz7H8I"
      }
    },
    {
      "cell_type": "markdown",
      "source": [
        "## 2. Desarrollo del proyecto\n",
        "\n",
        "En esta sección, se detallará paso a paso el proceso seguido para desarrollar el análisis y la predicción de las ventas, desde la configuración del entorno y la preparación de los datos, hasta la implementación del modelo y la visualización final."
      ],
      "metadata": {
        "id": "cAK-sMMCZOHn"
      }
    },
    {
      "cell_type": "markdown",
      "source": [
        "### Importación de las librerías\n",
        "\n",
        "El primer paso fue importar las librerías necesarias para llevar a cabo el análisis y modelado. Se utilizaron herramientas estándar de Python que son ampliamente reconocidas en la comunidad de ciencia de datos, así como herramientas de visualización de datos, la libería de Kagglehub para la extracción de los datos y Prophet, para el desarrollo del modelo."
      ],
      "metadata": {
        "id": "6SAOSoxKZVlX"
      }
    },
    {
      "cell_type": "code",
      "execution_count": null,
      "metadata": {
        "id": "mJogtqsNZHO-"
      },
      "outputs": [],
      "source": [
        "# Librerías para la manipulación, manejo  y análisis de datos\n",
        "import pandas as pd\n",
        "import numpy as np\n",
        "\n",
        "# Librería para extracción de datos desde Kaggle\n",
        "import kagglehub\n",
        "import os\n",
        "\n",
        "# Librerías para visualización\n",
        "import matplotlib.pyplot as plt\n",
        "import seaborn as sns\n",
        "\n",
        "# Librerías para el modelo basado en series temporales\n",
        "from prophet import Prophet\n",
        "from prophet.diagnostics import performance_metrics, cross_validation\n",
        "import random\n",
        "\n",
        "\n",
        "# Librería para conectar con bases de datos SQL\n",
        "from sqlalchemy import create_engine\n",
        "\n",
        "# Librería para cargar variables de entorno desde un archivo .env\n",
        "from dotenv import load_dotenv\n",
        "\n",
        "# ILibrería para acceder a las variables de entorno cargadas\n",
        "import os\n",
        "\n",
        "# Manejo de advertencias\n",
        "import warnings\n",
        "warnings.filterwarnings(\"ignore\")\n",
        "\n",
        "# Configuración del estilo de las visualizaciones\n",
        "plt.style.use('seaborn-v0_8-dark')\n",
        "\n",
        "random.seed(24)\n"
      ]
    },
    {
      "cell_type": "markdown",
      "source": [
        "### Extracción de los Datos\n",
        "\n",
        "Para garantizar que el análisis se base en información al día, se utilizó la librería kagglehub para descargar los datos directamente desde Kaggle, esto permite tener un enfoque en un flujo de trabajo dinámico y flexible, ya que la información se puede sincronizar fácilmente en caso de existir actualizaciones en el conjunto de datos."
      ],
      "metadata": {
        "id": "l3g2966n50RR"
      }
    },
    {
      "cell_type": "code",
      "execution_count": null,
      "metadata": {
        "id": "2cjzfPvWZHPA"
      },
      "outputs": [],
      "source": [
        "# Se descarga el conjunto de datos desde Kaggle\n",
        "path = kagglehub.dataset_download(\"ahmedabbas757/coffee-sales\")\n",
        "\n",
        "# Nombre del archivo descargado\n",
        "file_name = \"Coffee Shop Sales.xlsx\"\n",
        "\n",
        "# Se construye la ruta completa del archivo\n",
        "file_path = os.path.join(path, file_name)\n",
        "\n",
        "# Se carga el archivo a un DataFrame de pandas.\n",
        "coffee_sales = pd.read_excel(file_path)"
      ]
    },
    {
      "cell_type": "markdown",
      "source": [
        "### Análisis Exploratorio de Datos (EDA)"
      ],
      "metadata": {
        "id": "uMCNkIeK7hiH"
      }
    },
    {
      "cell_type": "markdown",
      "source": [
        "Una vez cargados los datos en un DataFrame, es fundamental realizar una exploración inicial para comprender su estructura y calidad de los datos usando el método info(), este nos proporciona una vista general de los datos para ver información clave sobre la estructura de los datos."
      ],
      "metadata": {
        "id": "jGQirmMm8dCc"
      }
    },
    {
      "cell_type": "code",
      "source": [
        "coffee_sales.info()"
      ],
      "metadata": {
        "id": "xvlh06l2ZeBs"
      },
      "execution_count": null,
      "outputs": []
    },
    {
      "cell_type": "markdown",
      "source": [
        "Podemos ver que los datos están organizados por un identificador de transacción, el cual está acompañado de información importante como la fecha de la transacción, la cantidad vendida, la ubicación de la tienda y características del producto, como su precio unitario, categoría y tipo.\n",
        "Además de estos detalles, se cuenta con un total de 149,116 filas, y lo más relevante es que ninguna de ellas contiene datos nulos. Un aspecto adicional a destacar es que la fecha y la hora de la transacción están separadas en columnas distintas.\n",
        "\n"
      ],
      "metadata": {
        "id": "QvHNDEzp8xFT"
      }
    },
    {
      "cell_type": "markdown",
      "source": [
        "### Transformación de las columnas de fecha y hora\n",
        "\n",
        "Dado que la fecha y la hora de la transacción se encuentran separadas en columnas distintas (`transaction_date` y `transaction_time`), el objetivo de este paso es combinarlas en una sola columna con un formato de timestamp (fecha y hora) para facilitar el análisis temporal."
      ],
      "metadata": {
        "id": "NP5CREAJ-BI4"
      }
    },
    {
      "cell_type": "code",
      "source": [
        "# Se concadenan las columnas 'transaction_date' y 'transaction_time' en una sola columna llamada 'transaction_timestamp'\n",
        "# Primero, se convierte ambas columnas a tipo cadena (str) y se unen con un espacio en medio\n",
        "coffee_sales[\"transaction_timestamp\"] = coffee_sales[\"transaction_date\"].astype(str) + ' ' + coffee_sales[\"transaction_time\"].astype(str)\n",
        "\n",
        "# Se convierte la columna nueva 'transaction_timestamp' a tipo datetime para facilitar el análisis temporal\n",
        "coffee_sales[\"transaction_timestamp\"] = pd.to_datetime(coffee_sales[\"transaction_timestamp\"])\n",
        "\n",
        "# Se eliminan las columnas originales 'transaction_date' y 'transaction_time'\n",
        "coffee_sales.drop([\"transaction_date\", \"transaction_time\"], axis=1, inplace=True)"
      ],
      "metadata": {
        "id": "x8U7gI7xZmjm"
      },
      "execution_count": null,
      "outputs": []
    },
    {
      "cell_type": "markdown",
      "source": [
        "Para verificar que la nueva columna es correcta, podemos comprobar los datos mostrando las primeras filas y asegurándonos de que la columna transaction_timestamp contiene el formato datetime esperado.\n"
      ],
      "metadata": {
        "id": "cM3yhkk7-ps_"
      }
    },
    {
      "cell_type": "code",
      "source": [
        "coffee_sales[\"transaction_timestamp\"].head()"
      ],
      "metadata": {
        "id": "ACszNvc6GVFG"
      },
      "execution_count": null,
      "outputs": []
    },
    {
      "cell_type": "markdown",
      "source": [
        "### Verificación de duplicados en las transacciones\n",
        "\n",
        "Para asegurarnos de que cada transacción es única, se compara el número de registros originales del conjunto de datos con el número de identificadores únicos en la columna `transaction_id`. Si ambos valores son iguales, significa que no hay transacciones duplicadas; de lo contrario, existen registros repetidos en los datos.\n",
        "\n"
      ],
      "metadata": {
        "id": "owEzTHSYfuA9"
      }
    },
    {
      "cell_type": "code",
      "source": [
        "# Eliminar valores duplicados en la columna 'transaction_id' y contar cuántos identificadores únicos existen\n",
        "unique_transactions = coffee_sales[\"transaction_id\"].drop_duplicates().shape[0]\n",
        "\n",
        "# Contar el número total de filas en el DataFrame original\n",
        "total_transactions = coffee_sales.shape[0]\n",
        "\n",
        "# Comparar si el número de identificadores únicos es igual al número total de filas en el DataFrame\n",
        "# Si es True, significa que cada transacción tiene un identificador único y no hay duplicados\n",
        "# Si es False, significa que existen transacciones con el mismo 'transaction_id' más de una vez\n",
        "unique_transactions == total_transactions"
      ],
      "metadata": {
        "id": "-jRF7-6lIIz5"
      },
      "execution_count": null,
      "outputs": []
    },
    {
      "cell_type": "markdown",
      "source": [
        "### Verificación de las ubicaciones de las tiendas\n",
        "\n",
        "Para analizar la distribución de las transacciones por tienda, el siguiente código cuenta la frecuencia de ocurrencia de cada combinación única de `store_location` y `store_id`. Esto permite identificar cuántas transacciones se realizaron en cada tienda y detectar posibles inconsistencias en los datos, como tiendas con múltiples identificadores o ubicaciones duplicadas."
      ],
      "metadata": {
        "id": "EHK5CkOHi7FJ"
      }
    },
    {
      "cell_type": "code",
      "source": [
        "# Contar la frecuencia de combinaciones únicas de 'store_location' y 'store_id'\n",
        "coffee_sales[[\"store_location\", \"store_id\"]].value_counts()\n"
      ],
      "metadata": {
        "id": "tH8LEcm3Jwie"
      },
      "execution_count": null,
      "outputs": []
    },
    {
      "cell_type": "markdown",
      "source": [
        "El resultado muestra el número de transacciones registradas en cada combinación de `store_location` y `store_id`. Por ejemplo, la tienda en *Hell’s Kitchen* con el ID **8** tuvo **50,735** transacciones, mientras que la ubicada en *Astoria* con el ID **3** registró **50,599** ventas. De manera similar, la tienda en *Lower Manhattan* con el ID **5** acumuló **47,782** transacciones."
      ],
      "metadata": {
        "id": "SaQjCkGuqs4R"
      }
    },
    {
      "cell_type": "markdown",
      "source": [
        "### Normalización de valores en los detalles de los productos\n",
        "\n",
        "Para verificar que el conjunto de datos no tenga incosistencias en la columna `product_detail`, como pueden ser las variaciones en las mayúsculas o minúsculas, espacios adicionales en medio de las oraciones, al principio o final de estas.\n",
        "\n",
        "Para lograr esto, se va a comparar el tamaño del dataset filtrado por valores únicos antes y después de una normalización de los datos eliminando los espacios extras, asi como convirtiendo el texto a minúsculas."
      ],
      "metadata": {
        "id": "3oQLYds388bz"
      }
    },
    {
      "cell_type": "code",
      "source": [
        "# Imprimir el número de valores únicos antes de la validación\n",
        "print(f\"Numero de valores antes de la validación: {coffee_sales['product_detail'].value_counts().shape[0]}\")\n",
        "\n",
        "# Imprimir el número de valores únicos después de aplicar la validación (normalización de espacios, minúsculas y strip)\n",
        "print(\"Numero de valores después de la validación: \",\n",
        "      coffee_sales['product_detail'].str.replace(r'\\s+', ' ', regex=True).str.lower().str.strip().value_counts().shape[0])\n",
        "\n"
      ],
      "metadata": {
        "id": "ChtPH2goL8qS"
      },
      "execution_count": null,
      "outputs": []
    },
    {
      "cell_type": "markdown",
      "source": [
        "Como la cantidad de valores únicos se mantuvo igual antes y después de la normalización, podemos concluir que estos datos no requieren correcciones.\n",
        "\n"
      ],
      "metadata": {
        "id": "MgXPgN9U-3Lv"
      }
    },
    {
      "cell_type": "markdown",
      "source": [
        "### Revisar si no hay valores extremos en los precios unitarios\n",
        "\n",
        "Para poder revisar si hay valores extremos en los precios unitarios, se ejecutara un codigo que nos permita generar un gráfico de caja para poder ver visualmente la distribución de los valores. Este gráfico nos ayudará a identificar los valores extremos que puedan existir fuera del rango intercuartílico (IQR)."
      ],
      "metadata": {
        "id": "zn10SgkpFFk5"
      }
    },
    {
      "cell_type": "code",
      "source": [
        "#Se genera el gráfico con la columna unit_price\n",
        "sns.boxplot(coffee_sales[\"unit_price\"], fill=False)\n",
        "plt.title(\"Distribución de los precios unitarios\")\n",
        "plt.xlabel(\"Precio unitario\")\n",
        "plt.ylabel(\"Frecuencia\")\n",
        "#se llama show() para mostrar el gráfico\n",
        "plt.show()"
      ],
      "metadata": {
        "id": "KHGlEDk7MJPf"
      },
      "execution_count": null,
      "outputs": []
    },
    {
      "cell_type": "markdown",
      "source": [
        "Podemos ver en el gráfico precios que sobrepasan los $25 doláres, para investigarlo vamos a ejecutar el siguente código."
      ],
      "metadata": {
        "id": "Sa9lmSPdGmEC"
      }
    },
    {
      "cell_type": "code",
      "source": [
        "# Filtrar los productos cuyo precio unitario es mayor o igual a 25 doláres y agrupar por cantidad.\n",
        "coffee_sales[coffee_sales[\"unit_price\"]>=25][\"product_type\"].value_counts()"
      ],
      "metadata": {
        "id": "mtVkBQZoG1Et"
      },
      "execution_count": null,
      "outputs": []
    },
    {
      "cell_type": "code",
      "source": [
        "# Filtrar los productos cuyo precio unitario es mayor o igual a 25 y cuyo tipo de producto es \"Clothing\"\n",
        "# Y  obtener los valores únicos\n",
        "coffee_sales[(coffee_sales[\"unit_price\"]>=25)&(coffee_sales[\"product_type\"]== \"Clothing\")][\"product_detail\"].unique()"
      ],
      "metadata": {
        "id": "fpZ84plKHuc7"
      },
      "execution_count": null,
      "outputs": []
    },
    {
      "cell_type": "markdown",
      "source": [
        "Podemos ver que estos productos con precios altos son bolsas de granos de café premium y orgánicos, así como piezas de ropa con el branding de la tienda.\n",
        "\n",
        "Para el siguiente paso se van a investigar los precios mínimos de la tienda."
      ],
      "metadata": {
        "id": "IMrYYZYJG_Bd"
      }
    },
    {
      "cell_type": "code",
      "source": [
        "# Obtener el valor mínimo del precio unitario en la columna \"unit_price\"\n",
        "coffee_sales[\"unit_price\"].min()"
      ],
      "metadata": {
        "id": "jaHO-JmjL_p-"
      },
      "execution_count": null,
      "outputs": []
    },
    {
      "cell_type": "markdown",
      "source": [
        "Podemos ver un precio mínimo de $0.8 doláres, para ver a que categoría y tipo de producto, se va a ejecutar el siguiente código."
      ],
      "metadata": {
        "id": "6-PMO5E5MGiD"
      }
    },
    {
      "cell_type": "code",
      "source": [
        "# Se van a filtrar los productos cuyo precio unitario es exactamente 0.8\n",
        "# y se van a contar la cantidad de productos en cada categoría.\n",
        "coffee_sales[coffee_sales[\"unit_price\"]==0.8][\"product_category\"].value_counts()"
      ],
      "metadata": {
        "id": "tveJWjJpMCCF"
      },
      "execution_count": null,
      "outputs": []
    },
    {
      "cell_type": "code",
      "source": [
        "# Filtrar los productos cuyo precio unitario es 0.8 y cuya categoría de producto es \"Flavours\" y contar por categoria\n",
        "coffee_sales[\n",
        "    (coffee_sales[\"unit_price\"]==0.8)\n",
        "    &\n",
        "    (coffee_sales[\"product_category\"]== \"Flavours\")\n",
        "    ][\"product_type\"].value_counts()"
      ],
      "metadata": {
        "id": "W3L0Xn0zMsUb"
      },
      "execution_count": null,
      "outputs": []
    },
    {
      "cell_type": "markdown",
      "source": [
        "Como podemos ver, los jarabes son los productos con el precio mínimo en la tienda con un costo de $0.8 doláres."
      ],
      "metadata": {
        "id": "dGiQ-ve4Nksz"
      }
    },
    {
      "cell_type": "markdown",
      "source": [
        "### Exploración visual de las categorías del conjunto de datos"
      ],
      "metadata": {
        "id": "6tYjdeDLVP_8"
      }
    },
    {
      "cell_type": "markdown",
      "source": [
        "#### Categorías"
      ],
      "metadata": {
        "id": "txH-cKnIVV7F"
      }
    },
    {
      "cell_type": "code",
      "source": [
        "# Contar la cantidad de productos en cada categoría y reiniciar el índice para estructurarlo en un DataFrame\n",
        "product_category_count = coffee_sales[\"product_category\"].value_counts().reset_index()\n",
        "\n",
        "# Crear un gráfico de barras con Seaborn\n",
        "ax = sns.barplot(\n",
        "    x=product_category_count[\"product_category\"],  # Categoría de producto en el eje X\n",
        "    y=product_category_count[\"count\"],  # Frecuencia en el eje Y\n",
        "    hue=product_category_count[\"product_category\"],  # Colorear por categoría\n",
        ")\n",
        "\n",
        "# Agregar etiquetas numéricas encima de cada barra para visualizar mejor los valores\n",
        "for i, value in enumerate(product_category_count[\"count\"]):\n",
        "    ax.text(i, value + 0.5, str(value), ha=\"center\", fontsize=10, fontweight=\"bold\")\n",
        "\n",
        "# Agregar título y etiquetas a los ejes\n",
        "plt.title(\"Distribución de las categorías de productos\")\n",
        "plt.xlabel(\"Categoría de producto\")\n",
        "plt.ylabel(\"Frecuencia\")\n",
        "\n",
        "# Rotar las etiquetas del eje X para mejor visibilidad\n",
        "plt.xticks(rotation=45)\n",
        "\n",
        "# Mostrar el gráfico\n",
        "plt.show()"
      ],
      "metadata": {
        "id": "DKbtrb8tRlA0"
      },
      "execution_count": null,
      "outputs": []
    },
    {
      "cell_type": "markdown",
      "source": [
        "Para poder interpretrar la distribución y los porcentajes correspondientes, se declará una función que nos permita calcular los porcentajes del total de las ventas acomuladas."
      ],
      "metadata": {
        "id": "sAeEJFaYnPqc"
      }
    },
    {
      "cell_type": "code",
      "source": [
        "def percentage_category(category, df, column, total):\n",
        "    \"\"\"\n",
        "    Calcula el porcentaje de una categoría específica dentro de un DataFrame de Pandas.\n",
        "\n",
        "    Args:\n",
        "        category: El valor a buscar en la columna especificada.\n",
        "        df: El DataFrame de Pandas en el que se buscará.\n",
        "        column: El nombre de la columna en la que se buscará.\n",
        "        total: El valor total contra el que se calculará el porcentaje.\n",
        "\n",
        "    Returns:\n",
        "        El porcentaje de la categoría redondeado a 2 decimales, o un mensaje de error\n",
        "        si el DataFrame no es válido o no ha sido procesado.\n",
        "    \"\"\"\n",
        "    try:\n",
        "        value = df[df[column] == category][\"count\"].values[0]\n",
        "        return round((value / total) * 100, 2)\n",
        "    except:\n",
        "        return \"dataframe no válido o no procesado\""
      ],
      "metadata": {
        "id": "Du-katk4kpqg"
      },
      "execution_count": null,
      "outputs": []
    },
    {
      "cell_type": "code",
      "source": [
        "# Definir una lista con las categorías de productos a analizar\n",
        "product_category = [\n",
        "    \"Bakery\",              # Productos horneados\n",
        "    \"Packaged Chocolate\",  # Chocolates empaquetados\n",
        "    \"Coffee\",              # Café\n",
        "    \"Tea\",                 # Té\n",
        "    \"Branded\"              # Productos de marca\n",
        "]\n",
        "\n",
        "# Calcular el total de productos en todas las categorías sumando las frecuencias\n",
        "total_categories = product_category_count.sum().values[1]"
      ],
      "metadata": {
        "id": "mu1TSTRnlhBk"
      },
      "execution_count": null,
      "outputs": []
    },
    {
      "cell_type": "code",
      "source": [
        "# Iterar sobre cada categoría de producto en la lista product_category\n",
        "for cat in product_category:\n",
        "    # Calcular el porcentaje de ventas de la categoría actual y mostrar el resultado\n",
        "    print(f\"{cat}: {percentage_category(cat, product_category_count, 'product_category', total_categories)} % del total de las ventas\")\n"
      ],
      "metadata": {
        "id": "qxQIi2xtld_2"
      },
      "execution_count": null,
      "outputs": []
    },
    {
      "cell_type": "markdown",
      "source": [
        "Este gráfico nos muestra la distribución de las ventas de la cafetería por categoría de producto, podemos ver que los productos de las categorías *Coffee y Tea* dominan en las ventas totales, lo cuál nos indica que estos productos son los productos favoritos de los clientes, siendo el café casi dos quintas partes del total de las ventas, teniendo un dato especifico del 39.17% de las ventas totales, y el té tiene un 30.48% de las ventas correspondientes. Los productos horneados se encuentran en tercer lugar, siendo un 15.29% de las ventas totales, lo cuál a pesar de ser una categoría secundaria, representan una parte importante de los ingresos.\n",
        "\n",
        "\n",
        "En los productos con menos ventas, podemos ver que los chocolates enpaquetados represetan apenas un 0.33% del total de las ventas, seguidos de los productos con el logo de la tienda con el 0.5% de las ventas acomuladas."
      ],
      "metadata": {
        "id": "-_M2M5rMcPuS"
      }
    },
    {
      "cell_type": "markdown",
      "source": [
        "#### Tipos"
      ],
      "metadata": {
        "id": "MVqsZKWJcDWz"
      }
    },
    {
      "cell_type": "markdown",
      "source": [
        "Para analizar el tipo de producto, primero se va a tener que comprobar el tamaño del conjunto de tipos de productos únicos."
      ],
      "metadata": {
        "id": "d1z9GlFV0NLY"
      }
    },
    {
      "cell_type": "code",
      "source": [
        "# Calcular el número total de tipos de productos únicos en el conjunto de datos\n",
        "len(coffee_sales[\"product_type\"].unique())"
      ],
      "metadata": {
        "id": "YQxMDp6Zwp1R"
      },
      "execution_count": null,
      "outputs": []
    },
    {
      "cell_type": "markdown",
      "source": [
        "Considerando el tamaño del conjunto de los datos, se explorá los productos de tienda graficando los 5 productos más vendidos y los 5 menos vendidos."
      ],
      "metadata": {
        "id": "kYZqCS2V0y53"
      }
    },
    {
      "cell_type": "code",
      "source": [
        "# Contar la cantidad de productos en cada Tipo y reiniciar el índice para estructurarlo en un DataFrame\n",
        "product_type_count_top5 = coffee_sales[\"product_type\"].value_counts().reset_index().head()\n",
        "\n",
        "# Crear un gráfico de barras con Seaborn\n",
        "ax = sns.barplot(\n",
        "    x=product_type_count_top5[\"product_type\"],  # Tipo de producto en el eje X\n",
        "    y=product_type_count_top5[\"count\"],  # Frecuencia en el eje Y\n",
        "    hue=product_type_count_top5[\"product_type\"],  # Colorear por Tipo\n",
        ")\n",
        "\n",
        "# Agregar etiquetas numéricas encima de cada barra para visualizar mejor los valores\n",
        "for i, value in enumerate(product_type_count_top5[\"count\"]):\n",
        "    ax.text(i, value + 0.5, str(value), ha=\"center\", fontsize=10, fontweight=\"bold\")\n",
        "\n",
        "# Agregar título y etiquetas a los ejes\n",
        "plt.title(\"Distribución de los 5 tipos de productos más vendidos\")\n",
        "plt.xlabel(\"Tipo de producto\")\n",
        "plt.ylabel(\"Frecuencia\")\n",
        "\n",
        "# Rotar las etiquetas del eje X para mejor visibilidad\n",
        "plt.xticks(rotation=45)\n",
        "\n",
        "# Mostrar el gráfico\n",
        "plt.show()"
      ],
      "metadata": {
        "id": "Wy4KZxucVT1e"
      },
      "execution_count": null,
      "outputs": []
    },
    {
      "cell_type": "markdown",
      "source": [
        "Este gráfico reafirma las categorías más vendidas de café y té, pues dentro de los 5 productos más vendidos en la cafetería podemos ver que 2 de ellos corresponden a variantes de café y 3 de ellos corresponden a variantes de té, respectivamente, y mostrando una preferencia del chocolate caliente para una gran parte de las ventas."
      ],
      "metadata": {
        "id": "3NaIiEc936Xz"
      }
    },
    {
      "cell_type": "code",
      "source": [
        "# Contar la cantidad de productos en cada Tipo y reiniciar el índice para estructurarlo en un DataFrame\n",
        "product_type_count_bottom5 = coffee_sales[\"product_type\"].value_counts().reset_index().tail()\n",
        "\n",
        "# Crear un gráfico de barras con Seaborn\n",
        "ax = sns.barplot(\n",
        "    x=product_type_count_bottom5[\"product_type\"],  # Tipo de producto en el eje X\n",
        "    y=product_type_count_bottom5[\"count\"],  # Frecuencia en el eje Y\n",
        "    hue=product_type_count_bottom5[\"product_type\"],  # Colorear por Tipo\n",
        ")\n",
        "\n",
        "# Agregar etiquetas numéricas encima de cada barra para visualizar mejor los valores\n",
        "for i, value in enumerate(product_type_count_bottom5[\"count\"]):\n",
        "    ax.text(i, value + 0.5, str(value), ha=\"center\", fontsize=10, fontweight=\"bold\")\n",
        "\n",
        "# Agregar título y etiquetas a los ejes\n",
        "plt.title(\"Distribución de los 5 tipos de productos menos vendidos\")\n",
        "plt.xlabel(\"Tipo de producto\")\n",
        "plt.ylabel(\"Frecuencia\")\n",
        "\n",
        "# Rotar las etiquetas del eje X para mejor visibilidad\n",
        "plt.xticks(rotation=45)\n",
        "\n",
        "# Mostrar el gráfico\n",
        "plt.show()"
      ],
      "metadata": {
        "id": "g5PWQa0Qe5qq"
      },
      "execution_count": null,
      "outputs": []
    },
    {
      "cell_type": "markdown",
      "source": [
        "En este gráfico podemos ver la distribución de los 5 productos menos vendidos en la tienda, al notar que dos tipos de granos (\"House blend Beans y \"Green Beans\"), así como el té verde, conforman una categoría diferente a las menos vendidas, podríamos analizar si su baja demanda se debe a una estrategia de nicho, precios elevados o simplemente a una menor preferencia de los clientes.\n",
        "\n",
        "Con la presencia del chocolate y de los productos de marca de la cafetería, da pie a un posterior analisis para identificar los factores que hacen que estos productos tengan unas ventas bajas y si es posible, encontrar un área de mejora.\n"
      ],
      "metadata": {
        "id": "zIxU80mof0pk"
      }
    },
    {
      "cell_type": "markdown",
      "source": [
        "### Exploración de las ventas temporales\n"
      ],
      "metadata": {
        "id": "REhZ0wqp0yZ3"
      }
    },
    {
      "cell_type": "markdown",
      "source": [
        "#### Ventas Mensuales por sucursal"
      ],
      "metadata": {
        "id": "MdnIU0-QHN1f"
      }
    },
    {
      "cell_type": "markdown",
      "source": [
        "Para explorar los datos de forma visual a través del tiempo, se necesita primero agruparlos para obtener las ventas por mes, hora, día y semana, en este primer paso se va a explorar las ventas por surcusal."
      ],
      "metadata": {
        "id": "m91AN6gwHWtv"
      }
    },
    {
      "cell_type": "code",
      "source": [
        "# Define the columns to be used in the analysis\n",
        "columnas = ['transaction_timestamp', 'product_category', 'store_location']\n",
        "\n",
        "# ----------------------------------------------\n",
        "# Análisis de ventas por sucursal y mes\n",
        "# ----------------------------------------------\n",
        "ventas_por_sucursal_mensuales = (\n",
        "    coffee_sales[columnas]  # Seleccionar solo las columnas relevantes\n",
        "    .assign(\n",
        "        # Extraer el mes y año de la fecha de transacción en formato \"MM YYYY\"\n",
        "        month=lambda x: x['transaction_timestamp'].dt.strftime('%m %Y')\n",
        "    )\n",
        "    # Agrupar los datos por ubicación de la tienda y mes\n",
        "    .groupby(['store_location', 'month'])\n",
        "    .size()  # Contar el número de transacciones en cada grupo\n",
        "    .reset_index(name='count')  # Convertir el resultado en un DataFrame con una columna llamada 'count'\n",
        ")\n",
        "\n",
        "# ----------------------------------------------\n",
        "# Análisis de ventas por sucursal y día de la semana\n",
        "# ----------------------------------------------\n",
        "ventas_por_sucursal_diarias = (\n",
        "    coffee_sales[columnas]  # Seleccionar solo las columnas relevantes\n",
        "    .assign(\n",
        "        # Extraer el día de la semana en formato completo (ejemplo: \"Monday\", \"Tuesday\", etc.)\n",
        "        day=lambda x: x['transaction_timestamp'].dt.strftime('%A')\n",
        "    )\n",
        "    # Agrupar los datos por ubicación de la tienda y día de la semana\n",
        "    .groupby(['store_location', 'day'])\n",
        "    .size()  # Contar el número de transacciones en cada grupo\n",
        "    .reset_index(name='count')  # Convertir el resultado en un DataFrame con una columna llamada 'count'\n",
        ")\n",
        "\n",
        "# ----------------------------------------------\n",
        "# Análisis de ventas por sucursal y hora del día\n",
        "# ----------------------------------------------\n",
        "ventas_por_sucursal_por_hora = (\n",
        "    coffee_sales[columnas]  # Seleccionar solo las columnas relevantes\n",
        "    .assign(\n",
        "        # Extraer la hora de la transacción en formato de 24 horas (ejemplo: \"08\", \"15\", \"23\")\n",
        "        hour=lambda x: x['transaction_timestamp'].dt.strftime('%H')\n",
        "    )\n",
        "    # Agrupar los datos por ubicación de la tienda y hora del día\n",
        "    .groupby(['store_location', 'hour'])\n",
        "    .size()  # Contar el número de transacciones en cada grupo\n",
        "    .reset_index(name='count')  # Convertir el resultado en un DataFrame con una columna llamada 'count'\n",
        ")\n",
        "\n",
        "# ----------------------------------------------\n",
        "# Análisis de ventas por sucursal y semana\n",
        "# ----------------------------------------------\n",
        "\n",
        "\n",
        "ventas_por_sucursal_por_semana = (\n",
        "    coffee_sales[columnas]  # Seleccionar solo las columnas relevantes\n",
        "    .assign(\n",
        "        # Extraer la hora de la transacción en formato de número de semana\n",
        "        week=lambda x: x['transaction_timestamp'].dt.strftime('%W')\n",
        "    )\n",
        "    # Agrupar los datos por ubicación de la tienda y semana\n",
        "    .groupby(['store_location', 'week'])\n",
        "    .size()  # Contar el número de transacciones en cada grupo\n",
        "    .reset_index(name='count')  # Convertir el resultado en un DataFrame con una columna llamada 'count'\n",
        ")"
      ],
      "metadata": {
        "id": "by8z1RgWVwbC"
      },
      "execution_count": null,
      "outputs": []
    },
    {
      "cell_type": "code",
      "source": [
        "# Crear un gráfico de líneas para visualizar las ventas mensuales por sucursal\n",
        "sns.lineplot(\n",
        "    x=ventas_por_sucursal_mensuales[\"month\"],  # Eje X: Meses\n",
        "    y=ventas_por_sucursal_mensuales[\"count\"],  # Eje Y: Número de ventas\n",
        "    hue=ventas_por_sucursal_mensuales[\"store_location\"]  # Diferenciar por ubicación de la tienda\n",
        ")\n",
        "\n",
        "\n",
        "# Etiquetas de los ejes y título del gráfico\n",
        "plt.xlabel(\"Mes\")  # Etiqueta del eje X\n",
        "plt.ylabel(\"Ventas\")  # Etiqueta del eje Y\n",
        "plt.legend(title = \"Ubicación de la tienda\") #Titulo de la leyenda\n",
        "plt.title(\"Ventas mensuales por sucursal\")  # Título del gráfico\n",
        "\n",
        "# Mostrar el gráfico\n",
        "plt.show()\n"
      ],
      "metadata": {
        "id": "C2EUbg-DrLRY"
      },
      "execution_count": null,
      "outputs": []
    },
    {
      "cell_type": "markdown",
      "source": [
        "El gráfico nos muestra la tendencia de las ventas durante la primera mitad del año 2023, podemos ver que el año empezó con una tendencia a la baja que al terminar febrero, comenzó a ir a la alta hasta el mes de corte de los datos. Podemos ver que la surcusal de *Astoria* y *Hell's Kitchen* tienen tendencias similares de ventas, con Lower Manhattan teniendo una diferencia pequeña de ventas."
      ],
      "metadata": {
        "id": "juYjnrGP1AXV"
      }
    },
    {
      "cell_type": "markdown",
      "source": [
        "#### Ventas por día de la semana"
      ],
      "metadata": {
        "id": "nF5HMQZxgFuO"
      }
    },
    {
      "cell_type": "code",
      "source": [
        "# Se ordena los valores de las ventas por sucursal diarias por número de ventas en forma ascedente\n",
        "ventas_por_sucursal_diarias = ventas_por_sucursal_diarias.sort_values(by=\"count\")\n",
        "# Crear un gráfico de líneas para visualizar las ventas por día y sucursal\n",
        "sns.lineplot(\n",
        "    x=ventas_por_sucursal_diarias[\"day\"],  # Eje X: Día\n",
        "    y=ventas_por_sucursal_diarias[\"count\"],  # Eje Y: Número de ventas\n",
        "    hue=ventas_por_sucursal_diarias[\"store_location\"]  # Diferenciar por ubicación de la tienda\n",
        ")\n",
        "\n",
        "\n",
        "# Etiquetas de los ejes y título del gráfico\n",
        "plt.xlabel(\"Día\")  # Etiqueta del eje X\n",
        "plt.ylabel(\"Ventas\")  # Etiqueta del eje Y\n",
        "plt.legend(title = \"Ubicación de la tienda\") #Titulo de la leyenda\n",
        "plt.title(\"Ventas por día y sucursal\")  # Título del gráfico\n",
        "\n",
        "# Mostrar el gráfico\n",
        "plt.show()"
      ],
      "metadata": {
        "id": "WLinocfFgFdC"
      },
      "execution_count": null,
      "outputs": []
    },
    {
      "cell_type": "markdown",
      "source": [
        "####Ventas por hora del día"
      ],
      "metadata": {
        "id": "bXrezHDonH-V"
      }
    },
    {
      "cell_type": "code",
      "source": [
        "# Se ordena los valores de las ventas por sucursal por número de ventas y hora  en forma ascedente\n",
        "ventas_por_sucursal_por_hora = ventas_por_sucursal_por_hora.sort_values(by=\"hour\")\n",
        "# Crear un gráfico de líneas para visualizar las ventas por hora y sucursal\n",
        "sns.lineplot(\n",
        "    x=ventas_por_sucursal_por_hora[\"hour\"],  # Eje X: hora\n",
        "    y=ventas_por_sucursal_por_hora[\"count\"],  # Eje Y: Número de ventas\n",
        "    hue=ventas_por_sucursal_por_hora[\"store_location\"]  # Diferenciar por ubicación de la tienda\n",
        ")\n",
        "\n",
        "\n",
        "# Etiquetas de los ejes y título del gráfico\n",
        "plt.xlabel(\"Hora\")  # Etiqueta del eje X\n",
        "plt.ylabel(\"Ventas\")  # Etiqueta del eje Y\n",
        "plt.legend(title = \"Ubicación de la tienda\") #Titulo de la leyenda\n",
        "plt.title(\"Ventas por hora y sucursal\")  # Título del gráfico\n",
        "\n",
        "# Mostrar el gráfico\n",
        "plt.show()"
      ],
      "metadata": {
        "id": "WKFEfXqzoB7m"
      },
      "execution_count": null,
      "outputs": []
    },
    {
      "cell_type": "markdown",
      "source": [
        "####Ventas por semana del año"
      ],
      "metadata": {
        "id": "5sqFIhmmnQay"
      }
    },
    {
      "cell_type": "code",
      "source": [
        "# Se ordena los valores de las ventas por sucursal semanales por número de ventas en forma ascedente\n",
        "ventas_por_sucursal_por_semana = ventas_por_sucursal_por_semana.sort_values(by=\"week\")\n",
        "# Crear un gráfico de líneas para visualizar las ventas por hora y sucursal\n",
        "sns.lineplot(\n",
        "    x=ventas_por_sucursal_por_semana[\"week\"],  # Eje X: Semana\n",
        "    y=ventas_por_sucursal_por_semana[\"count\"],  # Eje Y: Número de ventas\n",
        "    hue=ventas_por_sucursal_por_semana[\"store_location\"]  # Diferenciar por ubicación de la tienda\n",
        ")\n",
        "\n",
        "\n",
        "# Etiquetas de los ejes y título del gráfico\n",
        "plt.xlabel(\"Semana\")  # Etiqueta del eje X\n",
        "plt.ylabel(\"Ventas\")  # Etiqueta del eje Y\n",
        "plt.legend(title = \"Ubicación de la tienda\") #Titulo de la leyenda\n",
        "plt.title(\"Ventas semanales por sucursal\")  # Título del gráfico\n",
        "plt.xticks(rotation=45)\n",
        "\n",
        "# Mostrar el gráfico\n",
        "plt.show()"
      ],
      "metadata": {
        "id": "UZmsinhenuI0"
      },
      "execution_count": null,
      "outputs": []
    },
    {
      "cell_type": "markdown",
      "source": [
        "Con estas gráficas podemos confirmar que existe estacionalidad en los datos, observándose un mayor volumen de ventas los días jueves y viernes. Además, la mayor frecuencia de ventas se concentra entre las 7:00 a.m. y las 10:00 a.m., tras lo cual el volumen comienza a disminuir."
      ],
      "metadata": {
        "id": "muJuWaQxqkpj"
      }
    },
    {
      "cell_type": "markdown",
      "source": [
        "Teniendo en cuenta la estacionalidad de las ventas, procederemos a entrenar el modelo predictivo aplicando los ajustes necesarios."
      ],
      "metadata": {
        "id": "ecEWWKLBsAzX"
      }
    },
    {
      "cell_type": "markdown",
      "source": [
        "## 3. Entrenamiento del modelo"
      ],
      "metadata": {
        "id": "AHd8ZOI2sWZ4"
      }
    },
    {
      "cell_type": "markdown",
      "source": [
        "#### Preparación del Dataset"
      ],
      "metadata": {
        "id": "3GC1cMm4uqtI"
      }
    },
    {
      "cell_type": "markdown",
      "source": [
        "Para poder entrenar el modelo, procederemos a hacer una copia del DataFrame original, filtraremos las columnas necesarias, que en este caso son la fecha de la venta y el precio unitario del producto y seperaremos por tienda."
      ],
      "metadata": {
        "id": "fCMi1vHTuzFZ"
      }
    },
    {
      "cell_type": "code",
      "source": [
        "def daily_sales(df_store):\n",
        "    daily = (df_store\n",
        "          .set_index('ds')        # date column\n",
        "          .resample('D')['y'].sum()              # daily sales\n",
        "          .asfreq('D', fill_value=0)\n",
        "          .reset_index())\n",
        "\n",
        "\n",
        "    return daily"
      ],
      "metadata": {
        "id": "xiavVJmqn4YI"
      },
      "execution_count": null,
      "outputs": []
    },
    {
      "cell_type": "code",
      "source": [
        "# Hacemos una copia del DataFrame original para no modificar los datos originales\n",
        "df_train_manhattan = coffee_sales.copy()\n",
        "df_train_hell_kitchen = coffee_sales.copy()\n",
        "df_train_astoria = coffee_sales.copy()\n",
        "# Filtramos solo las columnas necesarias: fecha de la venta y precio unitario\n",
        "df_train_manhattan = df_train_manhattan[df_train_manhattan['store_location'] == 'Lower Manhattan'][[\"transaction_timestamp\", \"unit_price\"]]\n",
        "df_train_hell_kitchen = df_train_hell_kitchen[df_train_hell_kitchen[\"store_location\"] == \"Hell's Kitchen\"][[\"transaction_timestamp\", \"unit_price\"]]\n",
        "df_train_astoria = df_train_astoria[df_train_astoria[\"store_location\"] =='Astoria' ][[\"transaction_timestamp\", \"unit_price\"]]\n",
        "# Renombramos las columnas para que sean compatibles con Prophet:\n",
        "df_train_manhattan.columns = ['ds', 'y']\n",
        "df_train_hell_kitchen.columns = ['ds', 'y']\n",
        "df_train_astoria.columns = ['ds', 'y']\n"
      ],
      "metadata": {
        "id": "uD-KgOxhuPvH"
      },
      "execution_count": null,
      "outputs": []
    },
    {
      "cell_type": "code",
      "source": [
        "df_train_manhattan = daily_sales(df_train_manhattan)\n",
        "df_train_hell_kitchen = daily_sales(df_train_hell_kitchen)\n",
        "df_train_astoria = daily_sales(df_train_astoria)"
      ],
      "metadata": {
        "id": "Cc8uERYcn5Xk"
      },
      "execution_count": null,
      "outputs": []
    },
    {
      "cell_type": "markdown",
      "source": [
        "#### Inicialización del modelo"
      ],
      "metadata": {
        "id": "ujh6y9Q1v_Vr"
      }
    },
    {
      "cell_type": "markdown",
      "source": [
        "Para poder encontrar el mejor ajuste del modelo, se crea una función para que itere sobre una lista de parametros para encontrar el mejor ajuste, posteriormente se hace una validación cruzada para obtener los resultados del rendimiento del modelo, usando el MAPE como valor clave."
      ],
      "metadata": {
        "id": "R815LJelUPBR"
      }
    },
    {
      "cell_type": "code",
      "source": [
        "def best_fit(df):\n",
        "    # Se define una grilla de parámetros para ajustar: escala del cambio de tendencia,\n",
        "    # escala de la estacionalidad y orden de Fourier para la estacionalidad semanal\n",
        "    param_grid = {\n",
        "        'changepoint_prior_scale': [0.001, 0.01, 0.1, 0.5],  # Controla la flexibilidad del modelo para ajustarse a cambios bruscos\n",
        "        'seasonality_prior_scale': [1, 5, 10],               # Controla la intensidad de las estacionalidades\n",
        "        'fourier_order': [3, 5, 7]                           # Número de términos de Fourier para capturar estacionalidad semanal\n",
        "    }\n",
        "\n",
        "    # Se generan 10 combinaciones aleatorias de los parámetros definidos arriba\n",
        "    param_combinations = [\n",
        "        {\n",
        "            'changepoint_prior_scale': random.choice(param_grid['changepoint_prior_scale']),\n",
        "            'seasonality_prior_scale': random.choice(param_grid['seasonality_prior_scale']),\n",
        "            'fourier_order': random.choice(param_grid['fourier_order'])\n",
        "        }\n",
        "        for _ in range(10)\n",
        "    ]\n",
        "\n",
        "    results = []  # Lista para almacenar los resultados de cada combinación\n",
        "\n",
        "    # Se evalúa cada combinación de parámetros\n",
        "    for params in param_combinations:\n",
        "        # Se crea un modelo Prophet con los parámetros seleccionados\n",
        "        model = Prophet(\n",
        "            changepoint_prior_scale=params['changepoint_prior_scale'],\n",
        "            seasonality_prior_scale=params['seasonality_prior_scale'],\n",
        "            weekly_seasonality=False  # Se desactiva la estacionalidad semanal por defecto\n",
        "        )\n",
        "\n",
        "        # Se agrega manualmente una estacionalidad semanal más fuerte\n",
        "        model.add_seasonality(\n",
        "            name='semanal_fuerte',\n",
        "            period=7,  # Estacionalidad de 7 días\n",
        "            fourier_order=params['fourier_order']\n",
        "        )\n",
        "\n",
        "        # Se entrena el modelo con los datos\n",
        "        model.fit(df)\n",
        "\n",
        "        # Se hace validación cruzada temporal:\n",
        "        # - periodo inicial de entrenamiento: 120 días\n",
        "        # - se hacen predicciones cada 15 días\n",
        "        # - horizonte de predicción: 30 días\n",
        "        df_cv = cross_validation(model, initial='120 days', period='15 days', horizon='30 days', parallel=\"processes\")\n",
        "\n",
        "        # Se calculan métricas de evaluación como MAPE\n",
        "        df_perf = performance_metrics(df_cv)\n",
        "\n",
        "        # Se toma el promedio de MAPE para esta combinación\n",
        "        mape = df_perf['mape'].mean()\n",
        "\n",
        "        # Se guarda la combinación y su MAPE asociado\n",
        "        results.append((params, mape))\n",
        "\n",
        "    # Se ordenan los resultados por MAPE de menor a mayor\n",
        "    results.sort(key=lambda x: x[1])\n",
        "\n",
        "    # Se imprime la mejor combinación y su MAPE\n",
        "    return(print(\"Mejor combinación:\", results[0][0], \"MAPE:\", results[0][1]))\n"
      ],
      "metadata": {
        "id": "T7pAQheg7u4e"
      },
      "execution_count": null,
      "outputs": []
    },
    {
      "cell_type": "markdown",
      "source": [
        "Se hace el llamado de ls función previamente definida para obtener los valores con mejor ajuste para el modelo dependiendo de las ventas de cada sucursal."
      ],
      "metadata": {
        "id": "-4l3_QFWVQM4"
      }
    },
    {
      "cell_type": "code",
      "source": [
        "best_fit(df_train_manhattan)"
      ],
      "metadata": {
        "id": "PEk-MjY4knkO",
        "collapsed": true
      },
      "execution_count": null,
      "outputs": []
    },
    {
      "cell_type": "markdown",
      "source": [
        "Para la sucursal en **Manhattan**, la mejor combinacion calculada es :   \n",
        "* *changepoint_prior_scale*: 0.01\n",
        "* *seasonality_prior_scale*: 1\n",
        "* *fourier_order*: 3\n",
        "\n",
        "Con un *MAPE* de 12.14%"
      ],
      "metadata": {
        "id": "MmeiKhHJbxjE"
      }
    },
    {
      "cell_type": "code",
      "source": [
        "best_fit(df_train_hell_kitchen)"
      ],
      "metadata": {
        "id": "mit_vDMJkncL",
        "collapsed": true
      },
      "execution_count": null,
      "outputs": []
    },
    {
      "cell_type": "markdown",
      "source": [
        "Para la sucursal en **Hell Kitchen**, la mejor combinacion calculada es :   \n",
        "* *changepoint_prior_scale*: 0.01\n",
        "* *seasonality_prior_scale*: 10\n",
        "* *fourier_order*: 7\n",
        "\n",
        "Con un *MAPE* de 16.32%\n"
      ],
      "metadata": {
        "id": "rStM5whUc1K7"
      }
    },
    {
      "cell_type": "code",
      "source": [
        "best_fit(df_train_astoria)"
      ],
      "metadata": {
        "id": "Ng8E2G6rfdyX",
        "collapsed": true
      },
      "execution_count": null,
      "outputs": []
    },
    {
      "cell_type": "markdown",
      "source": [
        "Para la sucursal en **Astoria**, la mejor combinacion calculada es :   \n",
        "* *changepoint_prior_scale*: 0.01\n",
        "* *seasonality_prior_scale*: 5\n",
        "* *fourier_order*: 5\n",
        "\n",
        "Con un *MAPE* de 19.95%"
      ],
      "metadata": {
        "id": "YFrobwfzdoTR"
      }
    },
    {
      "cell_type": "markdown",
      "source": [
        "Se incializa el modelo incluyendo la estacionalidad previamente observada."
      ],
      "metadata": {
        "id": "IGUOR-dZwDKB"
      }
    },
    {
      "cell_type": "code",
      "source": [
        "model_manhattan = Prophet(\n",
        "    changepoint_prior_scale=0.01,\n",
        "    seasonality_prior_scale= 1,\n",
        "    daily_seasonality=True,\n",
        "    weekly_seasonality=False\n",
        ")\n",
        "\n",
        "model_manhattan.add_seasonality(\n",
        "    name='weekly_strong',\n",
        "    period=7,\n",
        "    fourier_order=3\n",
        ")\n",
        "\n",
        "model_manhattan.add_country_holidays(country_name='US')\n"
      ],
      "metadata": {
        "id": "CRG2yPKisAKT"
      },
      "execution_count": null,
      "outputs": []
    },
    {
      "cell_type": "code",
      "source": [
        "model_hell_kitchen = Prophet(\n",
        "    changepoint_prior_scale=0.01,\n",
        "    seasonality_prior_scale = 10,\n",
        "    daily_seasonality=True,\n",
        "    weekly_seasonality=False\n",
        ")\n",
        "\n",
        "model_hell_kitchen.add_seasonality(\n",
        "    name='weekly_strong',\n",
        "    period=7,\n",
        "    fourier_order=7\n",
        ")\n",
        "\n",
        "model_hell_kitchen.add_country_holidays(country_name='US')\n"
      ],
      "metadata": {
        "id": "Kra2d90YuD4A"
      },
      "execution_count": null,
      "outputs": []
    },
    {
      "cell_type": "code",
      "source": [
        "model_astoria = Prophet(\n",
        "    changepoint_prior_scale=0.01,\n",
        "    daily_seasonality=True,\n",
        "    weekly_seasonality=False,\n",
        "    seasonality_prior_scale=5\n",
        ")\n",
        "\n",
        "model_astoria.add_seasonality(\n",
        "    name='weekly_strong',\n",
        "    period=7,\n",
        "    fourier_order=5\n",
        ")\n",
        "\n",
        "model_astoria.add_country_holidays(country_name='US')\n"
      ],
      "metadata": {
        "id": "LLT2FcUbuFmI"
      },
      "execution_count": null,
      "outputs": []
    },
    {
      "cell_type": "markdown",
      "source": [
        "El modelo es ajustado con el DataFrame previamente generado."
      ],
      "metadata": {
        "id": "AE6xCIMwy7tS"
      }
    },
    {
      "cell_type": "code",
      "source": [
        "model_manhattan.fit(df_train_manhattan)\n"
      ],
      "metadata": {
        "id": "Ih22DduQupJf"
      },
      "execution_count": null,
      "outputs": []
    },
    {
      "cell_type": "code",
      "source": [
        "model_hell_kitchen.fit(df_train_hell_kitchen)\n"
      ],
      "metadata": {
        "id": "ZxvFQNL-uKsd"
      },
      "execution_count": null,
      "outputs": []
    },
    {
      "cell_type": "code",
      "source": [
        "model_astoria.fit(df_train_astoria)"
      ],
      "metadata": {
        "id": "m1s9KzsuuLkA"
      },
      "execution_count": null,
      "outputs": []
    },
    {
      "cell_type": "markdown",
      "source": [
        "## Validación cruzada del modelo"
      ],
      "metadata": {
        "id": "YPoqc6es_Vgo"
      }
    },
    {
      "cell_type": "markdown",
      "source": [
        "Aplicamos la validación cruzada a los modelos de previsión para el Bajo Manhattan, Hell's Kitchen y Astoria, utilizando una ventana de entrenamiento inicial de 120 días, un período de rodaje de 15 días y un horizonte de previsión de 30 días. El rendimiento de cada modelo se evaluó con métricas como el MAPE, y los resultados se consolidaron en un único DataFrame con las etiquetas de ubicación correspondientes para su comparación.\n",
        "\n",
        "Traducción realizada con la versión gratuita del traductor DeepL.com"
      ],
      "metadata": {
        "id": "gMMnQhiS_bJ6"
      }
    },
    {
      "cell_type": "code",
      "source": [
        "df_cv_manhattan = cross_validation(model_manhattan, initial='120 days', period='15 days', horizon='30 days', parallel=\"processes\")\n",
        "# Compute evaluation metrics like MAPE\n",
        "df_perf_manhattan = performance_metrics(df_cv_manhattan)\n",
        "\n",
        "\n",
        "df_cv_hell_kitchen = cross_validation(model_hell_kitchen, initial='120 days', period='15 days', horizon='30 days', parallel=\"processes\")\n",
        "# Compute evaluation metrics like MAPE\n",
        "df_perf_hell_kitchen = performance_metrics(df_cv_hell_kitchen)\n",
        "\n",
        "df_cv_astoria = cross_validation(model_astoria, initial='120 days', period='15 days', horizon='30 days', parallel=\"processes\")\n",
        "# Compute evaluation metrics like MAPE\n",
        "df_perf_astoria = performance_metrics(df_cv_astoria)"
      ],
      "metadata": {
        "id": "5dF4rDmf_ijY"
      },
      "execution_count": null,
      "outputs": []
    },
    {
      "cell_type": "code",
      "source": [
        "df_perf = pd.DataFrame()\n",
        "# Iterate over a list of tuples, each containing a perfomance DataFrame and its corresponding location name.\n",
        "for df, val in [\n",
        "  (df_perf_manhattan, \" Lower Manhattan\"),\n",
        "  (df_perf_hell_kitchen, \"Hell Kitchen\"),\n",
        "  (df_perf_astoria, \"Astoria\")]:\n",
        "\n",
        "  # Add a new column called 'Location' with the corresponding location name.\n",
        "  df['Location'] = val\n",
        "  # Combine (concatenate) the three perfomance DataFrames into a single one by stacking them vertically.\n",
        "  df_perf = pd.concat([df_perf, df])"
      ],
      "metadata": {
        "id": "UPfw8anp_i4S"
      },
      "execution_count": null,
      "outputs": []
    },
    {
      "cell_type": "markdown",
      "source": [
        "## Predicciones"
      ],
      "metadata": {
        "id": "LFWmcDfIhCCO"
      }
    },
    {
      "cell_type": "markdown",
      "source": [
        "Se inicializa la predicción para los próximos 30 días a partir de la última fecha del modelo para cada sucursal."
      ],
      "metadata": {
        "id": "Wx62Ws3kjZw8"
      }
    },
    {
      "cell_type": "code",
      "source": [
        "# Genera un DataFrame de fechas futuras a partir del final del conjunto de datos original.\n",
        "# 'periods=30' indica que se generarán 30 días adicionales.\n",
        "future_manhattan = model_manhattan.make_future_dataframe(periods=30)\n",
        "future_hell_kitchen = model_hell_kitchen.make_future_dataframe(periods=30)\n",
        "future_astoria = model_astoria.make_future_dataframe(periods=30)\n",
        "\n",
        "\n",
        "# Utiliza el modelo ya entrenado (model_manhattan) para hacer predicciones\n",
        "# sobre las fechas del DataFrame generado. El resultado es un DataFrame\n",
        "# con columnas como 'ds' (fecha), 'yhat' (predicción), 'yhat_lower' y 'yhat_upper' (intervalo de confianza).\n",
        "forecast_manhattan = model_manhattan.predict(future_manhattan)\n",
        "forecast_hell_kitchen = model_hell_kitchen.predict(future_hell_kitchen)\n",
        "forecast_astoria = model_astoria.predict(future_astoria)"
      ],
      "metadata": {
        "id": "cjxn3H3xfV9K"
      },
      "execution_count": null,
      "outputs": []
    },
    {
      "cell_type": "code",
      "source": [
        "forescast_df = pd.DataFrame()\n",
        "# Itera sobre una lista de tuplas, donde cada tupla contiene un DataFrame de pronóstico y el nombre de una ubicación.\n",
        "for df, val in [\n",
        "  (forecast_manhattan_future, \" Lower Manhattan\"),\n",
        "  (forecast_hell_kitchen_future, \"Hell Kitchen\"),\n",
        "  (forecast_astoria_future, \"Astoria\")]:\n",
        "\n",
        "\n",
        "  # Añade una nueva columna llamada 'Location' con el nombre de la ubicación correspondiente.\n",
        "  df['Location'] = val\n",
        "  # Combina (concatena) los tres DataFrames de pronósticos en uno solo, apilándolos verticalmente.\n",
        "  forescast_df = pd.concat([forescast_df, df])"
      ],
      "metadata": {
        "id": "sfz5PLnBhyld"
      },
      "execution_count": null,
      "outputs": []
    },
    {
      "cell_type": "markdown",
      "source": [
        "## Importación a Base de datos PostgreSQL\n",
        "\n"
      ],
      "metadata": {
        "id": "BIc0MDBMrFjr"
      }
    },
    {
      "cell_type": "markdown",
      "source": [
        "Para establecer una conexión segura con la base de datos PostgreSQL, se utilizan variables de entorno para manejar las credenciales y parámetros de conexión, evitando así exponer información sensible en el código."
      ],
      "metadata": {
        "id": "n2lBR_g8PM4L"
      }
    },
    {
      "cell_type": "code",
      "source": [
        "\n",
        "# Carga las variables de entorno desde un archivo .env para obtener las credenciales de la base de datos.\n",
        "load_dotenv()\n",
        "USER = os.getenv(\"user\")\n",
        "PASSWORD = os.getenv(\"password\")\n",
        "HOST = os.getenv(\"host\")\n",
        "PORT = os.getenv(\"port\")\n",
        "DBNAME = os.getenv(\"dbname\")\n",
        "\n",
        "# Construye la URL de conexión a PostgreSQL usando el driver psycopg2, incluyendo SSL para mayor seguridad.\n",
        "DATABASE_URL = f\"postgresql+psycopg2://{USER}:{PASSWORD}@{HOST}:{PORT}/{DBNAME}?sslmode=require\"\n",
        "\n",
        "# Crea un motor de conexión con SQLAlchemy.\n",
        "engine = create_engine(DATABASE_URL)\n",
        "\n",
        "# Intenta conectar a la base de datos y reporta éxito o fallo con un mensaje.\n",
        "try:\n",
        "    with engine.connect() as connection:\n",
        "        print(\"Conexión exitosa\")\n",
        "except Exception as e:\n",
        "    print(f\"Fallo al conectar \\n error: {e}\")\n",
        "\n"
      ],
      "metadata": {
        "id": "ItUjJLhZrOWK"
      },
      "execution_count": null,
      "outputs": []
    },
    {
      "cell_type": "markdown",
      "source": [
        "Los DataFrames `forescast_df` y coffee_sales se exportan a la base de datos PostgreSQL usando el método `to_sql` de pandas. Cada DataFrame se guarda en una tabla específica (`'forescast'` y `'coffe_sales'` respectivamente)."
      ],
      "metadata": {
        "id": "RL9HrYdaPVfj"
      }
    },
    {
      "cell_type": "code",
      "source": [
        "# Exporta el DataFrame 'forescast_df' a la tabla 'forescast' en la base de datos.\n",
        "# Si la tabla existe, se reemplaza; no se incluye el índice como columna.\n",
        "forescast_df.to_sql('forescast', con=engine, if_exists='replace', index=False)\n",
        "\n",
        "# Exporta el DataFrame 'coffee_sales' a la tabla 'coffe_sales' en la base de datos.\n",
        "# También reemplaza la tabla si existe y no guarda el índice.\n",
        "coffee_sales.to_sql('coffe_sales', con=engine, if_exists='replace', index=False)\n",
        "\n",
        "# Exporta el DataFrame de perfomance a la tabla 'perfomance' en la base de datos.\n",
        "# También reemplaza la tabla si existe y no guarda el índice.\n",
        "df_perf.to_sql('perfomance', con=engine, if_exists='replace', index=False)\n"
      ],
      "metadata": {
        "id": "-5Y1F9Mg6-nC"
      },
      "execution_count": null,
      "outputs": []
    }
  ],
  "metadata": {
    "kernelspec": {
      "display_name": "base",
      "language": "python",
      "name": "python3"
    },
    "language_info": {
      "codemirror_mode": {
        "name": "ipython",
        "version": 3
      },
      "file_extension": ".py",
      "mimetype": "text/x-python",
      "name": "python",
      "nbconvert_exporter": "python",
      "pygments_lexer": "ipython3",
      "version": "3.12.4"
    },
    "colab": {
      "provenance": [],
      "toc_visible": true
    }
  },
  "nbformat": 4,
  "nbformat_minor": 0
}